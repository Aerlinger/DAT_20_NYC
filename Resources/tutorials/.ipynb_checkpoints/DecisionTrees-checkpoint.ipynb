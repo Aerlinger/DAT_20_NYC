{
 "metadata": {
  "name": "",
  "signature": "sha256:bdac65b09d919439428cb4487e18c943dab2785c5434a1d5a25d67c8de995dc4"
 },
 "nbformat": 3,
 "nbformat_minor": 0,
 "worksheets": [
  {
   "cells": [
    {
     "cell_type": "code",
     "collapsed": false,
     "input": [
      "from sklearn import tree\n",
      "from sklearn.datasets import load_iris\n",
      "\n",
      "from sklearn.externals.six import StringIO\n",
      "import os\n",
      "import pydot\n",
      "\n",
      "iris = load_iris()\n",
      "clf = tree.DecisionTreeClassifier()\n",
      "clf = clf.fit(iris.data, iris.target)\n",
      "\n",
      "X = [[0, 0], [1, 1]]\n",
      "Y = [0, 1]\n",
      "\n",
      "clf = tree.DecisionTreeClassifier()\n",
      "clf = clf.fit(X, Y)\n",
      "\n",
      "print clf.predict([[2.0, 2.0]])\n",
      "\n",
      "print clf.predict_proba([[2.0, 2.0]])"
     ],
     "language": "python",
     "metadata": {},
     "outputs": [
      {
       "output_type": "stream",
       "stream": "stdout",
       "text": [
        "[1]\n",
        "[[ 0.  1.]]\n"
       ]
      }
     ],
     "prompt_number": 1
    },
    {
     "cell_type": "code",
     "collapsed": false,
     "input": [
      "with open(\"iris.dot\", \"w\") as f:\n",
      "    f = tree.export_graphviz(clf, out_file=f)\n",
      "    \n",
      "# os.unlink('iris.dot')\n",
      "\n",
      "# dot_data = StringIO()\n",
      "\n",
      "dot_data = StringIO()\n",
      "tree.export_graphviz(clf, out_file=dot_data)\n",
      "graph = pydot.graph_from_dot_data(dot_data.getvalue()) \n",
      "graph = pydot.graph_from_dot_data(dot_data.getvalue())\n",
      "# graph.write_pdf(\"iris.pdf\")"
     ],
     "language": "python",
     "metadata": {},
     "outputs": [
      {
       "ename": "InvocationException",
       "evalue": "Program terminated with status: 1. stderr follows: Format: \"pdf\" not recognized. Use one of:\n",
       "output_type": "pyerr",
       "traceback": [
        "\u001b[0;31m---------------------------------------------------------------------------\u001b[0m\n\u001b[0;31mInvocationException\u001b[0m                       Traceback (most recent call last)",
        "\u001b[0;32m<ipython-input-5-d40276c443d5>\u001b[0m in \u001b[0;36m<module>\u001b[0;34m()\u001b[0m\n\u001b[1;32m      4\u001b[0m \u001b[0;34m\u001b[0m\u001b[0m\n\u001b[1;32m      5\u001b[0m \u001b[0mgraph\u001b[0m \u001b[0;34m=\u001b[0m \u001b[0mpydot\u001b[0m\u001b[0;34m.\u001b[0m\u001b[0mgraph_from_dot_data\u001b[0m\u001b[0;34m(\u001b[0m\u001b[0mdot_data\u001b[0m\u001b[0;34m.\u001b[0m\u001b[0mgetvalue\u001b[0m\u001b[0;34m(\u001b[0m\u001b[0;34m)\u001b[0m\u001b[0;34m)\u001b[0m\u001b[0;34m\u001b[0m\u001b[0m\n\u001b[0;32m----> 6\u001b[0;31m \u001b[0mgraph\u001b[0m\u001b[0;34m.\u001b[0m\u001b[0mwrite_pdf\u001b[0m\u001b[0;34m(\u001b[0m\u001b[0;34m\"iris.pdf\"\u001b[0m\u001b[0;34m)\u001b[0m\u001b[0;34m\u001b[0m\u001b[0m\n\u001b[0m",
        "\u001b[0;32m/Users/Aerlinger/.pyenv/versions/2.7.9/lib/python2.7/site-packages/pydot.pyc\u001b[0m in \u001b[0;36m<lambda>\u001b[0;34m(path, f, prog)\u001b[0m\n\u001b[1;32m   1600\u001b[0m             self.__setattr__(\n\u001b[1;32m   1601\u001b[0m                 \u001b[0;34m'write_'\u001b[0m\u001b[0;34m+\u001b[0m\u001b[0mfrmt\u001b[0m\u001b[0;34m,\u001b[0m\u001b[0;34m\u001b[0m\u001b[0m\n\u001b[0;32m-> 1602\u001b[0;31m                 lambda path, f=frmt, prog=self.prog : self.write(path, format=f, prog=prog))\n\u001b[0m\u001b[1;32m   1603\u001b[0m \u001b[0;34m\u001b[0m\u001b[0m\n\u001b[1;32m   1604\u001b[0m             \u001b[0mf\u001b[0m \u001b[0;34m=\u001b[0m \u001b[0mself\u001b[0m\u001b[0;34m.\u001b[0m\u001b[0m__dict__\u001b[0m\u001b[0;34m[\u001b[0m\u001b[0;34m'write_'\u001b[0m\u001b[0;34m+\u001b[0m\u001b[0mfrmt\u001b[0m\u001b[0;34m]\u001b[0m\u001b[0;34m\u001b[0m\u001b[0m\n",
        "\u001b[0;32m/Users/Aerlinger/.pyenv/versions/2.7.9/lib/python2.7/site-packages/pydot.pyc\u001b[0m in \u001b[0;36mwrite\u001b[0;34m(self, path, prog, format)\u001b[0m\n\u001b[1;32m   1694\u001b[0m             \u001b[0mdot_fd\u001b[0m\u001b[0;34m.\u001b[0m\u001b[0mwrite\u001b[0m\u001b[0;34m(\u001b[0m\u001b[0mself\u001b[0m\u001b[0;34m.\u001b[0m\u001b[0mto_string\u001b[0m\u001b[0;34m(\u001b[0m\u001b[0;34m)\u001b[0m\u001b[0;34m)\u001b[0m\u001b[0;34m\u001b[0m\u001b[0m\n\u001b[1;32m   1695\u001b[0m         \u001b[0;32melse\u001b[0m\u001b[0;34m:\u001b[0m\u001b[0;34m\u001b[0m\u001b[0m\n\u001b[0;32m-> 1696\u001b[0;31m             \u001b[0mdot_fd\u001b[0m\u001b[0;34m.\u001b[0m\u001b[0mwrite\u001b[0m\u001b[0;34m(\u001b[0m\u001b[0mself\u001b[0m\u001b[0;34m.\u001b[0m\u001b[0mcreate\u001b[0m\u001b[0;34m(\u001b[0m\u001b[0mprog\u001b[0m\u001b[0;34m,\u001b[0m \u001b[0mformat\u001b[0m\u001b[0;34m)\u001b[0m\u001b[0;34m)\u001b[0m\u001b[0;34m\u001b[0m\u001b[0m\n\u001b[0m\u001b[1;32m   1697\u001b[0m         \u001b[0mdot_fd\u001b[0m\u001b[0;34m.\u001b[0m\u001b[0mclose\u001b[0m\u001b[0;34m(\u001b[0m\u001b[0;34m)\u001b[0m\u001b[0;34m\u001b[0m\u001b[0m\n\u001b[1;32m   1698\u001b[0m \u001b[0;34m\u001b[0m\u001b[0m\n",
        "\u001b[0;32m/Users/Aerlinger/.pyenv/versions/2.7.9/lib/python2.7/site-packages/pydot.pyc\u001b[0m in \u001b[0;36mcreate\u001b[0;34m(self, prog, format)\u001b[0m\n\u001b[1;32m   1794\u001b[0m             raise InvocationException(\n\u001b[1;32m   1795\u001b[0m                 'Program terminated with status: %d. stderr follows: %s' % (\n\u001b[0;32m-> 1796\u001b[0;31m                     status, stderr_output) )\n\u001b[0m\u001b[1;32m   1797\u001b[0m         \u001b[0;32melif\u001b[0m \u001b[0mstderr_output\u001b[0m\u001b[0;34m:\u001b[0m\u001b[0;34m\u001b[0m\u001b[0m\n\u001b[1;32m   1798\u001b[0m             \u001b[0;32mprint\u001b[0m \u001b[0mstderr_output\u001b[0m\u001b[0;34m\u001b[0m\u001b[0m\n",
        "\u001b[0;31mInvocationException\u001b[0m: Program terminated with status: 1. stderr follows: Format: \"pdf\" not recognized. Use one of:\n"
       ]
      }
     ],
     "prompt_number": 5
    }
   ],
   "metadata": {}
  }
 ]
}