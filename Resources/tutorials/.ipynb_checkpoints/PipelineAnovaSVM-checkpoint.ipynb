{
 "metadata": {
  "name": "",
  "signature": "sha256:e9d68ebad54526d78d182021c5ae3ccbc091389000c2e71394c61b6d5afe1a9b"
 },
 "nbformat": 3,
 "nbformat_minor": 0,
 "worksheets": [
  {
   "cells": [
    {
     "cell_type": "code",
     "collapsed": false,
     "input": [
      "from sklearn import svm\n",
      "from sklearn.datasets import samples_generator\n",
      "from sklearn.feature_selection import SelectKBest, f_regression\n",
      "from sklearn.pipeline import make_pipeline\n",
      "\n",
      "X, y = samples_generator.make_classification(n_features=20, \n",
      "                                             n_informative=3, \n",
      "                                             n_redundant=0, \n",
      "                                             n_classes=4, \n",
      "                                             n_clusters_per_class=2)\n",
      "\n",
      "\n",
      "# ANOVA SVM-C\n",
      "# 1) ANOVA filter, take the three best ranked features\n",
      "anova_filter = SelectKBest(f_regression, k=3)\n",
      "\n",
      "clf = svm.SVC(kernel='linear')\n",
      "\n",
      "anova_svm = make_pipeline(anova_filter, clf)\n",
      "anova_svm.fit(X, y)\n",
      "anova_svm.predict(X)\n"
     ],
     "language": "python",
     "metadata": {},
     "outputs": [
      {
       "metadata": {},
       "output_type": "pyout",
       "prompt_number": 3,
       "text": [
        "array([1, 0, 1, 2, 1, 2, 2, 1, 3, 3, 2, 3, 3, 0, 2, 3, 3, 3, 1, 1, 0, 3, 3,\n",
        "       3, 1, 0, 3, 3, 1, 1, 1, 3, 0, 2, 3, 3, 0, 1, 3, 2, 2, 2, 0, 2, 2, 3,\n",
        "       2, 3, 2, 0, 0, 0, 2, 1, 2, 2, 2, 1, 0, 0, 1, 1, 3, 2, 3, 2, 1, 2, 1,\n",
        "       3, 3, 0, 1, 3, 3, 1, 0, 0, 0, 3, 1, 1, 0, 3, 2, 2, 2, 1, 1, 1, 1, 3,\n",
        "       2, 1, 3, 2, 0, 1, 2, 0])"
       ]
      }
     ],
     "prompt_number": 3
    },
    {
     "cell_type": "code",
     "collapsed": false,
     "input": [],
     "language": "python",
     "metadata": {},
     "outputs": []
    }
   ],
   "metadata": {}
  }
 ]
}