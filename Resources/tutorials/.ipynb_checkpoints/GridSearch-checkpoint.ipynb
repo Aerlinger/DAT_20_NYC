{
 "metadata": {
  "name": "",
  "signature": "sha256:5a830180ab8c83b541c53ccdb919804e48f5c96761a798cf59929cd7ec739f7e"
 },
 "nbformat": 3,
 "nbformat_minor": 0,
 "worksheets": [
  {
   "cells": [
    {
     "cell_type": "code",
     "collapsed": false,
     "input": [
      "# Grid search traverses a space to find the optimal values"
     ],
     "language": "python",
     "metadata": {},
     "outputs": [],
     "prompt_number": 1
    },
    {
     "cell_type": "code",
     "collapsed": false,
     "input": [
      "# Specify  a list of parameter combinations to traverse:\n",
      "param_grid = [\n",
      "    { \n",
      "        'C': [1, 10, 100, 1000], \n",
      "        'kernel': ['linear'] \n",
      "    },\n",
      "    {\n",
      "        'C': [1, 10, 100, 1000],\n",
      "        'gamma': [0.001, 0.0001], 'kernel': ['rbf']\n",
      "    }\n",
      "]\n",
      "\n",
      "some_param_list = [\n",
      "    {\n",
      "        'param_name': ['list' , 'of', 'params'],\n",
      "        'numerical param': [1, 2, 3]\n",
      "    },\n",
      "    {\n",
      "        'binary_param': ['linear', 'quadratic'],\n",
      "        'regularization': [0.01]\n",
      "    }\n",
      "]\n",
      "\n",
      "# Generates a procedure with all possible pairs for each dictionary:\n",
      "#    => ('list', 1), ('list', 1), ('list', 3), ('of', 1), ('of', 2) ...\n",
      "#    => ('linear', 0.01), ('quadratic', 0.01)\n"
     ],
     "language": "python",
     "metadata": {},
     "outputs": [],
     "prompt_number": 3
    }
   ],
   "metadata": {}
  }
 ]
}