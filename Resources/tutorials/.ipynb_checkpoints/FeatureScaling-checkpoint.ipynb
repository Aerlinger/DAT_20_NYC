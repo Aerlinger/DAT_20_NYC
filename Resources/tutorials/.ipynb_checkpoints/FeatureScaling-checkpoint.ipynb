{
 "metadata": {
  "name": "",
  "signature": "sha256:393c7802b79d36b66421064c6a1d7a5879481e0ae6b41f2eaca4de4997be281a"
 },
 "nbformat": 3,
 "nbformat_minor": 0,
 "worksheets": [
  {
   "cells": [
    {
     "cell_type": "code",
     "collapsed": false,
     "input": [
      "from sklearn import preprocessing\n",
      "\n",
      "X = [[ 1., -1.,  2.],\n",
      "    [ 2.,  0.,  0.],\n",
      "    [ 0.,  1., -1.]]\n",
      "\n",
      "preprocessing.normalize(X)"
     ],
     "language": "python",
     "metadata": {},
     "outputs": [
      {
       "metadata": {},
       "output_type": "pyout",
       "prompt_number": 5,
       "text": [
        "array([[ 0.40824829, -0.40824829,  0.81649658],\n",
        "       [ 1.        ,  0.        ,  0.        ],\n",
        "       [ 0.        ,  0.70710678, -0.70710678]])"
       ]
      }
     ],
     "prompt_number": 5
    },
    {
     "cell_type": "code",
     "collapsed": false,
     "input": [],
     "language": "python",
     "metadata": {},
     "outputs": [],
     "prompt_number": 6
    }
   ],
   "metadata": {}
  }
 ]
}