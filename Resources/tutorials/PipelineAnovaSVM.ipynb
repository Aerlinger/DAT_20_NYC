{
 "metadata": {
  "name": "",
  "signature": "sha256:ca72a2c5844f276435b04e5004a8ddbddfb65bd4181adec478e2aeda19500d25"
 },
 "nbformat": 3,
 "nbformat_minor": 0,
 "worksheets": [
  {
   "cells": [
    {
     "cell_type": "code",
     "collapsed": false,
     "input": [
      "from sklearn import svm\n",
      "from sklearn.datasets import samples_generator\n",
      "from sklearn.feature_selection import SelectKBest, f_regression\n",
      "from sklearn.pipeline import make_pipeline\n",
      "\n",
      "X, y = samples_generator.make_classification(n_features=20, \n",
      "                                             n_informative=3, \n",
      "                                             n_redundant=0, \n",
      "                                             n_classes=4, \n",
      "                                             n_clusters_per_class=2)\n",
      "\n",
      "\n",
      "# ANOVA SVM-C\n",
      "# 1) ANOVA filter, take the three best ranked features\n",
      "anova_filter = SelectKBest(f_regression, k=3)\n",
      "\n",
      "clf = svm.SVC(kernel='linear')\n",
      "\n",
      "anova_svm = make_pipeline(anova_filter, clf)\n",
      "anova_svm.fit(X, y)\n",
      "predictions = anova_svm.predict(X)\n",
      "\n",
      "%matplotlib inline\n"
     ],
     "language": "python",
     "metadata": {},
     "outputs": [],
     "prompt_number": 17
    },
    {
     "cell_type": "code",
     "collapsed": false,
     "input": [
      "X.shape"
     ],
     "language": "python",
     "metadata": {},
     "outputs": [
      {
       "metadata": {},
       "output_type": "pyout",
       "prompt_number": 18,
       "text": [
        "(100, 20)"
       ]
      }
     ],
     "prompt_number": 18
    },
    {
     "cell_type": "code",
     "collapsed": false,
     "input": [
      "plt.figure()\n",
      "\n",
      "plt.scatter(X[:, 0], X[:, 1])"
     ],
     "language": "python",
     "metadata": {},
     "outputs": [
      {
       "metadata": {},
       "output_type": "pyout",
       "prompt_number": 15,
       "text": [
        "<matplotlib.collections.PathCollection at 0x114748990>"
       ]
      },
      {
       "metadata": {},
       "output_type": "display_data",
       "png": "[encoded data removed]",
       "text": [
        "<matplotlib.figure.Figure at 0x110b806d0>"
       ]
      }
     ],
     "prompt_number": 15
    },
    {
     "cell_type": "code",
     "collapsed": false,
     "input": [
      "predictions"
     ],
     "language": "python",
     "metadata": {},
     "outputs": [
      {
       "metadata": {},
       "output_type": "pyout",
       "prompt_number": 19,
       "text": [
        "array([1, 1, 0, 3, 3, 0, 0, 2, 2, 1, 1, 1, 2, 2, 0, 2, 1, 0, 2, 2, 0, 2, 1,\n",
        "       3, 3, 3, 1, 3, 0, 1, 0, 0, 0, 0, 1, 1, 0, 0, 0, 0, 2, 3, 1, 1, 3, 2,\n",
        "       1, 3, 0, 0, 1, 2, 1, 2, 3, 3, 2, 1, 2, 3, 1, 1, 1, 3, 3, 0, 3, 3, 2,\n",
        "       2, 1, 1, 2, 1, 0, 3, 2, 0, 2, 0, 2, 0, 1, 3, 3, 2, 0, 0, 1, 3, 3, 3,\n",
        "       3, 1, 1, 2, 3, 1, 3, 2])"
       ]
      }
     ],
     "prompt_number": 19
    }
   ],
   "metadata": {}
  }
 ]
}