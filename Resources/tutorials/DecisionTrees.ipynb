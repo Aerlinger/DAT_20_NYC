{
 "metadata": {
  "name": "",
  "signature": "sha256:1d5141618dad610e20d00d1de8e57cd908fbedb982a696feecd3ca9d93a19290"
 },
 "nbformat": 3,
 "nbformat_minor": 0,
 "worksheets": [
  {
   "cells": [
    {
     "cell_type": "code",
     "collapsed": false,
     "input": [
      "from sklearn import tree\n",
      "from sklearn.datasets import load_iris\n",
      "\n",
      "from sklearn.externals.six import StringIO\n",
      "import os\n",
      "import pydot\n",
      "\n",
      "iris = load_iris()\n",
      "clf = tree.DecisionTreeClassifier()\n",
      "clf = clf.fit(iris.data, iris.target)\n",
      "\n",
      "X = [[0, 0], [1, 1]]\n",
      "Y = [0, 1]\n",
      "\n",
      "clf = tree.DecisionTreeClassifier()\n",
      "clf = clf.fit(X, Y)\n",
      "\n",
      "print clf.predict([[2.0, 2.0]])\n",
      "\n",
      "print clf.predict_proba([[2.0, 2.0]])"
     ],
     "language": "python",
     "metadata": {},
     "outputs": [
      {
       "output_type": "stream",
       "stream": "stdout",
       "text": [
        "[1]\n",
        "[[ 0.  1.]]\n"
       ]
      }
     ],
     "prompt_number": 4
    },
    {
     "cell_type": "code",
     "collapsed": false,
     "input": [
      "with open(\"iris.dot\", \"w\") as f:\n",
      "    f = tree.export_graphviz(clf, out_file=f)\n",
      "    \n",
      "# os.unlink('iris.dot')\n",
      "\n",
      "# dot_data = StringIO()\n",
      "\n",
      "dot_data = StringIO()\n",
      "tree.export_graphviz(clf, out_file=dot_data)\n",
      "graph = pydot.graph_from_dot_data(dot_data.getvalue()) \n",
      "\n",
      "graph.write_pdf(\"iris.pdf\")\n",
      "\n"
     ],
     "language": "python",
     "metadata": {},
     "outputs": [
      {
       "metadata": {},
       "output_type": "pyout",
       "prompt_number": 6,
       "text": [
        "True"
       ]
      }
     ],
     "prompt_number": 6
    }
   ],
   "metadata": {}
  }
 ]
}