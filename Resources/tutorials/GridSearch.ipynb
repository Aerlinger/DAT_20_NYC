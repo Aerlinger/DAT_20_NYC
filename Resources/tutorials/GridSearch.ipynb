{
 "metadata": {
  "name": "",
  "signature": "sha256:ff52ec34d4206b5a97e022f891b008a5fe1dfd0883f1f0769220bf42e4a55ccd"
 },
 "nbformat": 3,
 "nbformat_minor": 0,
 "worksheets": [
  {
   "cells": [
    {
     "cell_type": "code",
     "collapsed": false,
     "input": [
      "# Grid search traverses a space to find the optimal values"
     ],
     "language": "python",
     "metadata": {},
     "outputs": [],
     "prompt_number": 1
    },
    {
     "cell_type": "code",
     "collapsed": false,
     "input": [
      "# Specify  a list of parameter combinations to traverse:\n",
      "param_grid = [\n",
      "    { \n",
      "        'C': [1, 10, 100, 1000], \n",
      "        'kernel': ['linear'] \n",
      "    },\n",
      "    {\n",
      "        'C': [1, 10, 100, 1000],\n",
      "        'gamma': [0.001, 0.0001], 'kernel': ['rbf']\n",
      "    }\n",
      "]\n",
      "\n",
      "some_param_list = [\n",
      "    {\n",
      "        'param_name': ['list' , 'of', 'params'],\n",
      "        'numerical param': [1, 2, 3]\n",
      "    },\n",
      "    {\n",
      "        'binary_param': ['linear', 'quadratic'],\n",
      "        'regularization': [0.01]\n",
      "    }\n",
      "]\n",
      "\n",
      "# Generates a procedure with all possible pairs for each dictionary:\n",
      "#    => ('list', 1), ('list', 1), ('list', 3), ('of', 1), ('of', 2) ...\n",
      "#    => ('linear', 0.01), ('quadratic', 0.01)\n"
     ],
     "language": "python",
     "metadata": {},
     "outputs": [],
     "prompt_number": 4
    },
    {
     "cell_type": "code",
     "collapsed": false,
     "input": [
      "from __future__ import print_function\n",
      "\n",
      "from time import time\n",
      "\n",
      "import logging\n",
      "import matplotlib.pyplot as plt\n",
      "\n",
      "\n",
      "from sklearn.cross_validation import train_test_split\n",
      "from sklearn.datasets import fetch_lfw_people\n",
      "from sklearn.grid_search import GridSearchCV\n",
      "from sklearn.metrics import classification_report\n",
      "from sklearn.metrics import confusion_matrix\n",
      "from sklearn.decomposition import RandomizedPCA\n",
      "from sklearn.svm import SVC"
     ],
     "language": "python",
     "metadata": {},
     "outputs": []
    },
    {
     "cell_type": "code",
     "collapsed": false,
     "input": [
      "from __future__ import print_function\n",
      "\n",
      "from time import time\n",
      "\n",
      "import logging\n",
      "import matplotlib.pyplot as plt\n",
      "\n",
      "\n",
      "from sklearn.cross_validation import train_test_split\n",
      "from sklearn.datasets import fetch_lfw_people\n",
      "from sklearn.grid_search import GridSearchCV\n",
      "from sklearn.metrics import classification_report\n",
      "from sklearn.metrics import confusion_matrix\n",
      "from sklearn.decomposition import RandomizedPCA\n",
      "from sklearn.svm import SVC"
     ],
     "language": "python",
     "metadata": {},
     "outputs": []
    },
    {
     "cell_type": "code",
     "collapsed": false,
     "input": [
      "from __future__ import print_function\n",
      "\n",
      "from time import time\n",
      "\n",
      "import logging\n",
      "import matplotlib.pyplot as plt\n",
      "\n",
      "\n",
      "from sklearn.cross_validation import train_test_split\n",
      "from sklearn.datasets import fetch_lfw_people\n",
      "from sklearn.grid_search import GridSearchCV\n",
      "from sklearn.metrics import classification_report\n",
      "from sklearn.metrics import confusion_matrix\n",
      "from sklearn.decomposition import RandomizedPCA\n",
      "from sklearn.svm import SVC\n",
      "\n",
      "logging.basicConfig(level=logging.INFO, format='%(asctime)s %(message)s')\n",
      "\n",
      "lfw_people = fetch_lfw_people(min_faces_per_person=70, resize=0.4)"
     ],
     "language": "python",
     "metadata": {},
     "outputs": [
      {
       "output_type": "stream",
       "stream": "stderr",
       "text": [
        "WARNING:sklearn.datasets.lfw:Downloading LFW metadata: http://vis-www.cs.umass.edu/lfw/pairsDevTrain.txt\n"
       ]
      },
      {
       "output_type": "stream",
       "stream": "stderr",
       "text": [
        "WARNING:sklearn.datasets.lfw:Downloading LFW metadata: http://vis-www.cs.umass.edu/lfw/pairsDevTest.txt\n"
       ]
      },
      {
       "output_type": "stream",
       "stream": "stderr",
       "text": [
        "WARNING:sklearn.datasets.lfw:Downloading LFW metadata: http://vis-www.cs.umass.edu/lfw/pairs.txt\n"
       ]
      },
      {
       "output_type": "stream",
       "stream": "stderr",
       "text": [
        "WARNING:sklearn.datasets.lfw:Downloading LFW data (~200MB): http://vis-www.cs.umass.edu/lfw/lfw-funneled.tgz\n"
       ]
      }
     ],
     "prompt_number": 5
    },
    {
     "cell_type": "code",
     "collapsed": false,
     "input": [
      "n_samples, h, w = lfw_people.images.shape\n",
      "\n",
      "X = lfw_people.data\n",
      "n_features = X.shape[1]\n",
      "\n",
      "y = lfw_people.target\n",
      "\n",
      "target_names = lfw_people.target_names\n",
      "\n",
      "n_classes = target_names.shape[0]\n",
      "\n",
      "print(\"Total dataset size: \")\n",
      "print(\"n_samples %d\" % n_samples)\n",
      "print(\"n_features %d\" % n_features)\n",
      "print(\"n_classes %d\" % n_classes)\n",
      "\n",
      "\n",
      "X_train, X_test, y_train, y_test = train_test_split(X, y, test_size=0.25)"
     ],
     "language": "python",
     "metadata": {},
     "outputs": [
      {
       "output_type": "stream",
       "stream": "stdout",
       "text": [
        "Total dataset size: \n",
        "n_samples 1288\n",
        "n_features 1850\n",
        "n_classes 7\n"
       ]
      }
     ],
     "prompt_number": 7
    },
    {
     "cell_type": "code",
     "collapsed": false,
     "input": [
      "n_components = 150\n",
      "\n",
      "print(\"Extracting the top %d eigenfaces from %d faces\" % (n_components, X_train.shape[0]))"
     ],
     "language": "python",
     "metadata": {},
     "outputs": [
      {
       "output_type": "stream",
       "stream": "stdout",
       "text": [
        "Extracting the top 150 eigenfaces from 966 faces\n"
       ]
      }
     ],
     "prompt_number": 8
    }
   ],
   "metadata": {}
  }
 ]
}