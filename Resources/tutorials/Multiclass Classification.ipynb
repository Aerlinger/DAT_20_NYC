{
 "metadata": {
  "name": "",
  "signature": "sha256:3cd31d4c0a86e9c65c550b701369f0e3b37d1ac8f7ad68129e32152b339a162d"
 },
 "nbformat": 3,
 "nbformat_minor": 0,
 "worksheets": [
  {
   "cells": [
    {
     "cell_type": "code",
     "collapsed": false,
     "input": [
      "import numpy as np\n",
      "import matplotlib.pyplot as plt\n",
      "\n",
      "%matplotlib inline\n",
      "\n",
      "from sklearn.datasets import make_multilabel_classification\n",
      "from sklearn.multiclass import OneVsRestClassifier\n",
      "from sklearn.svm import SVC\n",
      "from sklearn.preprocessing import LabelBinarizer\n",
      "\n",
      "from sklearn.decomposition import PCA\n",
      "from sklearn.cross_decomposition import CCA"
     ],
     "language": "python",
     "metadata": {},
     "outputs": [],
     "prompt_number": 6
    },
    {
     "cell_type": "code",
     "collapsed": false,
     "input": [
      "def plot_hyperplane(coefs, intercept, min_x, max_x, label):\n",
      "    w = clf.coef_[0]\n",
      "    a = -w[0] / w[1]\n",
      "    \n",
      "    xx = np.linspace(min_x, max_x)\n",
      "    yy = a * xx - (intercept)\n",
      "    \n",
      "    plt.plot(xx, yy, '--', label=lbel)"
     ],
     "language": "python",
     "metadata": {},
     "outputs": [],
     "prompt_number": 4
    },
    {
     "cell_type": "code",
     "collapsed": false,
     "input": [
      "plt.figure(figsize=(8, 6))\n",
      "\n",
      "X, Y = make_multilabel_classification(n_classes=2, n_labels=1,\n",
      "                                      allow_unlabeled=True,\n",
      "                                      return_indicator=True,\n",
      "                                      random_state=1)\n",
      " "
     ],
     "language": "python",
     "metadata": {},
     "outputs": [
      {
       "metadata": {},
       "output_type": "display_data",
       "text": [
        "<matplotlib.figure.Figure at 0x10f5a4090>"
       ]
      }
     ],
     "prompt_number": 8
    },
    {
     "cell_type": "code",
     "collapsed": false,
     "input": [],
     "language": "python",
     "metadata": {},
     "outputs": []
    },
    {
     "cell_type": "code",
     "collapsed": false,
     "input": [],
     "language": "python",
     "metadata": {},
     "outputs": []
    }
   ],
   "metadata": {}
  }
 ]
}