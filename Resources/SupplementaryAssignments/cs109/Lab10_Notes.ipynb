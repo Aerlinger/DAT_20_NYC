{
 "metadata": {
  "name": ""
 },
 "nbformat": 3,
 "nbformat_minor": 0,
 "worksheets": [
  {
   "cells": [
    {
     "cell_type": "code",
     "collapsed": false,
     "input": [
      "import numpy as np\n",
      "import scipy as sp\n",
      "import pandas as pd\n",
      "import sklearn\n",
      "import seaborn as sns\n",
      "from matplotlib import pyplot as plt\n",
      "%matplotlib inline\n",
      "import time"
     ],
     "language": "python",
     "metadata": {},
     "outputs": [],
     "prompt_number": 2
    },
    {
     "cell_type": "markdown",
     "metadata": {},
     "source": [
      "# Lab 10: Distributed Computing and Machine Learning\n",
      "\n",
      "In this lab we are going to talk about two facinating topics-- 1) Distributed computing 2) machine learning. \n",
      "\n",
      "Distributed computing is becoming increasingly important because with the massive amout of data we have, it is becoming increasingly hard to get any knowledge using a single machine. However, using many computers we can distribute our work to many machines (nodes) and then we can reduce the result.\n",
      "\n",
      "\n",
      "\n",
      "## MRJob: Parallel Computing with Python\n",
      "### Simple word count example:"
     ]
    },
    {
     "cell_type": "code",
     "collapsed": false,
     "input": [
      "# MRJob\n",
      "import os\n",
      "mr_count = \"\"\"\n",
      "from mrjob.job import MRJob\n",
      "\n",
      "\n",
      "class MRWordFrequencyCount(MRJob):\n",
      "\n",
      "    def mapper(self, _, line):\n",
      "        yield \"chars\", len(line)\n",
      "        yield \"words\", len(line.split())\n",
      "        yield \"lines\", 1\n",
      "\n",
      "    def reducer(self, key, values):\n",
      "        yield key, sum(values)\n",
      "\n",
      "\n",
      "if __name__ == '__main__':\n",
      "    t1 = time.time()\n",
      "    MRWordFrequencyCount.run()\n",
      "    print \"CPU Time\", time.time() - t1\"\"\"\n",
      "\n",
      "fout = open(\"mr_count.py\",\"w\")\n",
      "fout.write(mr_count)\n",
      "fout.close()\n",
      "os.system(\"wget https://www.gutenberg.org/cache/epub/35/pg35.txt -O time_machine.txt\")"
     ],
     "language": "python",
     "metadata": {},
     "outputs": [
      {
       "metadata": {},
       "output_type": "pyout",
       "prompt_number": 3,
       "text": [
        "0"
       ]
      }
     ],
     "prompt_number": 3
    },
    {
     "cell_type": "markdown",
     "metadata": {},
     "source": [
      "The code above made a python file on your computer and downloaded the novel time machine from Project Guttenberg. Now go to your terminal and run the code with\n",
      "\n",
      "`python mr_count.py time_machine.txt`"
     ]
    },
    {
     "cell_type": "code",
     "collapsed": false,
     "input": [
      "complex_mr = \"\"\"from mrjob.job import MRJob\n",
      "import re\n",
      "import time\n",
      "\n",
      "WORD_RE = re.compile(r\"[\\w']+\")\n",
      "\n",
      "\n",
      "class MRMostUsedWord(MRJob):\n",
      "\n",
      "    def mapper_get_words(self, _, line):\n",
      "        # yield each word in the line\n",
      "        for word in WORD_RE.findall(line):\n",
      "            yield (word.lower(), 1)\n",
      "\n",
      "    def combiner_count_words(self, word, counts):\n",
      "        # sum the words we've seen so far\n",
      "        yield (word, sum(counts))\n",
      "\n",
      "    def reducer_count_words(self, word, counts):\n",
      "        # send all (num_occurrences, word) pairs to the same reducer.\n",
      "        # num_occurrences is so we can easily use Python's max() function.\n",
      "        yield None, (sum(counts), word)\n",
      "\n",
      "    # discard the key; it is just None\n",
      "    def reducer_find_max_word(self, _, word_count_pairs):\n",
      "        # each item of word_count_pairs is (count, word),\n",
      "        # so yielding one results in key=counts, value=word\n",
      "        yield max(word_count_pairs)\n",
      "\n",
      "    def steps(self):\n",
      "        return [\n",
      "            self.mr(mapper=self.mapper_get_words,\n",
      "                    combiner=self.combiner_count_words,\n",
      "                    reducer=self.reducer_count_words),\n",
      "            self.mr(reducer=self.reducer_find_max_word)\n",
      "        ]\n",
      "\n",
      "\n",
      "if __name__ == '__main__':\n",
      "    t1 = time.time()\n",
      "    MRMostUsedWord.run()\n",
      "    print \"CPU Time\", time.time() - t1\"\"\"\n",
      "\n",
      "fout = open(\"mr_max_count.py\",\"w\")\n",
      "fout.write(complex_mr)\n",
      "fout.close()"
     ],
     "language": "python",
     "metadata": {},
     "outputs": [],
     "prompt_number": 4
    },
    {
     "cell_type": "markdown",
     "metadata": {},
     "source": [
      "Execute the code with \n",
      "\n",
      "`python mr_max_count.py time_machine.txt`"
     ]
    },
    {
     "cell_type": "markdown",
     "metadata": {},
     "source": [
      "### Should we always use map-reduce?!\n",
      "Nobody ever got fired for using hadoop on a cluster! \n",
      "http://research.microsoft.com/pubs/163083/hotcbp12%20final.pdf"
     ]
    },
    {
     "cell_type": "code",
     "collapsed": false,
     "input": [
      "t1 = time.time()\n",
      "fin = open(\"time_machine.txt\",\"r\")\n",
      "lines = 0\n",
      "words = 0\n",
      "chars = 0\n",
      "\n",
      "for l in fin:\n",
      "    lines += 1\n",
      "    words += len(l.split())\n",
      "    chars += len(l)\n",
      "    \n",
      "print lines, words, chars\n",
      "print \"CPU Time\", time.time() - t1"
     ],
     "language": "python",
     "metadata": {},
     "outputs": [
      {
       "output_type": "stream",
       "stream": "stdout",
       "text": [
        "3617 35319 201900\n",
        "CPU Time 0.0162739753723\n"
       ]
      }
     ],
     "prompt_number": 5
    },
    {
     "cell_type": "markdown",
     "metadata": {},
     "source": [
      "As you can see MrJob did not perform as good as the single threaded implementation. Why?\n",
      "\n",
      "The real benefit of using map-reduce becomes apparent when we have many computing nodes. For example, using amazon's server it is possible to perform this job on hundreds/thousands of nodes. \n",
      "\n",
      "Fun reading: http://open.blogs.nytimes.com/2007/11/01/self-service-prorated-super-computing-fun/\n",
      "\n",
      "If you are interested in general local parallel computing, another library to play with is Multiprocessing: https://docs.python.org/2/library/multiprocessing.html"
     ]
    },
    {
     "cell_type": "markdown",
     "metadata": {},
     "source": [
      "## Machine Learning: Fun with handwritten digits"
     ]
    },
    {
     "cell_type": "code",
     "collapsed": false,
     "input": [
      "# Clustering/ Parallelizing Clustering\n",
      "from sklearn.datasets import load_digits\n",
      "from sklearn.cross_validation import cross_val_score\n",
      "from sklearn.ensemble import RandomForestClassifier\n",
      "\n",
      "digits = load_digits()\n",
      "print digits.data.shape"
     ],
     "language": "python",
     "metadata": {},
     "outputs": [
      {
       "output_type": "stream",
       "stream": "stdout",
       "text": [
        "(1797, 64)\n"
       ]
      }
     ],
     "prompt_number": 8
    },
    {
     "cell_type": "code",
     "collapsed": false,
     "input": [
      "X = digits.data\n",
      "y = digits.target"
     ],
     "language": "python",
     "metadata": {},
     "outputs": [],
     "prompt_number": 9
    },
    {
     "cell_type": "code",
     "collapsed": false,
     "input": [
      "clf = RandomForestClassifier(n_estimators=50, random_state=0)"
     ],
     "language": "python",
     "metadata": {},
     "outputs": [],
     "prompt_number": 10
    },
    {
     "cell_type": "code",
     "collapsed": false,
     "input": [
      "clf = clf.fit(X,y)"
     ],
     "language": "python",
     "metadata": {},
     "outputs": [],
     "prompt_number": 11
    },
    {
     "cell_type": "code",
     "collapsed": false,
     "input": [
      "scores = cross_val_score(clf, X, y)"
     ],
     "language": "python",
     "metadata": {},
     "outputs": [],
     "prompt_number": 12
    },
    {
     "cell_type": "code",
     "collapsed": false,
     "input": [
      "scores"
     ],
     "language": "python",
     "metadata": {},
     "outputs": [
      {
       "metadata": {},
       "output_type": "pyout",
       "prompt_number": 13,
       "text": [
        "array([ 0.97328881,  0.96994992,  0.97161937])"
       ]
      }
     ],
     "prompt_number": "*"
    },
    {
     "cell_type": "code",
     "collapsed": false,
     "input": [
      "score_arr = []\n",
      "for n in range(10,200,10):\n",
      "    clf = RandomForestClassifier(n_estimators=n, random_state=0)\n",
      "    clf = clf.fit(X,y)\n",
      "    scores = cross_val_score(clf, X, y)\n",
      "    score_arr.append(scores.mean() )\n",
      "    "
     ],
     "language": "python",
     "metadata": {},
     "outputs": [],
     "prompt_number": "*"
    },
    {
     "cell_type": "code",
     "collapsed": false,
     "input": [
      "plt.plot(range(10,200,10), score_arr)"
     ],
     "language": "python",
     "metadata": {},
     "outputs": [
      {
       "metadata": {},
       "output_type": "pyout",
       "prompt_number": 29,
       "text": [
        "[<matplotlib.lines.Line2D at 0x7fd76e0aba10>]"
       ]
      },
      {
       "metadata": {},
       "output_type": "display_data",
       "png": "[encoded data removed]",
       "text": [
        "<matplotlib.figure.Figure at 0x7fd7a55f7750>"
       ]
      }
     ],
     "prompt_number": 29
    },
    {
     "cell_type": "code",
     "collapsed": false,
     "input": [],
     "language": "python",
     "metadata": {},
     "outputs": []
    }
   ],
   "metadata": {}
  }
 ]
}