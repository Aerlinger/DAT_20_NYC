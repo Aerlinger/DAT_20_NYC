{
 "metadata": {
  "name": "",
  "signature": "sha256:99abb913292b96afb4d04f30db4198fb9c921e01b9089e7bc3e7d79bc0dc890f"
 },
 "nbformat": 3,
 "nbformat_minor": 0,
 "worksheets": [
  {
   "cells": [
    {
     "cell_type": "code",
     "collapsed": false,
     "input": [
      "import numpy as np\n",
      "import pandas as pd\n",
      "\n",
      "import matplotlib.pyplot as plt\n",
      "\n",
      "%matplotlib inline"
     ],
     "language": "python",
     "metadata": {},
     "outputs": []
    }
   ],
   "metadata": {}
  }
 ]
}