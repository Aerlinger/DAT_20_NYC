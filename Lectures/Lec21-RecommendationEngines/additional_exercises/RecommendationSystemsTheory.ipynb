{
 "worksheets": [
  {
   "cells": [
    {
     "cell_type": "code",
     "metadata": {},
     "outputs": [
      {
       "metadata": {}
      }
     ],
     "input": [
      "%%javascript\n",
      "\n",
      "window.load_remote_theme = false\n",
      "var theme_url = \"https://drostehk.github.io/ipynb-theme/\";\n",
      "var asset_url = 'https://raw.githubusercontent.com/tijptjik/DS_assets/master/';\n",
      "\n",
      "window.load_local_theme = function(){\n",
      "    var hostname = document.location.hostname\n",
      "    return ((hostname == \"localhost\" || hostname == '127.0.0.1') && !load_remote_theme)\n",
      "}\n",
      "\n",
      "var url = load_local_theme() ? document.location.origin + \"/files/theme/custom.js\" : theme_url + 'custom.js'\n",
      "\n",
      "$.getScript(url)"
     ],
     "language": "python",
     "prompt_number": 1
    },
    {
     "cell_type": "markdown",
     "metadata": {},
     "source": [
      "# Recommendation Systems"
     ]
    },
    {
     "cell_type": "markdown",
     "metadata": {},
     "source": [
      "> RecSys is computorised empathy\n",
      "\n",
      "<footer>~ Jonas Malik</footer>"
     ]
    },
    {
     "cell_type": "markdown",
     "metadata": {},
     "source": [
      "1. Content-based Filtering\n",
      "1. Collaborative Filtering\n",
      "1. A Simple Matrix Factorization Model\n",
      "1. The Netflix Prize\n",
      "\n",
      "**Labs:**\n",
      "1. Recsys In Python With Movielens Data"
     ]
    },
    {
     "cell_type": "markdown",
     "metadata": {},
     "source": [
      "## Theory\n",
      "\n",
      "The purpose of a recommendation system is to predict a rating that a user will give an item that they have not yet rated."
     ]
    },
    {
     "cell_type": "markdown",
     "metadata": {},
     "source": [
      "This rating is produced by analyzing other user/item ratings (and sometimes item characteristics) to provide personalized\n",
      "recommendations to users."
     ]
    },
    {
     "cell_type": "markdown",
     "metadata": {},
     "source": [
      "There are two general approaches to recsys design:"
     ]
    },
    {
     "cell_type": "markdown",
     "metadata": {},
     "source": [
      "* *Content-based filtering*: items are mapped into a feature space, and recommendations depend on item characteristics.\n",
      "* *Collaborative filtering*: recommendations are only based on user-ratings"
     ]
    },
    {
     "cell_type": "markdown",
     "metadata": {},
     "source": [
      "![](assets/recsys0.png)\n",
      "_[trakt.tv](http://trakt.tv/show/true-detective)_"
     ]
    },
    {
     "cell_type": "markdown",
     "metadata": {},
     "source": [
      "![](http://ericsadblog.files.wordpress.com/2011/02/tastepreverences.png)\n",
      "_netflix: Content-based Filtering_"
     ]
    },
    {
     "cell_type": "markdown",
     "metadata": {},
     "source": [
      "![](http://3.bp.blogspot.com/-lCq3D-vOxuU/UoLRjKjwYYI/AAAAAAAABJ0/RNo2xLYDIpg/s1600/New+Netflix+TV+Experience_US.jpg)\n",
      "_netflix: Item Based Collaborative Filtering (Watch history)_"
     ]
    },
    {
     "cell_type": "markdown",
     "metadata": {},
     "source": [
      "![](assets/recsys1.png)\n",
      "_netflix: User Based Collaborative Filtering (Grouped Users)_"
     ]
    },
    {
     "cell_type": "markdown",
     "metadata": {},
     "source": [
      "![](assets/recsys2.png)\n",
      "_youtube: Item-based Collaborative Filtering (Watching Sequence)_"
     ]
    },
    {
     "cell_type": "markdown",
     "metadata": {},
     "source": [
      "![](assets/recsys3.png)\n",
      "_last.fm: Item-based Collaborative Filtering (Total number of plays)_"
     ]
    },
    {
     "cell_type": "markdown",
     "metadata": {},
     "source": [
      "![](assets/recsys4.png)\n",
      "_amazon: Item-based Collaborative Filtering (Purchase Sequence)_"
     ]
    },
    {
     "cell_type": "markdown",
     "metadata": {},
     "source": [
      "![](assets/recsys6.png)\n",
      "_goodreads: What About This One?_"
     ]
    },
    {
     "cell_type": "markdown",
     "metadata": {},
     "source": [
      "![](assets/recsys7.png)\n",
      "_pandora: Content-based Filtering_"
     ]
    },
    {
     "cell_type": "markdown",
     "metadata": {},
     "source": [
      "![](assets/recsys9.png)\n",
      "_ny Times : Personalised Item-based Collaborative Filtering_"
     ]
    },
    {
     "cell_type": "markdown",
     "metadata": {},
     "source": [
      "So try to think of recommendation systems as operating along these dimensions:"
     ]
    },
    {
     "cell_type": "markdown",
     "metadata": {},
     "source": [
      "* Content vs Collaborative\n",
      "* Personalised vs Non-personalised\n",
      "* Collection vs Sequence vs Frequency vs Rating"
     ]
    },
    {
     "cell_type": "heading",
     "metadata": {},
     "level": 2,
     "source": [
      "Content-based Filtering"
     ]
    },
    {
     "cell_type": "markdown",
     "metadata": {},
     "source": [
      "Content-based filtering begins by mapping each item into a feature space. Both users and items are represented by vectors in this space. Item vectors measure the degree to which the item is described by each feature, and user vectors measure a user’s preferences for each feature. Ratings are generated by taking dot products of user & item vectors."
     ]
    },
    {
     "cell_type": "markdown",
     "metadata": {},
     "source": [
      "The idea is that users like items that are similar to other items they’ve consumed."
     ]
    },
    {
     "cell_type": "markdown",
     "metadata": {},
     "source": [
      "![](assets/content1.png)"
     ]
    },
    {
     "cell_type": "markdown",
     "metadata": {},
     "source": [
      "Ratings are then generated by taking dot products of user & item vectors, so for Jayne"
     ]
    },
    {
     "cell_type": "markdown",
     "metadata": {},
     "source": [
      "![](assets/content2.png)"
     ]
    },
    {
     "cell_type": "markdown",
     "metadata": {},
     "source": [
      "and for Bob, what a man!"
     ]
    },
    {
     "cell_type": "markdown",
     "metadata": {},
     "source": [
      "![](assets/content3.png)"
     ]
    },
    {
     "cell_type": "markdown",
     "metadata": {},
     "source": [
      "One notable example of content-based filtering is Pandora, which maps songs into a feature space using features (or “genes”) designed by the Music Genome Project. Using song vectors that depend on these features, Pandora can create a station with music having similar properties to a song the user selects."
     ]
    },
    {
     "cell_type": "markdown",
     "metadata": {},
     "source": [
      "![](assets/pandora.png)"
     ]
    },
    {
     "cell_type": "markdown",
     "metadata": {},
     "source": [
      "Content-based filtering has some challenges:"
     ]
    },
    {
     "cell_type": "markdown",
     "metadata": {},
     "source": [
      "* Need to map each item into a feature space (usually by hand!)\n",
      "* Recs limited in scope (items must be similar to each other)\n",
      "* Hard to create cross-content recommendations (eg books/music films...this would require comparing elements from different feature spaces!)"
     ]
    },
    {
     "cell_type": "markdown",
     "metadata": {},
     "source": [
      "## Collaborative Filtering\n",
      "\n",
      "Instead of thinking about users and items in terms of a feature space, we are only interested in the existing user-item ratings themselves. Our dataset is a ratings matrix of items and users. Assumption: users get value from recommendations based on other users with similar tastes"
     ]
    },
    {
     "cell_type": "markdown",
     "metadata": {},
     "source": [
      "![](assets/sparsenetflix.png)"
     ]
    },
    {
     "cell_type": "markdown",
     "metadata": {},
     "source": [
      "Collaborative filtering can be done in two different ways:"
     ]
    },
    {
     "cell_type": "markdown",
     "metadata": {},
     "source": [
      "* *Memory-based*: uses a sample of the users that are most similar to a\n",
      "given user to predict ratings on unrated items.\n",
      "* *Model-based*: extracts complex patterns from the dataset, and uses that as a \"model\" to make recommendations without having to use the dataset every time"
     ]
    },
    {
     "cell_type": "heading",
     "metadata": {},
     "level": 3,
     "source": [
      "Memory-based Collaborative Filtering"
     ]
    },
    {
     "cell_type": "markdown",
     "metadata": {},
     "source": [
      "For a given user ($u_i$), find users that are most similar (e.g. _vector similarity_ or _[Pearson correlation](http://onlinestatbook.com/2/describing_bivariate_data/pearson.html) )_ coefficient"
     ]
    },
    {
     "cell_type": "markdown",
     "metadata": {},
     "source": [
      "For a given item $i_j$, the predicted rating of $u_i$ is the average of the known ratings of $i_j$ within the group of similar users."
     ]
    },
    {
     "cell_type": "heading",
     "metadata": {},
     "level": 3,
     "source": [
      "Memory-based: User Vs Item-based"
     ]
    },
    {
     "cell_type": "markdown",
     "metadata": {},
     "source": [
      "We just talked about user-based CF, but the same process can be done for item-based CF."
     ]
    },
    {
     "cell_type": "markdown",
     "metadata": {},
     "source": [
      "User-based CF is more commonly used than item-based CF, why do you think that is?"
     ]
    },
    {
     "cell_type": "heading",
     "metadata": {},
     "level": 3,
     "source": [
      "Model-based Collaborative Filtering"
     ]
    },
    {
     "cell_type": "markdown",
     "metadata": {},
     "source": [
      "Model-based collaborative filtering abandons the neighbor approach and applies other techniques to the ratings matrix."
     ]
    },
    {
     "cell_type": "markdown",
     "metadata": {},
     "source": [
      "The most popular model-based CF techniques use matrix decomposition techniques to find deeper structure in the ratings data."
     ]
    },
    {
     "cell_type": "markdown",
     "metadata": {},
     "source": [
      "For example, we could decompose the ratings matrix via SVD to reduce the dimensionality and extract latent variables."
     ]
    },
    {
     "cell_type": "markdown",
     "metadata": {},
     "source": [
      "![](assets/latentvector.png)"
     ]
    },
    {
     "cell_type": "markdown",
     "metadata": {},
     "source": [
      "Once we identify the latent variables in the ratings matrix, we can express both users and items in terms of these latent variables.\n",
      "\n",
      "As before, values in the item vectors represent the degree to which an item exhibits a given feature, and values in the user vectors represent user preferences for a given feature.\n",
      "\n",
      "Ratings are constructed by taking dot products of user & item vectors in the latent feature space.\n",
      "\n",
      "This approach is domain independent, and requires no explicit user or item profiles to be created. It combines predictive accuracy, scalability, and enough flexibility for practical modeling (we’ll see what this means in a moment). Since the conclusion of the Netflix prize, these latent factor methods for collaborative filtering have been regarded as the state-of-the-art in recsys technology.\n",
      "\n",
      "But they do have some drawbacks:"
     ]
    },
    {
     "cell_type": "markdown",
     "metadata": {},
     "source": [
      "* lots of (high-dimensional) ratings data needed\n",
      "* data is typically very sparse (in the Netflix prize dataset, ~99% of possible ratings were missing)\n",
      "* susceptible to fraud (eg shilling attacks)\n",
      "* cold start problem: need lots of data on new user or item before recommendations can be made"
     ]
    },
    {
     "cell_type": "heading",
     "metadata": {},
     "level": 3,
     "source": [
      "Cold Start Problem"
     ]
    },
    {
     "cell_type": "markdown",
     "metadata": {},
     "source": [
      "The cold start problem arises because we’ve been relying only on ratings data, or on _explicit feedback_ from users. Until a user rates several items, we don’t know anything about her preferences! We can get around this by enhancing our recommendations using _implicit feedback_, which may include things like item browsing behavior, search patterns, purchase history, etc."
     ]
    },
    {
     "cell_type": "markdown",
     "metadata": {},
     "source": [
      "While explicit feedback (ratings, likes, purchases) leads to high quality ratings, the data is sparse and cold starts are problematic. Meanwhile implicit feedback (browsing behavior, etc) leads to less accurate ratings, but the data is much more dense (and less invasive to collect). Implicit feedback can help to infer user preferences when explicit feedback is not available, therefore easing the cold start problem."
     ]
    },
    {
     "cell_type": "heading",
     "metadata": {},
     "level": 3,
     "source": [
      "Hybrid Filtering Methods"
     ]
    },
    {
     "cell_type": "markdown",
     "metadata": {},
     "source": [
      "Hybrid filtering methods provide another way to get around the cold start problem by combining filtering methods (eg, by using content-based info to “boost” a collaborative model). This content-based info can be item-based as above, or even user-based (eg, demographic info). Hybrid methods can also make the data sparsity issue easier to deal with, by broadening the set of features under consideration."
     ]
    },
    {
     "cell_type": "heading",
     "metadata": {},
     "level": 2,
     "source": [
      "A Simple Matrix Factorization Model"
     ]
    },
    {
     "cell_type": "markdown",
     "metadata": {},
     "source": [
      "Matrix factorization decomposes the ratings matrix and maps users and items into a low-dimensional vector space spanned by a basis of latent factors. Predicted ratings are given by inner products in this space, so for user $u$ and item $i$ we can write:"
     ]
    },
    {
     "cell_type": "markdown",
     "metadata": {},
     "source": [
      "![](assets/mv1.png)"
     ]
    },
    {
     "cell_type": "markdown",
     "metadata": {},
     "source": [
      "Factoring the ratings matrix via SVD leads to difficulty, since the matrix is typically sparse and therefore our information about the data is incomplete. Interpolating missing values is an expensive process and can lead to inaccurate predictions, so we need another way to perform this factorization. One possibility is to learn the feature vectors using the observed ratings only. Since this dramatically reduces the size of the ratings matrix, we have to be careful to avoid overfitting."
     ]
    },
    {
     "cell_type": "markdown",
     "metadata": {},
     "source": [
      "We can learn these feature vectors by minimizing the loss function:"
     ]
    },
    {
     "cell_type": "markdown",
     "metadata": {},
     "source": [
      "![](assets/mv2.png)"
     ]
    },
    {
     "cell_type": "markdown",
     "metadata": {},
     "source": [
      "where $κ$ denotes the set of known ratings, and $λ$ is a hyperparameter."
     ]
    },
    {
     "cell_type": "markdown",
     "metadata": {},
     "source": [
      "The loss function has two unknowns $(q, p)$ and so is not convex! This can be minimized using a method called alternating least square."
     ]
    },
    {
     "cell_type": "markdown",
     "metadata": {},
     "source": [
      "It turns out that much of the variation in observed ratings is due to user or item biases (eg, some users are very critical, or some items are universally popular)."
     ]
    },
    {
     "cell_type": "markdown",
     "metadata": {},
     "source": [
      "We can capture these biases in our model by generalizing $\\hat{r}_{ui}$:"
     ]
    },
    {
     "cell_type": "markdown",
     "metadata": {},
     "source": [
      "![](assets/mv3.png)"
     ]
    },
    {
     "cell_type": "markdown",
     "metadata": {},
     "source": [
      "Here $μ$ is a global average rating, $b_i$ is the item bias, $b_u$ is the userbias, and $q^{T}_{i}r_{u}$ is the user-item interaction.\n",
      "\n",
      "With this generalization, our minimization problem becomes:"
     ]
    },
    {
     "cell_type": "markdown",
     "metadata": {},
     "source": [
      "![](assets/mv4.png)"
     ]
    },
    {
     "cell_type": "markdown",
     "metadata": {},
     "source": [
      "Further modifications can be made to this model (incorporating implicit feedback, capturing temporal effects, attaching confidence scores to predictions), and you can look up the details in the references."
     ]
    },
    {
     "cell_type": "heading",
     "metadata": {},
     "level": 2,
     "source": [
      "The Netflix Prize"
     ]
    },
    {
     "cell_type": "markdown",
     "metadata": {},
     "source": [
      "The Netflix prize was a competition to see if anyone could make a 10% improvement to Netflix’s recommendation system (accuracy measured by [RMSE](https://www.kaggle.com/wiki/RootMeanSquaredError)).\n",
      "\n",
      "The grand prize was \\$1mm dollars, with annual $50k progress prizes to the leader at the end of each year if the 10% threshold had not yet been met. Approx 50k teams participated from >180 countries.\n",
      "\n",
      "The ratings matrix contained >100mm numerical entries (1-5 stars) from ~500k users across ~17k movies. The data was split into train/quiz/test sets to prevent overfitting on the test data by answer submission (this was a clever idea!)\n",
      "\n",
      "The competition began in 2006, and the grand prize was eventually awarded in 2009. The winning entry was a stacked ensemble of 100’s of models (including neighborhood & matrix factorization models) that were blended using boosted decision trees.\n",
      "\n",
      "Ultimately, the competition ended in a photo finish. The winning strategy came down to last-minute team mergers & creative blending schemes to shave 3 rd & 4 th decimals off RMSE (concerns that would not be important in practice).\n",
      "\n",
      "The competition did much to spur interest and research advances in recsys technology, and the prize money was donated to charity.\n",
      "\n",
      "Though they adopted some of the modeling techniques that emerged from the competition, Netflix never actually implemented the prizewinning solution.\n",
      "\n",
      "Why do you think that’s true?"
     ]
    },
    {
     "cell_type": "markdown",
     "metadata": {},
     "source": [
      "![break](assets/code.png)"
     ]
    },
    {
     "cell_type": "heading",
     "metadata": {},
     "level": 2,
     "source": [
      "Python Debugging"
     ]
    },
    {
     "cell_type": "markdown",
     "metadata": {},
     "source": [
      "In order to get into the debugger, you need to call it inside of any of your python code."
     ]
    },
    {
     "cell_type": "code",
     "metadata": {},
     "outputs": [
      {
       "output_type": "stream",
       "stream": "stderr",
       "text": [
        "ERROR: No traceback has been produced, nothing to debug.\n"
       ]
      }
     ],
     "input": [
      "import pdb\n",
      "\n",
      "def helloWorld():\n",
      "    home = 1\n",
      "    settings = [1,2,3]\n",
      "    pdb.set_trace()\n",
      "    \n",
      "helloWorld()"
     ],
     "language": "python",
     "prompt_number": 2
    },
    {
     "cell_type": "code",
     "metadata": {},
     "outputs": [],
     "input": [
      "%debug?"
     ],
     "language": "python",
     "prompt_number": 3
    },
    {
     "cell_type": "markdown",
     "metadata": {},
     "source": [
      "* l (list): Shows the current code around the line that your on. The line that is about to be executed has a -> before it.\n",
      "* n (next): Executes the current line and moves to the next in the current file.\n",
      "* c (continue): Finishes the debugging session. If there are more breakpoints (or if your set_trace() code gets called again before the request finishes) then you will get back to the debugger, otherwise the requests will complete back to the browser.\n",
      "* s (step): Goes down into the next level of execution (presumably a different file). You can follow your code through Django’s internals this way. This is really good for finding bugs and getting a better understanding about how Django works.\n",
      "* w (where): Shows you a backtrace of the calls that have gotten you to the current point in the code execution. This is really handy for the following 2 commands.\n",
      "* u (up): Allows you to go up one level in the backtrace.\n",
      "* d (down): Allows you to go down one level in the backtrace. These two commands allow you to see where you came from, and what variables were called where. This lets you see how the state ended up the current way that it did, which is great for figuring out how to fix it. :)\n",
      "* locals(): This isn’t a debugger function, but it is really handy for seeing what is in the current scope that you can muck around with. locals().keys() is really nice too just to see the variables that are there, because request tends to pollute the locals() command."
     ]
    },
    {
     "cell_type": "markdown",
     "metadata": {},
     "source": [
      "![break](assets/resources.png)"
     ]
    },
    {
     "cell_type": "heading",
     "metadata": {},
     "level": 2,
     "source": [
      "Resources"
     ]
    },
    {
     "cell_type": "heading",
     "metadata": {},
     "level": 3,
     "source": [
      "General"
     ]
    },
    {
     "cell_type": "markdown",
     "metadata": {},
     "source": [
      "* [Netflix](http://www.theatlantic.com/technology/archive/2014/01/how-netflix-reverse-engineered-hollywood/282679/)\n",
      "* [Matrix Factorization: A Simple Tutorial and Implementation in Python](http://www.quuxlabs.com/blog/2010/09/matrix-factorization-a-simple-tutorial-and-implementation-in-python/)\n",
      "* [RecSys Wiki](http://www.recsyswiki.com/)\n",
      "* [MovieLens Dataset](http://www.recsyswiki.com/wiki/MovieLens)\n",
      "* [Matrix Factorization Techniques For Recommender Systems](http://www2.research.att.com/~volinsky/papers/ieeecomputer.pdf)\n",
      "* [Hunch Data Science Interview](http://columbiadatascience.com/2012/10/18/week-7-hunch-com-recommendation-engines-svd-alternating-least-squares-convexity-filter-bubbles/)\n",
      "* [Singular Value Decomposition (SVD) tutorial](http://web.mit.edu/be.400/www/SVD/Singular_Value_Decomposition.htm)"
     ]
    },
    {
     "cell_type": "heading",
     "metadata": {},
     "level": 3,
     "source": [
      "Academic"
     ]
    },
    {
     "cell_type": "markdown",
     "metadata": {},
     "source": [
      "* [Regularized Alternating Least Squares Algorithms for Non-negative Matrix/Tensor Factorization](http://www.researchgate.net/publication/220870653_Regularized_Alternating_Least_Squares_Algorithms_for_Non-negative_MatrixTensor_Factorization/file/9fcfd50ec165c10443.pdf)\n",
      "* [Shilling Attacks](http://link.springer.com/article/10.1007%2Fs10462-012-9364-9)"
     ]
    },
    {
     "cell_type": "heading",
     "metadata": {},
     "level": 3,
     "source": [
      "Code, Tools & Techniques"
     ]
    },
    {
     "cell_type": "markdown",
     "metadata": {},
     "source": [
      "* [Python Recsys on Github](https://github.com/ocelma/python-recsys)\n",
      "* [Python Recsys Documentation](http://ocelma.net/software/python-recsys/build/html/)"
     ]
    },
    {
     "cell_type": "heading",
     "metadata": {},
     "level": 4,
     "source": [
      "Python Debugging"
     ]
    },
    {
     "cell_type": "markdown",
     "metadata": {},
     "source": [
      "* [Intro to Debugging in Python](http://pythonconquerstheuniverse.wordpress.com/2009/09/10/debugging-in-python/)\n",
      "* [Python Debugging Techniques](https://gimmebar-assets.s3.amazonaws.com/4fe38b76be0a5.html)\n",
      "* [Python documentation for pdb — The Python Debugger](http://docs.python.org/2/library/pdb.html)\n",
      "* [Video Tutorial](https://www.youtube.com/watch?v=bZZTeKPRSLQ)"
     ]
    },
    {
     "cell_type": "heading",
     "metadata": {},
     "level": 3,
     "source": [
      "Video Lectures"
     ]
    },
    {
     "cell_type": "markdown",
     "metadata": {},
     "source": [
      "* [12 Week Coursera Course](https://www.coursera.org/course/recsys)"
     ]
    }
   ]
  }
 ],
 "cells": [],
 "metadata": {
  "name": "",
  "signature": "sha256:1f9f8b34de691466a6078e8447dd37b70836c66ec4eccd299638040e4de66971"
 },
 "nbformat": 3,
 "nbformat_minor": 0
}