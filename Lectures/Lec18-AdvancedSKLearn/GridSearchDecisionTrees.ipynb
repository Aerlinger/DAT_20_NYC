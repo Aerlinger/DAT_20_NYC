{
 "metadata": {
  "name": "",
  "signature": "sha256:1da227a426f00f18ed155afa5f2609dd86f3fc69b88a694d6828e55866b01a64"
 },
 "nbformat": 3,
 "nbformat_minor": 0,
 "worksheets": [
  {
   "cells": [
    {
     "cell_type": "code",
     "collapsed": false,
     "input": [
      "## TASK: Searching for optimal parameters\n",
      "#\n",
      "# FUNCTION: GridSearchCV\n",
      "#\n",
      "# DOCUMENTATION: http://scikit-learn.org/stable/modules/grid_search.html\n",
      "# DATA: Titanic (n=891, p=5 selected, type=classification)\n",
      "# DATA DICTIONARY: https://www.kaggle.com/c/titanic-gettingStarted/data\n",
      "\n",
      "# read in and prepare titanic data\n",
      "import pandas as pd\n",
      "\n",
      "titanic = pd.read_csv('https://raw.githubusercontent.com/justmarkham/DAT4/master/data/titanic.csv')\n",
      "\n",
      "# Transformation of variables\n",
      "titanic['sex'] = titanic.sex.map({\n",
      "  'female': 0,\n",
      "  'male': 1\n",
      "})\n",
      "\n",
      "## Explore the dataset first!\n",
      "# 1. Where are there missing values?\n",
      "# 2. Outliers?\n",
      "# 3. Do any data points not make sense (formatting etc)\n",
      "#\n",
      "# 4. Visualization (Scatterplots, Histograms, Correlation Maps, etc.)\n",
      "\n",
      "# Imputation: (Filling in 'gaps' (i.e. NaNs) in the data)\n",
      "titanic.age.fillna(titanic.age.mean(), inplace=True)\n",
      "\n",
      "# This throws away information\n",
      "# titanic.dropna(inplace=True)"
     ],
     "language": "python",
     "metadata": {},
     "outputs": [],
     "prompt_number": 2
    },
    {
     "cell_type": "code",
     "collapsed": false,
     "input": [
      "embarked_dummies = pd.get_dummies(titanic.embarked, prefix='embarked').iloc[:, 1:]\n",
      "# pd.get_dummies(titanic.embarked, prefix='embarked').iloc[:, 1:]"
     ],
     "language": "python",
     "metadata": {},
     "outputs": [],
     "prompt_number": 17
    },
    {
     "cell_type": "code",
     "collapsed": false,
     "input": [
      "# pd.get_dummies(titanic.embarked, prefix='embarked').iloc\n",
      "titanic.columns"
     ],
     "language": "python",
     "metadata": {},
     "outputs": [
      {
       "metadata": {},
       "output_type": "pyout",
       "prompt_number": 21,
       "text": [
        "Index([u'survived', u'pclass', u'name', u'sex', u'age', u'sibsp', u'parch', u'ticket', u'fare', u'cabin', u'embarked', u'embarked_Q', u'embarked_S', u'embarked_Q', u'embarked_S'], dtype='object')"
       ]
      }
     ],
     "prompt_number": 21
    },
    {
     "cell_type": "code",
     "collapsed": false,
     "input": [
      "# use cross-validation to find best max_depth\n",
      "from sklearn.tree import DecisionTreeClassifier\n",
      "from sklearn.cross_validation import cross_val_score\n",
      "\n",
      "from sklearn.grid_search import GridSearchCV\n",
      "\n",
      "titanic = pd.concat([titanic, embarked_dummies], axis=1)\n",
      "\n",
      "# define X and y\n",
      "feature_cols = [\n",
      "    'pclass', \n",
      "    'sex', \n",
      "    'age', \n",
      "    'embarked_Q', \n",
      "    'embarked_S'\n",
      "]\n",
      "\n",
      "X = titanic[feature_cols]\n",
      "y = titanic.survived\n",
      "\n",
      "# try max_depth=2\n",
      "treeclf = DecisionTreeClassifier(max_depth=2, random_state=1)\n",
      "cross_val_score(treeclf, X, y, cv=10, scoring='roc_auc').mean()"
     ],
     "language": "python",
     "metadata": {},
     "outputs": [
      {
       "metadata": {},
       "output_type": "pyout",
       "prompt_number": 22,
       "text": [
        "0.80183585151232217"
       ]
      }
     ],
     "prompt_number": 22
    },
    {
     "cell_type": "code",
     "collapsed": false,
     "input": [
      "# try max_depth=3\n",
      "treeclf = DecisionTreeClassifier(max_depth=3, random_state=1)\n",
      "cross_val_score(treeclf, X, y, cv=10, scoring='roc_auc').mean()"
     ],
     "language": "python",
     "metadata": {},
     "outputs": [
      {
       "metadata": {},
       "output_type": "pyout",
       "prompt_number": 24,
       "text": [
        "0.84275187448716848"
       ]
      }
     ],
     "prompt_number": 24
    },
    {
     "cell_type": "code",
     "collapsed": true,
     "input": [
      "# use GridSearchCV to automate the search\n",
      "\n",
      "treeclf = DecisionTreeClassifier(random_state=1)\n",
      "\n",
      "max_depth_range = range(1, 21) # [0, 1, 2, 3, ..., 20]\n",
      "\n",
      "param_grid = dict(max_depth=max_depth_range)\n",
      "\n",
      "# Dictionary { \"max_depth\": [range_values] }\n",
      "# param_grid\n",
      "\n",
      "# \"Signature\": GridSearchCV(classifier, param_grid, cv, scoring='roc_auc')\n",
      "grid = GridSearchCV(treeclf, param_grid, cv=10, scoring='roc_auc')\n",
      "\n",
      "grid.fit(X, y)\n",
      "\n",
      "grid.grid_scores_\n",
      "grid_mean_scores = [result[1] for result in grid.grid_scores_]\n",
      "grid_mean_scores\n",
      "\n",
      "\n",
      "# plot the results\n",
      "import matplotlib.pyplot as plt\n",
      "%matplotlib inline\n",
      "\n",
      "plt.plot(max_depth_range, grid_mean_scores)\n",
      "\n",
      "# what was best?\n",
      "grid.best_score_\n",
      "grid.best_params_\n",
      "grid.best_estimator_\n",
      "\n",
      "# search a \"grid\" of parameters\n",
      "max_depth_range = range(1, 21)\n",
      "min_samples_leaf_range = range(1, 11)\n",
      "param_grid = dict(max_depth=max_depth_range, min_samples_leaf=min_samples_leaf_range)\n",
      "grid = GridSearchCV(treeclf, param_grid, cv=10, scoring='roc_auc')\n",
      "grid.fit(X, y)\n",
      "grid.best_score_\n",
      "grid.best_params_\n"
     ],
     "language": "python",
     "metadata": {},
     "outputs": [
      {
       "metadata": {},
       "output_type": "pyout",
       "prompt_number": 30,
       "text": [
        "{'max_depth': 10, 'min_samples_leaf': 8}"
       ]
      },
      {
       "metadata": {},
       "output_type": "display_data",
       "png": "[encoded data removed]",
       "text": [
        "<matplotlib.figure.Figure at 0x1107f3a10>"
       ]
      }
     ],
     "prompt_number": 30
    },
    {
     "cell_type": "code",
     "collapsed": false,
     "input": [
      "# print grid.best_score_\n"
     ],
     "language": "python",
     "metadata": {},
     "outputs": [
      {
       "output_type": "stream",
       "stream": "stdout",
       "text": [
        "0.857575284419\n",
        "{'max_depth': 10, 'min_samples_leaf': 8}\n"
       ]
      }
     ],
     "prompt_number": 33
    }
   ],
   "metadata": {}
  }
 ]
}