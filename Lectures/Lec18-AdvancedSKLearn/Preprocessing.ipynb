{
 "metadata": {
  "name": "",
  "signature": "sha256:b61fe0e803a65d728c8a87f69b09a3fef8dfbfdc0088aefb882d86eb38eaf28d"
 },
 "nbformat": 3,
 "nbformat_minor": 0,
 "worksheets": [
  {
   "cells": [
    {
     "cell_type": "code",
     "collapsed": false,
     "input": [
      "import pandas as pd\n",
      "import matplotlib as plt\n",
      "\n",
      "%matplotlib inline\n",
      "\n",
      "## TASK: Standardization of features (aka \"center and scale\" or \"z-score normalization\")\n",
      "## FUNCTION: StandardScaler\n",
      "## DOCUMENTATION: http://scikit-learn.org/stable/modules/generated/sklearn.preprocessing.StandardScaler.html\n",
      "## EXAMPLE: http://nbviewer.ipython.org/github/rasbt/pattern_classification/blob/master/preprocessing/about_standardization_normalization.ipynb\n",
      "## DATA: Wine (n=178, p=2 selected, type=classification)\n",
      "## DATA DICTIONARY: http://archive.ics.uci.edu/ml/datasets/Wine\n",
      "\n",
      "# sample data\n",
      "train = pd.DataFrame(\n",
      "    {\n",
      "        'A':[40,50,60], \n",
      "        'B':[0.90,0.30,0.60], \n",
      "        'C':[0,0.20,0.80], \n",
      "        'label':[0,1,2]\n",
      "    }\n",
      ")\n",
      "\n",
      "oos = pd.DataFrame({'A':[54.9], 'B':[0.59], 'C':[0.79]})\n",
      "\n",
      "# define X and y\n",
      "X = train[['A','B','C']]\n",
      "y = train.label\n",
      "\n",
      "pd.scatter_matrix(train);"
     ],
     "language": "python",
     "metadata": {},
     "outputs": [
      {
       "metadata": {},
       "output_type": "display_data",
       "png": "[encoded data removed]",
       "text": [
        "<matplotlib.figure.Figure at 0x10dd43e10>"
       ]
      }
     ],
     "prompt_number": 6
    },
    {
     "cell_type": "code",
     "collapsed": false,
     "input": [
      "# KNN with k=1\n",
      "from sklearn.neighbors import KNeighborsClassifier\n",
      "\n",
      "knn = KNeighborsClassifier(n_neighbors=1)\n",
      "knn.fit(X, y)\n",
      "\n",
      "# what \"should\" it predict? what does it predict?\n",
      "print knn.predict(oos)"
     ],
     "language": "python",
     "metadata": {},
     "outputs": [
      {
       "output_type": "stream",
       "stream": "stdout",
       "text": [
        "[1]\n"
       ]
      }
     ],
     "prompt_number": 8
    },
    {
     "cell_type": "code",
     "collapsed": false,
     "input": [
      "# standardize the features\n",
      "from sklearn.preprocessing import StandardScaler\n",
      "scaler = StandardScaler()\n",
      "scaler.fit(X)\n",
      "X_scaled = scaler.transform(X)\n",
      "\n",
      "# compare original to standardized\n",
      "print \"X Values\"\n",
      "print X.values\n",
      "\n",
      "print \"X scaled\"\n",
      "print X_scaled\n",
      "\n",
      "# figure out how it standardized\n",
      "scaler.mean_\n",
      "scaler.std_\n",
      "# print (X.values-scaler.mean_) / scaler.std_"
     ],
     "language": "python",
     "metadata": {},
     "outputs": [
      {
       "output_type": "stream",
       "stream": "stdout",
       "text": [
        "X Values\n",
        "[[ 40.    0.9   0. ]\n",
        " [ 50.    0.3   0.2]\n",
        " [ 60.    0.6   0.8]]\n",
        "X scaled\n",
        "[[-1.22474487  1.22474487 -0.98058068]\n",
        " [ 0.         -1.22474487 -0.39223227]\n",
        " [ 1.22474487  0.          1.37281295]]\n"
       ]
      },
      {
       "metadata": {},
       "output_type": "pyout",
       "prompt_number": 15,
       "text": [
        "array([ 8.16496581,  0.24494897,  0.33993463])"
       ]
      }
     ],
     "prompt_number": 15
    },
    {
     "cell_type": "code",
     "collapsed": false,
     "input": [
      "# try this on real data\n",
      "wine = pd.read_csv('http://archive.ics.uci.edu/ml/machine-learning-databases/wine/wine.data', \n",
      "                   header=None, \n",
      "                   usecols=[0, 10, 13])\n",
      "\n",
      "wine.columns=['label', 'color', 'proline']\n",
      "wine.head()\n",
      "wine.describe()\n",
      "\n",
      "# define X and y\n",
      "X = wine[['color', 'proline']]\n",
      "y = wine.label\n",
      "\n",
      "# split into train/test\n",
      "from sklearn.cross_validation import train_test_split\n",
      "X_train, X_test, y_train, y_test = train_test_split(X, y, random_state=1)\n",
      "\n",
      "# standardize\n",
      "scaler = StandardScaler()\n",
      "scaler.fit(X_train)\n",
      "X_train_scaled = scaler.transform(X_train)\n",
      "\n",
      "# check that it worked properly\n",
      "X_train_scaled[:, 0].mean()\n",
      "X_train_scaled[:, 0].std()\n",
      "X_train_scaled[:, 1].mean()\n",
      "X_train_scaled[:, 1].std()\n",
      "\n",
      "# standardize X_test\n",
      "X_test_scaled = scaler.transform(X_test)\n",
      "\n",
      "# is this right?\n",
      "X_test_scaled[:, 0].mean()\n",
      "X_test_scaled[:, 0].std()\n",
      "X_test_scaled[:, 1].mean()\n",
      "X_test_scaled[:, 1].std()\n",
      "\n",
      "# compare KNN accuracy on original vs scaled data\n",
      "knn = KNeighborsClassifier(n_neighbors=3)\n",
      "\n",
      "knn.fit(X_train, y_train)\n",
      "print knn.score(X_test, y_test)\n",
      "\n",
      "knn.fit(X_train_scaled, y_train)\n",
      "print knn.score(X_test_scaled, y_test)"
     ],
     "language": "python",
     "metadata": {},
     "outputs": [
      {
       "output_type": "stream",
       "stream": "stdout",
       "text": [
        "0.644444444444\n",
        "0.866666666667\n"
       ]
      }
     ],
     "prompt_number": 16
    },
    {
     "cell_type": "code",
     "collapsed": false,
     "input": [
      "from sklearn.cross_validation import cross_val_score\n",
      "from sklearn.grid_search import GridSearchCV\n",
      "\n",
      "## TASK: Chaining steps\n",
      "## FUNCTION: Pipeline\n",
      "## DOCUMENTATION: http://scikit-learn.org/stable/modules/pipeline.html\n",
      "## DATA: Wine (n=178, p=2 selected, type=classification)\n",
      "## DATA DICTIONARY: http://archive.ics.uci.edu/ml/datasets/Wine\n",
      "\n",
      "# here is proper cross-validation on the original (unscaled) data\n",
      "X = wine[['color', 'proline']]\n",
      "y = wine.label\n",
      "\n",
      "knn = KNeighborsClassifier(n_neighbors=3)\n",
      "cross_val_score(knn, X, y, cv=5, scoring='accuracy').mean()"
     ],
     "language": "python",
     "metadata": {},
     "outputs": [
      {
       "metadata": {},
       "output_type": "pyout",
       "prompt_number": 23,
       "text": [
        "0.71983168041991563"
       ]
      }
     ],
     "prompt_number": 23
    },
    {
     "cell_type": "code",
     "collapsed": false,
     "input": [
      "# why is this improper cross-validation on the scaled data?\n",
      "scaler = StandardScaler()\n",
      "X_scaled = scaler.fit_transform(X)\n",
      "cross_val_score(knn, X_scaled, y, cv=5, scoring='accuracy').mean()"
     ],
     "language": "python",
     "metadata": {},
     "outputs": [
      {
       "metadata": {},
       "output_type": "pyout",
       "prompt_number": 27,
       "text": [
        "0.90104247104247115"
       ]
      }
     ],
     "prompt_number": 27
    },
    {
     "cell_type": "code",
     "collapsed": false,
     "input": [
      "# fix this using Pipeline\n",
      "from sklearn.pipeline import make_pipeline\n",
      "pipe = make_pipeline(StandardScaler(), KNeighborsClassifier(n_neighbors=3))\n",
      "cross_val_score(pipe, X, y, cv=5, scoring='accuracy').mean()"
     ],
     "language": "python",
     "metadata": {},
     "outputs": [
      {
       "metadata": {},
       "output_type": "pyout",
       "prompt_number": 26,
       "text": [
        "0.89516011810129448"
       ]
      }
     ],
     "prompt_number": 26
    },
    {
     "cell_type": "code",
     "collapsed": false,
     "input": [
      "# using GridSearchCV with Pipeline\n",
      "n_neighbors_range = range(1, 21)\n",
      "param_grid = dict(kneighborsclassifier__n_neighbors=n_neighbors_range)\n",
      "grid = GridSearchCV(pipe, param_grid, cv=5, scoring='accuracy')\n",
      "grid.fit(X, y)\n",
      "grid.best_score_\n",
      "grid.best_params_"
     ],
     "language": "python",
     "metadata": {},
     "outputs": [
      {
       "metadata": {},
       "output_type": "pyout",
       "prompt_number": 29,
       "text": [
        "{'kneighborsclassifier__n_neighbors': 1}"
       ]
      }
     ],
     "prompt_number": 29
    }
   ],
   "metadata": {}
  }
 ]
}