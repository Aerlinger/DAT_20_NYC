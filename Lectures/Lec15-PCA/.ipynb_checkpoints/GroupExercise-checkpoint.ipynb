{
 "metadata": {
  "kernelspec": {
   "display_name": "Python 2",
   "language": "python",
   "name": "python2"
  },
  "language_info": {
   "codemirror_mode": {
    "name": "ipython",
    "version": 2
   },
   "file_extension": ".py",
   "mimetype": "text/x-python",
   "name": "python",
   "nbconvert_exporter": "python",
   "pygments_lexer": "ipython2",
   "version": "2.7.9"
  },
  "name": "",
  "signature": "sha256:b2e93237677dab074a47cc2bb17b2d8ee58ef522608becbec3ae3fd93ea17ce6"
 },
 "nbformat": 3,
 "nbformat_minor": 0,
 "worksheets": [
  {
   "cells": [
    {
     "cell_type": "heading",
     "level": 1,
     "metadata": {},
     "source": [
      "Class Competition"
     ]
    },
    {
     "cell_type": "heading",
     "level": 2,
     "metadata": {},
     "source": [
      "Predicting Bad Car Purchases"
     ]
    },
    {
     "cell_type": "markdown",
     "metadata": {},
     "source": [
      "The data from this assignment was originally used for a kaggle competition. The intent is to determine if a used car purchase was a good deal or not worth the amount of work that would have to go into it (a 'lemon')."
     ]
    },
    {
     "cell_type": "heading",
     "level": 2,
     "metadata": {},
     "source": [
      "Data"
     ]
    },
    {
     "cell_type": "markdown",
     "metadata": {},
     "source": [
      "Data is included in the repo under `data/lemons.csv`. "
     ]
    },
    {
     "cell_type": "markdown",
     "metadata": {},
     "source": [
      "### Description of some of the attributes\n",
      "\n",
      "- **RefID** Unique (sequential) number assigned to vehicles\n",
      "- **IsBadBuy** Identifies if the kicked vehicle was an avoidable purchase \n",
      "- **PurchDate** The Date the vehicle was Purchased at Auction\n",
      "- **Auction** Auction provider at which the  vehicle was purchased\n",
      "- **VehYear** The manufacturer's year of the vehicle\n",
      "- **VehicleAge** The Years elapsed since the manufacturer's year\n",
      "- **Make** Vehicle Manufacturer \n",
      "- **Model** Vehicle Model\n",
      "- **Trim** Vehicle Trim Level\n",
      "- **SubModel** Vehicle Submodel\n",
      "- **Color** Vehicle Color\n",
      "- **Transmission** Vehicles transmission type (Automatic, Manual)\n",
      "- **WheelTypeID** The type id of the vehicle wheel\n",
      "- **WheelType** The vehicle wheel type description (Alloy, Covers)\n",
      "- **VehOdo** The vehicles odometer reading\n",
      "- **Nationality** The Manufacturer's country\n",
      "- **Size** The size category of the vehicle (Compact, SUV, etc.)\n",
      "- **TopThreeAmericanName** Identifies if the manufacturer is one of the top three American manufacturers\n",
      "- **MMRAcquisitionAuctionAveragePrice\t** Acquisition price for this vehicle in average condition at time of purchase\t\n",
      "- **MMRAcquisitionAuctionCleanPrice** Acquisition price for this vehicle in the above Average condition at time of purchase\n",
      "- **MMRAcquisitionRetailAveragePrice** Acquisition price for this vehicle in the retail market in average condition at time of purchase\n",
      "- **MMRAcquisitonRetailCleanPrice** Acquisition price for this vehicle in the retail market in above average condition at time of purchase\n",
      "- **MMRCurrentAuctionAveragePrice** Acquisition price for this vehicle in average condition as of current day\t\n",
      "- **MMRCurrentAuctionCleanPrice** Acquisition price for this vehicle in the above condition as of current day\n",
      "- **MMRCurrentRetailAveragePrice** Acquisition price for this vehicle in the retail market in average condition as of current day\n",
      "- **MMRCurrentRetailCleanPrice** Acquisition price for this vehicle in the retail market in above average condition as of current day\n",
      "- **PRIMEUNIT** Identifies if the vehicle would have a higher demand than a standard purchase\n",
      "- **AcquisitionType** Identifies how the vehicle was aquired (Auction buy, trade in, etc)\n",
      "- **AUCGUART** The level guarntee provided by auction for the vehicle (Green light - Guaranteed/arbitratable, Yellow Light - caution/issue, red light - sold as is)\n",
      "- **KickDate** Date the vehicle was kicked back to the auction\n",
      "- **BYRNO** Unique number assigned to the buyer that purchased the vehicle\n",
      "- **VNZIP** Zipcode where the car was purchased\n",
      "- **VNST** State where the the car was purchased\n",
      "- **VehBCost** Acquisition cost paid for the vehicle at time of purchase\n",
      "- **IsOnlineSale** Identifies if the vehicle was originally purchased online\n",
      "- **WarrantyCost** Warranty price (term=36month  and mileage=36K)\n",
      " \n",
      "\n",
      "\n",
      "The **MMR price** fields are Manheim Market Report prices for the specific vehicle. They are Manheim's best estimate of the market price for that specific vehicle. Keep in mind this is not the price that the buyer actually paid for the specific vehicle, just an index for where similar vehicles are usually priced.\n",
      "\n",
      "**Acquisition** refers to the MMR price of the vehicle at the time it was sold (aquired) at auction. \n",
      "Clean refers to the price is the vehicle is in good condition (clean should be higher than average). \n",
      "Auction is the expected price at institutional auctions where traditionally only auto dealers buy and sell cars, Retail is the expected price at a customer would pay at a dealership.\n",
      "\n",
      "**AUCGUART** represents vehicle auction lights which typically mean the following:\n",
      "- **Green:** Green-light cars for auction are the best type to buy if you don\u2019t want to take a gamble. Note that a green light does not mean you are getting an auction car free of any repairs, but you will have the assurance that the car has been inspected and that major repairs have been reported by the seller\n",
      "- **Yellow:**. A yellow light means that the seller may have disclosed some information about the auction car, such as mechanical defects or a salvaged title, but you may not have every detail about these cars for auction.\n",
      "- **Red:** red light means that you will buy the auction car as is\u2014with no arguments or negotiation. If you purchase an auction car on a red-light status, you simply cannot have buyer\u2019s remorse."
     ]
    },
    {
     "cell_type": "heading",
     "level": 2,
     "metadata": {},
     "source": [
      "Objective"
     ]
    },
    {
     "cell_type": "markdown",
     "metadata": {},
     "source": [
      "Clean up the data as needed and create a model for predicting if the car IsBadBuy. You may use any of the classification algorithms learned (or still to learn) to predict this column, though given the data, some algorithms will be better than others."
     ]
    },
    {
     "cell_type": "heading",
     "level": 3,
     "metadata": {},
     "source": [
      "Submission file"
     ]
    },
    {
     "cell_type": "markdown",
     "metadata": {},
     "source": [
      "Like the regression problem, submit both your python script and the output csv file which includes two columns:"
     ]
    },
    {
     "cell_type": "markdown",
     "metadata": {},
     "source": [
      "    RefId, IsBadBuy\n",
      "    3,0\n",
      "    4,0\n",
      "    8,1"
     ]
    },
    {
     "cell_type": "markdown",
     "metadata": {},
     "source": [
      "This submission is based on the test csv file, which has the IsBadBuy column missing. This means that unlike the regression problem, you have to validate with your training data to feel more comfortable about your submission!"
     ]
    },
    {
     "cell_type": "heading",
     "level": 3,
     "metadata": {},
     "source": [
      "Scoring"
     ]
    },
    {
     "cell_type": "markdown",
     "metadata": {},
     "source": [
      "We will be scoring the submission based on the AUC from precision and recall based on the two outputs."
     ]
    },
    {
     "cell_type": "code",
     "collapsed": false,
     "input": [
      "cars = pd.read_csv('../../Data/lemons.csv')\n",
      "\n",
      "%matplotlib inline\n",
      "\n",
      "plt.matshow(cars.corr())"
     ],
     "language": "python",
     "metadata": {},
     "outputs": [
      {
       "metadata": {},
       "output_type": "pyout",
       "prompt_number": 4,
       "text": [
        "<matplotlib.image.AxesImage at 0x1173a5550>"
       ]
      },
      {
       "metadata": {},
       "output_type": "display_data",
       "png": "[encoded data removed]",
       "text": [
        "<matplotlib.figure.Figure at 0x116cdaf50>"
       ]
      }
     ],
     "prompt_number": 4
    },
    {
     "cell_type": "code",
     "collapsed": false,
     "input": [
      "# plt.matshow(cars.)"
     ],
     "language": "python",
     "metadata": {},
     "outputs": [],
     "prompt_number": 5
    },
    {
     "cell_type": "code",
     "collapsed": false,
     "input": [
      "cars.columns"
     ],
     "language": "python",
     "metadata": {},
     "outputs": [
      {
       "metadata": {},
       "output_type": "pyout",
       "prompt_number": 7,
       "text": [
        "Index([u'RefId', u'IsBadBuy', u'PurchDate', u'Auction', u'VehYear', u'VehicleAge', u'Make', u'Model', u'Trim', u'SubModel', u'Color', u'Transmission', u'WheelTypeID', u'WheelType', u'VehOdo', u'Nationality', u'Size', u'TopThreeAmericanName', u'MMRAcquisitionAuctionAveragePrice', u'MMRAcquisitionAuctionCleanPrice', u'MMRAcquisitionRetailAveragePrice', u'MMRAcquisitonRetailCleanPrice', u'MMRCurrentAuctionAveragePrice', u'MMRCurrentAuctionCleanPrice', u'MMRCurrentRetailAveragePrice', u'MMRCurrentRetailCleanPrice', u'PRIMEUNIT', u'AUCGUART', u'BYRNO', u'VNZIP1', u'VNST', u'VehBCost', u'IsOnlineSale', u'WarrantyCost'], dtype='object')"
       ]
      }
     ],
     "prompt_number": 7
    },
    {
     "cell_type": "code",
     "collapsed": false,
     "input": [
      "mmrs = [u'MMRAcquisitionAuctionAveragePrice', u'MMRAcquisitionAuctionCleanPrice', u'MMRAcquisitionRetailAveragePrice', u'MMRAcquisitonRetailCleanPrice', u'MMRCurrentAuctionAveragePrice', u'MMRCurrentAuctionCleanPrice', u'MMRCurrentRetailAveragePrice', u'MMRCurrentRetailCleanPrice']\n",
      "\n"
     ],
     "language": "python",
     "metadata": {},
     "outputs": []
    }
   ],
   "metadata": {}
  }
 ]
}