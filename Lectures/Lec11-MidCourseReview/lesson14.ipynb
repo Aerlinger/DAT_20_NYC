{
 "worksheets": [
  {
   "cells": [
    {
     "cell_type": "code",
     "metadata": {},
     "outputs": [],
     "input": [
      "from sklearn.datasets import load_iris \n",
      "iris = load_iris()"
     ],
     "language": "python",
     "prompt_number": 3
    },
    {
     "cell_type": "code",
     "metadata": {},
     "outputs": [],
     "input": [
      "X, y = iris.data, iris.target"
     ],
     "language": "python",
     "prompt_number": 4
    },
    {
     "cell_type": "code",
     "metadata": {},
     "outputs": [],
     "input": [
      "from sklearn.cross_validation import train_test_split\n",
      "\n",
      "X_train, X_test, y_train, y_test = train_test_split(X, y, test_size=.2)"
     ],
     "language": "python",
     "prompt_number": 8
    },
    {
     "cell_type": "code",
     "metadata": {},
     "outputs": [],
     "input": [
      "from sklearn.preprocessing import MinMaxScaler \n",
      "scaler = MinMaxScaler()\n",
      "scaler.fit(X_train)\n",
      "X, X_train, X_test = scaler.transform(X), scaler.transform(X_train), scaler.transform(X_test)"
     ],
     "language": "python",
     "prompt_number": 57
    },
    {
     "cell_type": "code",
     "metadata": {},
     "outputs": [],
     "input": [
      "from sklearn.svm import SVC, LinearSVC\n",
      "\n",
      "clf = SVC(kernel='rbf', C=1., gamma=1, class_weight='auto')\n",
      "#clf = LinearSVC(C=10.)\n",
      "clf.fit(X_train, y_train)\n",
      "preds = clf.predict(X_test)"
     ],
     "language": "python",
     "prompt_number": 58
    },
    {
     "cell_type": "code",
     "metadata": {},
     "outputs": [],
     "input": [
      "from sklearn.metrics import f1_score, classification_report"
     ],
     "language": "python",
     "prompt_number": 59
    },
    {
     "cell_type": "code",
     "metadata": {},
     "outputs": [
      {
       "output_type": "stream",
       "stream": "stdout",
       "text": [
        "1.0\n"
       ]
      }
     ],
     "input": [
      "score = f1_score(y_test, preds)\n",
      "print score"
     ],
     "language": "python",
     "prompt_number": 60
    },
    {
     "cell_type": "code",
     "metadata": {},
     "outputs": [
      {
       "output_type": "pyout",
       "prompt_number": 61,
       "text": [
        "GridSearchCV(cv=5,\n",
        "       estimator=SVC(C=1.0, cache_size=200, class_weight='auto', coef0=0.0, degree=3, gamma=1,\n",
        "  kernel='rbf', max_iter=-1, probability=False, random_state=None,\n",
        "  shrinking=True, tol=0.001, verbose=False),\n",
        "       fit_params={}, iid=True, loss_func=None, n_jobs=-1,\n",
        "       param_grid={'C': [0.015625, 0.03125, 0.0625, 0.125, 0.25, 0.5, 1, 2, 4, 8, 16, 32, 64, 128, 256, 512, 1024, 2048, 4096, 8192], 'gamma': [0.0009765625, 0.001953125, 0.00390625, 0.0078125, 0.015625, 0.03125, 0.0625, 0.125, 0.25, 0.5, 1, 2, 4, 8, 16, 32, 64, 128, 256, 512]},\n",
        "       pre_dispatch='2*n_jobs', refit=True, score_func=None, scoring='f1',\n",
        "       verbose=0)"
       ],
       "metadata": {}
      }
     ],
     "input": [
      "from sklearn.grid_search import GridSearchCV \n",
      "\n",
      "param_grid = {\n",
      "    'C': [2**p for p in xrange(-6,14)], \n",
      "    'gamma': [2**p for p in xrange(-10,10)]\n",
      "}\n",
      "\n",
      "gs = GridSearchCV(estimator=clf, \n",
      "                  param_grid=param_grid,\n",
      "                  scoring='f1', \n",
      "                  cv=5,\n",
      "                  n_jobs=-1)\n",
      "\n",
      "gs.fit(X, y)"
     ],
     "language": "python",
     "prompt_number": 61
    },
    {
     "cell_type": "code",
     "metadata": {},
     "outputs": [
      {
       "output_type": "stream",
       "stream": "stdout",
       "text": [
        "SVC(C=0.5, cache_size=200, class_weight='auto', coef0=0.0, degree=3, gamma=1,\n",
        "  kernel='rbf', max_iter=-1, probability=False, random_state=None,\n",
        "  shrinking=True, tol=0.001, verbose=False)\n",
        "0.986633249791\n",
        "{'C': 0.5, 'gamma': 1}\n"
       ]
      }
     ],
     "input": [
      "print gs.best_estimator_\n",
      "print gs.best_score_\n",
      "print gs.best_params_"
     ],
     "language": "python",
     "prompt_number": 62
    },
    {
     "cell_type": "code",
     "metadata": {},
     "outputs": [],
     "input": [
      "from sklearn.svm import SVR\n",
      "from sklearn.datasets import load_boston"
     ],
     "language": "python",
     "prompt_number": 64
    },
    {
     "cell_type": "code",
     "metadata": {},
     "outputs": [],
     "input": [
      "boston = load_boston()\n",
      "X, y = boston.data, boston.target"
     ],
     "language": "python",
     "prompt_number": 65
    },
    {
     "cell_type": "code",
     "metadata": {},
     "outputs": [],
     "input": [
      ""
     ],
     "language": "python"
    }
   ]
  }
 ],
 "cells": [],
 "metadata": {
  "name": "",
  "signature": "sha256:385683127698444063ad3a34bc518331e098cb7b6eaa6fc6fa29b799a54f4ee1"
 },
 "nbformat": 3,
 "nbformat_minor": 0
}