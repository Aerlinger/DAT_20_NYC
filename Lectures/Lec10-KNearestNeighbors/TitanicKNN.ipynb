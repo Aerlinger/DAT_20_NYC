{
 "metadata": {
  "name": "",
  "signature": "sha256:0d3c5f22b53366b079c52c9ae7e2242c7e736d56097b33c31f3741562e95c359"
 },
 "nbformat": 3,
 "nbformat_minor": 0,
 "worksheets": [
  {
   "cells": [
    {
     "cell_type": "markdown",
     "metadata": {},
     "source": [
      "# Lab: Titanic Data"
     ]
    },
    {
     "cell_type": "code",
     "collapsed": false,
     "input": [
      "import numpy as np\n",
      "import pandas as pd\n",
      "import matplotlib.pyplot as plt\n",
      "\n",
      "%matplotlib inline"
     ],
     "language": "python",
     "metadata": {},
     "outputs": [],
     "prompt_number": 57
    },
    {
     "cell_type": "code",
     "collapsed": false,
     "input": [
      "titanic_csv = pd.read_csv('../../Data/titanic.csv')\n",
      "\n",
      "titanic = titanic_csv[['survived', 'pclass', 'sex', 'age']].dropna()\n",
      "\n",
      "titanic.loc[:, 'female'] = (titanic['sex'] == 'female').astype(np.int)\n",
      "\n",
      "X = titanic[['pclass', 'female', 'age']]\n",
      "y = titanic['female']\n",
      "\n",
      "print y.shape\n",
      "print X.shape"
     ],
     "language": "python",
     "metadata": {},
     "outputs": [
      {
       "output_type": "stream",
       "stream": "stdout",
       "text": [
        "(714,)\n",
        "(714, 3)\n"
       ]
      }
     ],
     "prompt_number": 173
    },
    {
     "cell_type": "code",
     "collapsed": false,
     "input": [
      "from sklearn import cross_validation\n",
      "from sklearn import neighbors\n",
      "from sklearn import metrics\n",
      "\n",
      "X_train, X_test, y_train, y_test = cross_validation.train_test_split(X, y, test_size=0.3)"
     ],
     "language": "python",
     "metadata": {},
     "outputs": [],
     "prompt_number": 174
    },
    {
     "cell_type": "code",
     "collapsed": false,
     "input": [
      "print X_train.shape\n",
      "print X_test.shape\n",
      "print y_train.shape\n",
      "print y_test.shape\n",
      "print X.shape\n",
      "print y.shape"
     ],
     "language": "python",
     "metadata": {},
     "outputs": [
      {
       "output_type": "stream",
       "stream": "stdout",
       "text": [
        "(499, 3)\n",
        "(215, 3)\n",
        "(499,)\n",
        "(215,)\n",
        "(714, 3)\n",
        "(714,)\n"
       ]
      }
     ],
     "prompt_number": 175
    },
    {
     "cell_type": "code",
     "collapsed": false,
     "input": [
      "# A \"brute force approach for finding K\n",
      "for i in range(1, 20):\n",
      "    clf = neighbors.KNeighborsClassifier(n_neighbors=i, weights='distance')\n",
      "\n",
      "    clf.fit(X_train, y_train)\n",
      "    \n",
      "    roc_auc_scores = cross_validation.cross_val_score(clf, X, y, cv=3, scoring=\"roc_auc\")\n",
      "    f1_scores = cross_validation.cross_val_score(clf, X, y, cv=3, scoring=\"f1\")\n",
      "    print i, \"roc_auc: \", roc_auc_scores.mean(), \"f1: \", f1_scores.mean()\n",
      "\n",
      "    \n",
      "clf = neighbors.KNeighborsClassifier(n_neighbors=3, weights='distance')\n",
      "clf.fit(X_train, y_train)\n",
      "\n",
      "print metrics.confusion_matrix(clf.predict(X_test), y_test)"
     ],
     "language": "python",
     "metadata": {},
     "outputs": [
      {
       "output_type": "stream",
       "stream": "stdout",
       "text": [
        "1 roc_auc:  0.939154043287 f1:  0.928829717291\n",
        "2 roc_auc:  0.957917840197 f1:  0.890125619981\n",
        "3 roc_auc:  0.979891400878 f1:  0.904230416892\n",
        "4 roc_auc:  0.981591433864 f1:  0.891361858753\n",
        "5"
       ]
      },
      {
       "output_type": "stream",
       "stream": "stdout",
       "text": [
        " roc_auc:  0.986907208647 f1:  0.896033906214\n",
        "6 roc_auc:  0.98863261526 f1:  0.903099344548\n",
        "7 roc_auc:  0.989228895486 f1:  0.895535835533\n",
        "8 roc_auc:  0.988962472406 f1:  0.907197949779\n",
        "9"
       ]
      },
      {
       "output_type": "stream",
       "stream": "stdout",
       "text": [
        " roc_auc:  0.989495318566 f1:  0.893656400405\n",
        "10 roc_auc:  0.987820659207 f1:  0.887741833045\n",
        "11 roc_auc:  0.986856461394 f1:  0.891405342625\n",
        "12 roc_auc:  0.986120626221 f1:  0.891055129609\n",
        "13"
       ]
      },
      {
       "output_type": "stream",
       "stream": "stdout",
       "text": [
        " roc_auc:  0.985816142701 f1:  0.896446477215\n",
        "14 roc_auc:  0.985460911928 f1:  0.8835792432\n",
        "15 roc_auc:  0.984674329502 f1:  0.870455019013\n",
        "16 roc_auc:  0.984978813022 f1:  0.875763308111\n",
        "17"
       ]
      },
      {
       "output_type": "stream",
       "stream": "stdout",
       "text": [
        " roc_auc:  0.984166856969 f1:  0.86648078701\n",
        "18 roc_auc:  0.983634010809 f1:  0.857704402516\n",
        "19 roc_auc:  0.983050417396 f1:  0.85096396253\n",
        "[[99 65]\n",
        " [31 20]]\n"
       ]
      }
     ],
     "prompt_number": 180
    },
    {
     "cell_type": "code",
     "collapsed": false,
     "input": [
      "from sklearn import preprocessing \n",
      "\n",
      "X_scaled = preprocessing.scale(X)\n",
      "\n",
      "print X_scaled"
     ],
     "language": "python",
     "metadata": {},
     "outputs": [
      {
       "output_type": "stream",
       "stream": "stdout",
       "text": [
        "[[ 0.91123237 -0.75905134 -0.53037664]\n",
        " [-1.47636364  1.31743394  0.57183099]\n",
        " [ 0.91123237  1.31743394 -0.25482473]\n",
        " ..., \n",
        " [-1.47636364  1.31743394 -0.73704057]\n",
        " [-1.47636364 -0.75905134 -0.25482473]\n",
        " [ 0.91123237 -0.75905134  0.15850313]]\n"
       ]
      }
     ],
     "prompt_number": 177
    },
    {
     "cell_type": "code",
     "collapsed": false,
     "input": [
      "X_scaled_train, X_scaled_test, y_train, y_test = cross_validation.train_test_split(X, y, test_size=0.3)"
     ],
     "language": "python",
     "metadata": {},
     "outputs": [],
     "prompt_number": 178
    },
    {
     "cell_type": "code",
     "collapsed": false,
     "input": [
      "# A \"brute force approach for finding K\n",
      "for i in range(1, 20):\n",
      "    clf = neighbors.KNeighborsClassifier(n_neighbors=i, weights='distance')\n",
      "\n",
      "    clf.fit(X_scaled_train, y_train)\n",
      "    \n",
      "    roc_auc_scores = cross_validation.cross_val_score(clf, X_scaled_train, y_train, cv=3, scoring=\"roc_auc\")\n",
      "    f1_scores = cross_validation.cross_val_score(clf, X_scaled_train, y_train, cv=3, scoring=\"f1\")\n",
      "    print i, \"roc_auc: \", roc_auc_scores.mean(), \"f1: \", f1_scores.mean()\n",
      "\n",
      "    \n",
      "clf = neighbors.KNeighborsClassifier(n_neighbors=1, weights='distance')\n",
      "clf.fit(X_scaled_train, y_train)\n",
      "print metrics.confusion_matrix(clf.predict(X_scaled_test), y_test)"
     ],
     "language": "python",
     "metadata": {},
     "outputs": [
      {
       "output_type": "stream",
       "stream": "stdout",
       "text": [
        "1 roc_auc:  0.88806457136 f1:  0.867262324831\n",
        "2 roc_auc:  0.932139310337 f1:  0.84390645313\n",
        "3 roc_auc:  0.963258283282 f1:  0.878373303289\n",
        "4 roc_auc:  0.967634637912 f1:  0.856017811518\n",
        "5 roc_auc:  0.975582374872 f1:  0.839752276612\n",
        "6"
       ]
      },
      {
       "output_type": "stream",
       "stream": "stdout",
       "text": [
        " roc_auc:  0.972757086221 f1:  0.843794289339\n",
        "7 roc_auc:  0.972457045497 f1:  0.840905190905\n",
        "8 roc_auc:  0.973021445743 f1:  0.827661730574\n",
        "9 roc_auc:  0.971351223263 f1:  0.806676003735\n",
        "10 roc_auc:  0.970184962989 f1:  0.829096059453\n",
        "11"
       ]
      },
      {
       "output_type": "stream",
       "stream": "stdout",
       "text": [
        " roc_auc:  0.969441398098 f1:  0.811196213961\n",
        "12 roc_auc:  0.969803385704 f1:  0.799679638293\n",
        "13 roc_auc:  0.970359230215 f1:  0.784880991728\n",
        "14 roc_auc:  0.969667977523 f1:  0.787809757345\n",
        "15"
       ]
      },
      {
       "output_type": "stream",
       "stream": "stdout",
       "text": [
        " roc_auc:  0.970186901727 f1:  0.786949458648\n",
        "16 roc_auc:  0.970338241273 f1:  0.799080548909\n",
        "17 roc_auc:  0.969174779525 f1:  0.77585978836\n",
        "18 roc_auc:  0.969013645139 f1:  0.77585978836\n",
        "19"
       ]
      },
      {
       "output_type": "stream",
       "stream": "stdout",
       "text": [
        " roc_auc:  0.96979972739 f1:  0.774418071322\n",
        "[[128   6]\n",
        " [  2  79]]\n"
       ]
      }
     ],
     "prompt_number": 179
    },
    {
     "cell_type": "code",
     "collapsed": false,
     "input": [],
     "language": "python",
     "metadata": {},
     "outputs": []
    }
   ],
   "metadata": {}
  }
 ]
}