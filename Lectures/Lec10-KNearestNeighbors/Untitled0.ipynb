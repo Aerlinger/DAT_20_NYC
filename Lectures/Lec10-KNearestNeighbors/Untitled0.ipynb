{
 "metadata": {
  "name": "",
  "signature": "sha256:6454d75dd610aeb0a4d54c76813780b9e3f9c37e77e4b2ad4cd68ea37e586625"
 },
 "nbformat": 3,
 "nbformat_minor": 0,
 "worksheets": [
  {
   "cells": [
    {
     "cell_type": "code",
     "collapsed": false,
     "input": [
      "import pandas as pd\n",
      "from sklearn.preprocessing import PolynomialFeatures\n",
      "\n",
      "\n",
      "heights = [100, 130, 140, 145, 170]\n",
      "weights = [50, 75, 96, 120, 250]\n",
      "\n",
      "heights_vs_weights = pd.DataFrame({\n",
      "    'heights': heights,\n",
      "    'weights': weights\n",
      "})\n",
      "\n",
      "heights_vs_weights.head();"
     ],
     "language": "python",
     "metadata": {},
     "outputs": [],
     "prompt_number": 14
    },
    {
     "cell_type": "code",
     "collapsed": true,
     "input": [
      "heights_vs_weights.plot(x='heights', y='weights', grid=True)"
     ],
     "language": "python",
     "metadata": {},
     "outputs": [
      {
       "metadata": {},
       "output_type": "pyout",
       "prompt_number": 15,
       "text": [
        "<matplotlib.axes._subplots.AxesSubplot at 0x11637fd10>"
       ]
      },
      {
       "metadata": {},
       "output_type": "display_data",
       "png": "[encoded data removed]",
       "text": [
        "<matplotlib.figure.Figure at 0x116389690>"
       ]
      }
     ],
     "prompt_number": 15
    },
    {
     "cell_type": "code",
     "collapsed": false,
     "input": [
      "from sklearn.linear_model import LinearRegression\n",
      "\n",
      "X = heights_vs_weights[['heights']]\n",
      "y = heights_vs_weights[['weights']]\n",
      "\n",
      "regressor = LinearRegression()\n",
      "\n",
      "# Always check for dimensionality\n",
      "print X.shape\n",
      "print y.shape\n",
      "\n",
      "# Watch out for 'Tuple index out of range'!\n",
      "regressor.fit(X, y)\n",
      "\n",
      "print regressor.coef_\n",
      "print regressor.intercept_\n",
      "\n",
      "# from sklearn.preprocessing import PolynomialFeatures\n",
      "\n",
      "poly = PolynomialFeatures()"
     ],
     "language": "python",
     "metadata": {},
     "outputs": [
      {
       "output_type": "stream",
       "stream": "stdout",
       "text": [
        "(5, 1)\n",
        "(5, 1)\n",
        "[[ 2.76085271]]\n",
        "[-260.03682171]\n"
       ]
      }
     ],
     "prompt_number": 27
    },
    {
     "cell_type": "code",
     "collapsed": false,
     "input": [
      "print \"ORIGINAL X:\"\n",
      "print X\n",
      "\n",
      "print \"POLYNOMIAL X (2nd degree)\"\n",
      "poly.fit(X)\n",
      "print poly.transform(X)\n",
      "\n",
      "regressor.fit(poly.transform(X), y)\n",
      "\n",
      "\n",
      "print \"Coefficients:\"\n",
      "print regressor.coef_"
     ],
     "language": "python",
     "metadata": {},
     "outputs": [
      {
       "output_type": "stream",
       "stream": "stdout",
       "text": [
        "ORIGINAL X:\n",
        "   heights\n",
        "0      100\n",
        "1      130\n",
        "2      140\n",
        "3      145\n",
        "4      170\n",
        "POLYNOMIAL X (2nd degree)\n",
        "[[    1   100 10000]\n",
        " [    1   130 16900]\n",
        " [    1   140 19600]\n",
        " [    1   145 21025]\n",
        " [    1   170 28900]]\n",
        "Coefficients:\n",
        "[[  0.         -11.52883135   0.05324579]]\n"
       ]
      }
     ],
     "prompt_number": 31
    }
   ],
   "metadata": {}
  }
 ]
}