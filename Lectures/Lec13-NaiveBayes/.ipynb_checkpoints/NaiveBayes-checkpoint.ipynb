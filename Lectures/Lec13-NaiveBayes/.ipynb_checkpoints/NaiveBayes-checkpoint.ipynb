{
 "metadata": {
  "name": "",
  "signature": "sha256:0fb701eb4feb92b69669da0d5a2bfca7bd0d26ba369bc695428034c483316779"
 },
 "nbformat": 3,
 "nbformat_minor": 0,
 "worksheets": [
  {
   "cells": [
    {
     "cell_type": "code",
     "collapsed": false,
     "input": [
      "%%html\n",
      "<link rel=\"stylesheet\" href=\"../..//hyrule.css\" type=\"text/css\">"
     ],
     "language": "python",
     "metadata": {},
     "outputs": [
      {
       "html": [
        "<link rel=\"stylesheet\" href=\"../..//hyrule.css\" type=\"text/css\">"
       ],
       "metadata": {},
       "output_type": "display_data",
       "text": [
        "<IPython.core.display.HTML at 0x11611a550>"
       ]
      }
     ],
     "prompt_number": 10
    },
    {
     "cell_type": "markdown",
     "metadata": {},
     "source": [
      "# Lecture 13: Naive Bayes\n",
      "\n",
      "* Understanding the similarities and differences between Bayes Classifiers and Logistic Regression\n",
      "* Using a vectorizer to transform your text data\n",
      "* Learning the difference between a sparse and normal array\n",
      "* Identifying and interpreting traits of learners through comparison\n",
      "\n",
      "\n",
      "### Let's start with an illustrative example:\n",
      "\n",
      "Suppose there is a type of cancer which occurs in 1% of the population.\n",
      "\n",
      "There is a cancer with the following properties:\n",
      "- 90% chance test is **positive** when patient **has cancer**  *(what's this called?)*\n",
      "- 90% chance test is **negative** when patient does not **have cancer**\n",
      "\n",
      "**Q:** Does the patient actually have cancer?\n",
      "\n",
      "> Take a moment to write out the answer"
     ]
    },
    {
     "cell_type": "markdown",
     "metadata": {},
     "source": [
      "##Joint Probability:\n",
      "\n",
      "1. The probability a person **has cancer** and receives a **positive** test result is the product of the two events:\n",
      "\n",
      "    $\\Pr(C, +) = \\Pr(C) * \\Pr(+ \\mid C) = 0.009$\n",
      "\n",
      "\n",
      "2. Probability a person **does not have cancer** and receives a **negative** test result.\n",
      "\n",
      "    $\\Pr(\\neg C, -) = \\Pr(\\neg C) * \\Pr(- \\mid \\neg C) = 0.099$"
     ]
    },
    {
     "cell_type": "markdown",
     "metadata": {},
     "source": [
      "## Prior and Posterior Probabilities:\n",
      "\n",
      "####Prior Probability: \n",
      "*Probabilities known **before the outcome** of our test*\n",
      "\n",
      "1. Probability of a person having cancer. $\\Pr(C) = 0.01$\n",
      "\n",
      "2. Probability of a **positive** test result, given a person **has cancer**. $\\Pr(+\\mid C) = 0.9$\n",
      "\n",
      "3. Probability of a **negative** test result, given a person **does not have cancer.** $\\Pr(-\\mid C) = 0.9$\n",
      "\n",
      "\n",
      "####Posterior Probability:\n",
      "\n",
      "1. The probability a person **has cancer** given they receive a **positive** test result (*our original question*).\n",
      "\n",
      "    $\\Pr(C \\mid +) = ?$ **(A)**\n",
      "\n",
      "\n",
      "2. Probability a person **does not have cancer** given a **negative** test result.\n",
      "\n",
      "    $\\Pr(\\neg C \\mid -) = ?$ **(B)**"
     ]
    },
    {
     "cell_type": "markdown",
     "metadata": {},
     "source": [
      "## Deriving Bayes' Law:\n",
      "\n",
      "Let's think about what we need to solve **(A)**:"
     ]
    },
    {
     "cell_type": "markdown",
     "metadata": {},
     "source": [
      "\n",
      "\n",
      "*Normalization Factor (Total probability):*\n",
      "\n",
      "$\\Pr(+) = \\Pr(C, +) + \\Pr(\\neg C, +)$"
     ]
    },
    {
     "cell_type": "markdown",
     "metadata": {},
     "source": [
      "#### We now have all of the information to solve **(A)**:\n",
      "\n",
      "$\\Pr(C \\mid +) = \\dfrac{\\Pr(+ \\mid C)\\Pr(C)}{\\Pr(C, +) + \\Pr(\\neg C, +)} = \\dfrac{\\Pr(+ \\mid C)\\Pr(C)}{\\Pr(+)}$ "
     ]
    },
    {
     "cell_type": "markdown",
     "metadata": {},
     "source": [
      "More generally this can be expressed as:\n",
      "\n",
      "$\\Pr(H\\mid E) = \\dfrac{\\Pr(E\\mid H)\\Pr(H)}{\\Pr(E)}$\n",
      "\n",
      "Where $H$ is our hypothesis and $E$ is evidence for our hypothesis.\n",
      "\n",
      "**This formula is known as Bayes' Theorem**"
     ]
    },
    {
     "cell_type": "markdown",
     "metadata": {},
     "source": [
      "Using notation from previous classes we're trying to predict the probability of some target class variable $y$ (the hypothesis $H$) given a set of observations (evidence $E$) $X_{n}$. Thus, the previous equation can be rewritten as follows:\n",
      "\n",
      "$Pr(y \\mid X_{n}) = \\dfrac{Pr(X_{n} \\mid y)Pr(y)}{Pr(X_{n})}$"
     ]
    },
    {
     "cell_type": "markdown",
     "metadata": {},
     "source": [
      "### What's the importance of the Naive Bayes Equation -- what do we need to know?\n",
      "\n",
      "#### Why Naive?\n",
      "It assumes all inputs (categories, predictors) are independent: In the case of text: its blind to word context and meaning: \n",
      "\n",
      "#### Naivete helps because negligible information is required\n",
      "Simply word counting and that's it -- faster testing and very simple construction on ANY text.  Naivete doesn't hurt because correctness is based on classification, not prediction.\n",
      "\n",
      "#### Good Predictor, (possibly) Bad Estimator\n",
      "NB chooses among possible categories to find the one that is the greatest.  The associated probability assigned is not necessarily accurate.  For example -- it might predict an email is Spam at 80%, but the true value might be 95% -- this doesn't matter, since its just choosing the category, anything over 50% will give it a perfect score. So while good estimation means good prediction,  good prediction doesn't necessarily mean good estimation."
     ]
    },
    {
     "cell_type": "markdown",
     "metadata": {},
     "source": [
      "### A great explanation of Bayes Classification\n",
      "*from [Mathias Brandewinder](http://clear-lines.com/blog/post/Naive-Bayes-Classification.aspx)*\n",
      "\n",
      "The canonical application of Bayes na\u00efve classification is in text classification, where the goal is to identify to which pre-determined category a piece of text belongs to  \u2013 for instance, is this email I just received spam, or ham (\u201cvaluable\u201d email)?\n",
      "\n",
      "The underlying idea is to use individual words present in the text as indications for what category it is most likely to belong to, using Bayes Theorem, named after the cheerful-looking Reverend Bayes.\n",
      "\n",
      "Imagine that you received an email containing the words \u201cNigeria\u201d, \u201cPrince\u201d, \u201cDiamonds\u201d and \u201cMoney\u201d. It is very likely that if you look into your spam folder, you\u2019ll find quite a few emails containing these words, whereas, unless you are in the business of importing diamonds from Nigeria and have some aristocratic family, your \u201cnormal\u201d emails would rarely contain these words. They have a much higher frequency within the category \u201cSpam\u201d than within the Ham, which makes them a potential flag for undesired business ventures.\n",
      "\n",
      "On the other hand, let\u2019s assume that you are a lucky person, and that typically, what you receive is Ham, with the occasional Spam bit. If you took a random email in your inbox, it is then much more likely that it belongs to the Ham category.\n",
      "\n",
      "Bayes\u2019 Theorem combines these two pieces of information together, to determine the probability that a particular email belongs to the \u201cSpam\u201d category, if it contains the word \u201cNigeria\u201d:\n",
      "\n",
      "$P(is Spam|contains Nigeria) = \\dfrac{P(contains Nigeria|is Spam) P(is Spam)}{P(contains Nigeria)}$\n",
      "\n",
      "In other words, 2 factors should be taken into account when deciding whether an email containing \u201cNigeria\u201d is spam: how over-represented is that word in Spam, and how likely is it that any email is spammy in the first place?\n",
      "\n",
      "The algorithm is named \u201cNa\u00efve\u201d, because it makes a simplifying assumption about the text, which turns out to be very convenient for computations purposes, namely that each word appears with a frequency which doesn\u2019t depend on other words. This is an unlikely assumption (the word \u201cDiamond\u201d is much more likely to be present in an email containing \u201cNigeria\u201d than in your typical family-members discussion email).\n",
      "\n",
      "We\u2019ll leave it at that on the concepts \u2013  I\u2019ll refer the reader who want to dig deeper to the book, or to this explanation of text classification with Na\u00efve Bayes."
     ]
    },
    {
     "cell_type": "markdown",
     "metadata": {},
     "source": [
      "# Data Problem: Predicting Moving Ratings Given Text Reviews"
     ]
    },
    {
     "cell_type": "code",
     "collapsed": false,
     "input": [
      "%matplotlib inline\n",
      "\n",
      "import pandas as pd\n",
      "import matplotlib.pyplot as plt\n",
      "\n",
      "from sklearn import naive_bayes\n",
      "from sklearn import cross_validation\n",
      "\n",
      "pd.set_option('display.width', 500)\n",
      "pd.set_option('display.max_columns', 30)"
     ],
     "language": "python",
     "metadata": {},
     "outputs": [],
     "prompt_number": 11
    },
    {
     "cell_type": "markdown",
     "metadata": {},
     "source": [
      "## Vectorizing with SK-Learn"
     ]
    },
    {
     "cell_type": "code",
     "collapsed": false,
     "input": [
      "from sklearn.feature_extraction.text import CountVectorizer\n",
      "\n",
      "text = ['Math is great', 'Math is really great', 'Exciting exciting Math']\n",
      "\n",
      "CountVectorizer?\n",
      "\n",
      "# Like the learners in sklearn, CountVectorizer is a class; so `vectorizer` below represents an instance of that object.\n",
      "vectorizer = CountVectorizer(ngram_range=(1,2))\n",
      "\n",
      "# call `fit` to build the vocabulary\n",
      "vectorizer.fit(text)\n",
      "\n",
      "# then, use `get_feature_names` to return the tokens\n",
      "print vectorizer.get_feature_names()\n",
      "\n",
      "# finally, call `transform` to convert text to a bag of words\n",
      "x = vectorizer.transform(text)"
     ],
     "language": "python",
     "metadata": {},
     "outputs": [
      {
       "output_type": "stream",
       "stream": "stdout",
       "text": [
        "[u'exciting', u'exciting exciting', u'exciting math', u'great', u'is', u'is great', u'is really', u'math', u'math is', u'really', u'really great']\n"
       ]
      }
     ],
     "prompt_number": 12
    },
    {
     "cell_type": "markdown",
     "metadata": {},
     "source": [
      "#####CountVectorizer Doc: \n",
      "\n",
      "http://scikit-learn.org/stable/modules/generated/sklearn.feature_extraction.text.CountVectorizer.html"
     ]
    },
    {
     "cell_type": "markdown",
     "metadata": {},
     "source": [
      "### Comparing a Sparse Matrix and Normal Matrix\n",
      "\n",
      "Vectorizers by default return back a sparse matrix. This is primarily because, as we'd expect, the majority of features will be 0, and at that point, it's more memory efficient to store the entry relationship and value. Pay attention to what we remember about matrix logic (how we refer to an entry) and how the toarray() function returns back the matrix we'd expect:"
     ]
    },
    {
     "cell_type": "code",
     "collapsed": false,
     "input": [
      "print 'Sparse Matrix'\n",
      "print x # A compressed version; the \"sparse\" matrix.\n",
      "print type(x) # type is from scipy, a library we've spoken very little of, but is pretty fantastic.\n",
      "print\n",
      "print 'Matrix'\n",
      "x_back = x.toarray()\n",
      "print x_back"
     ],
     "language": "python",
     "metadata": {},
     "outputs": [
      {
       "output_type": "stream",
       "stream": "stdout",
       "text": [
        "Sparse Matrix\n",
        "  (0, 3)\t1\n",
        "  (0, 4)\t1\n",
        "  (0, 5)\t1\n",
        "  (0, 7)\t1\n",
        "  (0, 8)\t1\n",
        "  (1, 3)\t1\n",
        "  (1, 4)\t1\n",
        "  (1, 6)\t1\n",
        "  (1, 7)\t1\n",
        "  (1, 8)\t1\n",
        "  (1, 9)\t1\n",
        "  (1, 10)\t1\n",
        "  (2, 0)\t2\n",
        "  (2, 1)\t1\n",
        "  (2, 2)\t1\n",
        "  (2, 7)\t1\n",
        "<class 'scipy.sparse.csr.csr_matrix'>\n",
        "\n",
        "Matrix\n",
        "[[0 0 0 1 1 1 0 1 1 0 0]\n",
        " [0 0 0 1 1 0 1 1 1 1 1]\n",
        " [2 1 1 0 0 0 0 1 0 0 0]]\n"
       ]
      }
     ],
     "prompt_number": 13
    },
    {
     "cell_type": "markdown",
     "metadata": {},
     "source": [
      "If we wanted the extra overhead, we could use the feature names as columns to a dataframe:"
     ]
    },
    {
     "cell_type": "code",
     "collapsed": false,
     "input": [
      "pd.DataFrame(x_back, columns=vectorizer.get_feature_names())"
     ],
     "language": "python",
     "metadata": {},
     "outputs": [
      {
       "html": [
        "<div style=\"max-height:1000px;max-width:1500px;overflow:auto;\">\n",
        "<table border=\"1\" class=\"dataframe\">\n",
        "  <thead>\n",
        "    <tr style=\"text-align: right;\">\n",
        "      <th></th>\n",
        "      <th>exciting</th>\n",
        "      <th>exciting exciting</th>\n",
        "      <th>exciting math</th>\n",
        "      <th>great</th>\n",
        "      <th>is</th>\n",
        "      <th>is great</th>\n",
        "      <th>is really</th>\n",
        "      <th>math</th>\n",
        "      <th>math is</th>\n",
        "      <th>really</th>\n",
        "      <th>really great</th>\n",
        "    </tr>\n",
        "  </thead>\n",
        "  <tbody>\n",
        "    <tr>\n",
        "      <th>0</th>\n",
        "      <td> 0</td>\n",
        "      <td> 0</td>\n",
        "      <td> 0</td>\n",
        "      <td> 1</td>\n",
        "      <td> 1</td>\n",
        "      <td> 1</td>\n",
        "      <td> 0</td>\n",
        "      <td> 1</td>\n",
        "      <td> 1</td>\n",
        "      <td> 0</td>\n",
        "      <td> 0</td>\n",
        "    </tr>\n",
        "    <tr>\n",
        "      <th>1</th>\n",
        "      <td> 0</td>\n",
        "      <td> 0</td>\n",
        "      <td> 0</td>\n",
        "      <td> 1</td>\n",
        "      <td> 1</td>\n",
        "      <td> 0</td>\n",
        "      <td> 1</td>\n",
        "      <td> 1</td>\n",
        "      <td> 1</td>\n",
        "      <td> 1</td>\n",
        "      <td> 1</td>\n",
        "    </tr>\n",
        "    <tr>\n",
        "      <th>2</th>\n",
        "      <td> 2</td>\n",
        "      <td> 1</td>\n",
        "      <td> 1</td>\n",
        "      <td> 0</td>\n",
        "      <td> 0</td>\n",
        "      <td> 0</td>\n",
        "      <td> 0</td>\n",
        "      <td> 1</td>\n",
        "      <td> 0</td>\n",
        "      <td> 0</td>\n",
        "      <td> 0</td>\n",
        "    </tr>\n",
        "  </tbody>\n",
        "</table>\n",
        "</div>"
       ],
       "metadata": {},
       "output_type": "pyout",
       "prompt_number": 14,
       "text": [
        "   exciting  exciting exciting  exciting math  great  is  is great  is really  math  math is  really  really great\n",
        "0         0                  0              0      1   1         1          0     1        1       0             0\n",
        "1         0                  0              0      1   1         0          1     1        1       1             1\n",
        "2         2                  1              1      0   0         0          0     1        0       0             0"
       ]
      }
     ],
     "prompt_number": 14
    },
    {
     "cell_type": "markdown",
     "metadata": {},
     "source": [
      "## Preparing our Features $X$ and Target $y$ for Training"
     ]
    },
    {
     "cell_type": "code",
     "collapsed": false,
     "input": [
      "critics = pd.read_csv('../../data/rt_critics.csv')\n",
      "\n",
      "critics.head()"
     ],
     "language": "python",
     "metadata": {},
     "outputs": [
      {
       "html": [
        "<div style=\"max-height:1000px;max-width:1500px;overflow:auto;\">\n",
        "<table border=\"1\" class=\"dataframe\">\n",
        "  <thead>\n",
        "    <tr style=\"text-align: right;\">\n",
        "      <th></th>\n",
        "      <th>critic</th>\n",
        "      <th>fresh</th>\n",
        "      <th>imdb</th>\n",
        "      <th>publication</th>\n",
        "      <th>quote</th>\n",
        "      <th>review_date</th>\n",
        "      <th>rtid</th>\n",
        "      <th>title</th>\n",
        "    </tr>\n",
        "  </thead>\n",
        "  <tbody>\n",
        "    <tr>\n",
        "      <th>0</th>\n",
        "      <td>        Derek Adams</td>\n",
        "      <td> fresh</td>\n",
        "      <td> 114709</td>\n",
        "      <td>       Time Out</td>\n",
        "      <td> So ingenious in concept, design and execution ...</td>\n",
        "      <td> 2009-10-04</td>\n",
        "      <td> 9559</td>\n",
        "      <td> Toy story</td>\n",
        "    </tr>\n",
        "    <tr>\n",
        "      <th>1</th>\n",
        "      <td>    Richard Corliss</td>\n",
        "      <td> fresh</td>\n",
        "      <td> 114709</td>\n",
        "      <td>  TIME Magazine</td>\n",
        "      <td>                 The year's most inventive comedy.</td>\n",
        "      <td> 2008-08-31</td>\n",
        "      <td> 9559</td>\n",
        "      <td> Toy story</td>\n",
        "    </tr>\n",
        "    <tr>\n",
        "      <th>2</th>\n",
        "      <td>        David Ansen</td>\n",
        "      <td> fresh</td>\n",
        "      <td> 114709</td>\n",
        "      <td>       Newsweek</td>\n",
        "      <td> A winning animated feature that has something ...</td>\n",
        "      <td> 2008-08-18</td>\n",
        "      <td> 9559</td>\n",
        "      <td> Toy story</td>\n",
        "    </tr>\n",
        "    <tr>\n",
        "      <th>3</th>\n",
        "      <td>      Leonard Klady</td>\n",
        "      <td> fresh</td>\n",
        "      <td> 114709</td>\n",
        "      <td>        Variety</td>\n",
        "      <td> The film sports a provocative and appealing st...</td>\n",
        "      <td> 2008-06-09</td>\n",
        "      <td> 9559</td>\n",
        "      <td> Toy story</td>\n",
        "    </tr>\n",
        "    <tr>\n",
        "      <th>4</th>\n",
        "      <td> Jonathan Rosenbaum</td>\n",
        "      <td> fresh</td>\n",
        "      <td> 114709</td>\n",
        "      <td> Chicago Reader</td>\n",
        "      <td> An entertaining computer-generated, hyperreali...</td>\n",
        "      <td> 2008-03-10</td>\n",
        "      <td> 9559</td>\n",
        "      <td> Toy story</td>\n",
        "    </tr>\n",
        "  </tbody>\n",
        "</table>\n",
        "</div>"
       ],
       "metadata": {},
       "output_type": "pyout",
       "prompt_number": 15,
       "text": [
        "               critic  fresh    imdb     publication                                              quote review_date  rtid      title\n",
        "0         Derek Adams  fresh  114709        Time Out  So ingenious in concept, design and execution ...  2009-10-04  9559  Toy story\n",
        "1     Richard Corliss  fresh  114709   TIME Magazine                  The year's most inventive comedy.  2008-08-31  9559  Toy story\n",
        "2         David Ansen  fresh  114709        Newsweek  A winning animated feature that has something ...  2008-08-18  9559  Toy story\n",
        "3       Leonard Klady  fresh  114709         Variety  The film sports a provocative and appealing st...  2008-06-09  9559  Toy story\n",
        "4  Jonathan Rosenbaum  fresh  114709  Chicago Reader  An entertaining computer-generated, hyperreali...  2008-03-10  9559  Toy story"
       ]
      }
     ],
     "prompt_number": 15
    },
    {
     "cell_type": "markdown",
     "metadata": {},
     "source": [
      "Note that Kaggle was running a [competition](https://www.kaggle.com/c/sentiment-analysis-on-movie-reviews/data) on accurately rating movies using this dataset.<br />"
     ]
    },
    {
     "cell_type": "markdown",
     "metadata": {},
     "source": [
      "* $X$ is a `(nreview, nwords)` array. Each row corresponds to a bag-of-words representation for a single review. This will be the *input* to the model.\n",
      "* $y$ is a `nreview`-element 1/0 array, encoding whether a review is Fresh (1) or Rotten (0). This is the desired *output* "
     ]
    },
    {
     "cell_type": "code",
     "collapsed": false,
     "input": [
      "print critics.quote[2]"
     ],
     "language": "python",
     "metadata": {},
     "outputs": [
      {
       "output_type": "stream",
       "stream": "stdout",
       "text": [
        "A winning animated feature that has something for everyone on the age spectrum.\n"
       ]
      }
     ],
     "prompt_number": 16
    },
    {
     "cell_type": "markdown",
     "metadata": {},
     "source": [
      "Create a vector where each row is bag-of-words for a single quote vectorizer is now going to forget the original feature set.\n",
      "What types of ngrams should we be getting given the settings we used when creating the vectorizer instance?\n",
      "\n",
      "What's the difference between `fit` and `fit_transform`?"
     ]
    },
    {
     "cell_type": "code",
     "collapsed": false,
     "input": [
      "vectorizer = CountVectorizer(stop_words=['in', 'the', 'of', 'and', 'is', 'a', 'for'])\n",
      "\n",
      "x = vectorizer.fit_transform(critics.quote)\n",
      "# Create an array where each element encodes whether the array is Fresh or Rotten\n",
      "y = (critics.fresh == 'fresh').values.astype(np.int)"
     ],
     "language": "python",
     "metadata": {},
     "outputs": [],
     "prompt_number": 17
    },
    {
     "cell_type": "markdown",
     "metadata": {},
     "source": [
      "### Creating the Classifier and Basic Accuracy\n",
      "\n",
      "We've talked in class before about how accuracy can be a very simple measure to evaluate a classifier model performance. Below, we have a function that evaluates the accuracy of a test train split."
     ]
    },
    {
     "cell_type": "code",
     "collapsed": false,
     "input": [
      "import time\n",
      "\n",
      "def train_and_measure(classifier, x, y):\n",
      "    \"\"\"\n",
      "    Function accepts a classifer from sklearn and computes the accuracy measure for a random train and test split\n",
      "    classifier: an sklearn class\n",
      "    x         : a matrix of features\n",
      "    y         : a vector of targets\n",
      "    \"\"\"\n",
      "    xtrain, xtest, ytrain, ytest = cross_validation.train_test_split(x, y, test_size=0.2, random_state=1234)\n",
      "    time_train_start = time.time()\n",
      "    clf = classifier.fit(xtrain, ytrain)\n",
      "    time_train_stop = time.time()\n",
      "\n",
      "    #Print the accuracy on the test and training dataset\n",
      "    time_score_start = time.time()\n",
      "    training_accuracy = clf.score(xtrain, ytrain)\n",
      "    test_accuracy = clf.score(xtest, ytest)\n",
      "    time_score_stop = time.time()\n",
      "    \n",
      "    print \"\\n-----------------------------------------------------------------------------\"\n",
      "    print classifier\n",
      "    print \"-----------------------------------------------------------------------------\"\n",
      "    print \"Accuracy on training data: %0.2f\" % (training_accuracy)\n",
      "    print \"Accuracy on test data:     %0.2f\" % (test_accuracy)\n",
      "    print \"Training time: %0.4f\" % (time_train_stop - time_train_start)\n",
      "    print \"Scoring time: %0.4f\" % (time_score_stop - time_score_start)\n",
      "    print \"-----------------------------------------------------------------------------\"\n",
      "    \n",
      "\n",
      "\n",
      "train_and_measure(naive_bayes.MultinomialNB(), x, y)\n",
      "\n",
      "x_ones = (x > 1) # recall that a bernoulli interpretation will only work with 1s and 0s, or binary data.\n",
      "train_and_measure(naive_bayes.BernoulliNB(), x_ones, y)\n",
      "\n",
      "# and for the heck of it:\n",
      "\n",
      "from sklearn import linear_model\n",
      "train_and_measure(linear_model.LogisticRegression(), x, y)\n",
      "\n",
      "from sklearn import neighbors\n",
      "train_and_measure(neighbors.KNeighborsClassifier(), x, y)"
     ],
     "language": "python",
     "metadata": {},
     "outputs": [
      {
       "output_type": "stream",
       "stream": "stdout",
       "text": [
        "\n",
        "-----------------------------------------------------------------------------\n",
        "MultinomialNB(alpha=1.0, class_prior=None, fit_prior=True)\n",
        "-----------------------------------------------------------------------------\n",
        "Accuracy on training data: 0.92\n",
        "Accuracy on test data:     0.77\n",
        "Training time: 0.0078\n",
        "Scoring time: 0.0049\n",
        "-----------------------------------------------------------------------------\n",
        "\n",
        "-----------------------------------------------------------------------------\n",
        "BernoulliNB(alpha=1.0, binarize=0.0, class_prior=None, fit_prior=True)\n",
        "-----------------------------------------------------------------------------\n",
        "Accuracy on training data: 0.62\n",
        "Accuracy on test data:     0.59\n",
        "Training time: 0.0036\n",
        "Scoring time: 0.0037\n",
        "-----------------------------------------------------------------------------\n",
        "\n",
        "-----------------------------------------------------------------------------"
       ]
      },
      {
       "output_type": "stream",
       "stream": "stdout",
       "text": [
        "\n",
        "LogisticRegression(C=1.0, class_weight=None, dual=False, fit_intercept=True,\n",
        "          intercept_scaling=1, penalty='l2', random_state=None, tol=0.0001)\n",
        "-----------------------------------------------------------------------------\n",
        "Accuracy on training data: 0.97\n",
        "Accuracy on test data:     0.76\n",
        "Training time: 0.1475\n",
        "Scoring time: 0.0018\n",
        "-----------------------------------------------------------------------------\n",
        "\n",
        "-----------------------------------------------------------------------------"
       ]
      },
      {
       "output_type": "stream",
       "stream": "stdout",
       "text": [
        "\n",
        "KNeighborsClassifier(algorithm='auto', leaf_size=30, metric='minkowski',\n",
        "           metric_params=None, n_neighbors=5, p=2, weights='uniform')\n",
        "-----------------------------------------------------------------------------\n",
        "Accuracy on training data: 0.76\n",
        "Accuracy on test data:     0.61\n",
        "Training time: 0.0016\n",
        "Scoring time: 8.1506\n",
        "-----------------------------------------------------------------------------\n"
       ]
      }
     ],
     "prompt_number": 18
    },
    {
     "cell_type": "markdown",
     "metadata": {},
     "source": [
      "[Multinomial Naive Bayes](http://scikit-learn.org/stable/modules/naive_bayes.html#multinomial-naive-bayes)\n",
      "--------------------------------------------------------\n",
      "`MultinomialNB` implements the naive Bayes algorithm for multinomially distributed data, and is one of the two classic naive Bayes variants used in text classification (where the data are typically represented as word vector counts, although tf-idf vectors are also known to work well in practice). The distribution is parametrized by vectors $\\theta_y = (\\theta_{y1},\\ldots,\\theta_{yn})$ for each class $y$, where $n$ is the number of features (in text classification, the size of the vocabulary) and $\\theta_{yi}$ is the probability $P(x_i \\mid y)$ of feature $i$ appearing in a sample belonging to class $y$.\n",
      "\n",
      "The parameters $\\theta_y$ is estimated by a smoothed version of maximum likelihood, i.e. relative frequency counting:\n",
      "\n",
      "$$ \\hat{\\theta}_{yi} = \\frac{ N_{yi} + \\alpha}{N_y + \\alpha n} $$\n",
      "\n",
      "where $N_{yi} = \\sum_{x \\in T} x_i$ is the number of times feature $i$ appears in a sample of class $y$ in the training set $T$, and $N_{y} = \\sum_{i=1}^{|T|} N_{yi}$ is the total count of all features for class $y$.\n",
      "\n",
      "The smoothing priors $\\alpha \\ge 0$ accounts for features not present in the learning samples and prevents zero probabilities in further computations. Setting $\\alpha = 1$ is called Laplace smoothing, while $\\alpha < 1$ is called Lidstone smoothing.\n",
      "\n",
      "### What's the difference between Multinomial and Bernoulli Naive Bayes?\n",
      "   * Try Bernoulli when your dictionary of words and document length is small.\n",
      "   * With Bernoulli, you may add in additional non-word features easily\n",
      "   * Multinomial usually performs better, takes into account frequency vs. presence\n",
      "   * Consider the probability for the prior of the term \"the\" -- Bernoulli: 100%; Multinomial 5%"
     ]
    },
    {
     "cell_type": "markdown",
     "metadata": {},
     "source": [
      "### Your Turn: Writing a function that returns back the average and standard deviation of a k-fold cross validation\n",
      "\n",
      "We want a function that should do a very similar process as above, but now, to use k fold cross validation, and to return back two values: the mean and standard deviation accuracy from the k-fold train and test.\n",
      "\n",
      "Helper code below, use as you need. Steps to take:\n",
      "\n",
      "1. What are the arguments required in the function? What should be customizable?\n",
      "2. What code should never change?\n",
      "3. What should the return look like?\n",
      "\n",
      "**After:** Evaluate which model seems to do its best on the set."
     ]
    },
    {
     "cell_type": "code",
     "collapsed": false,
     "input": [
      "import numpy as np\n",
      "from sklearn import cross_validation\n",
      "kfold = cross_validation.KFold(n=x.shape[0], n_folds=5, shuffle=True, random_state=1234)\n",
      "\n",
      "train_acc = []\n",
      "test_acc = []\n",
      "for train_index, test_index in kfold:\n",
      "    clf = naive_bayes.MultinomialNB().fit(x[train_index], y[train_index])\n",
      "    train_acc.append(clf.score(x[train_index], y[train_index]))\n",
      "    test_acc.append(clf.score(x[test_index], y[test_index]))\n",
      "\n",
      "print np.array(test_acc).mean()\n",
      "print np.array(test_acc).std()\n",
      "\n",
      "plt.figure()\n",
      "plt.ylabel=\"train accuracy\"\n",
      "plt.plot(test_acc)\n"
     ],
     "language": "python",
     "metadata": {},
     "outputs": [
      {
       "output_type": "stream",
       "stream": "stdout",
       "text": [
        "0.779278815261\n",
        "0.00547288629026\n"
       ]
      },
      {
       "metadata": {},
       "output_type": "pyout",
       "prompt_number": 19,
       "text": [
        "[<matplotlib.lines.Line2D at 0x116d540d0>]"
       ]
      },
      {
       "metadata": {},
       "output_type": "display_data",
       "png": "[encoded data removed]",
       "text": [
        "<matplotlib.figure.Figure at 0x11611af10>"
       ]
      }
     ],
     "prompt_number": 19
    },
    {
     "cell_type": "markdown",
     "metadata": {},
     "source": [
      "### How do we evaluate the right K to use in K fold?\n",
      "\n",
      "It's very common to default to a typical value of K, but let's evaluate, for a minute, what happens to the accuracy of our training and test sets as K increases:"
     ]
    },
    {
     "cell_type": "code",
     "collapsed": false,
     "input": [
      "k_train_acc = []\n",
      "k_test_acc = []\n",
      "for i in range(2, 20):\n",
      "    kfold = cross_validation.KFold(n=x.shape[0], n_folds=i, shuffle=True, random_state=1234)\n",
      "    test_acc, train_acc = [], []\n",
      "    for train_index, test_index in kfold:\n",
      "        clf = naive_bayes.MultinomialNB().fit(x[train_index], y[train_index])\n",
      "        train_acc.append(clf.score(x[train_index], y[train_index]))\n",
      "        test_acc.append(clf.score(x[test_index], y[test_index]))\n",
      "    k_train_acc.append(np.array(train_acc).mean())\n",
      "    k_test_acc.append(np.array(test_acc).mean())\n",
      "\n",
      "plt.figure()\n",
      "plt.plot(range(2, 20), k_train_acc)\n",
      "plt.plot(range(2, 20), k_test_acc);\n"
     ],
     "language": "python",
     "metadata": {},
     "outputs": [
      {
       "metadata": {},
       "output_type": "display_data",
       "png": "[encoded data removed]",
       "text": [
        "<matplotlib.figure.Figure at 0x116d54050>"
       ]
      }
     ],
     "prompt_number": 29
    },
    {
     "cell_type": "markdown",
     "metadata": {},
     "source": [
      "The above we call a fit chart. How does this change as we attempt to use other classifiers? (Keep in mind when switching to LogisticRegression how much **slower** it will be compared to Bayes!)"
     ]
    },
    {
     "cell_type": "markdown",
     "metadata": {},
     "source": [
      "### Reviewing Error: where did we go wrong?\n",
      "\n",
      "Below, let's pull out instances where the classifier did not classify the result correctly:"
     ]
    },
    {
     "cell_type": "code",
     "collapsed": false,
     "input": [
      "# Review errors\n",
      "prob = clf.predict_proba(x)[:, 0]\n",
      "bad_rotten = np.argsort(prob[y == 0])[:5]\n",
      "bad_fresh = np.argsort(prob[y == 1])[-5:]\n",
      "\n",
      "print \"Mis-predicted Rotten quotes\"\n",
      "print '---------------------------'\n",
      "for row in bad_rotten:\n",
      "    print critics[y == 0].quote.irow(row)\n",
      "    print\n",
      "\n",
      "print \"Mis-predicted Fresh quotes\"\n",
      "print '--------------------------'\n",
      "for row in bad_fresh:\n",
      "    print critics[y == 1].quote.irow(row)\n",
      "    print"
     ],
     "language": "python",
     "metadata": {},
     "outputs": [
      {
       "output_type": "stream",
       "stream": "stdout",
       "text": [
        "Mis-predicted Rotten quotes\n",
        "---------------------------\n",
        "Peter's Friends won't win over anyone looking for depth - as drama, it's pure popcorn - but the vignettes are swept along by Branagh's richly theatrical temperament and by the exuberant wit of the cast.\n",
        "\n",
        "As for the animation, computer technology invests contemporary features with sometimes breathtaking dynamism, but outback flora being what it is, this isn't the most colourful Disney movie.\n",
        "\n",
        "A complicated film that never really successfully yokes together the themes of money-making and sexuality, it reveals both Kazan's operatic sensibility and his inability to follow an argument rigorously through.\n",
        "\n",
        "Working from an Elmore Leonard novel, Tarantino has created a gangster fiction that is never larger than life and sometimes smaller.\n",
        "\n",
        "What if this lesser-known chapter of German resistance had been more deeply captured? What if the moral conflicts running through this movie about love of country and revolt said more about Germany, war and, yes, genocide?\n",
        "\n",
        "Mis-predicted Fresh quotes\n",
        "--------------------------\n",
        "Basically, the movie's an extended setup for a dinner-table comedy of errors, in which the mismatched relatives confront one another in a nerve-racking test of appearances.\n",
        "\n",
        "Some of the gags don't work, but fewer than in any previous Brooks film that I've seen, and when the jokes are meant to be bad, they are riotously poor. What more can one ask of Mel Brooks?\n",
        "\n",
        "There's too much talent and too strong a story to mess it up. There was potential for more here, but this incarnation is nothing to be ashamed of, and some of the actors answer the bell.\n",
        "\n",
        "Deja Vu is well worth seeing for its visual brio, particularly the boom-crash opera of the ferry explosion, and a chase scene in which Washington is dodging downtown traffic on two temporal planes simultaneously.\n",
        "\n",
        "Weighed down by a dull setup featuring Ralph 'Karate Kid' Macchio, the movie gets a much-needed charge from Pesci, a bundle of bandy-legged impudence as Macchio's lawyer cousin, Vincent Gambini.\n",
        "\n"
       ]
      }
     ],
     "prompt_number": 21
    },
    {
     "cell_type": "code",
     "collapsed": false,
     "input": [
      "critics[critics['quote'].str.contains(\"audacious in its\")]"
     ],
     "language": "python",
     "metadata": {},
     "outputs": [
      {
       "html": [
        "<div style=\"max-height:1000px;max-width:1500px;overflow:auto;\">\n",
        "<table border=\"1\" class=\"dataframe\">\n",
        "  <thead>\n",
        "    <tr style=\"text-align: right;\">\n",
        "      <th></th>\n",
        "      <th>critic</th>\n",
        "      <th>fresh</th>\n",
        "      <th>imdb</th>\n",
        "      <th>publication</th>\n",
        "      <th>quote</th>\n",
        "      <th>review_date</th>\n",
        "      <th>rtid</th>\n",
        "      <th>title</th>\n",
        "    </tr>\n",
        "  </thead>\n",
        "  <tbody>\n",
        "    <tr>\n",
        "      <th>7658</th>\n",
        "      <td> Mick LaSalle</td>\n",
        "      <td> rotten</td>\n",
        "      <td> 386117</td>\n",
        "      <td> San Francisco Chronicle</td>\n",
        "      <td> Where the Wild Things Are is audacious in its ...</td>\n",
        "      <td> 2009-10-16</td>\n",
        "      <td> 770671948</td>\n",
        "      <td> Where the Wild Things Are</td>\n",
        "    </tr>\n",
        "  </tbody>\n",
        "</table>\n",
        "</div>"
       ],
       "metadata": {},
       "output_type": "pyout",
       "prompt_number": 22,
       "text": [
        "            critic   fresh    imdb              publication                                              quote review_date       rtid                      title\n",
        "7658  Mick LaSalle  rotten  386117  San Francisco Chronicle  Where the Wild Things Are is audacious in its ...  2009-10-16  770671948  Where the Wild Things Are"
       ]
      }
     ],
     "prompt_number": 22
    },
    {
     "cell_type": "code",
     "collapsed": false,
     "input": [
      "critics[critics['quote'].str.contains(\"own payoff is\")]"
     ],
     "language": "python",
     "metadata": {},
     "outputs": [
      {
       "html": [
        "<div style=\"max-height:1000px;max-width:1500px;overflow:auto;\">\n",
        "<table border=\"1\" class=\"dataframe\">\n",
        "  <thead>\n",
        "    <tr style=\"text-align: right;\">\n",
        "      <th></th>\n",
        "      <th>critic</th>\n",
        "      <th>fresh</th>\n",
        "      <th>imdb</th>\n",
        "      <th>publication</th>\n",
        "      <th>quote</th>\n",
        "      <th>review_date</th>\n",
        "      <th>rtid</th>\n",
        "      <th>title</th>\n",
        "    </tr>\n",
        "  </thead>\n",
        "  <tbody>\n",
        "    <tr>\n",
        "      <th>5965</th>\n",
        "      <td> Mike Clark</td>\n",
        "      <td> fresh</td>\n",
        "      <td> 115710</td>\n",
        "      <td> USA Today</td>\n",
        "      <td> The movie's own payoff is compelling enough, b...</td>\n",
        "      <td> 2000-01-01</td>\n",
        "      <td> 364525542</td>\n",
        "      <td> Blood and Wine</td>\n",
        "    </tr>\n",
        "  </tbody>\n",
        "</table>\n",
        "</div>"
       ],
       "metadata": {},
       "output_type": "pyout",
       "prompt_number": 23,
       "text": [
        "          critic  fresh    imdb publication                                              quote review_date       rtid           title\n",
        "5965  Mike Clark  fresh  115710   USA Today  The movie's own payoff is compelling enough, b...  2000-01-01  364525542  Blood and Wine"
       ]
      }
     ],
     "prompt_number": 23
    },
    {
     "cell_type": "markdown",
     "metadata": {},
     "source": [
      "## How might we improve the model?\n",
      "\n",
      "*Some words are more useful than others*\n",
      "\n",
      "**Tf-idf** stands for *Term Frequency-Inverse Document Frequency*, and the tf-idf weight is a weight often used in information retrieval and text mining. This weight is a statistical measure used to evaluate how important a word is to a document in a collection or corpus.\n",
      "\n",
      "> The importance increases proportionally to the number of times a word appears in the *document* but is offset by the frequency of the word in the *corpus*.\n",
      "\n",
      "#### Definition:\n",
      "\n",
      "- **TF: Term Frequency** Measure of how *frequently a term occurs* in a document. Since every document is different in length, it is possible that a term would appear much more times in long documents than shorter ones. Thus, the term frequency is often divided by the document length (aka. the total number of terms in the document) as a way of normalization: \n",
      "\n",
      "\n",
      "$TF(t)$ = (Number of times term $t$ appears in a document) / (Total number of terms in the document).\n",
      "\n",
      "\n",
      "- ** IDF: Inverse Document Frequency:** A measure of how *important* a term is. While computing TF, all terms are considered equally important. However it is known that certain terms, such as \"is\", \"of\", and \"that\", may appear a lot of times but have little importance. Thus we need to weigh down the frequent terms while scale up the rare ones, by computing the following: \n",
      "\n",
      "$IDF(t)$ = $\\ln$(Total number of documents / Number of documents containing term $t$).\n",
      "\n",
      "\n",
      "## TF-IDF Example:\n",
      "\n",
      "Consider a document containing 100 words wherein the word cat appears 3 times. The term frequency (i.e., tf) for cat is then (3 / 100) = 0.03. Now, assume we have 10 million documents and the word cat appears in one thousand of these. Then, the inverse document frequency (i.e., idf) is calculated as log(10,000,000 / 1,000) = 4.\n",
      "\n",
      "##### Term Frequency:\n",
      "Number of terms: 100\n",
      "\n",
      "Number of appearances of 'cat': 3\n",
      "\n",
      "\n",
      "$TF(t) = 3/100$\n",
      "\n",
      "\n",
      "##### Inverse Document Frequency (Importance/rarity):\n",
      "Number of documents: 10 Million\n",
      "\n",
      "Number of documents containing the word 'Cat': 1,000\n",
      "\n",
      "$\\ln(10,000,000 / 1,000) = 13.29$\n",
      "\n",
      "##### Tf-Idf\n",
      "Thus, the Tf-idf weight is the product of these quantities: \n",
      "\n",
      "$TfIdf(t) = 0.03 * 13.29 = 0.399$"
     ]
    },
    {
     "cell_type": "code",
     "collapsed": false,
     "input": [
      "# Convert text features to TfIdf weights\n",
      "from sklearn.feature_extraction.text import TfidfVectorizer\n",
      "\n",
      "# Convert sparse matrix to TfIdf weighted sparse matrix\n",
      "from sklearn.feature_extraction.text import TfidfTransformer\n",
      "\n",
      "tfidf_trans = TfidfTransformer()\n",
      "\n",
      "# What is x?\n",
      "x_idf = tfidf_trans.fit_transform(x)"
     ],
     "language": "python",
     "metadata": {},
     "outputs": [],
     "prompt_number": 25
    },
    {
     "cell_type": "code",
     "collapsed": false,
     "input": [
      "k_train_acc = []\n",
      "k_test_acc = []\n",
      "for i in range(2, 20):\n",
      "    kfold = cross_validation.KFold(n=x_idf.shape[0], n_folds=i, shuffle=True, random_state=1234)\n",
      "    test_acc, train_acc = [], []\n",
      "    for train_index, test_index in kfold:\n",
      "        clf = naive_bayes.MultinomialNB().fit(x_idf[train_index], y[train_index])\n",
      "        train_acc.append(clf.score(x_idf[train_index], y[train_index]))\n",
      "        test_acc.append(clf.score(x_idf[test_index], y[test_index]))\n",
      "    k_train_acc.append(np.array(train_acc).mean())\n",
      "    k_test_acc.append(np.array(test_acc).mean())\n",
      "\n",
      "plt.figure()\n",
      "plt.plot(range(2, 20), k_train_acc)\n",
      "plt.plot(range(2, 20), k_test_acc);\n"
     ],
     "language": "python",
     "metadata": {},
     "outputs": [
      {
       "metadata": {},
       "output_type": "display_data",
       "png": "[encoded data removed]",
       "text": [
        "<matplotlib.figure.Figure at 0x1152d6ad0>"
       ]
      }
     ],
     "prompt_number": 26
    },
    {
     "cell_type": "code",
     "collapsed": false,
     "input": [
      "tfidf_vec = TfidfVectorizer()\n",
      "x_tfidf = tfidf_vec.fit_transform(critics.quote)\n",
      "\n",
      "k_train_acc = []\n",
      "k_test_acc = []\n",
      "for i in range(2, 20):\n",
      "    kfold = cross_validation.KFold(n=x_tfidf.shape[0], n_folds=i, shuffle=True, random_state=1234)\n",
      "    test_acc, train_acc = [], []\n",
      "    for train_index, test_index in kfold:\n",
      "        clf = naive_bayes.MultinomialNB().fit(x_tfidf[train_index], y[train_index])\n",
      "        train_acc.append(clf.score(x_tfidf[train_index], y[train_index]))\n",
      "        test_acc.append(clf.score(x_tfidf[test_index], y[test_index]))\n",
      "    k_train_acc.append(np.array(train_acc).mean())\n",
      "    k_test_acc.append(np.array(test_acc).mean())\n",
      "\n",
      "plt.figure()\n",
      "plt.plot(range(2, 20), k_train_acc)\n",
      "plt.plot(range(2, 20), k_test_acc);\n"
     ],
     "language": "python",
     "metadata": {},
     "outputs": [
      {
       "metadata": {},
       "output_type": "display_data",
       "png": "[encoded data removed]",
       "text": [
        "<matplotlib.figure.Figure at 0x113bdc6d0>"
       ]
      }
     ],
     "prompt_number": 27
    },
    {
     "cell_type": "markdown",
     "metadata": {},
     "source": [
      "### More interest in sentiment analysis?\n",
      "You can use the \"STS-Gold Sentiment Corpus\".  [CSV is here.](https://gist.githubusercontent.com/datadave/47ed59dd8733b2063dc6/raw/583615c70a1167fcd72899b2d2830493f1c616e6/sts_gold_tweet.csv)\n",
      "\n",
      "Or consider using this endpoint, where they'll send you back a sentiment score:\n",
      "```python\n",
      "url = 'http://www.datasciencetoolkit.org/text2sentiment/'\n",
      "\n",
      "# Loop through the sentences\n",
      "for sentence in sentences:\n",
      "    payload = {'text': sentence} # The sentence we want the sentiment of \n",
      "    headers = {'content-type': 'application/json'} # The type of data you are sending\n",
      "    r = requests.post(url, data=json.dumps(payload), headers=headers) # Send the data\n",
      "    print sentence, json.loads(r.text)['score'] # Print the results\n",
      "```"
     ]
    },
    {
     "cell_type": "markdown",
     "metadata": {},
     "source": [
      "## Additional Exercise:\n",
      "\n",
      "### How might we use Bayes' Theorem on the Weather Dataset?\n",
      "\n",
      "Consider the dataset from last class:\n",
      "\n",
      "<img src=\"img/weather_categorical.png\">\n",
      "\n",
      "What if we wanted to make a new prediction for `play` based on the following observation?\n",
      "\n",
      "<img src=\"img/weather_sample.png\">\n",
      "\n",
      "Using posterior probability, this is the same as saying: *\"for a given predicted value of `play` ('yes'/'no'), what is the probability that our input features are `Outlook = 'Sunny'`, `Temperature = 'cool'`, `Humidity = 'high'`, and `Windy = True`?\"*\n",
      "\n",
      "\n",
      "\n",
      "Let's compute the answer using Bayes Theorem:\n",
      "\n",
      "$Pr(yes \\mid X_{n}) = \\dfrac{Pr(X_{n} \\mid yes)Pr(yes)}{Pr(X_{n})} = ?$\n",
      "\n",
      "$Pr(no \\mid X_{n}) = \\dfrac{Pr(X_{n} \\mid no)Pr(no)}{Pr(X_{n})} = ?$\n",
      "\n",
      "where $X_{n}$ = [`'Sunny'`, `'cool'`, `'high'`, `True`] for each of our four respective features. The above probabilities are complementary $Pr(yes \\mid X_{n}) = 1 - Pr(no \\mid X_{n})$ and the larger of the two probabilities will be our predicted class.\n",
      "\n",
      "Let's break each factor into a cross-tabulation:\n",
      "\n",
      "<img src=\"img/weather_crosstab.png\">\n",
      "\n",
      "Let's compute each of the terms for $Pr(yes \\mid X_{n})$ using Bayes' theorem:\n",
      "\n",
      "$\\Pr(yes) = 9/14$   *(this is called the prior probability of our hypothesis, which is our guessing probability if we knew nothing about $X_{n}$)*\n",
      "\n",
      "$ \\Pr(X_{n} \\mid yes) = \\Pr(sunny \\mid yes) * \\Pr(cool \\mid yes) * \\Pr(high \\mid yes) * \\Pr(True \\mid yes) = 54 / 6561$\n",
      "\n",
      "We don't need to compute the denominator of Bayes Theorem since $\\Pr(yes \\mid X_{n}) = 1 - Pr(no \\mid X_{n})$.\n",
      "\n",
      "### On your own:\n",
      "\n",
      "1. Finish the above calculations to compute $Pr(yes \\mid X_{n})$ and  $Pr(no \\mid X_{n})$"
     ]
    },
    {
     "cell_type": "markdown",
     "metadata": {},
     "source": [
      "## Additional Resources and Next Steps\n",
      "* [Visualizing Bayes' theorem](http://oscarbonilla.com/2009/05/visualizing-bayes-theorem/)\n",
      "* [SKL Naive Bayes Documentation](http://scikit-learn.org/stable/modules/naive_bayes.html)\n",
      "* [Stanford Naive Bayes Math](http://nlp.stanford.edu/IR-book/pdf/13bayes.pdf)\n",
      "* For an alternative introduction to Bayes' Theorem, [Bayes' Rule for Ducks](https://planspacedotorg.wordpress.com/2014/02/23/bayes-rule-for-ducks/), this [5-minute video on conditional probability](https://www.youtube.com/watch?v=Zxm4Xxvzohk), or these [slides on conditional probability](https://docs.google.com/presentation/d/1psUIyig6OxHQngGEHr3TMkCvhdLInnKnclQoNUr4G4U/edit#slide=id.gfc69f484_00) may be helpful.\n",
      "* For more details on Naive Bayes classification, Wikipedia has two useful articles ([Naive Bayes classifier](http://en.wikipedia.org/wiki/Naive_Bayes_classifier) and [Naive Bayes spam filtering](http://en.wikipedia.org/wiki/Naive_Bayes_spam_filtering)), and Cross Validated has an excellent [Q&A](http://stats.stackexchange.com/questions/21822/understanding-naive-bayes).\n",
      "* If you enjoyed Paul Graham's article, you can read [his follow-up article](http://www.paulgraham.com/better.html) on how he improved his spam filter and this [related paper](http://www.merl.com/publications/docs/TR2004-091.pdf) about state-of-the-art spam filtering in 2004.\n",
      "* [TfIdf tutorial](http://www.tfidf.com/)\n"
     ]
    }
   ],
   "metadata": {}
  }
 ]
}