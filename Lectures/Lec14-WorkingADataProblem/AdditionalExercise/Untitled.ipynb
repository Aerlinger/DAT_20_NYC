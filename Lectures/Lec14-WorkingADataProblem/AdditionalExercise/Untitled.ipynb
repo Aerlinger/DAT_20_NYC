{
 "cells": [
  {
   "cell_type": "code",
   "execution_count": 2,
   "metadata": {
    "collapsed": true
   },
   "outputs": [],
   "source": [
    "zyx = pd.read_csv(\"../../../Data/ZYX_prices.csv\")"
   ]
  },
  {
   "cell_type": "code",
   "execution_count": 4,
   "metadata": {
    "collapsed": false
   },
   "outputs": [
    {
     "data": {
      "text/html": [
       "<div style=\"max-height:1000px;max-width:1500px;overflow:auto;\">\n",
       "<table border=\"1\" class=\"dataframe\">\n",
       "  <thead>\n",
       "    <tr style=\"text-align: right;\">\n",
       "      <th></th>\n",
       "      <th>time</th>\n",
       "      <th>ZYXprice</th>\n",
       "      <th>ZYX1MinSentiment</th>\n",
       "      <th>ZYX1MinTweets</th>\n",
       "      <th>ZYX5minSentiment</th>\n",
       "      <th>ZYX10minSentiment</th>\n",
       "      <th>ZYX20minSentiment</th>\n",
       "      <th>ZYX30minSentiment</th>\n",
       "      <th>ZYX60minSentiment</th>\n",
       "      <th>ZYX5minTweets</th>\n",
       "      <th>...</th>\n",
       "      <th>ZYX5minPriceChange</th>\n",
       "      <th>ZYX10minPriceChange</th>\n",
       "      <th>ZYX20minPriceChange</th>\n",
       "      <th>ZYX30minPriceChange</th>\n",
       "      <th>ZYX60minPriceChange</th>\n",
       "      <th>5fret</th>\n",
       "      <th>10fret</th>\n",
       "      <th>20fret</th>\n",
       "      <th>30fret</th>\n",
       "      <th>60fret</th>\n",
       "    </tr>\n",
       "  </thead>\n",
       "  <tbody>\n",
       "    <tr>\n",
       "      <th>0</th>\n",
       "      <td> 1/11/13 14:42</td>\n",
       "      <td> 143.08</td>\n",
       "      <td>  0.00000</td>\n",
       "      <td> 1</td>\n",
       "      <td> 107.48100</td>\n",
       "      <td> 294.62752</td>\n",
       "      <td> 521.82962</td>\n",
       "      <td> 867.60952</td>\n",
       "      <td> 851.83339</td>\n",
       "      <td>  4</td>\n",
       "      <td>...</td>\n",
       "      <td>-0.000070</td>\n",
       "      <td> 0.000140</td>\n",
       "      <td> 2.097710e-04</td>\n",
       "      <td> 0.000699</td>\n",
       "      <td> 0.00070</td>\n",
       "      <td>-3.494790e-04</td>\n",
       "      <td>-0.000419</td>\n",
       "      <td>-0.000559</td>\n",
       "      <td>-0.000629</td>\n",
       "      <td> 0.000560</td>\n",
       "    </tr>\n",
       "    <tr>\n",
       "      <th>1</th>\n",
       "      <td> 1/11/13 14:43</td>\n",
       "      <td> 143.05</td>\n",
       "      <td>-53.74050</td>\n",
       "      <td> 3</td>\n",
       "      <td>  53.74050</td>\n",
       "      <td> 240.88702</td>\n",
       "      <td> 255.88512</td>\n",
       "      <td> 791.02902</td>\n",
       "      <td> 673.98089</td>\n",
       "      <td>  7</td>\n",
       "      <td>...</td>\n",
       "      <td>-0.000280</td>\n",
       "      <td>-0.000140</td>\n",
       "      <td> 9.770000e-08</td>\n",
       "      <td> 0.000350</td>\n",
       "      <td> 0.00077</td>\n",
       "      <td> 2.440000e-08</td>\n",
       "      <td>-0.000140</td>\n",
       "      <td>-0.000839</td>\n",
       "      <td>-0.000139</td>\n",
       "      <td> 0.000770</td>\n",
       "    </tr>\n",
       "    <tr>\n",
       "      <th>2</th>\n",
       "      <td> 1/11/13 14:44</td>\n",
       "      <td> 143.04</td>\n",
       "      <td>  7.91668</td>\n",
       "      <td> 1</td>\n",
       "      <td>  61.65718</td>\n",
       "      <td> 248.80370</td>\n",
       "      <td> 156.32080</td>\n",
       "      <td> 821.78570</td>\n",
       "      <td> 713.68697</td>\n",
       "      <td>  8</td>\n",
       "      <td>...</td>\n",
       "      <td>-0.000349</td>\n",
       "      <td>-0.000349</td>\n",
       "      <td>-1.397140e-04</td>\n",
       "      <td>-0.000210</td>\n",
       "      <td> 0.00077</td>\n",
       "      <td>-1.397870e-04</td>\n",
       "      <td> 0.000140</td>\n",
       "      <td>-0.000769</td>\n",
       "      <td>-0.000279</td>\n",
       "      <td> 0.000979</td>\n",
       "    </tr>\n",
       "    <tr>\n",
       "      <th>3</th>\n",
       "      <td> 1/11/13 14:45</td>\n",
       "      <td> 143.02</td>\n",
       "      <td> 22.84000</td>\n",
       "      <td> 2</td>\n",
       "      <td>  84.49718</td>\n",
       "      <td> 242.12700</td>\n",
       "      <td> 179.16080</td>\n",
       "      <td> 820.05960</td>\n",
       "      <td> 663.15197</td>\n",
       "      <td> 10</td>\n",
       "      <td>...</td>\n",
       "      <td>-0.000489</td>\n",
       "      <td>-0.000489</td>\n",
       "      <td>-2.096340e-04</td>\n",
       "      <td>-0.000210</td>\n",
       "      <td> 0.00070</td>\n",
       "      <td>-6.990000e-05</td>\n",
       "      <td> 0.000140</td>\n",
       "      <td>-0.000559</td>\n",
       "      <td>-0.000139</td>\n",
       "      <td> 0.001329</td>\n",
       "    </tr>\n",
       "    <tr>\n",
       "      <th>4</th>\n",
       "      <td> 1/11/13 14:46</td>\n",
       "      <td> 143.03</td>\n",
       "      <td>-39.65380</td>\n",
       "      <td> 2</td>\n",
       "      <td> -62.63762</td>\n",
       "      <td>  50.88820</td>\n",
       "      <td> 152.20950</td>\n",
       "      <td> 687.08250</td>\n",
       "      <td> 587.93667</td>\n",
       "      <td>  9</td>\n",
       "      <td>...</td>\n",
       "      <td>-0.000489</td>\n",
       "      <td>-0.000419</td>\n",
       "      <td>-2.096190e-04</td>\n",
       "      <td>-0.000140</td>\n",
       "      <td> 0.00070</td>\n",
       "      <td>-2.796570e-04</td>\n",
       "      <td> 0.000000</td>\n",
       "      <td>-0.000559</td>\n",
       "      <td> 0.000070</td>\n",
       "      <td> 0.001259</td>\n",
       "    </tr>\n",
       "  </tbody>\n",
       "</table>\n",
       "<p>5 rows × 25 columns</p>\n",
       "</div>"
      ],
      "text/plain": [
       "            time  ZYXprice  ZYX1MinSentiment  ZYX1MinTweets  ZYX5minSentiment  \\\n",
       "0  1/11/13 14:42    143.08           0.00000              1         107.48100   \n",
       "1  1/11/13 14:43    143.05         -53.74050              3          53.74050   \n",
       "2  1/11/13 14:44    143.04           7.91668              1          61.65718   \n",
       "3  1/11/13 14:45    143.02          22.84000              2          84.49718   \n",
       "4  1/11/13 14:46    143.03         -39.65380              2         -62.63762   \n",
       "\n",
       "   ZYX10minSentiment  ZYX20minSentiment  ZYX30minSentiment  ZYX60minSentiment  \\\n",
       "0          294.62752          521.82962          867.60952          851.83339   \n",
       "1          240.88702          255.88512          791.02902          673.98089   \n",
       "2          248.80370          156.32080          821.78570          713.68697   \n",
       "3          242.12700          179.16080          820.05960          663.15197   \n",
       "4           50.88820          152.20950          687.08250          587.93667   \n",
       "\n",
       "   ZYX5minTweets    ...     ZYX5minPriceChange  ZYX10minPriceChange  \\\n",
       "0              4    ...              -0.000070             0.000140   \n",
       "1              7    ...              -0.000280            -0.000140   \n",
       "2              8    ...              -0.000349            -0.000349   \n",
       "3             10    ...              -0.000489            -0.000489   \n",
       "4              9    ...              -0.000489            -0.000419   \n",
       "\n",
       "   ZYX20minPriceChange  ZYX30minPriceChange  ZYX60minPriceChange  \\\n",
       "0         2.097710e-04             0.000699              0.00070   \n",
       "1         9.770000e-08             0.000350              0.00077   \n",
       "2        -1.397140e-04            -0.000210              0.00077   \n",
       "3        -2.096340e-04            -0.000210              0.00070   \n",
       "4        -2.096190e-04            -0.000140              0.00070   \n",
       "\n",
       "          5fret    10fret    20fret    30fret    60fret  \n",
       "0 -3.494790e-04 -0.000419 -0.000559 -0.000629  0.000560  \n",
       "1  2.440000e-08 -0.000140 -0.000839 -0.000139  0.000770  \n",
       "2 -1.397870e-04  0.000140 -0.000769 -0.000279  0.000979  \n",
       "3 -6.990000e-05  0.000140 -0.000559 -0.000139  0.001329  \n",
       "4 -2.796570e-04  0.000000 -0.000559  0.000070  0.001259  \n",
       "\n",
       "[5 rows x 25 columns]"
      ]
     },
     "execution_count": 4,
     "metadata": {},
     "output_type": "execute_result"
    }
   ],
   "source": [
    "zyx.head()"
   ]
  },
  {
   "cell_type": "code",
   "execution_count": 5,
   "metadata": {
    "collapsed": true
   },
   "outputs": [],
   "source": [
    "from sklearn.feature_selection import f_regression"
   ]
  },
  {
   "cell_type": "code",
   "execution_count": 8,
   "metadata": {
    "collapsed": false
   },
   "outputs": [],
   "source": [
    "y5 = zyx['5fret']\n",
    "y10 = zyx['10fret']\n",
    "y20 = zyx['20fret']\n",
    "y30 = zyx['30fret']\n",
    "y60 = zyx['60fret']"
   ]
  },
  {
   "cell_type": "code",
   "execution_count": 10,
   "metadata": {
    "collapsed": true
   },
   "outputs": [],
   "source": [
    "targets = ['5fret', '10fret', '20fret', '30fret', '60fret']"
   ]
  },
  {
   "cell_type": "code",
   "execution_count": 11,
   "metadata": {
    "collapsed": true
   },
   "outputs": [],
   "source": [
    "y = zyx[targets]"
   ]
  },
  {
   "cell_type": "code",
   "execution_count": 18,
   "metadata": {
    "collapsed": true
   },
   "outputs": [],
   "source": [
    "X = zyx.drop(targets + ['time'], axis=1)"
   ]
  },
  {
   "cell_type": "code",
   "execution_count": 19,
   "metadata": {
    "collapsed": false
   },
   "outputs": [
    {
     "data": {
      "text/html": [
       "<div style=\"max-height:1000px;max-width:1500px;overflow:auto;\">\n",
       "<table border=\"1\" class=\"dataframe\">\n",
       "  <thead>\n",
       "    <tr style=\"text-align: right;\">\n",
       "      <th></th>\n",
       "      <th>ZYXprice</th>\n",
       "      <th>ZYX1MinSentiment</th>\n",
       "      <th>ZYX1MinTweets</th>\n",
       "      <th>ZYX5minSentiment</th>\n",
       "      <th>ZYX10minSentiment</th>\n",
       "      <th>ZYX20minSentiment</th>\n",
       "      <th>ZYX30minSentiment</th>\n",
       "      <th>ZYX60minSentiment</th>\n",
       "      <th>ZYX5minTweets</th>\n",
       "      <th>ZYX10minTweets</th>\n",
       "      <th>ZYX20minTweets</th>\n",
       "      <th>ZYX30minTweets</th>\n",
       "      <th>ZYX60minTweets</th>\n",
       "      <th>ZYX1minPriceChange</th>\n",
       "      <th>ZYX5minPriceChange</th>\n",
       "      <th>ZYX10minPriceChange</th>\n",
       "      <th>ZYX20minPriceChange</th>\n",
       "      <th>ZYX30minPriceChange</th>\n",
       "      <th>ZYX60minPriceChange</th>\n",
       "    </tr>\n",
       "  </thead>\n",
       "  <tbody>\n",
       "    <tr>\n",
       "      <th>0</th>\n",
       "      <td> 143.08</td>\n",
       "      <td>  0.00000</td>\n",
       "      <td> 1</td>\n",
       "      <td> 107.48100</td>\n",
       "      <td> 294.62752</td>\n",
       "      <td> 521.82962</td>\n",
       "      <td> 867.60952</td>\n",
       "      <td> 851.83339</td>\n",
       "      <td>  4</td>\n",
       "      <td> 18</td>\n",
       "      <td> 54</td>\n",
       "      <td> 78</td>\n",
       "      <td> 126</td>\n",
       "      <td>-0.00014</td>\n",
       "      <td>-0.000070</td>\n",
       "      <td> 0.000140</td>\n",
       "      <td> 2.097710e-04</td>\n",
       "      <td> 0.000699</td>\n",
       "      <td> 0.00070</td>\n",
       "    </tr>\n",
       "    <tr>\n",
       "      <th>1</th>\n",
       "      <td> 143.05</td>\n",
       "      <td>-53.74050</td>\n",
       "      <td> 3</td>\n",
       "      <td>  53.74050</td>\n",
       "      <td> 240.88702</td>\n",
       "      <td> 255.88512</td>\n",
       "      <td> 791.02902</td>\n",
       "      <td> 673.98089</td>\n",
       "      <td>  7</td>\n",
       "      <td> 20</td>\n",
       "      <td> 53</td>\n",
       "      <td> 79</td>\n",
       "      <td> 124</td>\n",
       "      <td>-0.00021</td>\n",
       "      <td>-0.000280</td>\n",
       "      <td>-0.000140</td>\n",
       "      <td> 9.770000e-08</td>\n",
       "      <td> 0.000350</td>\n",
       "      <td> 0.00077</td>\n",
       "    </tr>\n",
       "    <tr>\n",
       "      <th>2</th>\n",
       "      <td> 143.04</td>\n",
       "      <td>  7.91668</td>\n",
       "      <td> 1</td>\n",
       "      <td>  61.65718</td>\n",
       "      <td> 248.80370</td>\n",
       "      <td> 156.32080</td>\n",
       "      <td> 821.78570</td>\n",
       "      <td> 713.68697</td>\n",
       "      <td>  8</td>\n",
       "      <td> 20</td>\n",
       "      <td> 49</td>\n",
       "      <td> 77</td>\n",
       "      <td> 121</td>\n",
       "      <td>-0.00007</td>\n",
       "      <td>-0.000349</td>\n",
       "      <td>-0.000349</td>\n",
       "      <td>-1.397140e-04</td>\n",
       "      <td>-0.000210</td>\n",
       "      <td> 0.00077</td>\n",
       "    </tr>\n",
       "    <tr>\n",
       "      <th>3</th>\n",
       "      <td> 143.02</td>\n",
       "      <td> 22.84000</td>\n",
       "      <td> 2</td>\n",
       "      <td>  84.49718</td>\n",
       "      <td> 242.12700</td>\n",
       "      <td> 179.16080</td>\n",
       "      <td> 820.05960</td>\n",
       "      <td> 663.15197</td>\n",
       "      <td> 10</td>\n",
       "      <td> 20</td>\n",
       "      <td> 48</td>\n",
       "      <td> 78</td>\n",
       "      <td> 121</td>\n",
       "      <td>-0.00014</td>\n",
       "      <td>-0.000489</td>\n",
       "      <td>-0.000489</td>\n",
       "      <td>-2.096340e-04</td>\n",
       "      <td>-0.000210</td>\n",
       "      <td> 0.00070</td>\n",
       "    </tr>\n",
       "    <tr>\n",
       "      <th>4</th>\n",
       "      <td> 143.03</td>\n",
       "      <td>-39.65380</td>\n",
       "      <td> 2</td>\n",
       "      <td> -62.63762</td>\n",
       "      <td>  50.88820</td>\n",
       "      <td> 152.20950</td>\n",
       "      <td> 687.08250</td>\n",
       "      <td> 587.93667</td>\n",
       "      <td>  9</td>\n",
       "      <td> 16</td>\n",
       "      <td> 44</td>\n",
       "      <td> 78</td>\n",
       "      <td> 121</td>\n",
       "      <td> 0.00007</td>\n",
       "      <td>-0.000489</td>\n",
       "      <td>-0.000419</td>\n",
       "      <td>-2.096190e-04</td>\n",
       "      <td>-0.000140</td>\n",
       "      <td> 0.00070</td>\n",
       "    </tr>\n",
       "  </tbody>\n",
       "</table>\n",
       "</div>"
      ],
      "text/plain": [
       "   ZYXprice  ZYX1MinSentiment  ZYX1MinTweets  ZYX5minSentiment  \\\n",
       "0    143.08           0.00000              1         107.48100   \n",
       "1    143.05         -53.74050              3          53.74050   \n",
       "2    143.04           7.91668              1          61.65718   \n",
       "3    143.02          22.84000              2          84.49718   \n",
       "4    143.03         -39.65380              2         -62.63762   \n",
       "\n",
       "   ZYX10minSentiment  ZYX20minSentiment  ZYX30minSentiment  ZYX60minSentiment  \\\n",
       "0          294.62752          521.82962          867.60952          851.83339   \n",
       "1          240.88702          255.88512          791.02902          673.98089   \n",
       "2          248.80370          156.32080          821.78570          713.68697   \n",
       "3          242.12700          179.16080          820.05960          663.15197   \n",
       "4           50.88820          152.20950          687.08250          587.93667   \n",
       "\n",
       "   ZYX5minTweets  ZYX10minTweets  ZYX20minTweets  ZYX30minTweets  \\\n",
       "0              4              18              54              78   \n",
       "1              7              20              53              79   \n",
       "2              8              20              49              77   \n",
       "3             10              20              48              78   \n",
       "4              9              16              44              78   \n",
       "\n",
       "   ZYX60minTweets  ZYX1minPriceChange  ZYX5minPriceChange  \\\n",
       "0             126            -0.00014           -0.000070   \n",
       "1             124            -0.00021           -0.000280   \n",
       "2             121            -0.00007           -0.000349   \n",
       "3             121            -0.00014           -0.000489   \n",
       "4             121             0.00007           -0.000489   \n",
       "\n",
       "   ZYX10minPriceChange  ZYX20minPriceChange  ZYX30minPriceChange  \\\n",
       "0             0.000140         2.097710e-04             0.000699   \n",
       "1            -0.000140         9.770000e-08             0.000350   \n",
       "2            -0.000349        -1.397140e-04            -0.000210   \n",
       "3            -0.000489        -2.096340e-04            -0.000210   \n",
       "4            -0.000419        -2.096190e-04            -0.000140   \n",
       "\n",
       "   ZYX60minPriceChange  \n",
       "0              0.00070  \n",
       "1              0.00077  \n",
       "2              0.00077  \n",
       "3              0.00070  \n",
       "4              0.00070  "
      ]
     },
     "execution_count": 19,
     "metadata": {},
     "output_type": "execute_result"
    }
   ],
   "source": [
    "X.head()"
   ]
  },
  {
   "cell_type": "code",
   "execution_count": null,
   "metadata": {
    "collapsed": true
   },
   "outputs": [],
   "source": []
  },
  {
   "cell_type": "code",
   "execution_count": 20,
   "metadata": {
    "collapsed": false
   },
   "outputs": [
    {
     "data": {
      "text/html": [
       "<div style=\"max-height:1000px;max-width:1500px;overflow:auto;\">\n",
       "<table border=\"1\" class=\"dataframe\">\n",
       "  <thead>\n",
       "    <tr style=\"text-align: right;\">\n",
       "      <th></th>\n",
       "      <th>5fret</th>\n",
       "      <th>10fret</th>\n",
       "      <th>20fret</th>\n",
       "      <th>30fret</th>\n",
       "      <th>60fret</th>\n",
       "    </tr>\n",
       "  </thead>\n",
       "  <tbody>\n",
       "    <tr>\n",
       "      <th>0</th>\n",
       "      <td>-3.494790e-04</td>\n",
       "      <td>-0.000419</td>\n",
       "      <td>-0.000559</td>\n",
       "      <td>-0.000629</td>\n",
       "      <td> 0.000560</td>\n",
       "    </tr>\n",
       "    <tr>\n",
       "      <th>1</th>\n",
       "      <td> 2.440000e-08</td>\n",
       "      <td>-0.000140</td>\n",
       "      <td>-0.000839</td>\n",
       "      <td>-0.000139</td>\n",
       "      <td> 0.000770</td>\n",
       "    </tr>\n",
       "    <tr>\n",
       "      <th>2</th>\n",
       "      <td>-1.397870e-04</td>\n",
       "      <td> 0.000140</td>\n",
       "      <td>-0.000769</td>\n",
       "      <td>-0.000279</td>\n",
       "      <td> 0.000979</td>\n",
       "    </tr>\n",
       "    <tr>\n",
       "      <th>3</th>\n",
       "      <td>-6.990000e-05</td>\n",
       "      <td> 0.000140</td>\n",
       "      <td>-0.000559</td>\n",
       "      <td>-0.000139</td>\n",
       "      <td> 0.001329</td>\n",
       "    </tr>\n",
       "    <tr>\n",
       "      <th>4</th>\n",
       "      <td>-2.796570e-04</td>\n",
       "      <td> 0.000000</td>\n",
       "      <td>-0.000559</td>\n",
       "      <td> 0.000070</td>\n",
       "      <td> 0.001259</td>\n",
       "    </tr>\n",
       "  </tbody>\n",
       "</table>\n",
       "</div>"
      ],
      "text/plain": [
       "          5fret    10fret    20fret    30fret    60fret\n",
       "0 -3.494790e-04 -0.000419 -0.000559 -0.000629  0.000560\n",
       "1  2.440000e-08 -0.000140 -0.000839 -0.000139  0.000770\n",
       "2 -1.397870e-04  0.000140 -0.000769 -0.000279  0.000979\n",
       "3 -6.990000e-05  0.000140 -0.000559 -0.000139  0.001329\n",
       "4 -2.796570e-04  0.000000 -0.000559  0.000070  0.001259"
      ]
     },
     "execution_count": 20,
     "metadata": {},
     "output_type": "execute_result"
    }
   ],
   "source": [
    "y.head()"
   ]
  },
  {
   "cell_type": "code",
   "execution_count": null,
   "metadata": {
    "collapsed": true
   },
   "outputs": [],
   "source": []
  },
  {
   "cell_type": "code",
   "execution_count": 21,
   "metadata": {
    "collapsed": false
   },
   "outputs": [
    {
     "ename": "ValueError",
     "evalue": "shapes (250000,) and (50000,19) not aligned: 250000 (dim 0) != 50000 (dim 0)",
     "output_type": "error",
     "traceback": [
      "\u001b[0;31m---------------------------------------------------------------------------\u001b[0m",
      "\u001b[0;31mValueError\u001b[0m                                Traceback (most recent call last)",
      "\u001b[0;32m<ipython-input-21-25b1d9744cf4>\u001b[0m in \u001b[0;36m<module>\u001b[0;34m()\u001b[0m\n\u001b[0;32m----> 1\u001b[0;31m \u001b[0mf_regression\u001b[0m\u001b[0;34m(\u001b[0m\u001b[0mX\u001b[0m\u001b[0;34m,\u001b[0m \u001b[0my\u001b[0m\u001b[0;34m)\u001b[0m\u001b[0;34m\u001b[0m\u001b[0m\n\u001b[0m",
      "\u001b[0;32m/Users/Aerlinger/.pyenv/versions/2.7.9/lib/python2.7/site-packages/sklearn/feature_selection/univariate_selection.pyc\u001b[0m in \u001b[0;36mf_regression\u001b[0;34m(X, y, center)\u001b[0m\n\u001b[1;32m    246\u001b[0m \u001b[0;34m\u001b[0m\u001b[0m\n\u001b[1;32m    247\u001b[0m     \u001b[0;31m# compute the correlation\u001b[0m\u001b[0;34m\u001b[0m\u001b[0;34m\u001b[0m\u001b[0m\n\u001b[0;32m--> 248\u001b[0;31m     \u001b[0mcorr\u001b[0m \u001b[0;34m=\u001b[0m \u001b[0msafe_sparse_dot\u001b[0m\u001b[0;34m(\u001b[0m\u001b[0my\u001b[0m\u001b[0;34m,\u001b[0m \u001b[0mX\u001b[0m\u001b[0;34m)\u001b[0m\u001b[0;34m\u001b[0m\u001b[0m\n\u001b[0m\u001b[1;32m    249\u001b[0m     \u001b[0;31m# XXX could use corr /= row_norms(X.T) here, but the test doesn't pass\u001b[0m\u001b[0;34m\u001b[0m\u001b[0;34m\u001b[0m\u001b[0m\n\u001b[1;32m    250\u001b[0m     \u001b[0mcorr\u001b[0m \u001b[0;34m/=\u001b[0m \u001b[0mnp\u001b[0m\u001b[0;34m.\u001b[0m\u001b[0masarray\u001b[0m\u001b[0;34m(\u001b[0m\u001b[0mnp\u001b[0m\u001b[0;34m.\u001b[0m\u001b[0msqrt\u001b[0m\u001b[0;34m(\u001b[0m\u001b[0msafe_sqr\u001b[0m\u001b[0;34m(\u001b[0m\u001b[0mX\u001b[0m\u001b[0;34m)\u001b[0m\u001b[0;34m.\u001b[0m\u001b[0msum\u001b[0m\u001b[0;34m(\u001b[0m\u001b[0maxis\u001b[0m\u001b[0;34m=\u001b[0m\u001b[0;36m0\u001b[0m\u001b[0;34m)\u001b[0m\u001b[0;34m)\u001b[0m\u001b[0;34m)\u001b[0m\u001b[0;34m.\u001b[0m\u001b[0mravel\u001b[0m\u001b[0;34m(\u001b[0m\u001b[0;34m)\u001b[0m\u001b[0;34m\u001b[0m\u001b[0m\n",
      "\u001b[0;32m/Users/Aerlinger/.pyenv/versions/2.7.9/lib/python2.7/site-packages/sklearn/utils/extmath.pyc\u001b[0m in \u001b[0;36msafe_sparse_dot\u001b[0;34m(a, b, dense_output)\u001b[0m\n\u001b[1;32m    178\u001b[0m         \u001b[0;32mreturn\u001b[0m \u001b[0mret\u001b[0m\u001b[0;34m\u001b[0m\u001b[0m\n\u001b[1;32m    179\u001b[0m     \u001b[0;32melse\u001b[0m\u001b[0;34m:\u001b[0m\u001b[0;34m\u001b[0m\u001b[0m\n\u001b[0;32m--> 180\u001b[0;31m         \u001b[0;32mreturn\u001b[0m \u001b[0mfast_dot\u001b[0m\u001b[0;34m(\u001b[0m\u001b[0ma\u001b[0m\u001b[0;34m,\u001b[0m \u001b[0mb\u001b[0m\u001b[0;34m)\u001b[0m\u001b[0;34m\u001b[0m\u001b[0m\n\u001b[0m\u001b[1;32m    181\u001b[0m \u001b[0;34m\u001b[0m\u001b[0m\n\u001b[1;32m    182\u001b[0m \u001b[0;34m\u001b[0m\u001b[0m\n",
      "\u001b[0;31mValueError\u001b[0m: shapes (250000,) and (50000,19) not aligned: 250000 (dim 0) != 50000 (dim 0)"
     ]
    }
   ],
   "source": [
    "f_regression(X, y)"
   ]
  },
  {
   "cell_type": "code",
   "execution_count": 23,
   "metadata": {
    "collapsed": false
   },
   "outputs": [],
   "source": [
    "f5_val, p5_val = f_regression(X, y5)"
   ]
  },
  {
   "cell_type": "code",
   "execution_count": 24,
   "metadata": {
    "collapsed": true
   },
   "outputs": [],
   "source": [
    "f10_val, p10_val = f_regression(X, y10)"
   ]
  },
  {
   "cell_type": "code",
   "execution_count": 25,
   "metadata": {
    "collapsed": true
   },
   "outputs": [],
   "source": [
    "f20_val, p20_val = f_regression(X, y20)"
   ]
  },
  {
   "cell_type": "code",
   "execution_count": 26,
   "metadata": {
    "collapsed": true
   },
   "outputs": [],
   "source": [
    "f30_val, p30_val = f_regression(X, y30)"
   ]
  },
  {
   "cell_type": "code",
   "execution_count": 28,
   "metadata": {
    "collapsed": true
   },
   "outputs": [],
   "source": [
    "f60_val, p60_val = f_regression(X, y60)"
   ]
  },
  {
   "cell_type": "code",
   "execution_count": 31,
   "metadata": {
    "collapsed": false
   },
   "outputs": [
    {
     "name": "stdout",
     "output_type": "stream",
     "text": [
      "[[6.589097704050498 'ZYXprice']\n",
      " [0.7089145527775016 'ZYX1MinSentiment']\n",
      " [8.327955657505404 'ZYX1MinTweets']\n",
      " [6.615992587799168 'ZYX5minSentiment']\n",
      " [0.059967095200731346 'ZYX10minSentiment']\n",
      " [0.7654665686449494 'ZYX20minSentiment']\n",
      " [0.20520062556241653 'ZYX30minSentiment']\n",
      " [4.509053903176561 'ZYX60minSentiment']\n",
      " [20.69946491336606 'ZYX5minTweets']\n",
      " [18.810818555853068 'ZYX10minTweets']\n",
      " [24.33130437584086 'ZYX20minTweets']\n",
      " [13.34568149187119 'ZYX30minTweets']\n",
      " [12.848062703789667 'ZYX60minTweets']\n",
      " [15.703965504572151 'ZYX1minPriceChange']\n",
      " [23.180401593398287 'ZYX5minPriceChange']\n",
      " [40.036876460631326 'ZYX10minPriceChange']\n",
      " [16.332089932894622 'ZYX20minPriceChange']\n",
      " [8.555077983717112 'ZYX30minPriceChange']\n",
      " [2.58374341083374 'ZYX60minPriceChange']]\n"
     ]
    }
   ],
   "source": [
    "print np.c_[f5_val, X.columns]"
   ]
  },
  {
   "cell_type": "code",
   "execution_count": 32,
   "metadata": {
    "collapsed": true
   },
   "outputs": [],
   "source": [
    "from sklearn.decomposition import PCA"
   ]
  },
  {
   "cell_type": "code",
   "execution_count": 34,
   "metadata": {
    "collapsed": false
   },
   "outputs": [
    {
     "data": {
      "text/plain": [
       "PCA(copy=True, n_components=None, whiten=False)"
      ]
     },
     "execution_count": 34,
     "metadata": {},
     "output_type": "execute_result"
    }
   ],
   "source": [
    "pca = PCA()\n",
    "\n",
    "pca.fit(X)"
   ]
  },
  {
   "cell_type": "code",
   "execution_count": 39,
   "metadata": {
    "collapsed": false
   },
   "outputs": [
    {
     "data": {
      "text/html": [
       "<div style=\"max-height:1000px;max-width:1500px;overflow:auto;\">\n",
       "<table border=\"1\" class=\"dataframe\">\n",
       "  <thead>\n",
       "    <tr style=\"text-align: right;\">\n",
       "      <th></th>\n",
       "      <th>0</th>\n",
       "      <th>1</th>\n",
       "    </tr>\n",
       "  </thead>\n",
       "  <tbody>\n",
       "    <tr>\n",
       "      <th>0 </th>\n",
       "      <td>            ZYXprice</td>\n",
       "      <td>      2611039</td>\n",
       "    </tr>\n",
       "    <tr>\n",
       "      <th>1 </th>\n",
       "      <td>    ZYX1MinSentiment</td>\n",
       "      <td>     324889.4</td>\n",
       "    </tr>\n",
       "    <tr>\n",
       "      <th>2 </th>\n",
       "      <td>       ZYX1MinTweets</td>\n",
       "      <td>     80737.05</td>\n",
       "    </tr>\n",
       "    <tr>\n",
       "      <th>3 </th>\n",
       "      <td>    ZYX5minSentiment</td>\n",
       "      <td>     31646.76</td>\n",
       "    </tr>\n",
       "    <tr>\n",
       "      <th>4 </th>\n",
       "      <td>   ZYX10minSentiment</td>\n",
       "      <td>     14050.63</td>\n",
       "    </tr>\n",
       "    <tr>\n",
       "      <th>5 </th>\n",
       "      <td>   ZYX20minSentiment</td>\n",
       "      <td>     13045.71</td>\n",
       "    </tr>\n",
       "    <tr>\n",
       "      <th>6 </th>\n",
       "      <td>   ZYX30minSentiment</td>\n",
       "      <td>     4963.515</td>\n",
       "    </tr>\n",
       "    <tr>\n",
       "      <th>7 </th>\n",
       "      <td>   ZYX60minSentiment</td>\n",
       "      <td>     822.0427</td>\n",
       "    </tr>\n",
       "    <tr>\n",
       "      <th>8 </th>\n",
       "      <td>       ZYX5minTweets</td>\n",
       "      <td>     151.5782</td>\n",
       "    </tr>\n",
       "    <tr>\n",
       "      <th>9 </th>\n",
       "      <td>      ZYX10minTweets</td>\n",
       "      <td>     51.11612</td>\n",
       "    </tr>\n",
       "    <tr>\n",
       "      <th>10</th>\n",
       "      <td>      ZYX20minTweets</td>\n",
       "      <td>     31.54231</td>\n",
       "    </tr>\n",
       "    <tr>\n",
       "      <th>11</th>\n",
       "      <td>      ZYX30minTweets</td>\n",
       "      <td>     19.10308</td>\n",
       "    </tr>\n",
       "    <tr>\n",
       "      <th>12</th>\n",
       "      <td>      ZYX60minTweets</td>\n",
       "      <td>     6.119583</td>\n",
       "    </tr>\n",
       "    <tr>\n",
       "      <th>13</th>\n",
       "      <td>  ZYX1minPriceChange</td>\n",
       "      <td>  1.07962e-05</td>\n",
       "    </tr>\n",
       "    <tr>\n",
       "      <th>14</th>\n",
       "      <td>  ZYX5minPriceChange</td>\n",
       "      <td> 2.289163e-06</td>\n",
       "    </tr>\n",
       "    <tr>\n",
       "      <th>15</th>\n",
       "      <td> ZYX10minPriceChange</td>\n",
       "      <td> 9.157769e-07</td>\n",
       "    </tr>\n",
       "    <tr>\n",
       "      <th>16</th>\n",
       "      <td> ZYX20minPriceChange</td>\n",
       "      <td> 4.810353e-07</td>\n",
       "    </tr>\n",
       "    <tr>\n",
       "      <th>17</th>\n",
       "      <td> ZYX30minPriceChange</td>\n",
       "      <td> 2.590182e-07</td>\n",
       "    </tr>\n",
       "    <tr>\n",
       "      <th>18</th>\n",
       "      <td> ZYX60minPriceChange</td>\n",
       "      <td> 1.110024e-07</td>\n",
       "    </tr>\n",
       "  </tbody>\n",
       "</table>\n",
       "</div>"
      ],
      "text/plain": [
       "                      0             1\n",
       "0              ZYXprice       2611039\n",
       "1      ZYX1MinSentiment      324889.4\n",
       "2         ZYX1MinTweets      80737.05\n",
       "3      ZYX5minSentiment      31646.76\n",
       "4     ZYX10minSentiment      14050.63\n",
       "5     ZYX20minSentiment      13045.71\n",
       "6     ZYX30minSentiment      4963.515\n",
       "7     ZYX60minSentiment      822.0427\n",
       "8         ZYX5minTweets      151.5782\n",
       "9        ZYX10minTweets      51.11612\n",
       "10       ZYX20minTweets      31.54231\n",
       "11       ZYX30minTweets      19.10308\n",
       "12       ZYX60minTweets      6.119583\n",
       "13   ZYX1minPriceChange   1.07962e-05\n",
       "14   ZYX5minPriceChange  2.289163e-06\n",
       "15  ZYX10minPriceChange  9.157769e-07\n",
       "16  ZYX20minPriceChange  4.810353e-07\n",
       "17  ZYX30minPriceChange  2.590182e-07\n",
       "18  ZYX60minPriceChange  1.110024e-07"
      ]
     },
     "execution_count": 39,
     "metadata": {},
     "output_type": "execute_result"
    }
   ],
   "source": [
    "pd.DataFrame(np.c_[X.columns, pca.explained_variance_])"
   ]
  },
  {
   "cell_type": "code",
   "execution_count": 41,
   "metadata": {
    "collapsed": false
   },
   "outputs": [
    {
     "data": {
      "text/plain": [
       "[<matplotlib.lines.Line2D at 0x10ecabb10>]"
      ]
     },
     "execution_count": 41,
     "metadata": {},
     "output_type": "execute_result"
    },
    {
     "data": {
      "image/png": "[encoded data removed]",
      "text/plain": [
       "<matplotlib.figure.Figure at 0x109cff450>"
      ]
     },
     "metadata": {},
     "output_type": "display_data"
    }
   ],
   "source": [
    "%matplotlib inline\n",
    "\n",
    "plt.plot(pca.explained_variance_)"
   ]
  }
 ],
 "metadata": {
  "kernelspec": {
   "display_name": "Python 2",
   "language": "python",
   "name": "python2"
  },
  "language_info": {
   "codemirror_mode": {
    "name": "ipython",
    "version": 2
   },
   "file_extension": ".py",
   "mimetype": "text/x-python",
   "name": "python",
   "nbconvert_exporter": "python",
   "pygments_lexer": "ipython2",
   "version": "2.7.9"
  }
 },
 "nbformat": 4,
 "nbformat_minor": 0
}
