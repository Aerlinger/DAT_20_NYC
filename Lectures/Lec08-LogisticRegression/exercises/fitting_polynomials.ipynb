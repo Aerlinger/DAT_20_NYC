{
 "metadata": {
  "name": "",
  "signature": "sha256:a966f8cc9e45e6793266120da046f8a4d9f8def84e9755ee06eddecdf6ccd22a"
 },
 "nbformat": 3,
 "nbformat_minor": 0,
 "worksheets": [
  {
   "cells": [
    {
     "cell_type": "code",
     "collapsed": false,
     "input": [
      "# Adapted From Chapter 6 of Machine Learning for Hackers: http://nbviewer.ipython.org/github/carljv/Will_it_Python/blob/c998851e571f681b39213426efdca0f17e365dda/MLFH/ch6/ch6.ipynb\n",
      "\n",
      "%pylab inline"
     ],
     "language": "python",
     "metadata": {},
     "outputs": [
      {
       "output_type": "stream",
       "stream": "stdout",
       "text": [
        "Populating the interactive namespace from numpy and matplotlib\n"
       ]
      },
      {
       "output_type": "stream",
       "stream": "stderr",
       "text": [
        "WARNING: pylab import has clobbered these variables: ['datetime', 'poly', 'save', 'load', 'unique', 'info', 'pi']\n",
        "`%matplotlib` prevents importing * from pylab and numpy\n"
       ]
      }
     ],
     "prompt_number": 32
    },
    {
     "cell_type": "code",
     "collapsed": false,
     "input": [
      "from pandas import *\n",
      "import numpy as np\n",
      "from sklearn.grid_search import GridSearchCV\n",
      "import sklearn.cross_validation as cv\n",
      "import sklearn.metrics as metrics\n",
      "from sklearn.svm import l1_min_c\n",
      "from sklearn.linear_model import Lasso, LassoCV, LogisticRegression\n",
      "import scipy.linalg as la\n",
      "from math import pi\n",
      "import matplotlib.pyplot as plt\n",
      "import statsmodels.api as sm\n",
      "from statsmodels.formula.api import ols\n",
      "from patsy import dmatrix\n",
      "import re\n",
      "import os\n",
      "import math"
     ],
     "language": "python",
     "metadata": {},
     "outputs": [],
     "prompt_number": 2
    },
    {
     "cell_type": "code",
     "collapsed": false,
     "input": [
      "def tdm_df(doclist, stopwords = [], remove_punctuation = True,\n",
      "           remove_digits = True, sparse_df = True):\n",
      "    '''\n",
      "        \n",
      "    Create a term-document matrix from a list of e-mails.\n",
      "    Uses the TermDocumentMatrix function in the `textmining` module.\n",
      "    But, pre-processes the documents to remove digits and punctuation,\n",
      "    and post-processes to remove stopwords, to match the functionality\n",
      "    of R's `tm` package.\n",
      "    NB: This is not particularly memory efficient and you can get memory\n",
      "    errors with an especially long list of documents.\n",
      "    Returns a (by default, sparse) DataFrame. Each column is a term,\n",
      "    each row is a document.\n",
      "    '''\n",
      "    import numpy as np\n",
      "    import textmining as txtm\n",
      "    import pandas as pd\n",
      "    import string\n",
      "\n",
      "    # Some (at least to me) unavoidable type-checking.\n",
      "    # If you only pass one document (string) to the doclist parameter,\n",
      "    # the for-loop below will iterate over the letters in the string\n",
      "    # instead of strings in a list. This coerces the doclist parameter\n",
      "    # to be a list, even if it's only one document.\n",
      "    if isinstance(doclist, basestring):\n",
      "        doclist = [doclist]\n",
      " \n",
      "    # Create the TDM from the list of documents.\n",
      "    tdm = txtm.TermDocumentMatrix()\n",
      "    \n",
      "    for doc in doclist:\n",
      "        if remove_punctuation == True:\n",
      "            doc = doc.translate(None, string.punctuation.translate(None, '\"'))\n",
      "        if remove_digits == True:\n",
      "            doc = doc.translate(None, string.digits)\n",
      "\n",
      "        tdm.add_doc(doc)\n",
      "\n",
      "    # Push the TDM data to a list of lists,\n",
      "    # then make that an ndarray, which then\n",
      "    # becomes a DataFrame.\n",
      "    tdm_rows = []\n",
      "    for row in tdm.rows(cutoff = 1):\n",
      "        tdm_rows.append(row)\n",
      "\n",
      "    tdm_array = np.array(tdm_rows[1:])\n",
      "    tdm_terms = tdm_rows[0]\n",
      "    df = pd.DataFrame(tdm_array, columns = tdm_terms)\n",
      "\n",
      "    # Remove stopwords from the dataset, manually.\n",
      "    # TermDocumentMatrix does not do this for us.\n",
      "    if remove_punctuation:\n",
      "        stopwords = [w.translate(None, string.punctuation.translate(None, '\"'))\n",
      "                     for w in stopwords]\n",
      "    if len(stopwords) > 0:\n",
      "        for col in df:\n",
      "            if col in stopwords:\n",
      "                del df[col]\n",
      "\n",
      "    if sparse_df == True:\n",
      "        df.to_sparse(fill_value = 0)\n",
      "\n",
      "    return df"
     ],
     "language": "python",
     "metadata": {},
     "outputs": [],
     "prompt_number": 3
    },
    {
     "cell_type": "markdown",
     "metadata": {},
     "source": [
      "# Fitting sine wave data by polynomials"
     ]
    },
    {
     "cell_type": "code",
     "collapsed": false,
     "input": [
      "sin_data = DataFrame({'x' : np.linspace(0, 1, 101)})\n",
      "sin_data['y'] = np.sin(2 * pi * sin_data['x']) + np.random.normal(0, 0.1, 101)"
     ],
     "language": "python",
     "metadata": {},
     "outputs": [],
     "prompt_number": 8
    },
    {
     "cell_type": "code",
     "collapsed": false,
     "input": [
      "sin_data.head()"
     ],
     "language": "python",
     "metadata": {},
     "outputs": [
      {
       "html": [
        "<div style=\"max-height:1000px;max-width:1500px;overflow:auto;\">\n",
        "<table border=\"1\" class=\"dataframe\">\n",
        "  <thead>\n",
        "    <tr style=\"text-align: right;\">\n",
        "      <th></th>\n",
        "      <th>x</th>\n",
        "      <th>y</th>\n",
        "    </tr>\n",
        "  </thead>\n",
        "  <tbody>\n",
        "    <tr>\n",
        "      <th>0</th>\n",
        "      <td> 0.00</td>\n",
        "      <td>-0.129215</td>\n",
        "    </tr>\n",
        "    <tr>\n",
        "      <th>1</th>\n",
        "      <td> 0.01</td>\n",
        "      <td>-0.026654</td>\n",
        "    </tr>\n",
        "    <tr>\n",
        "      <th>2</th>\n",
        "      <td> 0.02</td>\n",
        "      <td> 0.226181</td>\n",
        "    </tr>\n",
        "    <tr>\n",
        "      <th>3</th>\n",
        "      <td> 0.03</td>\n",
        "      <td> 0.265093</td>\n",
        "    </tr>\n",
        "    <tr>\n",
        "      <th>4</th>\n",
        "      <td> 0.04</td>\n",
        "      <td> 0.189816</td>\n",
        "    </tr>\n",
        "  </tbody>\n",
        "</table>\n",
        "</div>"
       ],
       "metadata": {},
       "output_type": "pyout",
       "prompt_number": 9,
       "text": [
        "      x         y\n",
        "0  0.00 -0.129215\n",
        "1  0.01 -0.026654\n",
        "2  0.02  0.226181\n",
        "3  0.03  0.265093\n",
        "4  0.04  0.189816"
       ]
      }
     ],
     "prompt_number": 9
    },
    {
     "cell_type": "code",
     "collapsed": false,
     "input": [
      "sin_linpred = ols(formula='y ~ x', data = sin_data).fit().predict()"
     ],
     "language": "python",
     "metadata": {},
     "outputs": [],
     "prompt_number": 10
    },
    {
     "cell_type": "code",
     "collapsed": false,
     "input": [
      "plt.plot(sin_data['x'], sin_data['y'], 'k.')\n",
      "plt.plot(sin_data['x'], sin_linpred, 'r-', label = 'Linear Model Prediction')\n",
      "plt.title('Sine wave with Gaussian noise')\n",
      "plt.legend(loc = 'upper left')"
     ],
     "language": "python",
     "metadata": {},
     "outputs": [
      {
       "metadata": {},
       "output_type": "pyout",
       "prompt_number": 11,
       "text": [
        "<matplotlib.legend.Legend at 0x10c3d2f90>"
       ]
      },
      {
       "metadata": {},
       "output_type": "display_data",
       "png": "[encoded data removed]",
       "text": [
        "<matplotlib.figure.Figure at 0x1136b94d0>"
       ]
      }
     ],
     "prompt_number": 11
    },
    {
     "cell_type": "markdown",
     "metadata": {},
     "source": [
      "In a polynomial regression, we want to approximate the data with by the sum of a finite number of orthonormal polynomial (OP) basis functions. In a regression setting, this means making the multiple regressors by computing the OP transformations of $x$. Then, we have:\n",
      "\n",
      "$y(x_i) = \\sum_{d=1}^{D}\\mathcal{P}_d(x_i) + \\varepsilon_i$\n",
      "\n",
      "where $\\mathcal{P}_d$ is the $d$th order OP basis functions, and $\\varepsilon_i$ is random noise.\n",
      "\n",
      "Fortunately, patsy has a method for computing OP transformations, via the `dmatrix` function."
     ]
    },
    {
     "cell_type": "code",
     "collapsed": false,
     "input": [
      "x = sin_data['x']\n",
      "y = sin_data['y']\n",
      "Xpoly = dmatrix('C(x, Poly)')\n",
      "Xpoly1 = Xpoly[:, :2]\n",
      "Xpoly3 = Xpoly[:, :4]\n",
      "Xpoly5 = Xpoly[:, :6]\n",
      "Xpoly25 = Xpoly[:, :26]"
     ],
     "language": "python",
     "metadata": {},
     "outputs": [],
     "prompt_number": 12
    },
    {
     "cell_type": "code",
     "collapsed": false,
     "input": [
      "polypred1 = sm.OLS(y, Xpoly1).fit().predict()\n",
      "polypred3 = sm.OLS(y, Xpoly3).fit().predict()\n",
      "polypred5 = sm.OLS(y, Xpoly5).fit().predict()\n",
      "polypred25 = sm.OLS(y, Xpoly25).fit().predict()"
     ],
     "language": "python",
     "metadata": {},
     "outputs": [],
     "prompt_number": 13
    },
    {
     "cell_type": "markdown",
     "metadata": {},
     "source": [
      "Plotting the fits of polynomial models of increasing order, we see that by D = 3, we've pretty much captured the salient features of the data, and much beyond that we're probably over-fitting."
     ]
    },
    {
     "cell_type": "code",
     "collapsed": false,
     "input": [
      "plt.figure(figsize(10, 8))\n",
      "fig, ax = plt.subplots(2, 2, sharex = True, sharey = True)\n",
      "fig.subplots_adjust(hspace = 0.0, wspace = 0.0)\n",
      "fig.suptitle('Polynomial fits to noisy sine data', fontsize = 16.0)\n",
      "\n",
      "# Iterate through panels (a), model predictions (p), and the polynomial \n",
      "# degree of the model (d). Plot the data, the predictions, and label\n",
      "# the graph to indicate the degree used.\n",
      "for a, p, d in zip(ax.ravel(), [polypred1, polypred3, polypred5, polypred25],\n",
      "      ['1', '3', '5', '25']):\n",
      "    a.plot(x, y, '.', color = 'steelblue', alpha = 0.5)\n",
      "    a.plot(x, p)\n",
      "    a.text(.5, .95, 'D = ' + d, fontsize = 12,\n",
      "           verticalalignment = 'top',\n",
      "           horizontalalignment = 'center',\n",
      "           transform = a.transAxes)\n",
      "    a.grid()\n",
      "\n",
      "# Alternate axes that have tick labels to avoid overlap.\n",
      "plt.setp(fig.axes[2].get_yaxis().get_ticklabels(), visible = False)\n",
      "plt.setp(fig.axes[3].get_yaxis(), ticks_position = 'right')   \n",
      "plt.setp(fig.axes[1].get_xaxis(), ticks_position = 'top')\n",
      "plt.setp(fig.axes[3].get_xaxis().get_ticklabels(), visible = False)"
     ],
     "language": "python",
     "metadata": {},
     "outputs": [
      {
       "metadata": {},
       "output_type": "pyout",
       "prompt_number": 14,
       "text": [
        "[None, None, None, None, None, None]"
       ]
      },
      {
       "metadata": {},
       "output_type": "display_data",
       "text": [
        "<matplotlib.figure.Figure at 0x113875910>"
       ]
      },
      {
       "metadata": {},
       "output_type": "display_data",
       "png": "[encoded data removed]",
       "text": [
        "<matplotlib.figure.Figure at 0x113875950>"
       ]
      }
     ],
     "prompt_number": 14
    },
    {
     "cell_type": "markdown",
     "metadata": {},
     "source": [
      "Just for shits and giggles, a home-rolled function to build the orthonormal-polynomial basis functions from a vector. This will test we understand what `Poly` does. If you check it, you'll find this function and  `Poly` provide the same results."
     ]
    },
    {
     "cell_type": "code",
     "collapsed": false,
     "input": [
      "def poly(x, degree):\n",
      "    '''\n",
      "    Generate orthonormal polynomial basis functions from a vector.\n",
      "    '''\n",
      "    xbar = np.mean(x)\n",
      "    X = np.power.outer(x - x.mean(), arange(0, degree + 1))\n",
      "    Q, R = la.qr(X)\n",
      "    diagind = np.subtract.outer(arange(R.shape[0]), arange(R.shape[1])) == 0\n",
      "    z = R * diagind\n",
      "    Qz = np.dot(Q, z)\n",
      "    norm2 = (Qz**2).sum(axis = 0)\n",
      "    Z = Qz / np.sqrt(norm2)\n",
      "    Z = Z[:, 1:]\n",
      "    return Z"
     ],
     "language": "python",
     "metadata": {},
     "outputs": [],
     "prompt_number": 15
    },
    {
     "cell_type": "code",
     "collapsed": false,
     "input": [
      "np.random.seed(1)\n",
      "rand_ind = arange(100)\n",
      "np.random.shuffle(rand_ind)\n",
      "train_ind = rand_ind[:50] \n",
      "test_ind = rand_ind[50:]"
     ],
     "language": "python",
     "metadata": {},
     "outputs": [],
     "prompt_number": 16
    },
    {
     "cell_type": "markdown",
     "metadata": {},
     "source": [
      "## A polynomial fit to the sine wave data using lasso regularization"
     ]
    },
    {
     "cell_type": "markdown",
     "metadata": {},
     "source": [
      "In the book, the authors set up an explicit cross-validation scheme, by separating the data\n",
      "into training and testing sets. For a series of candidate lasso penalty parameters, they fit the model on the training data, then evaluate the MSE of that model on the testing data.\n",
      "\n",
      "We're going to use sklearn's `LassoCV`, which automatically performs cross-validation. The function return the optimal lasso penalty parameter across the CV folds (i.e., the one that minimizes the average MSE across the folds).\n",
      "\n",
      "*Some notes:* sklearn calls its lasso penalty parameter `alpha`, compared to R's `glmnet` which calls it `lambda`. (I'm more accustomed to the latter, myself). This can get confusing, because `glmnet` also has an `alpha` parameter that weights the L1 and L2 cost functions. \n",
      "\n",
      "Also, sklearn seems to weight its L1 cost function differently than `glmnet` leading to different values for the lasso parameter. I haven't looked closely yet at the source of the discrepancy. The other model parameters and the model predictions, though, should be roughly the same for both sklearn's `Lasso` and `glmnet`."
     ]
    },
    {
     "cell_type": "code",
     "collapsed": false,
     "input": [
      "lasso_model = LassoCV(cv = 15, copy_X = True, normalize = True)\n",
      "lasso_fit = lasso_model.fit(Xpoly[:, 1:11], y)\n",
      "lasso_path = lasso_model.score(Xpoly[:, 1:11], y)"
     ],
     "language": "python",
     "metadata": {},
     "outputs": [],
     "prompt_number": 17
    },
    {
     "cell_type": "code",
     "collapsed": false,
     "input": [
      "# Plot the average MSE across folds\n",
      "plt.plot(-np.log(lasso_fit.alphas_), np.sqrt(lasso_fit.mse_path_).mean(axis = 1))\n",
      "plt.ylabel('RMSE (avg. across folds)')\n",
      "plt.xlabel(r'$-\\log(\\lambda)$')\n",
      "# Indicate the lasso parameter that minimizes the average MSE across folds.\n",
      "plt.axvline(-np.log(lasso_fit.alpha_), color = 'red')"
     ],
     "language": "python",
     "metadata": {},
     "outputs": [
      {
       "metadata": {},
       "output_type": "pyout",
       "prompt_number": 18,
       "text": [
        "<matplotlib.lines.Line2D at 0x1102d6d50>"
       ]
      },
      {
       "metadata": {},
       "output_type": "display_data",
       "png": "[encoded data removed]",
       "text": [
        "<matplotlib.figure.Figure at 0x1102d6bd0>"
       ]
      }
     ],
     "prompt_number": 18
    },
    {
     "cell_type": "markdown",
     "metadata": {},
     "source": [
      "If we look at the resulting coefficients, we see that the lasso shrunk nearly all the coefficients to zero except those on the first and third polynomial. This makes sense, since we ought to be able to capture all the important features of a sine wave on [0, 1] using just\n",
      "a third degree polynomial, as we saw in the chart above."
     ]
    },
    {
     "cell_type": "code",
     "collapsed": false,
     "input": [
      "print 'Deg.  Coefficient'\n",
      "print Series(np.r_[lasso_fit.intercept_, lasso_fit.coef_])"
     ],
     "language": "python",
     "metadata": {},
     "outputs": [
      {
       "output_type": "stream",
       "stream": "stdout",
       "text": [
        "Deg.  Coefficient\n",
        "0     0.007455\n",
        "1    -5.279063\n",
        "2     0.000000\n",
        "3     4.470791\n",
        "4    -0.121462\n",
        "5    -0.482775\n",
        "6     0.049930\n",
        "7    -0.000000\n",
        "8    -0.000000\n",
        "9    -0.099538\n",
        "10   -0.146382\n",
        "dtype: float64\n"
       ]
      }
     ],
     "prompt_number": 19
    },
    {
     "cell_type": "markdown",
     "metadata": {},
     "source": [
      "As we'd expect this simplified model does a good job of fitting the data without over-fitting."
     ]
    },
    {
     "cell_type": "code",
     "collapsed": false,
     "input": [
      "plt.plot(x, y, '.')\n",
      "plt.plot(np.sort(x), lasso_fit.predict(Xpoly[:, 1:11])[np.argsort(x)],\n",
      "         '-r', label = 'Training data lasso fit')"
     ],
     "language": "python",
     "metadata": {},
     "outputs": [
      {
       "metadata": {},
       "output_type": "pyout",
       "prompt_number": 20,
       "text": [
        "[<matplotlib.lines.Line2D at 0x1101e0450>]"
       ]
      },
      {
       "metadata": {},
       "output_type": "display_data",
       "png": "[encoded data removed]",
       "text": [
        "<matplotlib.figure.Figure at 0x1101e04d0>"
       ]
      }
     ],
     "prompt_number": 20
    },
    {
     "cell_type": "markdown",
     "metadata": {},
     "source": [
      "# Predicting O'Reilly book sales using back-cover descriptions"
     ]
    },
    {
     "cell_type": "code",
     "collapsed": false,
     "input": [
      "ranks_df = read_csv('../../../data/oreilly.csv')\n",
      "ranks_df.columns = ['ipfamily', 'title', 'isbn', 'rank', 'long_desc']\n",
      "print ranks_df.head()"
     ],
     "language": "python",
     "metadata": {},
     "outputs": [
      {
       "output_type": "stream",
       "stream": "stdout",
       "text": [
        "           ipfamily                                 title           isbn  \\\n",
        "0  9780596000271.IP                  Programming Perl, 3E  9780596000271   \n",
        "1  9781565923928.IP  Javascript: The Definitive Guide, 3E  9781565923928   \n",
        "2  9780596007126.IP            Head First Design Patterns  9780596007126   \n",
        "3  9780596009205.IP                   Head First Java, 2E  9780596009205   \n",
        "4  9780596529529.IP  Mac OS X Leopard: The Missing Manual  9780596529529   \n",
        "\n",
        "   rank                                          long_desc  \n",
        "0     1  Perl is a powerful programming language that  ...  \n",
        "1     2  JavaScript is a powerful scripting language th...  \n",
        "2     3  You're not alone.<br />\\r<br />\\rAt any given ...  \n",
        "3     4  Learning a complex new language is no easy tas...  \n",
        "4     5  With Leopard, Apple has unleashed the greatest...  \n"
       ]
      }
     ],
     "prompt_number": 22
    },
    {
     "cell_type": "code",
     "collapsed": false,
     "input": [
      "# Reverse the ranks, so that 100 is the best seller, and 1 is the worst.\n",
      "ranks = ranks_df['rank']\n",
      "rank_rev_map = {i: j for i, j in zip(ranks, ranks[::-1])} \n",
      "ranks = ranks.replace(rank_rev_map)\n",
      "\n",
      "docs = ranks_df['long_desc']"
     ],
     "language": "python",
     "metadata": {},
     "outputs": [],
     "prompt_number": 23
    },
    {
     "cell_type": "markdown",
     "metadata": {},
     "source": [
      "## Creating a term-document matrix from the descriptions"
     ]
    },
    {
     "cell_type": "markdown",
     "metadata": {},
     "source": [
      "Looking at a sample document (back-cover description), we see that there is some html markup we should strip out before processing."
     ]
    },
    {
     "cell_type": "code",
     "collapsed": false,
     "input": [
      "print docs[0]"
     ],
     "language": "python",
     "metadata": {},
     "outputs": [
      {
       "output_type": "stream",
       "stream": "stdout",
       "text": [
        "Perl is a powerful programming language that  has grown in popularity since it first appeared in 1988. The first edition of this book, <i>Programming Perl,</i> hit the shelves in 1990, and was quickly adopted as the  undisputed bible of the language. Since then, Perl  has grown with the times, and so has this book.\r",
        "\r",
        "\r",
        "\r",
        "<i>Programming Perl</i> is not just a book about Perl. It is  also a unique introduction to the language and its culture,  as one might expect only from its authors. Larry Wall is the inventor of Perl, and provides a unique perspective on  the evolution of Perl and its future direction. Tom Christiansen was one of the first champions of the language,  and lives and breathes the complexities of Perl internals  as few other mortals do. Jon Orwant is the editor of \r",
        "\r",
        "<i>The Perl Journal,</i> which has brought together the Perl  community as a common forum for new developments in Perl.\r",
        "\r",
        "\r",
        "\r",
        "Any Perl book can show the syntax of Perl's functions, but only this one is a comprehensive guide to all the nooks and crannies of the language. Any Perl book can explain typeglobs, pseudohashes, and closures, but only this one shows  how they really work. Any Perl book can say that <i>my</i> is faster than <i>local,</i> but only this one explains why. Any Perl book  can have a title, but only this book is affectionately known by all Perl programmers as \"The Camel.\"  \r",
        "\r",
        "\r",
        "\r",
        "This third edition of <i>Programming Perl</i> has been expanded to cover version 5.6 of this maturing language. New topics include threading, the compiler, Unicode, and other  new features that have been added since the previous edition.\n"
       ]
      }
     ],
     "prompt_number": 24
    },
    {
     "cell_type": "code",
     "collapsed": false,
     "input": [
      "tag_pattern = r'<.*?>'\n",
      "docs_clean = docs.str.replace(tag_pattern, '')"
     ],
     "language": "python",
     "metadata": {},
     "outputs": [],
     "prompt_number": 25
    },
    {
     "cell_type": "code",
     "collapsed": false,
     "input": [
      "print docs_clean[0]"
     ],
     "language": "python",
     "metadata": {},
     "outputs": [
      {
       "output_type": "stream",
       "stream": "stdout",
       "text": [
        "Perl is a powerful programming language that  has grown in popularity since it first appeared in 1988. The first edition of this book, Programming Perl, hit the shelves in 1990, and was quickly adopted as the  undisputed bible of the language. Since then, Perl  has grown with the times, and so has this book.\r",
        "\r",
        "\r",
        "\r",
        "Programming Perl is not just a book about Perl. It is  also a unique introduction to the language and its culture,  as one might expect only from its authors. Larry Wall is the inventor of Perl, and provides a unique perspective on  the evolution of Perl and its future direction. Tom Christiansen was one of the first champions of the language,  and lives and breathes the complexities of Perl internals  as few other mortals do. Jon Orwant is the editor of \r",
        "\r",
        "The Perl Journal, which has brought together the Perl  community as a common forum for new developments in Perl.\r",
        "\r",
        "\r",
        "\r",
        "Any Perl book can show the syntax of Perl's functions, but only this one is a comprehensive guide to all the nooks and crannies of the language. Any Perl book can explain typeglobs, pseudohashes, and closures, but only this one shows  how they really work. Any Perl book can say that my is faster than local, but only this one explains why. Any Perl book  can have a title, but only this book is affectionately known by all Perl programmers as \"The Camel.\"  \r",
        "\r",
        "\r",
        "\r",
        "This third edition of Programming Perl has been expanded to cover version 5.6 of this maturing language. New topics include threading, the compiler, Unicode, and other  new features that have been added since the previous edition.\n"
       ]
      }
     ],
     "prompt_number": 26
    },
    {
     "cell_type": "markdown",
     "metadata": {},
     "source": [
      "To create the term-document matrix, we'll use the `tdm_df` function we created in chapter 3, and used again in chapter 4. Again, for comparability with the book, we'll use the stopwords from R's `tm` package."
     ]
    },
    {
     "cell_type": "code",
     "collapsed": false,
     "input": [
      "rsw = read_csv('../../../Data/r_stopwords.csv', squeeze = True).tolist()\n",
      "desc_tdm = tdm_df(docs_clean, stopwords = rsw)"
     ],
     "language": "python",
     "metadata": {},
     "outputs": [],
     "prompt_number": 30
    },
    {
     "cell_type": "markdown",
     "metadata": {},
     "source": [
      "## Lasso regression\n",
      "\n",
      "Our goal is to predict the rank of book $i$, based on what terms appear in its description. That is,\n",
      "\n",
      "$y_i = \\beta_0 + \\beta_1 x_{1i} + \\beta_2 x_{2i} + \\ldots + \\beta_K x_{Ki} + \\varepsilon_i$ \n",
      "\n",
      "where $x_{ki}$ is the number of times that term $k$ appears in the description of book $i$.\n",
      "\n",
      "Let's fit the model with the lasso regularizer, using `LassoCV` to find the best value of the lasso parameter. Again, we'll let `LassoCV` do our cross-validation, instead of doing the explicit training-testing evaluation in the book.\n",
      "\n",
      "*Note*: We're running 10 CV folds, which can be a bit slow to run. If it's too slow, it's ok to turn down the value. This also may throw a convergence warning sometimes."
     ]
    },
    {
     "cell_type": "code",
     "collapsed": false,
     "input": [
      "lasso_model = LassoCV(cv = 10)\n",
      "lasso_fit = lasso_model.fit(desc_tdm.values, ranks.values)"
     ],
     "language": "python",
     "metadata": {},
     "outputs": [
      {
       "output_type": "stream",
       "stream": "stderr",
       "text": [
        "/Users/Aerlinger/.pyenv/versions/2.7.9/lib/python2.7/site-packages/sklearn/linear_model/coordinate_descent.py:490: ConvergenceWarning: Objective did not converge. You might want to increase the number of iterations\n",
        "  ConvergenceWarning)\n"
       ]
      }
     ],
     "prompt_number": 31
    },
    {
     "cell_type": "markdown",
     "metadata": {},
     "source": [
      "If we look at the RMSE from this model, we can see we don't do a very good job. The regularizer essentially doesn't find any of the covariates worth keeping."
     ]
    },
    {
     "cell_type": "code",
     "collapsed": false,
     "input": [
      "plt.plot(-np.log(lasso_fit.alphas_), np.sqrt(lasso_fit.mse_path_), alpha = .5)\n",
      "plt.plot(-np.log(lasso_fit.alphas_), np.sqrt(lasso_fit.mse_path_).mean(axis = 1), \n",
      "         lw = 2, color = 'black')\n",
      "plt.ylim(0, 60)\n",
      "plt.xlim(0, np.max(-np.log(lasso_fit.alphas_)))\n",
      "plt.title('Lasso regression RMSE')\n",
      "plt.xlabel(r'$-\\log(\\lambda)$')\n",
      "plt.ylabel('RMSE (and avg. across folds)')"
     ],
     "language": "python",
     "metadata": {},
     "outputs": [
      {
       "metadata": {},
       "output_type": "pyout",
       "prompt_number": 33,
       "text": [
        "<matplotlib.text.Text at 0x117a96490>"
       ]
      },
      {
       "metadata": {},
       "output_type": "display_data",
       "png": "[encoded data removed]",
       "text": [
        "<matplotlib.figure.Figure at 0x117a9a290>"
       ]
      }
     ],
     "prompt_number": 33
    },
    {
     "cell_type": "markdown",
     "metadata": {},
     "source": [
      "## Logistic regression \n",
      "\n",
      "Let's simplify the rank data, so instead of trying to predict the rank, we simply try to predict whether or not a book is in the top-50 sellers. This binary classification let's use a logistic regression.\n",
      "\n",
      "Scikits-learn let's us use an L1-regularizer (lasso) with our logistic model. But it doesn't provide an automatic CV method. So we'll set up an explicit cross-validation, similar to what's done in the book. "
     ]
    },
    {
     "cell_type": "markdown",
     "metadata": {},
     "source": [
      "The lasso penalty parameter in the `LogisticRegression` function is called `C`. The smaller `C` is, the larger the penalty. \n",
      "\n",
      "For a given set of data, there is a minimum `C`, below which, the regularizer will set all the model parameters to zero. There's no point in use evaluating the fit of models for values of `C` less than this minimum. The function `l1_min_c` computes this minimum."
     ]
    },
    {
     "cell_type": "code",
     "collapsed": false,
     "input": [
      "# Create the TDM.\n",
      "desc_tdm = tdm_df(docs_clean, stopwords = rsw)\n",
      "\n",
      "# Make the rank variable binary, indicating Top 50 status.\n",
      "top50 = 1 * (ranks_df['rank'] <= 50)\n",
      "\n",
      "# Compute the minimum value of the L1 penalty parameter. Below this\n",
      "# value, all model parameters will be shrunk to zero.\n",
      "min_l1_C = l1_min_c(desc_tdm.values, top50.values) \n",
      "\n",
      "# Create a space of penalty parameters to test.\n",
      "cs = min_l1_C * np.logspace(0, 3, 10)\n",
      "\n",
      "# Create a dictionary whose keys are the candidate values of C. \n",
      "# The dictionary will hold the error rates in each CV trial for that\n",
      "# value of C.\n",
      "cdict = {}\n",
      "for c in cs:\n",
      "    cdict[c] = []\n",
      "    \n",
      "# Add the target variable to the data, so it gets shuffled and split along\n",
      "# with the predictor data.\n",
      "desc_tdm['Top50'] = top50\n",
      "\n",
      "# Set up logistic model\n",
      "logit_model = LogisticRegression(C = 1.0, penalty = 'l1', tol = 1e-6)"
     ],
     "language": "python",
     "metadata": {},
     "outputs": [],
     "prompt_number": 34
    },
    {
     "cell_type": "markdown",
     "metadata": {},
     "source": [
      "We want to split our data into training and testing sets. We created a function to do this in chapter 4. Let's just define it again here."
     ]
    },
    {
     "cell_type": "code",
     "collapsed": false,
     "input": [
      "def train_test_split(df, train_fraction = .5, shuffle = True, \n",
      "                     preserve_index = True, seed = None):\n",
      "    '''\n",
      "    Split a dataframe into training and test sets by randomly assigning\n",
      "    its observations to one set or the other.\n",
      "\n",
      "    Parameters\n",
      "    ----------\n",
      "    df: a DataFrame\n",
      "    train_fraction: the fraction of `df` to be assigned to the \n",
      "        training set (1-train_fraction will go to the test set).\n",
      "    preserve_index: If True, the split dataframes keep their index\n",
      "        values from `df`. If False, each set gets a new integer index\n",
      "        of arange(# rows).\n",
      "    seed: the random number generator seed for row shuffling.\n",
      "    '''\n",
      "    if seed: \n",
      "        random.seed(seed)\n",
      "        \n",
      "    nrows = df.shape[0]\n",
      "    split_point = int(train_fraction * nrows)\n",
      "    \n",
      "    rows = range(nrows)\n",
      "    if shuffle: \n",
      "        random.shuffle(rows)\n",
      "    \n",
      "    train_rows = rows[:split_point]\n",
      "    test_rows  = rows[split_point:]\n",
      "    \n",
      "    train_index = df.index[train_rows]\n",
      "    test_index  = df.index[test_rows]\n",
      "    \n",
      "    train_df = df.ix[train_index, :]\n",
      "    test_df  = df.ix[test_index, :]\n",
      "    \n",
      "    if not preserve_index:\n",
      "        train_df.index = np.arange(train_df.shape[0])\n",
      "        test_df.index  = np.arange(test_df.shape[0])\n",
      "    \n",
      "    return train_df, test_df"
     ],
     "language": "python",
     "metadata": {},
     "outputs": [],
     "prompt_number": 35
    },
    {
     "cell_type": "markdown",
     "metadata": {},
     "source": [
      "Here's the cross-validation procedure. For 50 folds, we'll randomly split the data into training and testing sets. Then for each candidate value of the penalty parameter `C`, we'll fit the model on the training data, and compute its error rate in the testing data. The error rate is the proportion of books in the test data that the model misclassifies. \n",
      "\n",
      "At the end we'll have 50 error rate curves (where the curve is over values of `C`). Then we'll compute the average error rate, for each candidate `C`, across the 50 trials. "
     ]
    },
    {
     "cell_type": "code",
     "collapsed": false,
     "input": [
      "np.random.seed(4)\n",
      "for i in xrange(50):\n",
      "    # Split the data\n",
      "    train_docs, test_docs = train_test_split(desc_tdm, .8)\n",
      "    trainy, testy = train_docs.pop('Top50'), test_docs.pop('Top50')\n",
      "    trainX, testX = train_docs, test_docs\n",
      "    \n",
      "    # Fit the model for each candidate penalty parameter, C.\n",
      "    # then compute the error rate in the test data and add\n",
      "    # it to the dictionary entry for that candidate.\n",
      "    for c in cdict:\n",
      "        logit_model.set_params(C=c)\n",
      "        logit_fit = logit_model.fit(trainX.values, trainy.values)\n",
      "        predy = logit_fit.predict(testX.values)\n",
      "        error_rate = np.mean(predy != testy)\n",
      "        cdict[c].append(error_rate)"
     ],
     "language": "python",
     "metadata": {},
     "outputs": [],
     "prompt_number": 36
    },
    {
     "cell_type": "markdown",
     "metadata": {},
     "source": [
      "Plotting mean error rates across penalty parameter candidates, we find an optimal value of `C` around 0.15."
     ]
    },
    {
     "cell_type": "code",
     "collapsed": false,
     "input": [
      "error_path = DataFrame(cdict).mean()\n",
      "error_path.plot(style = 'o-k', label = 'Error rate')\n",
      "error_path.cummin().plot(style = 'r-', label = 'Lower envelope')\n",
      "plt.xlabel('C (regularization parameter)')\n",
      "plt.ylabel('Prediction error rate')\n",
      "plt.legend(loc = 'upper right')"
     ],
     "language": "python",
     "metadata": {},
     "outputs": [
      {
       "metadata": {},
       "output_type": "pyout",
       "prompt_number": 37,
       "text": [
        "<matplotlib.legend.Legend at 0x117a91990>"
       ]
      },
      {
       "metadata": {},
       "output_type": "display_data",
       "png": "[encoded data removed]",
       "text": [
        "<matplotlib.figure.Figure at 0x117a91a90>"
       ]
      }
     ],
     "prompt_number": 37
    },
    {
     "cell_type": "markdown",
     "metadata": {},
     "source": [
      "We'll re-fit the model at the optimal `C`, and check out what terms the lasso keeps in the model. If turns out we keep about 9 or so terms. (This will change if you change the seed above, since it depends on the randomized CV folds). \n",
      "\n",
      "These are the terms that are most informative about whether a book is a Top 50 seller. What are they?"
     ]
    },
    {
     "cell_type": "code",
     "collapsed": false,
     "input": [
      "# If you run this block, you have to re-run the blocks starting from four above\n",
      "# this block (it starts with the comment '# Create the TDM'). Otherwise the\n",
      "# attempt to pop Top50 will throw an error ('cause you can't pop it twice).\n",
      "\n",
      "min_error_c = error_path.index[error_path.argmin()]\n",
      "logit_model_best = LogisticRegression(C = min_error_c, penalty = 'l1')\n",
      "\n",
      "ally = desc_tdm.pop('Top50')\n",
      "allX = desc_tdm\n",
      "\n",
      "logit_fit_best = logit_model_best.fit(allX.values, ally.values)\n",
      "keep_terms = desc_tdm.columns[np.where(logit_fit_best.coef_ > 0)[1]]\n",
      "\n",
      "print Series(keep_terms)"
     ],
     "language": "python",
     "metadata": {},
     "outputs": [
      {
       "output_type": "stream",
       "stream": "stdout",
       "text": [
        "Series([], dtype: object)\n"
       ]
      }
     ],
     "prompt_number": 38
    },
    {
     "cell_type": "markdown",
     "metadata": {},
     "source": [
      "## Using scikit-learn's built-in cross-validation functions\n",
      "\n",
      "scikit-learn has a built-in function for finding model hyper-parameters by cross-validation, as we did above, called `GridSearchCV`.\n",
      "\n",
      "Here we'll perform the CV differently than the authors do in the book and rely more on built-in scikit-learn functions to do so. \n",
      "\n",
      "First, we'll split the data into an 80-observation training set and a 20-observation test set using the `train_test_split` function from the `sklearn.cross_validation` module (instead of the handmade one we used above).\n",
      "\n",
      "Second, we'll use `GridSearchCV` to perform CV fits for each value of the regularization parameter we supply. To choose the parameter to minimize the error rate, we'll maximize the `zero_one_score` function from the `sklearn.metrics` module. The result of this function is equal to 1 minus the error rate we were using above.\n",
      "\n",
      "Finally, we'll fit this CV-optimized model on the 20 test observations, and use scikit-learn's other metrics functions to assess the model fit on the test set."
     ]
    },
    {
     "cell_type": "markdown",
     "metadata": {},
     "source": [
      "First, split the data into test and training sets. Then define the array of parameter values we'll grid-search over, and the number of CV folds we want to use in the search process."
     ]
    },
    {
     "cell_type": "code",
     "collapsed": false,
     "input": [
      "trainX, testX, trainy, testy = cv.train_test_split(\n",
      "    allX, ally, test_size = 0.2)\n",
      "\n",
      "# Dictionary holding parameters to perform a grid-search over, \n",
      "# and the arrays of values to use in the search.\n",
      "c_grid = [{'C': cs}]\n",
      "\n",
      "# No. of CV folds\n",
      "n_cv_folds = 20"
     ],
     "language": "python",
     "metadata": {},
     "outputs": [],
     "prompt_number": 39
    },
    {
     "cell_type": "markdown",
     "metadata": {},
     "source": [
      "Define and fit the model."
     ]
    },
    {
     "cell_type": "code",
     "collapsed": false,
     "input": [
      "from sklearn.metrics import zero_one_score as zero_one_score\n",
      "\n",
      "clf = GridSearchCV(LogisticRegression(C = 1.0, penalty = 'l1'), c_grid, \n",
      "                   score_func = metrics.zero_one_score, cv = n_cv_folds)\n",
      "clf.fit(trainX, trainy)"
     ],
     "language": "python",
     "metadata": {},
     "outputs": [
      {
       "ename": "ImportError",
       "evalue": "cannot import name zero_one_score",
       "output_type": "pyerr",
       "traceback": [
        "\u001b[0;31m---------------------------------------------------------------------------\u001b[0m\n\u001b[0;31mImportError\u001b[0m                               Traceback (most recent call last)",
        "\u001b[0;32m<ipython-input-43-4cab05019cb2>\u001b[0m in \u001b[0;36m<module>\u001b[0;34m()\u001b[0m\n\u001b[0;32m----> 1\u001b[0;31m \u001b[0;32mfrom\u001b[0m \u001b[0msklearn\u001b[0m\u001b[0;34m.\u001b[0m\u001b[0mmetrics\u001b[0m \u001b[0;32mimport\u001b[0m \u001b[0mzero_one_score\u001b[0m \u001b[0;32mas\u001b[0m \u001b[0mzero_one_score\u001b[0m\u001b[0;34m\u001b[0m\u001b[0m\n\u001b[0m\u001b[1;32m      2\u001b[0m \u001b[0;34m\u001b[0m\u001b[0m\n\u001b[1;32m      3\u001b[0m clf = GridSearchCV(LogisticRegression(C = 1.0, penalty = 'l1'), c_grid, \n\u001b[1;32m      4\u001b[0m                    score_func = metrics.zero_one_score, cv = n_cv_folds)\n\u001b[1;32m      5\u001b[0m \u001b[0mclf\u001b[0m\u001b[0;34m.\u001b[0m\u001b[0mfit\u001b[0m\u001b[0;34m(\u001b[0m\u001b[0mtrainX\u001b[0m\u001b[0;34m,\u001b[0m \u001b[0mtrainy\u001b[0m\u001b[0;34m)\u001b[0m\u001b[0;34m\u001b[0m\u001b[0m\n",
        "\u001b[0;31mImportError\u001b[0m: cannot import name zero_one_score"
       ]
      }
     ],
     "prompt_number": 43
    },
    {
     "cell_type": "markdown",
     "metadata": {},
     "source": [
      "What is the optimal regularization parameter chosen by the grid search? And what is the error-rate for this optimized model on the training data?\n",
      "\n",
      "We get similar results to the authors, even though our CV procedure is different"
     ]
    },
    {
     "cell_type": "code",
     "collapsed": false,
     "input": [
      "clf.best_params_, 1.0 - clf.best_score_"
     ],
     "language": "python",
     "metadata": {},
     "outputs": []
    },
    {
     "cell_type": "markdown",
     "metadata": {},
     "source": [
      "As we did above, let's plot the training data error rates vs. candidates for the regularization parameter.  Since fitting the `GridSearchCV` function provided the output for each CV fold, we can add standard errors around the average error rate."
     ]
    },
    {
     "cell_type": "code",
     "collapsed": false,
     "input": [
      "rates = np.array([1.0 - x[1] for x in clf.grid_scores_])\n",
      "stds   = [np.std(1.0 - x[2]) / math.sqrt(n_cv_folds) for x in clf.grid_scores_]\n",
      "\n",
      "plt.fill_between(cs, rates - stds, rates + stds, color = 'steelblue', alpha = .4)\n",
      "plt.plot(cs, rates, 'o-k', label = 'Avg. error rate across folds')\n",
      "plt.xlabel('C (regularization parameter)')\n",
      "plt.ylabel('Avg. error rate (and +/- 1 s.e.)')\n",
      "plt.legend(loc = 'best')\n",
      "plt.gca().grid()"
     ],
     "language": "python",
     "metadata": {},
     "outputs": []
    },
    {
     "cell_type": "markdown",
     "metadata": {},
     "source": [
      "We can use the `predict` method to fit this optimized model on the test-set inputs. Then,\n",
      "we can use the `classification_report` and `confusion_matrix` functions to assess the fit on the test set."
     ]
    },
    {
     "cell_type": "code",
     "collapsed": false,
     "input": [
      "print metrics.classification_report(testy, clf.predict(testX))"
     ],
     "language": "python",
     "metadata": {},
     "outputs": []
    },
    {
     "cell_type": "markdown",
     "metadata": {},
     "source": [
      "The confusion matrix. Rows represent the actual class of the test data, the columns represent the predicted class."
     ]
    },
    {
     "cell_type": "code",
     "collapsed": false,
     "input": [
      "print '   Predicted'\n",
      "print '   Class'\n",
      "print DataFrame(metrics.confusion_matrix(testy, clf.predict(testX)))"
     ],
     "language": "python",
     "metadata": {},
     "outputs": []
    },
    {
     "cell_type": "code",
     "collapsed": false,
     "input": [],
     "language": "python",
     "metadata": {},
     "outputs": []
    }
   ],
   "metadata": {}
  }
 ]
}