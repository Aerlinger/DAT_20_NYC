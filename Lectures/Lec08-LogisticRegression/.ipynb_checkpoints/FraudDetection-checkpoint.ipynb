{
 "metadata": {
  "name": "",
  "signature": "sha256:9d354ef15c68f677f5e42bc2e2dc5bcfdea59727ee7278bf355f0a090c6c310f"
 },
 "nbformat": 3,
 "nbformat_minor": 0,
 "worksheets": [
  {
   "cells": [
    {
     "cell_type": "code",
     "collapsed": false,
     "input": [
      "import pandas as pd\n",
      "\n",
      "df = pd.read_csv('../', index_col=0)\n",
      "\n",
      "# downsample negative cases -- there are many more negatives than positives\n",
      "indices = np.where(df.default == 'No')[0]\n",
      "rng = np.random.RandomState(13)\n",
      "rng.shuffle(indices)\n",
      "n_pos = (df.default == 'Yes').sum()\n",
      "df = df.drop(df.index[indices[n_pos:]])\n",
      "\n",
      "df.head()\n",
      " "
     ],
     "language": "python",
     "metadata": {},
     "outputs": []
    },
    {
     "cell_type": "code",
     "collapsed": false,
     "input": [],
     "language": "python",
     "metadata": {},
     "outputs": []
    }
   ],
   "metadata": {}
  }
 ]
}