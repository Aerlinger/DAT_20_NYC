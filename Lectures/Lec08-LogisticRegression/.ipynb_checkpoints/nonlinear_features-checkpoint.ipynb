{
 "metadata": {
  "name": "",
  "signature": "sha256:6f9b0d7981413b5310fd66bd2f446a223d473d307e48e114e152705e3128149e"
 },
 "nbformat": 3,
 "nbformat_minor": 0,
 "worksheets": [
  {
   "cells": [
    {
     "cell_type": "code",
     "collapsed": false,
     "input": [
      "import numpy as np\n",
      "import matplotlib.pyplot as plt\n",
      "\n",
      "from sklearn.linear_model import Ridge\n",
      "from sklearn.preprocessing import PolynomialFeatures\n",
      "from sklearn.pipeline import make_pipeline\n",
      "\n",
      "\n",
      "def f(x):\n",
      "    \"\"\" function to approximate by polynomial interpolation\"\"\"\n",
      "    return x * np.sin(x)\n",
      "\n",
      "\n",
      "# generate points used to plot\n",
      "x_plot = np.linspace(0, 10, 100)\n",
      "\n",
      "# generate points and keep a subset of them\n",
      "x = np.linspace(0, 10, 100)\n",
      "rng = np.random.RandomState(0)\n",
      "rng.shuffle(x)\n",
      "x = np.sort(x[:20])\n",
      "y = f(x)\n",
      "\n",
      "# create matrix versions of these arrays\n",
      "X = x[:, np.newaxis]\n",
      "X_plot = x_plot[:, np.newaxis]\n",
      "\n",
      "plt.plot(x_plot, f(x_plot), label=\"ground truth\")\n",
      "plt.scatter(x, y, label=\"training points\")\n",
      "\n",
      "for degree in [3, 4, 5]:\n",
      "    model = make_pipeline(PolynomialFeatures(degree), Ridge())\n",
      "    model.fit(X, y)\n",
      "    y_plot = model.predict(X_plot)\n",
      "    plt.plot(x_plot, y_plot, label=\"degree %d\" % degree)\n",
      "\n",
      "plt.legend(loc='lower left')\n",
      "\n",
      "plt.show()"
     ],
     "language": "python",
     "metadata": {},
     "outputs": []
    }
   ],
   "metadata": {}
  }
 ]
}