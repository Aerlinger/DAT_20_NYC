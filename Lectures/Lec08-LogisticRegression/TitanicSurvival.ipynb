{
 "worksheets": [
  {
   "cells": [
    {
     "cell_type": "code",
     "metadata": {},
     "outputs": [],
     "input": [
      "import numpy as np\n",
      "import pandas as pd\n",
      "\n",
      "import matplotlib.pyplot as plt\n",
      "\n",
      "import sklearn\n",
      "import sklearn.linear_model as lm\n",
      "import sklearn.cross_validation as cv\n",
      "import sklearn.grid_search as gs\n",
      "\n",
      "%matplotlib inline"
     ],
     "language": "python",
     "prompt_number": 44
    },
    {
     "cell_type": "code",
     "metadata": {},
     "outputs": [
      {
       "output_type": "pyout",
       "html": [
        "<div style=\"max-height:1000px;max-width:1500px;overflow:auto;\">\n",
        "<table border=\"1\" class=\"dataframe\">\n",
        "  <thead>\n",
        "    <tr style=\"text-align: right;\">\n",
        "      <th></th>\n",
        "      <th>survived</th>\n",
        "      <th>pclass</th>\n",
        "      <th>name</th>\n",
        "      <th>sex</th>\n",
        "      <th>age</th>\n",
        "      <th>sibsp</th>\n",
        "      <th>parch</th>\n",
        "      <th>ticket</th>\n",
        "      <th>fare</th>\n",
        "      <th>cabin</th>\n",
        "      <th>embarked</th>\n",
        "    </tr>\n",
        "  </thead>\n",
        "  <tbody>\n",
        "    <tr>\n",
        "      <th>0</th>\n",
        "      <td> 0</td>\n",
        "      <td> 3</td>\n",
        "      <td>                           Braund, Mr. Owen Harris</td>\n",
        "      <td>   male</td>\n",
        "      <td> 22</td>\n",
        "      <td> 1</td>\n",
        "      <td> 0</td>\n",
        "      <td>        A/5 21171</td>\n",
        "      <td>  7.2500</td>\n",
        "      <td>  NaN</td>\n",
        "      <td> S</td>\n",
        "    </tr>\n",
        "    <tr>\n",
        "      <th>1</th>\n",
        "      <td> 1</td>\n",
        "      <td> 1</td>\n",
        "      <td> Cumings, Mrs. John Bradley (Florence Briggs Th...</td>\n",
        "      <td> female</td>\n",
        "      <td> 38</td>\n",
        "      <td> 1</td>\n",
        "      <td> 0</td>\n",
        "      <td>         PC 17599</td>\n",
        "      <td> 71.2833</td>\n",
        "      <td>  C85</td>\n",
        "      <td> C</td>\n",
        "    </tr>\n",
        "    <tr>\n",
        "      <th>2</th>\n",
        "      <td> 1</td>\n",
        "      <td> 3</td>\n",
        "      <td>                            Heikkinen, Miss. Laina</td>\n",
        "      <td> female</td>\n",
        "      <td> 26</td>\n",
        "      <td> 0</td>\n",
        "      <td> 0</td>\n",
        "      <td> STON/O2. 3101282</td>\n",
        "      <td>  7.9250</td>\n",
        "      <td>  NaN</td>\n",
        "      <td> S</td>\n",
        "    </tr>\n",
        "    <tr>\n",
        "      <th>3</th>\n",
        "      <td> 1</td>\n",
        "      <td> 1</td>\n",
        "      <td>      Futrelle, Mrs. Jacques Heath (Lily May Peel)</td>\n",
        "      <td> female</td>\n",
        "      <td> 35</td>\n",
        "      <td> 1</td>\n",
        "      <td> 0</td>\n",
        "      <td>           113803</td>\n",
        "      <td> 53.1000</td>\n",
        "      <td> C123</td>\n",
        "      <td> S</td>\n",
        "    </tr>\n",
        "    <tr>\n",
        "      <th>4</th>\n",
        "      <td> 0</td>\n",
        "      <td> 3</td>\n",
        "      <td>                          Allen, Mr. William Henry</td>\n",
        "      <td>   male</td>\n",
        "      <td> 35</td>\n",
        "      <td> 0</td>\n",
        "      <td> 0</td>\n",
        "      <td>           373450</td>\n",
        "      <td>  8.0500</td>\n",
        "      <td>  NaN</td>\n",
        "      <td> S</td>\n",
        "    </tr>\n",
        "  </tbody>\n",
        "</table>\n",
        "</div>"
       ],
       "text": [
        "   survived  pclass                                               name  \\\n",
        "0         0       3                            Braund, Mr. Owen Harris   \n",
        "1         1       1  Cumings, Mrs. John Bradley (Florence Briggs Th...   \n",
        "2         1       3                             Heikkinen, Miss. Laina   \n",
        "3         1       1       Futrelle, Mrs. Jacques Heath (Lily May Peel)   \n",
        "4         0       3                           Allen, Mr. William Henry   \n",
        "\n",
        "      sex  age  sibsp  parch            ticket     fare cabin embarked  \n",
        "0    male   22      1      0         A/5 21171   7.2500   NaN        S  \n",
        "1  female   38      1      0          PC 17599  71.2833   C85        C  \n",
        "2  female   26      0      0  STON/O2. 3101282   7.9250   NaN        S  \n",
        "3  female   35      1      0            113803  53.1000  C123        S  \n",
        "4    male   35      0      0            373450   8.0500   NaN        S  "
       ],
       "metadata": {}
      }
     ],
     "input": [
      "titanic_raw = pd.read_csv('../../Data/titanic.csv')\n",
      "\n",
      "titanic_raw.head()"
     ],
     "language": "python",
     "prompt_number": 45
    },
    {
     "cell_type": "code",
     "metadata": {},
     "outputs": [
      {
       "output_type": "pyout",
       "html": [
        "<div style=\"max-height:1000px;max-width:1500px;overflow:auto;\">\n",
        "<table border=\"1\" class=\"dataframe\">\n",
        "  <thead>\n",
        "    <tr style=\"text-align: right;\">\n",
        "      <th></th>\n",
        "      <th>survived</th>\n",
        "      <th>pclass</th>\n",
        "      <th>sex</th>\n",
        "      <th>age</th>\n",
        "    </tr>\n",
        "  </thead>\n",
        "  <tbody>\n",
        "    <tr>\n",
        "      <th>0</th>\n",
        "      <td> 0</td>\n",
        "      <td> 3</td>\n",
        "      <td> False</td>\n",
        "      <td> 22</td>\n",
        "    </tr>\n",
        "    <tr>\n",
        "      <th>1</th>\n",
        "      <td> 1</td>\n",
        "      <td> 1</td>\n",
        "      <td>  True</td>\n",
        "      <td> 38</td>\n",
        "    </tr>\n",
        "    <tr>\n",
        "      <th>2</th>\n",
        "      <td> 1</td>\n",
        "      <td> 3</td>\n",
        "      <td>  True</td>\n",
        "      <td> 26</td>\n",
        "    </tr>\n",
        "    <tr>\n",
        "      <th>3</th>\n",
        "      <td> 1</td>\n",
        "      <td> 1</td>\n",
        "      <td>  True</td>\n",
        "      <td> 35</td>\n",
        "    </tr>\n",
        "    <tr>\n",
        "      <th>4</th>\n",
        "      <td> 0</td>\n",
        "      <td> 3</td>\n",
        "      <td> False</td>\n",
        "      <td> 35</td>\n",
        "    </tr>\n",
        "  </tbody>\n",
        "</table>\n",
        "</div>"
       ],
       "text": [
        "   survived  pclass    sex  age\n",
        "0         0       3  False   22\n",
        "1         1       1   True   38\n",
        "2         1       3   True   26\n",
        "3         1       1   True   35\n",
        "4         0       3  False   35"
       ],
       "metadata": {}
      }
     ],
     "input": [
      "titanic = titanic_raw.drop(['ticket', 'cabin', 'name', 'fare', 'embarked', 'sibsp', 'parch'], axis=1)\n",
      "\n",
      "titanic['sex'] = titanic['sex'] == 'female'\n",
      "titanic.head()"
     ],
     "language": "python",
     "prompt_number": 46
    },
    {
     "cell_type": "code",
     "metadata": {},
     "outputs": [
      {
       "output_type": "pyout",
       "html": [
        "<div style=\"max-height:1000px;max-width:1500px;overflow:auto;\">\n",
        "<table border=\"1\" class=\"dataframe\">\n",
        "  <thead>\n",
        "    <tr style=\"text-align: right;\">\n",
        "      <th>sex</th>\n",
        "      <th>False</th>\n",
        "      <th>True</th>\n",
        "    </tr>\n",
        "    <tr>\n",
        "      <th>survived</th>\n",
        "      <th></th>\n",
        "      <th></th>\n",
        "    </tr>\n",
        "  </thead>\n",
        "  <tbody>\n",
        "    <tr>\n",
        "      <th>0</th>\n",
        "      <td> 468</td>\n",
        "      <td>  81</td>\n",
        "    </tr>\n",
        "    <tr>\n",
        "      <th>1</th>\n",
        "      <td> 109</td>\n",
        "      <td> 233</td>\n",
        "    </tr>\n",
        "  </tbody>\n",
        "</table>\n",
        "</div>"
       ],
       "text": [
        "sex       False  True \n",
        "survived              \n",
        "0           468     81\n",
        "1           109    233"
       ],
       "metadata": {}
      }
     ],
     "input": [
      "pd.crosstab(titanic.survived, titanic.sex)"
     ],
     "language": "python",
     "prompt_number": 47
    },
    {
     "cell_type": "code",
     "metadata": {},
     "outputs": [
      {
       "output_type": "pyout",
       "html": [
        "<div style=\"max-height:1000px;max-width:1500px;overflow:auto;\">\n",
        "<table border=\"1\" class=\"dataframe\">\n",
        "  <thead>\n",
        "    <tr style=\"text-align: right;\">\n",
        "      <th>pclass</th>\n",
        "      <th>1</th>\n",
        "      <th>2</th>\n",
        "      <th>3</th>\n",
        "    </tr>\n",
        "    <tr>\n",
        "      <th>survived</th>\n",
        "      <th></th>\n",
        "      <th></th>\n",
        "      <th></th>\n",
        "    </tr>\n",
        "  </thead>\n",
        "  <tbody>\n",
        "    <tr>\n",
        "      <th>0</th>\n",
        "      <td>  80</td>\n",
        "      <td> 97</td>\n",
        "      <td> 372</td>\n",
        "    </tr>\n",
        "    <tr>\n",
        "      <th>1</th>\n",
        "      <td> 136</td>\n",
        "      <td> 87</td>\n",
        "      <td> 119</td>\n",
        "    </tr>\n",
        "  </tbody>\n",
        "</table>\n",
        "</div>"
       ],
       "text": [
        "pclass      1   2    3\n",
        "survived              \n",
        "0          80  97  372\n",
        "1         136  87  119"
       ],
       "metadata": {}
      }
     ],
     "input": [
      "pd.crosstab(titanic.survived, titanic.pclass)"
     ],
     "language": "python",
     "prompt_number": 48
    },
    {
     "cell_type": "code",
     "metadata": {},
     "outputs": [],
     "input": [
      "data = titanic[['sex', 'age', 'pclass', 'survived']].copy()\n",
      "data = data.dropna()"
     ],
     "language": "python",
     "prompt_number": 49
    },
    {
     "cell_type": "code",
     "metadata": {},
     "outputs": [
      {
       "output_type": "pyout",
       "html": [
        "<div style=\"max-height:1000px;max-width:1500px;overflow:auto;\">\n",
        "<table border=\"1\" class=\"dataframe\">\n",
        "  <thead>\n",
        "    <tr style=\"text-align: right;\">\n",
        "      <th></th>\n",
        "      <th>sex</th>\n",
        "      <th>age</th>\n",
        "      <th>pclass</th>\n",
        "      <th>survived</th>\n",
        "    </tr>\n",
        "  </thead>\n",
        "  <tbody>\n",
        "  </tbody>\n",
        "</table>\n",
        "</div>"
       ],
       "text": [
        "Empty DataFrame\n",
        "Columns: [sex, age, pclass, survived]\n",
        "Index: []"
       ],
       "metadata": {}
      }
     ],
     "input": [
      "data.loc[data['age'].isnull()]"
     ],
     "language": "python",
     "prompt_number": 50
    },
    {
     "cell_type": "code",
     "metadata": {},
     "outputs": [],
     "input": [
      "data_np = data.astype(np.int32).values\n",
      "\n",
      "# Note slicing from [:, :-1] here means from the 0th to 2nd to last row. (data_np[-1] access the last row)\n",
      "X = data_np[:, :-1]\n",
      "y = data_np[:,-1]"
     ],
     "language": "python",
     "prompt_number": 51
    },
    {
     "cell_type": "code",
     "metadata": {},
     "outputs": [
      {
       "output_type": "pyout",
       "prompt_number": 52,
       "text": [
        "{'female': array([ 5,  6,  4,  7, 10, 10,  6,  4,  5,  5,  1,  1,  0,  0,  0,  0]),\n",
        " 'male': array([ 8,  5,  5, 45, 65, 58, 49, 35, 25, 20, 17,  9,  9,  4,  6,  0])}"
       ],
       "metadata": {}
      }
     ],
     "input": [
      "female = X[:,0] == 1\n",
      "survived = y == 1\n",
      "age = X[:, 1]\n",
      "\n",
      "bins_ = np.arange(0, 81, 5)\n",
      "\n",
      "# Split Survivors by gender and age\n",
      "# Survivors ~ gender + age\n",
      "\n",
      "# Survivors\n",
      "S = {\n",
      "    'male': np.histogram(age[survived & ~female], bins=bins_)[0],\n",
      "    'female': np.histogram(age[survived & female], bins=bins_)[0]\n",
      "}\n",
      "\n",
      "# Non-Survivors\n",
      "D = {\n",
      "    'male': np.histogram(age[~survived & ~female], bins=bins_)[0],\n",
      "    'female': np.histogram(age[~survived & female], bins=bins_)[0]\n",
      "}\n",
      "\n",
      "D"
     ],
     "language": "python",
     "prompt_number": 52
    },
    {
     "cell_type": "code",
     "metadata": {},
     "outputs": [
      {
       "output_type": "display_data",
       "png": "[encoded data removed]",
       "text": [
        "<matplotlib.figure.Figure at 0x109adabd0>"
       ],
       "metadata": {}
      }
     ],
     "input": [
      "# We now plot the data.\n",
      "bins = bins_[:-1]\n",
      "plt.figure(figsize=(18, 5));\n",
      "# for i, sex, color in [(0, 'male', '#3345d0'), (1, 'female', '#cc3dc0')]:\n",
      "\n",
      "# TODO: Think about how we could rewrite the following using a for loop to avoid repetition\n",
      "\n",
      "plt.subplot(121);\n",
      "plt.bar(bins, S['male'], bottom=D['male'], color='#3345d0', width=5, label='survived');\n",
      "plt.bar(bins, D['male'], color='k', width=5, label='died');\n",
      "plt.xlim(0, 80);\n",
      "plt.grid(None);\n",
      "plt.title('male' + \" survival\");\n",
      "plt.xlabel(\"Age (years)\");\n",
      "plt.legend();\n",
      "\n",
      "plt.subplot(122);\n",
      "plt.bar(bins, S['female'], bottom=D['female'], color='#cc3dc0', width=5, label='survived');\n",
      "plt.bar(bins, D['female'], color='k', width=5, label='died');\n",
      "plt.xlim(0, 80);\n",
      "plt.grid(None);\n",
      "plt.title('female' + \" survival\");\n",
      "plt.xlabel(\"Age (years)\");\n",
      "plt.legend();"
     ],
     "language": "python",
     "prompt_number": 53
    },
    {
     "cell_type": "code",
     "metadata": {},
     "outputs": [],
     "input": [
      "# We split X and y into train and test datasets. \n",
      "#  Note: I don't have much data here so use 95% of my data points for training\n",
      "X_train, X_test, y_train, y_test = cv.train_test_split(X, y, test_size=.05)"
     ],
     "language": "python",
     "prompt_number": 54
    },
    {
     "cell_type": "code",
     "metadata": {},
     "outputs": [],
     "input": [
      "# We instantiate the classifier in a similar manner to LinearRegression\n",
      "logreg = lm.LogisticRegression();\n",
      "\n",
      "logreg.fit(X_train, y_train)\n",
      "y_predicted = logreg.predict(X_test)"
     ],
     "language": "python",
     "prompt_number": 55
    },
    {
     "cell_type": "code",
     "metadata": {},
     "outputs": [
      {
       "output_type": "pyout",
       "prompt_number": 56,
       "text": [
        "<matplotlib.image.AxesImage at 0x109f4f210>"
       ],
       "metadata": {}
      },
      {
       "output_type": "display_data",
       "png": "[encoded data removed]",
       "text": [
        "<matplotlib.figure.Figure at 0x109a58610>"
       ],
       "metadata": {}
      }
     ],
     "input": [
      "plt.figure(figsize=(8, 3))\n",
      "\n",
      "plt.imshow(np.vstack((y_test, y_predicted)), interpolation='none', cmap='bone')"
     ],
     "language": "python",
     "prompt_number": 56
    },
    {
     "cell_type": "code",
     "metadata": {},
     "outputs": [
      {
       "output_type": "pyout",
       "prompt_number": 57,
       "text": [
        "array([ 0.78661088,  0.78991597,  0.78059072])"
       ],
       "metadata": {}
      }
     ],
     "input": [
      "cv.cross_val_score(logreg, X, y)"
     ],
     "language": "python",
     "prompt_number": 57
    },
    {
     "cell_type": "code",
     "metadata": {},
     "outputs": [
      {
       "output_type": "pyout",
       "prompt_number": 58,
       "text": [
        "{'C': 0.032929712550971511}"
       ],
       "metadata": {}
      }
     ],
     "input": [
      "grid = gs.GridSearchCV(logreg, {'C': np.logspace(-5, 5, 200)}, n_jobs=4)\n",
      "grid.fit(X_train, y_train);\n",
      "grid.best_params_"
     ],
     "language": "python",
     "prompt_number": 58
    },
    {
     "cell_type": "code",
     "metadata": {},
     "outputs": [
      {
       "output_type": "pyout",
       "prompt_number": 59,
       "text": [
        "array([ 0.77405858,  0.81092437,  0.79746835])"
       ],
       "metadata": {}
      }
     ],
     "input": [
      "cv.cross_val_score(grid.best_estimator_, X, y)"
     ],
     "language": "python",
     "prompt_number": 59
    },
    {
     "cell_type": "markdown",
     "metadata": {},
     "source": [
      "# With a nonlinear decision boundary"
     ]
    },
    {
     "cell_type": "code",
     "metadata": {},
     "outputs": [],
     "input": [
      "from sklearn.preprocessing import PolynomialFeatures"
     ],
     "language": "python",
     "prompt_number": 60
    },
    {
     "cell_type": "code",
     "metadata": {},
     "outputs": [
      {
       "output_type": "pyout",
       "prompt_number": 61,
       "text": [
        "<matplotlib.image.AxesImage at 0x109582e90>"
       ],
       "metadata": {}
      },
      {
       "output_type": "display_data",
       "png": "[encoded data removed]",
       "text": [
        "<matplotlib.figure.Figure at 0x109cde250>"
       ],
       "metadata": {}
      }
     ],
     "input": [
      "# fit a 4th order polynomial\n",
      "poly = PolynomialFeatures(degree=3)\n",
      "poly.fit(X)\n",
      "\n",
      "X_poly = poly.transform(X)\n",
      "\n",
      "X_poly_train, X_poly_test, y_poly_train, y_poly_test = cv.train_test_split(X_poly, y, test_size=.1)\n",
      "\n",
      "logreg.fit(X_poly_train, y_poly_train)\n",
      "y_poly_predicted = logreg.predict(X_poly_test)\n",
      "\n",
      "plt.figure(figsize=(8, 3))\n",
      "\n",
      "plt.imshow(np.vstack((y_poly_test, y_poly_predicted)), interpolation='none', cmap='bone')"
     ],
     "language": "python",
     "prompt_number": 61
    },
    {
     "cell_type": "code",
     "metadata": {},
     "outputs": [
      {
       "output_type": "pyout",
       "prompt_number": 62,
       "text": [
        "array([ 0.76388889,  0.73611111,  0.76388889,  0.875     ,  0.77464789,\n",
        "        0.8028169 ,  0.77464789,  0.74647887,  0.84507042,  0.81690141])"
       ],
       "metadata": {}
      }
     ],
     "input": [
      "cv.cross_val_score(logreg, X_poly, y, cv=10)"
     ],
     "language": "python",
     "prompt_number": 62
    },
    {
     "cell_type": "code",
     "metadata": {},
     "outputs": [
      {
       "output_type": "pyout",
       "prompt_number": 63,
       "text": [
        "{'C': 1382.6221737646592}"
       ],
       "metadata": {}
      }
     ],
     "input": [
      "grid = gs.GridSearchCV(logreg, {'C': np.logspace(-5, 5, 200)}, n_jobs=4)\n",
      "grid.fit(X_poly_train, y_poly_train);\n",
      "grid.best_params_"
     ],
     "language": "python",
     "prompt_number": 63
    },
    {
     "cell_type": "code",
     "metadata": {},
     "outputs": [
      {
       "output_type": "pyout",
       "prompt_number": 64,
       "text": [
        "array([ 0.78242678,  0.79831933,  0.78481013])"
       ],
       "metadata": {}
      }
     ],
     "input": [
      "cv.cross_val_score(grid.best_estimator_, X, y)"
     ],
     "language": "python",
     "prompt_number": 64
    },
    {
     "cell_type": "code",
     "metadata": {},
     "outputs": [],
     "input": [
      "## This function is used to plot the decision boundary in two dimensions. We haven't covered some of this stuff yet, \n",
      "# and while useful, focus on the rest of this code in this notebook before reviewing this function.\n",
      "def plot_decision_boundary(est, x_1, x_2, ax=None, threshold=0.0, contourf=False):\n",
      "    \"\"\"Plots the decision surface of ``est`` on features ``x1`` and ``x2``. \"\"\"\n",
      "    xx1, xx2 = np.meshgrid(np.linspace(x_1.min(), x_1.max(), 100), \n",
      "                           np.linspace(x_2.min(), x_2.max(), 100))\n",
      "    # plot the hyperplane by evaluating the parameters on the grid\n",
      "    X_pred = np.c_[xx1.ravel(), xx2.ravel()]  # convert 2d grid into seq of points\n",
      "    if hasattr(est, 'predict_proba'):  # check if ``est`` supports probabilities\n",
      "        # take probability of positive class\n",
      "        pred = est.predict_proba(X_pred)[:, 1]\n",
      "    else:\n",
      "        pred = est.predict(X_pred)\n",
      "    Z = pred.reshape((100, 100))  # reshape seq to grid\n",
      "    if ax is None:\n",
      "        ax = plt.gca()\n",
      "\n",
      "    # plot line via contour plot\n",
      "\n",
      "    if contourf:\n",
      "        ax.contourf(xx1, xx2, Z, levels=np.linspace(0, 1.0, 10), cmap=plt.cm.RdBu, alpha=0.6)\n",
      "    ax.contour(xx1, xx2, Z, levels=[threshold], colors='black')\n",
      "    \n",
      "    ax.set_xlim((x_1.min(), x_1.max()))\n",
      "    ax.set_ylim((x_2.min(), x_2.max()))"
     ],
     "language": "python",
     "prompt_number": 65
    },
    {
     "cell_type": "code",
     "metadata": {},
     "outputs": [],
     "input": [
      ""
     ],
     "language": "python"
    }
   ]
  }
 ],
 "cells": [],
 "metadata": {
  "name": "",
  "signature": "sha256:3adc3c773ba770c8c183b52c5c08f5babf14b510256fdc29b4e0ff1c3ef0f507"
 },
 "nbformat": 3,
 "nbformat_minor": 0
}