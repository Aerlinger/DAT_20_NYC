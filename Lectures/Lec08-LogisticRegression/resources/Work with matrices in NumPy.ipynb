{
 "worksheets": [
  {
   "cells": [
    {
     "cell_type": "markdown",
     "metadata": {},
     "source": [
      "NumPy is for multidimensional array operations\n",
      "==============================================\n",
      "NumPy specializes in fast operations on arrays and parts of arrays."
     ]
    },
    {
     "cell_type": "code",
     "metadata": {},
     "outputs": [],
     "input": [
      "import numpy as np"
     ],
     "language": "python"
    },
    {
     "cell_type": "markdown",
     "metadata": {},
     "source": [
      "Make an array\n",
      "-------------\n",
      "Make an array from a list."
     ]
    },
    {
     "cell_type": "code",
     "metadata": {},
     "outputs": [
      {
       "output_type": "pyout",
       "text": [
        "array([1, 2, 3])"
       ],
       "metadata": {}
      }
     ],
     "input": [
      "np.array([1, 2, 3])"
     ],
     "language": "python",
     "prompt_number": 2
    },
    {
     "cell_type": "code",
     "metadata": {},
     "outputs": [],
     "input": [
      "np.array([[1, 2], [3, 4]])"
     ],
     "language": "python",
     "prompt_number": 3
    },
    {
     "cell_type": "markdown",
     "metadata": {},
     "source": [
      "Make an array using a function."
     ]
    },
    {
     "cell_type": "code",
     "metadata": {},
     "outputs": [
      {
       "output_type": "pyout",
       "text": [
        "array([[ 0.,  0.,  0.],\n       [ 0.,  0.,  0.]])"
       ],
       "metadata": {}
      }
     ],
     "input": [
      "np.zeros((2, 3))"
     ],
     "language": "python",
     "prompt_number": 3
    },
    {
     "cell_type": "code",
     "metadata": {},
     "outputs": [
      {
       "output_type": "pyout",
       "text": [
        "array([[ 1.,  1.],\n       [ 1.,  1.],\n       [ 1.,  1.]])"
       ],
       "metadata": {}
      }
     ],
     "input": [
      "np.ones((3, 2))"
     ],
     "language": "python",
     "prompt_number": 4
    },
    {
     "cell_type": "code",
     "metadata": {},
     "outputs": [
      {
       "output_type": "pyout",
       "text": [
        "array([0, 2, 4, 6, 8])"
       ],
       "metadata": {}
      }
     ],
     "input": [
      "# Make an array by starting at 0, incrementing by 2 and ending before 10\n",
      "np.arange(0, 10, 2)"
     ],
     "language": "python",
     "prompt_number": 5
    },
    {
     "cell_type": "code",
     "metadata": {},
     "outputs": [
      {
       "output_type": "pyout",
       "text": [
        "array([ 0.        ,  0.33333333,  0.66666667,  1.        ])"
       ],
       "metadata": {}
      }
     ],
     "input": [
      "# Make an array of four evenly spaced numbers including both endpoints\n",
      "np.linspace(0, 1, 4)"
     ],
     "language": "python",
     "prompt_number": 6
    },
    {
     "cell_type": "code",
     "metadata": {},
     "outputs": [
      {
       "output_type": "pyout",
       "text": [
        "True"
       ],
       "metadata": {}
      }
     ],
     "input": [
      "# Make an array evenly spaced on a log scale\n",
      "x = np.logspace(0, 1, 4)\n",
      "# Show that the two arrays are equivalent\n",
      "np.allclose(x, 10 ** np.linspace(0, 1, 4))"
     ],
     "language": "python",
     "prompt_number": 7
    },
    {
     "cell_type": "code",
     "metadata": {},
     "outputs": [
      {
       "output_type": "stream",
       "stream": "stdout",
       "text": [
        "100000 loops, best of 3: 13.7 µs per loop\n100000 loops, best of 3: 14.6 µs per loop"
       ]
      },
      {
       "output_type": "stream",
       "stream": "stdout",
       "text": [
        "\n"
       ]
      }
     ],
     "input": [
      "# Check execution speed\n",
      "%timeit np.logspace(0, 1, 4)\n",
      "%timeit 10 ** np.linspace(0, 1, 4)"
     ],
     "language": "python",
     "prompt_number": 8
    },
    {
     "cell_type": "markdown",
     "metadata": {},
     "source": [
      "Access parts of an array by indexing\n",
      "------------------------------------\n",
      "Access elements of a 1-dimensional array."
     ]
    },
    {
     "cell_type": "code",
     "metadata": {},
     "outputs": [],
     "input": [
      "x = np.arange(4)\n",
      "print x\n",
      "print x[0]  # Get the first element\n",
      "print x[-1] # Get the last element"
     ],
     "language": "python",
     "prompt_number": 10
    },
    {
     "cell_type": "markdown",
     "metadata": {},
     "source": [
      "Access elements of a multidimensional array."
     ]
    },
    {
     "cell_type": "code",
     "metadata": {},
     "outputs": [],
     "input": [
      "x = np.arange(6).reshape(2, 3)\n",
      "print x"
     ],
     "language": "python",
     "prompt_number": 11
    },
    {
     "cell_type": "code",
     "metadata": {},
     "outputs": [],
     "input": [
      "print x[-1]     # Get the last row\n",
      "print x[-1, -1] # Get the last element of the last row"
     ],
     "language": "python",
     "prompt_number": 12
    },
    {
     "cell_type": "code",
     "metadata": {},
     "outputs": [],
     "input": [
      "%timeit x[0, 0] # Faster\n",
      "%timeit x[0][0]"
     ],
     "language": "python",
     "prompt_number": 13
    },
    {
     "cell_type": "markdown",
     "metadata": {},
     "source": [
      "Access slices of an array using colons."
     ]
    },
    {
     "cell_type": "code",
     "metadata": {},
     "outputs": [],
     "input": [
      "x = np.arange(10)\n",
      "print x\n",
      "print x[:3]  # Get the first three elements\n",
      "print x[-3:] # Get the last three elements\n",
      "print x[1:4] # Get some elements in the middle"
     ],
     "language": "python",
     "prompt_number": 14
    },
    {
     "cell_type": "code",
     "metadata": {},
     "outputs": [],
     "input": [
      "print x[::2] # Get every second element\n",
      "print x[::3] # Get every third element"
     ],
     "language": "python",
     "prompt_number": 15
    },
    {
     "cell_type": "code",
     "metadata": {},
     "outputs": [],
     "input": [
      "x = np.arange(25).reshape(5, 5)\n",
      "print x"
     ],
     "language": "python",
     "prompt_number": 16
    },
    {
     "cell_type": "code",
     "metadata": {},
     "outputs": [],
     "input": [
      "print x[:2, :2]   # Get the first two columns and the first two rows"
     ],
     "language": "python",
     "prompt_number": 17
    },
    {
     "cell_type": "code",
     "metadata": {},
     "outputs": [],
     "input": [
      "print x[::2, ::2] # Get every second column of every second row"
     ],
     "language": "python",
     "prompt_number": 18
    },
    {
     "cell_type": "markdown",
     "metadata": {},
     "source": [
      "Access parts of an array with index arrays."
     ]
    },
    {
     "cell_type": "code",
     "metadata": {},
     "outputs": [],
     "input": [
      "# Generate six random integers between 0 and 9 inclusive\n",
      "x = np.random.random_integers(0, 9, 6) \n",
      "print x"
     ],
     "language": "python",
     "prompt_number": 19
    },
    {
     "cell_type": "code",
     "metadata": {},
     "outputs": [],
     "input": [
      "# Get the first number and the last two numbers\n",
      "indices = [0, -2, -1]\n",
      "print x[indices]"
     ],
     "language": "python",
     "prompt_number": 20
    },
    {
     "cell_type": "code",
     "metadata": {},
     "outputs": [],
     "input": [
      "# Make a random set of indices and use it for two arrays\n",
      "arrayLength = 5\n",
      "x1 = np.arange(arrayLength)\n",
      "x2 = np.arange(arrayLength) * -1\n",
      "indices = np.random.permutation(arrayLength)\n",
      "print x1[indices]\n",
      "print x2[indices]"
     ],
     "language": "python",
     "prompt_number": 21
    },
    {
     "cell_type": "code",
     "metadata": {},
     "outputs": [],
     "input": [
      "# Use a multidimensional index array\n",
      "x = np.random.random_integers(0, 9, 3)\n",
      "indices = np.array([[0, 1], [1, 2]])\n",
      "print 'Candidates = %s' % x\n",
      "print x[indices]"
     ],
     "language": "python",
     "prompt_number": 22
    },
    {
     "cell_type": "markdown",
     "metadata": {},
     "source": [
      "Filter arrays by element value with boolean index arrays."
     ]
    },
    {
     "cell_type": "code",
     "metadata": {},
     "outputs": [],
     "input": [
      "x = np.arange(5)\n",
      "print x"
     ],
     "language": "python",
     "prompt_number": 23
    },
    {
     "cell_type": "code",
     "metadata": {},
     "outputs": [],
     "input": [
      "print x > 2"
     ],
     "language": "python",
     "prompt_number": 24
    },
    {
     "cell_type": "code",
     "metadata": {},
     "outputs": [],
     "input": [
      "print x[x > 2]"
     ],
     "language": "python",
     "prompt_number": 25
    },
    {
     "cell_type": "markdown",
     "metadata": {},
     "source": [
      "Include whole dimensions with a colon or ellipsis."
     ]
    },
    {
     "cell_type": "code",
     "metadata": {},
     "outputs": [],
     "input": [
      "x = np.arange(16).reshape(2, 2, 2, 2)\n",
      "print x"
     ],
     "language": "python",
     "prompt_number": 26
    },
    {
     "cell_type": "code",
     "metadata": {},
     "outputs": [],
     "input": [
      "print x[0]"
     ],
     "language": "python",
     "prompt_number": 27
    },
    {
     "cell_type": "code",
     "metadata": {},
     "outputs": [],
     "input": [
      "print x[0, 0]"
     ],
     "language": "python",
     "prompt_number": 28
    },
    {
     "cell_type": "code",
     "metadata": {},
     "outputs": [],
     "input": [
      "print x[0, 0, 0]"
     ],
     "language": "python",
     "prompt_number": 29
    },
    {
     "cell_type": "code",
     "metadata": {},
     "outputs": [],
     "input": [
      "print x[0, 0, 0, 0]\n",
      "print x[0, 0, 1, 0]\n",
      "print x[0, 0, :, 0]"
     ],
     "language": "python",
     "prompt_number": 30
    },
    {
     "cell_type": "code",
     "metadata": {},
     "outputs": [],
     "input": [
      "print x[0, 1, 0, 0]\n",
      "print x[0, 1, 1, 0]\n",
      "print x[0, 1, :, 0]"
     ],
     "language": "python",
     "prompt_number": 31
    },
    {
     "cell_type": "code",
     "metadata": {},
     "outputs": [],
     "input": [
      "print x[0, :, :, 0]"
     ],
     "language": "python",
     "prompt_number": 32
    },
    {
     "cell_type": "code",
     "metadata": {},
     "outputs": [],
     "input": [
      "print x[0, ..., 0]"
     ],
     "language": "python",
     "prompt_number": 33
    },
    {
     "cell_type": "markdown",
     "metadata": {},
     "source": [
      "Build indices programmatically."
     ]
    },
    {
     "cell_type": "code",
     "metadata": {},
     "outputs": [],
     "input": [
      "x = np.arange(16).reshape(2, 2, 2, 2)\n",
      "indices = [0, slice(x.shape[1]), slice(x.shape[2]), 0]\n",
      "print x[indices] # x[0, :, :, 0]\n",
      "indices = [0, Ellipsis, 0]\n",
      "print x[indices] # x[0, ..., 0]"
     ],
     "language": "python",
     "prompt_number": 34
    },
    {
     "cell_type": "markdown",
     "metadata": {},
     "source": [
      "Change parts of an array by indexing\n",
      "------------------------------------"
     ]
    },
    {
     "cell_type": "code",
     "metadata": {},
     "outputs": [],
     "input": [
      "x = zeros((5, 5))\n",
      "print x"
     ],
     "language": "python",
     "prompt_number": 35
    },
    {
     "cell_type": "code",
     "metadata": {},
     "outputs": [],
     "input": [
      "x[1:4, 1:4] = 1\n",
      "print x"
     ],
     "language": "python",
     "prompt_number": 36
    },
    {
     "cell_type": "markdown",
     "metadata": {},
     "source": [
      "Combine arrays by concatenating\n",
      "-------------------------------"
     ]
    },
    {
     "cell_type": "code",
     "metadata": {},
     "outputs": [],
     "input": [
      "x = np.array([1, 2])\n",
      "y = np.array([3, 4])\n",
      "print 'Concatenate along the first axis.'\n",
      "print np.r_[x, y]\n",
      "print 'Concatenate along the second axis.'\n",
      "print np.c_[x, y]"
     ],
     "language": "python",
     "prompt_number": 37
    },
    {
     "cell_type": "markdown",
     "metadata": {},
     "source": [
      "Combine arrays of different dimensions by broadcasting\n",
      "------------------------------------------------------\n",
      "Broadcast a scalar over a matrix."
     ]
    },
    {
     "cell_type": "code",
     "metadata": {},
     "outputs": [],
     "input": [
      "x = np.arange(9).reshape(3, 3)\n",
      "print x"
     ],
     "language": "python",
     "prompt_number": 38
    },
    {
     "cell_type": "code",
     "metadata": {},
     "outputs": [],
     "input": [
      "print x + 10"
     ],
     "language": "python",
     "prompt_number": 39
    },
    {
     "cell_type": "markdown",
     "metadata": {},
     "source": [
      "Broadcast a vector over a matrix."
     ]
    },
    {
     "cell_type": "code",
     "metadata": {},
     "outputs": [],
     "input": [
      "y = np.ones(3)\n",
      "print y"
     ],
     "language": "python",
     "prompt_number": 40
    },
    {
     "cell_type": "code",
     "metadata": {},
     "outputs": [],
     "input": [
      "x + y"
     ],
     "language": "python",
     "prompt_number": 41
    },
    {
     "cell_type": "markdown",
     "metadata": {},
     "source": [
      "Broadcast scalars over vectors."
     ]
    },
    {
     "cell_type": "code",
     "metadata": {},
     "outputs": [],
     "input": [
      "x = np.arange(5)\n",
      "print x"
     ],
     "language": "python",
     "prompt_number": 42
    },
    {
     "cell_type": "code",
     "metadata": {},
     "outputs": [],
     "input": [
      "print x[:, None] # Add a dimension"
     ],
     "language": "python",
     "prompt_number": 43
    },
    {
     "cell_type": "code",
     "metadata": {},
     "outputs": [],
     "input": [
      "print x[None, :] # Add a dimension"
     ],
     "language": "python",
     "prompt_number": 44
    },
    {
     "cell_type": "code",
     "metadata": {},
     "outputs": [],
     "input": [
      "print x[:, None] + x[None, :]"
     ],
     "language": "python",
     "prompt_number": 45
    },
    {
     "cell_type": "markdown",
     "metadata": {},
     "source": [
      "Process arrays\n",
      "--------------"
     ]
    },
    {
     "cell_type": "code",
     "metadata": {},
     "outputs": [],
     "input": [
      "x = np.arange(4)\n",
      "print x"
     ],
     "language": "python",
     "prompt_number": 46
    },
    {
     "cell_type": "code",
     "metadata": {},
     "outputs": [],
     "input": [
      "y = x.reshape(2, 2)\n",
      "print y"
     ],
     "language": "python",
     "prompt_number": 47
    },
    {
     "cell_type": "code",
     "metadata": {},
     "outputs": [],
     "input": [
      "print y.ravel()"
     ],
     "language": "python",
     "prompt_number": 48
    },
    {
     "cell_type": "code",
     "metadata": {},
     "outputs": [],
     "input": [
      "print y.sum()\n",
      "print y.sum(axis=0)\n",
      "print y.sum(axis=1)"
     ],
     "language": "python",
     "prompt_number": 49
    },
    {
     "cell_type": "code",
     "metadata": {},
     "outputs": [],
     "input": [
      "print y.mean()\n",
      "print y.mean(axis=0)\n",
      "print y.mean(axis=1)"
     ],
     "language": "python",
     "prompt_number": 50
    },
    {
     "cell_type": "code",
     "metadata": {},
     "outputs": [],
     "input": [
      "print y.std()\n",
      "print y.std(axis=0)\n",
      "print y.std(axis=1)"
     ],
     "language": "python",
     "prompt_number": 51
    },
    {
     "cell_type": "code",
     "metadata": {},
     "outputs": [],
     "input": [
      "np.dot([1, 2], [3,4])"
     ],
     "language": "python",
     "prompt_number": 52
    },
    {
     "cell_type": "markdown",
     "metadata": {},
     "source": [
      "Save and load arrays\n",
      "--------------------"
     ]
    },
    {
     "cell_type": "code",
     "metadata": {},
     "outputs": [],
     "input": [
      "import os\n",
      "filePath = os.path.expandvars('$HOME/Downloads/matrix.npy')\n",
      "# Save an array in .npy format\n",
      "np.save(filePath, [1, 2, 3])\n",
      "# Load an array in .npy format\n",
      "np.load(filePath)"
     ],
     "language": "python",
     "prompt_number": 53
    },
    {
     "cell_type": "code",
     "metadata": {},
     "outputs": [],
     "input": [
      "import os\n",
      "filePath = os.path.expandvars('$HOME/Downloads/matrix.npz')\n",
      "# Save multiple arrays in .npz format\n",
      "np.savez(filePath, a=[1, 2], b=[3, 4])\n",
      "# Load multiple arrays in .npz format\n",
      "np.load(filePath).items()"
     ],
     "language": "python",
     "prompt_number": 54
    },
    {
     "cell_type": "code",
     "metadata": {},
     "outputs": [],
     "input": [
      "import os\n",
      "import h5py\n",
      "filePath = os.path.expandvars('$HOME/Downloads/matrix.hdf5')\n",
      "# Save huge arrays in hdf5 format\n",
      "h5pyFile = h5py.File(filePath, 'w')\n",
      "h5pyFile.create_dataset('a', data=[1, 2])\n",
      "h5pyFile.create_dataset('b', data=[3, 4])\n",
      "h5pyFile.close()\n",
      "# Load huge arrays in hdf5 format\n",
      "h5pyFile = h5py.File(filePath, 'r')\n",
      "print h5pyFile.items()\n",
      "h5pyFile.close()"
     ],
     "language": "python",
     "prompt_number": 55
    }
   ]
  }
 ],
 "cells": [],
 "metadata": {
  "name": "111 Work with matrices in NumPy"
 },
 "nbformat": 3,
 "nbformat_minor": 0
}