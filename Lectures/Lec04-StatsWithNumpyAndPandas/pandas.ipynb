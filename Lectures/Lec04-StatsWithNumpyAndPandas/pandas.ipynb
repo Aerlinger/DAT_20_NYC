{
 "metadata": {
  "name": "",
  "signature": "sha256:bbe683bd897bfe1881b0a7cfbd0a2f3c9ec8062c12c1f06466483815c24fd8b1"
 },
 "nbformat": 3,
 "nbformat_minor": 0,
 "worksheets": [
  {
   "cells": [
    {
     "cell_type": "code",
     "collapsed": false,
     "input": [
      "%%html\n",
      "<link rel=\"stylesheet\" href=\"static/hyrule.css\" type=\"text/css\">"
     ],
     "language": "python",
     "metadata": {},
     "outputs": [
      {
       "html": [
        "<link rel=\"stylesheet\" href=\"static/hyrule.css\" type=\"text/css\">"
       ],
       "metadata": {},
       "output_type": "pyout",
       "text": [
        "<IPython.core.display.HTML at 0x108a2b8d0>"
       ]
      }
     ],
     "prompt_number": 1
    },
    {
     "cell_type": "heading",
     "level": 1,
     "metadata": {},
     "source": [
      "Handling Data with Pandas"
     ]
    },
    {
     "cell_type": "markdown",
     "metadata": {},
     "source": [
      "## Objectives\n",
      "\n",
      "* Review different ways to pull data into pandas and the link between objects in python and pandas\n",
      "* Understand the differences between a DataFrame and a Series\n",
      "* Practice part of the ACES data exploration model\n",
      "* Learn imputation strategies\n"
     ]
    },
    {
     "cell_type": "heading",
     "level": 2,
     "metadata": {},
     "source": [
      "Code Dictionary"
     ]
    },
    {
     "cell_type": "markdown",
     "metadata": {},
     "source": [
      "Each class we'll make sure there's one location that shows any new functionality introduced, with explanations of how each method works.\n",
      "\n",
      "\n",
      "`pd.read_csv`: Reads in a csv file (by default) as a DataFrame. Does much more! check out [documentation](http://pandas.pydata.org/pandas-docs/stable/generated/pandas.io.parsers.read_csv.html)\n",
      "\n",
      "`pd.DataFrame`: Pandas' primary object, a 2-dimensional array (matrix).\n",
      "\n",
      "`pd.Series`: Pandas' other object, a 1-dimensional array (vector).\n",
      "\n",
      "functions | description\n",
      "----------|------------\n",
      "`.head()` | returns back the head of the pandas object (works for both DataFrame and Series)\n",
      "`.describe()` | returns statistical results back for the pandas object. \n",
      "`.isnull()` | returns back true for each value if it is null. Opposite of `.notnull()`\n",
      "`.dropna()` | returns back the object with the NA values dropped. `.dropna()` and the following four functions **do not** update the original pandas object. <br /> Can use the `inplace` argument to change that.\n",
      "`.ffill()` | front fills the missing data.\n",
      "`.bfill()` | back fills the missing data.\n",
      "`.fillna()` | fills missing data with whatever pass in as an argument. \n",
      "`.apply()` | apply a function to either a series (column) or DataFrame (by row)\n",
      "\n",
      "parameters | description\n",
      "-----------|------------\n",
      "`.columns` | returns back the columns\n",
      "`.index` | returns back the index of the object\n",
      "`[statement]` | commonly used for filtering to either a set of columns, rows, or data that is true to the boolean statement"
     ]
    },
    {
     "cell_type": "heading",
     "level": 2,
     "metadata": {},
     "source": [
      "Lecture Notes"
     ]
    },
    {
     "cell_type": "markdown",
     "metadata": {},
     "source": [
      "### A quick introduction to iPython Notebook:\n",
      "\n",
      "Consider iPython notebook to be a great organization tool, but it takes much **practice** to keep it organized. Early recommendations while we practice using this tool in class:\n",
      "\n",
      "1. It is very easy to want to edit previous python cells. Until you're really confortatable with Notebook, please don't! Everything that you run stays **in the notebook**, so the moment you accidentally delete code that you might have been using, you lose your work the next time you run the notebook.\n",
      "2. The `mode` of Notebook is very similar to vim, so vim users should feel comfortable:\n",
      "    1. The natural mode is a command mode. If you press `esc`, you should be in this mode. It's for gettinng around, changing cell types, and other commands. While in command mode, if you press `h`, it'll let you know anything else you can do.\n",
      "    2. The other primary mode is edit mode. Pressing `return` on a cell will put you into edit mode (this would be similar to pressing `i` or `a` in vim). It's for editing cells, be they headers, markdown, code. We won't need nbconvert for the purposes of this course.\n",
      "3. Most developers initialize a notebook with customized pandas settings. Examples of those defaults are included below:\n"
     ]
    },
    {
     "cell_type": "code",
     "collapsed": false,
     "input": [
      "import pandas as pd\n",
      "import numpy as np\n",
      "from __future__ import division\n",
      "pd.set_option('display.max_rows', 500)\n",
      "pd.set_option('display.max_columns', 500)\n",
      "pd.set_option('display.width', 1000)\n",
      "pd.options.display.mpl_style = 'default'"
     ],
     "language": "python",
     "metadata": {},
     "outputs": [],
     "prompt_number": 2
    },
    {
     "cell_type": "markdown",
     "metadata": {},
     "source": [
      "They are customizable to your taste, and we will add more later. \n",
      "\n",
      "### Exploratory Data Analysis\n",
      "\n",
      "Primarily our goals for exploring data are the following:\n",
      "\n",
      "* **A**ssemble.\n",
      "* **C**lean.\n",
      "* **E**xplore.\n",
      "* **S**ummarize.\n",
      "\n",
      "Today we will review some common pandas commands (provided above) to focus on for this data exploration model.\n",
      "\n",
      "## Practice: Reading in Data\n",
      "\n",
      "Pandas will work across a variety of data inputs, including csv, excel, JSON, and using additional python libraries to connect to databases. For today, we'll focus on using the csv input. We'll use data about heart disease from the UC Irvine Machine Learning data repository[1]. \n",
      "\n",
      "Given this directory: http://archive.ics.uci.edu/ml/machine-learning-databases/heart-disease/\n",
      "\n",
      "There are a few different data types, some processed, some not, and a \"names\" file. The names file will expose for us the columns for the processed data:\n",
      "```\n",
      "7. Attribute Information:\n",
      "-- Only 14 used\n",
      "  -- 1. #3  (age)       \n",
      "  -- 2. #4  (sex)       \n",
      "  -- 3. #9  (cp)        \n",
      "  -- 4. #10 (trestbps)  \n",
      "  -- 5. #12 (chol)      \n",
      "  -- 6. #16 (fbs)       \n",
      "  -- 7. #19 (restecg)   \n",
      "  -- 8. #32 (thalach)   \n",
      "  -- 9. #38 (exang)     \n",
      "  -- 10. #40 (oldpeak)   \n",
      "  -- 11. #41 (slope)     \n",
      "  -- 12. #44 (ca)        \n",
      "  -- 13. #51 (thal)      \n",
      "  -- 14. #58 (num)       (the predicted attribute)\n",
      "```\n",
      "\n",
      "Let's grab those fields as headers, and the processed cleveland data to work with in pandas (the .names file refers that this is the primary file used in research). Pandas io tools [2] handles http requests to grab files from the internet, though reminder that when doing so, it only saves the file in memory (in python), and not as a file on your machine."
     ]
    },
    {
     "cell_type": "code",
     "collapsed": false,
     "input": [
      "header_row = ['age', 'sex', 'cp', 'trestbps', 'chol', 'fbs', 'restecg', 'thalach', 'exang', 'oldpeak', 'slope', 'ca', 'thal', 'num',]\n",
      "url = 'http://archive.ics.uci.edu/ml/machine-learning-databases/heart-disease/processed.cleveland.data'\n",
      "heart_data = pd.read_csv(url, header=0, na_values='?')\n",
      "heart_data.columns = header_row"
     ],
     "language": "python",
     "metadata": {},
     "outputs": [],
     "prompt_number": 11
    },
    {
     "cell_type": "code",
     "collapsed": false,
     "input": [
      "print heart_data.head()"
     ],
     "language": "python",
     "metadata": {},
     "outputs": [
      {
       "output_type": "stream",
       "stream": "stdout",
       "text": [
        "   age  sex  cp  trestbps  chol  fbs  restecg  thalach  exang  oldpeak  slope  ca  thal  num\n",
        "0   67    1   4       160   286    0        2      108      1      1.5      2   3     3    2\n",
        "1   67    1   4       120   229    0        2      129      1      2.6      2   2     7    1\n",
        "2   37    1   3       130   250    0        0      187      0      3.5      3   0     3    0\n",
        "3   41    0   2       130   204    0        2      172      0      1.4      1   0     3    0\n",
        "4   56    1   2       120   236    0        0      178      0      0.8      1   0     3    0\n"
       ]
      }
     ],
     "prompt_number": 4
    },
    {
     "cell_type": "markdown",
     "metadata": {},
     "source": [
      "### Pandas is really just python\n",
      "Pandas is a library for python, built heavily around the task of manipulating and presenting data. If you're writing pandas code, you're writing python code! Pandas contains (primarily) two new python objects:\n",
      "\n",
      "* **DataFrame**: a wrapper around a 2 dimensional numpy ndarray (in math, we call this a matrix)\n",
      "* **Series**: a wrapper around a 1 dimensional numpy ndarray (in math, we call this a vector)\n",
      "\n",
      "### Math Jargon\n",
      "\n",
      "When working through data matrices and vectors, we'll also often use the words feature and observation. \n",
      "\n",
      "* **Feature**: a feature is represented by a column. It is a segmentation of your data. Features are usually either continuous values (representing -inf to inf, and 1 < 2) or categorical values (each value represents its own space; 1 !< 2).\n",
      "* **Observation**: an observation is a row of your data. It should represent a single entity (for example, a survey responder).\n",
      "* **Target Variable**: often we'll be working with a column called a target variable, or predicted value. In data analysis, it is often the goal to be able to statistically explain this variable using the observations and features.\n",
      "\n",
      "### DataFrames behave like lists\n",
      "DataFrames support many of the functionalities of lists, like slicing."
     ]
    },
    {
     "cell_type": "code",
     "collapsed": false,
     "input": [
      "## Lists\n",
      "import random\n",
      "random_list = [random.random() for i in xrange(300)]\n",
      "\n",
      "print random_list[3:14]\n",
      "print random_list[280:]\n",
      "print random_list[:20]\n",
      "\n",
      "print len(random_list)\n",
      "\n",
      "## DataFrame\n",
      "print heart_data[3:14]\n",
      "print heart_data[280:]\n",
      "print heart_data[:20]\n",
      "\n",
      "print len(heart_data)"
     ],
     "language": "python",
     "metadata": {},
     "outputs": [
      {
       "output_type": "stream",
       "stream": "stdout",
       "text": [
        "[0.9278281404325828, 0.6032986419144217, 0.6553764672139683, 0.32320812302782653, 0.010979641516758454, 0.582081132465087, 0.951240262762849, 0.11326754766818325, 0.16606066332662917, 0.28542082504339306, 0.9857840313449759]\n",
        "[0.5513777913008416, 0.8370603177723971, 0.5460973716724037, 0.832043001125446, 0.9179125723045839, 0.4093879727392259, 0.13846139520263578, 0.20569316149674088, 0.2910876103944904, 0.33968540736076147, 0.8452831827676043, 0.813171712321004, 0.08688054643873488, 0.36871804652593587, 0.1610186917575892, 0.7615204783701673, 0.8850453483057376, 0.8328228943053669, 0.5789752370590356, 0.6552527267398992]\n",
        "[0.9608043047514543, 0.48382626666837136, 0.7783818045203853, 0.9278281404325828, 0.6032986419144217, 0.6553764672139683, 0.32320812302782653, 0.010979641516758454, 0.582081132465087, 0.951240262762849, 0.11326754766818325, 0.16606066332662917, 0.28542082504339306, 0.9857840313449759, 0.07988621824016529, 0.8145701084682406, 0.01869604834104799, 0.0545769097372637, 0.022470408629947314, 0.45691273928496345]\n",
        "300\n",
        "    age  sex  cp  trestbps  chol  fbs  restecg  thalach  exang  oldpeak  slope  ca  thal  num\n",
        "3    41    0   2       130   204    0        2      172      0      1.4      1   0     3    0\n",
        "4    56    1   2       120   236    0        0      178      0      0.8      1   0     3    0\n",
        "5    62    0   4       140   268    0        2      160      0      3.6      3   2     3    3\n",
        "6    57    0   4       120   354    0        0      163      1      0.6      1   0     3    0\n",
        "7    63    1   4       130   254    0        2      147      0      1.4      2   1     7    2\n",
        "8    53    1   4       140   203    1        2      155      1      3.1      3   0     7    1\n",
        "9    57    1   4       140   192    0        0      148      0      0.4      2   0     6    0\n",
        "10   56    0   2       140   294    0        2      153      0      1.3      2   0     3    0\n",
        "11   56    1   3       130   256    1        2      142      1      0.6      2   1     6    2\n",
        "12   44    1   2       120   263    0        0      173      0      0.0      1   0     7    0\n",
        "13   52    1   3       172   199    1        0      162      0      0.5      1   0     7    0\n",
        "     age  sex  cp  trestbps  chol  fbs  restecg  thalach  exang  oldpeak  slope  ca  thal  num\n",
        "280   47    1   3       130   253    0        0      179      0      0.0      1   0     3    0\n",
        "281   55    0   4       128   205    0        1      130      1      2.0      2   1     7    3\n",
        "282   35    1   2       122   192    0        0      174      0      0.0      1   0     3    0\n",
        "283   61    1   4       148   203    0        0      161      0      0.0      1   1     7    2\n",
        "284   58    1   4       114   318    0        1      140      0      4.4      3   3     6    4\n",
        "285   58    0   4       170   225    1        2      146      1      2.8      2   2     6    2\n",
        "286   58    1   2       125   220    0        0      144      0      0.4      2 NaN     7    0\n",
        "287   56    1   2       130   221    0        2      163      0      0.0      1   0     7    0\n",
        "288   56    1   2       120   240    0        0      169      0      0.0      3   0     3    0\n",
        "289   67    1   3       152   212    0        2      150      0      0.8      2   0     7    1\n",
        "290   55    0   2       132   342    0        0      166      0      1.2      1   0     3    0\n",
        "291   44    1   4       120   169    0        0      144      1      2.8      3   0     6    2\n",
        "292   63    1   4       140   187    0        2      144      1      4.0      1   2     7    2\n",
        "293   63    0   4       124   197    0        0      136      1      0.0      2   0     3    1\n",
        "294   41    1   2       120   157    0        0      182      0      0.0      1   0     3    0\n",
        "295   59    1   4       164   176    1        2       90      0      1.0      2   2     6    3\n",
        "296   57    0   4       140   241    0        0      123      1      0.2      2   0     7    1\n",
        "297   45    1   1       110   264    0        0      132      0      1.2      2   0     7    1\n",
        "298   68    1   4       144   193    1        0      141      0      3.4      2   2     7    2\n",
        "299   57    1   4       130   131    0        0      115      1      1.2      2   1     7    3\n",
        "300   57    0   2       130   236    0        2      174      0      0.0      2   1     3    1\n",
        "301   38    1   3       138   175    0        0      173      0      0.0      1 NaN     3    0\n",
        "    age  sex  cp  trestbps  chol  fbs  restecg  thalach  exang  oldpeak  slope  ca  thal  num\n",
        "0    67    1   4       160   286    0        2      108      1      1.5      2   3     3    2\n",
        "1    67    1   4       120   229    0        2      129      1      2.6      2   2     7    1\n",
        "2    37    1   3       130   250    0        0      187      0      3.5      3   0     3    0\n",
        "3    41    0   2       130   204    0        2      172      0      1.4      1   0     3    0\n",
        "4    56    1   2       120   236    0        0      178      0      0.8      1   0     3    0\n",
        "5    62    0   4       140   268    0        2      160      0      3.6      3   2     3    3\n",
        "6    57    0   4       120   354    0        0      163      1      0.6      1   0     3    0\n",
        "7    63    1   4       130   254    0        2      147      0      1.4      2   1     7    2\n",
        "8    53    1   4       140   203    1        2      155      1      3.1      3   0     7    1\n",
        "9    57    1   4       140   192    0        0      148      0      0.4      2   0     6    0\n",
        "10   56    0   2       140   294    0        2      153      0      1.3      2   0     3    0\n",
        "11   56    1   3       130   256    1        2      142      1      0.6      2   1     6    2\n",
        "12   44    1   2       120   263    0        0      173      0      0.0      1   0     7    0\n",
        "13   52    1   3       172   199    1        0      162      0      0.5      1   0     7    0\n",
        "14   57    1   3       150   168    0        0      174      0      1.6      1   0     3    0\n",
        "15   48    1   2       110   229    0        0      168      0      1.0      3   0     7    1\n",
        "16   54    1   4       140   239    0        0      160      0      1.2      1   0     3    0\n",
        "17   48    0   3       130   275    0        0      139      0      0.2      1   0     3    0\n",
        "18   49    1   2       130   266    0        0      171      0      0.6      1   0     3    0\n",
        "19   64    1   1       110   211    0        2      144      1      1.8      2   0     3    0"
       ]
      },
      {
       "output_type": "stream",
       "stream": "stdout",
       "text": [
        "\n",
        "302\n"
       ]
      }
     ],
     "prompt_number": 5
    },
    {
     "cell_type": "markdown",
     "metadata": {},
     "source": [
      "### DataFrames also behave like dictionaries\n",
      "DataFrames support returning by column in a similar way a dictionary returns by key. Note that passing in a string for a key will return a pandas **Series**, while a list of keys will return a **DataFrame**.\n",
      "\n",
      "The following table of code shows similar code, dependent on your object type:\n",
      "\n",
      "action | dictionary | DataFrame\n",
      "-------|-----------|----------\n",
      "return values for a key | `some_dict['a']` | `heart_data['age']`\n",
      "creating a new key | `some_dict['d'] = [i**2 for i in some_dictionary['a']]` | `heart_data['random_var'] = random.random()`\n",
      "filtering results for a key | `[i for i in some_dict['a'] if i > .5]` | `heart_data[heart_data['random_var'] >.7]`\n"
     ]
    },
    {
     "cell_type": "code",
     "collapsed": false,
     "input": [
      "## Dictionary\n",
      "some_dict = {k: [random.random() for i in xrange(20)] for k in ['a', 'b', 'c',]}\n",
      "some_dict['d'] = [i**2 for i in some_dict['a']]\n",
      "\n",
      "print some_dict['a']\n",
      "print some_dict['b']\n",
      "print [i for i in some_dict['a'] if i > .5]\n",
      "\n",
      "## DataFrame\n",
      "heart_data['random_var'] = [random.random() for i in heart_data.index]\n",
      "\n",
      "print heart_data['age'].head()\n",
      "print heart_data['sex'].head()\n",
      "print heart_data[['cp', 'oldpeak']].head()\n",
      "\n",
      "# Note on Printing Types -- What do we get back?\n",
      "print type(heart_data['sex'])\n",
      "print type(heart_data[['sex']])\n",
      "print type(heart_data[['cp', 'oldpeak']])\n",
      "\n",
      "# Creating a subset:\n",
      "# Since random.random uses a flat distribution, consider the below as one approach to pick a random subset.\n",
      "heart_subset = heart_data[heart_data['random_var'] >.7].head()"
     ],
     "language": "python",
     "metadata": {},
     "outputs": [
      {
       "output_type": "stream",
       "stream": "stdout",
       "text": [
        "[0.4920456609396099, 0.8441774202909521, 0.9992505648761829, 0.7529818336079658, 0.3317026438677191, 0.5623536818191667, 0.392753606676412, 0.21704596027347944, 0.3992370684181833, 0.5692784614570239, 0.6617454193124774, 0.9057486924471023, 0.5787631881355632, 0.7434392770226774, 0.4313880759385228, 0.8869215636823008, 0.8483971902728967, 0.014575682235162146, 0.44792333728631484, 0.4124819001267589]\n",
        "[0.4432668727604232, 0.9457844643880683, 0.6736286379701664, 0.8535102831257844, 0.28872594778784544, 0.26885403404192265, 0.6899783839977026, 0.5572993759787254, 0.57086420557074, 0.45851771592385715, 0.39890008058262016, 0.36434947103021964, 0.7601527407356191, 0.4185407020033395, 0.01842435055554359, 0.7997411841313221, 0.5312197304292824, 0.7981660324867212, 0.8479244562748643, 0.16036111908881912]\n",
        "[0.8441774202909521, 0.9992505648761829, 0.7529818336079658, 0.5623536818191667, 0.5692784614570239, 0.6617454193124774, 0.9057486924471023, 0.5787631881355632, 0.7434392770226774, 0.8869215636823008, 0.8483971902728967]\n",
        "0    67\n",
        "1    67\n",
        "2    37\n",
        "3    41\n",
        "4    56\n",
        "Name: age, dtype: float64\n",
        "0    1\n",
        "1    1\n",
        "2    1\n",
        "3    0\n",
        "4    1\n",
        "Name: sex, dtype: float64\n",
        "   cp  oldpeak\n",
        "0   4      1.5\n",
        "1   4      2.6\n",
        "2   3      3.5\n",
        "3   2      1.4\n",
        "4   2      0.8\n",
        "<class 'pandas.core.series.Series'>\n",
        "<class 'pandas.core.frame.DataFrame'>\n",
        "<class 'pandas.core.frame.DataFrame'>\n"
       ]
      }
     ],
     "prompt_number": 6
    },
    {
     "cell_type": "markdown",
     "metadata": {},
     "source": [
      "## Practice: Selecting and subsetting data\n",
      "\n",
      "Let's write code to do the following things:\n",
      "\n",
      "1. Return back the `head()` of the `chol` column\n",
      "2. Return back all rows where `thalach` is below 150.\n",
      "3. Return back all rows where `age` is above the median (hint, you can get the median of a column using `df.col.median()`)\n",
      "4. Summarise the resting heart beat rate when the pain type is asymptomatic (look up columns in the text file, and use `.describe()`)\n"
     ]
    },
    {
     "cell_type": "markdown",
     "metadata": {},
     "source": [
      "### Cleaning Data\n",
      "\n",
      "Our primary task for today to clean is to find and handle missing values. Data can be missing for different reasons:\n",
      "\n",
      "* There was no response value. This is common in True/False data, where True could be a yes, False, could be a no, and NA just means there was no answer.\n",
      "* The data was poorly handled. Missing data happens all the time on poor data imports.\n",
      "* The missing data really should have just been a 0.\n",
      "\n",
      "To find missing data, we can use pandas `.describe()` function, which uses `count` as a \"count of non null values\" field, and the `.isnull()` function once we've identified rows missing data.\n"
     ]
    },
    {
     "cell_type": "code",
     "collapsed": false,
     "input": [
      "heart_data.describe()"
     ],
     "language": "python",
     "metadata": {},
     "outputs": [
      {
       "html": [
        "<div style=\"max-height:1000px;max-width:1500px;overflow:auto;\">\n",
        "<table border=\"1\" class=\"dataframe\">\n",
        "  <thead>\n",
        "    <tr style=\"text-align: right;\">\n",
        "      <th></th>\n",
        "      <th>age</th>\n",
        "      <th>sex</th>\n",
        "      <th>cp</th>\n",
        "      <th>trestbps</th>\n",
        "      <th>chol</th>\n",
        "      <th>fbs</th>\n",
        "      <th>restecg</th>\n",
        "      <th>thalach</th>\n",
        "      <th>exang</th>\n",
        "      <th>oldpeak</th>\n",
        "      <th>slope</th>\n",
        "      <th>ca</th>\n",
        "      <th>thal</th>\n",
        "      <th>num</th>\n",
        "      <th>random_var</th>\n",
        "    </tr>\n",
        "  </thead>\n",
        "  <tbody>\n",
        "    <tr>\n",
        "      <th>count</th>\n",
        "      <td> 302.000000</td>\n",
        "      <td> 302.000000</td>\n",
        "      <td> 302.000000</td>\n",
        "      <td> 302.000000</td>\n",
        "      <td> 302.000000</td>\n",
        "      <td> 302.000000</td>\n",
        "      <td> 302.000000</td>\n",
        "      <td> 302.000000</td>\n",
        "      <td> 302.000000</td>\n",
        "      <td> 302.000000</td>\n",
        "      <td> 302.000000</td>\n",
        "      <td> 298.000000</td>\n",
        "      <td> 300.000000</td>\n",
        "      <td> 302.000000</td>\n",
        "      <td> 302.000000</td>\n",
        "    </tr>\n",
        "    <tr>\n",
        "      <th>mean</th>\n",
        "      <td>  54.410596</td>\n",
        "      <td>   0.678808</td>\n",
        "      <td>   3.165563</td>\n",
        "      <td> 131.645695</td>\n",
        "      <td> 246.738411</td>\n",
        "      <td>   0.145695</td>\n",
        "      <td>   0.986755</td>\n",
        "      <td> 149.605960</td>\n",
        "      <td>   0.327815</td>\n",
        "      <td>   1.035430</td>\n",
        "      <td>   1.596026</td>\n",
        "      <td>   0.674497</td>\n",
        "      <td>   4.730000</td>\n",
        "      <td>   0.940397</td>\n",
        "      <td>   0.511311</td>\n",
        "    </tr>\n",
        "    <tr>\n",
        "      <th>std</th>\n",
        "      <td>   9.040163</td>\n",
        "      <td>   0.467709</td>\n",
        "      <td>   0.953612</td>\n",
        "      <td>  17.612202</td>\n",
        "      <td>  51.856829</td>\n",
        "      <td>   0.353386</td>\n",
        "      <td>   0.994916</td>\n",
        "      <td>  22.912959</td>\n",
        "      <td>   0.470196</td>\n",
        "      <td>   1.160723</td>\n",
        "      <td>   0.611939</td>\n",
        "      <td>   0.938202</td>\n",
        "      <td>   1.941563</td>\n",
        "      <td>   1.229384</td>\n",
        "      <td>   0.291668</td>\n",
        "    </tr>\n",
        "    <tr>\n",
        "      <th>min</th>\n",
        "      <td>  29.000000</td>\n",
        "      <td>   0.000000</td>\n",
        "      <td>   1.000000</td>\n",
        "      <td>  94.000000</td>\n",
        "      <td> 126.000000</td>\n",
        "      <td>   0.000000</td>\n",
        "      <td>   0.000000</td>\n",
        "      <td>  71.000000</td>\n",
        "      <td>   0.000000</td>\n",
        "      <td>   0.000000</td>\n",
        "      <td>   1.000000</td>\n",
        "      <td>   0.000000</td>\n",
        "      <td>   3.000000</td>\n",
        "      <td>   0.000000</td>\n",
        "      <td>   0.003594</td>\n",
        "    </tr>\n",
        "    <tr>\n",
        "      <th>25%</th>\n",
        "      <td>  48.000000</td>\n",
        "      <td>   0.000000</td>\n",
        "      <td>   3.000000</td>\n",
        "      <td> 120.000000</td>\n",
        "      <td> 211.000000</td>\n",
        "      <td>   0.000000</td>\n",
        "      <td>   0.000000</td>\n",
        "      <td> 133.250000</td>\n",
        "      <td>   0.000000</td>\n",
        "      <td>   0.000000</td>\n",
        "      <td>   1.000000</td>\n",
        "      <td>   0.000000</td>\n",
        "      <td>   3.000000</td>\n",
        "      <td>   0.000000</td>\n",
        "      <td>   0.254001</td>\n",
        "    </tr>\n",
        "    <tr>\n",
        "      <th>50%</th>\n",
        "      <td>  55.500000</td>\n",
        "      <td>   1.000000</td>\n",
        "      <td>   3.000000</td>\n",
        "      <td> 130.000000</td>\n",
        "      <td> 241.500000</td>\n",
        "      <td>   0.000000</td>\n",
        "      <td>   0.500000</td>\n",
        "      <td> 153.000000</td>\n",
        "      <td>   0.000000</td>\n",
        "      <td>   0.800000</td>\n",
        "      <td>   2.000000</td>\n",
        "      <td>   0.000000</td>\n",
        "      <td>   3.000000</td>\n",
        "      <td>   0.000000</td>\n",
        "      <td>   0.519219</td>\n",
        "    </tr>\n",
        "    <tr>\n",
        "      <th>75%</th>\n",
        "      <td>  61.000000</td>\n",
        "      <td>   1.000000</td>\n",
        "      <td>   4.000000</td>\n",
        "      <td> 140.000000</td>\n",
        "      <td> 275.000000</td>\n",
        "      <td>   0.000000</td>\n",
        "      <td>   2.000000</td>\n",
        "      <td> 166.000000</td>\n",
        "      <td>   1.000000</td>\n",
        "      <td>   1.600000</td>\n",
        "      <td>   2.000000</td>\n",
        "      <td>   1.000000</td>\n",
        "      <td>   7.000000</td>\n",
        "      <td>   2.000000</td>\n",
        "      <td>   0.760672</td>\n",
        "    </tr>\n",
        "    <tr>\n",
        "      <th>max</th>\n",
        "      <td>  77.000000</td>\n",
        "      <td>   1.000000</td>\n",
        "      <td>   4.000000</td>\n",
        "      <td> 200.000000</td>\n",
        "      <td> 564.000000</td>\n",
        "      <td>   1.000000</td>\n",
        "      <td>   2.000000</td>\n",
        "      <td> 202.000000</td>\n",
        "      <td>   1.000000</td>\n",
        "      <td>   6.200000</td>\n",
        "      <td>   3.000000</td>\n",
        "      <td>   3.000000</td>\n",
        "      <td>   7.000000</td>\n",
        "      <td>   4.000000</td>\n",
        "      <td>   0.997717</td>\n",
        "    </tr>\n",
        "  </tbody>\n",
        "</table>\n",
        "</div>"
       ],
       "metadata": {},
       "output_type": "pyout",
       "text": [
        "              age         sex          cp    trestbps        chol         fbs     restecg     thalach       exang     oldpeak       slope          ca        thal         num  random_var\n",
        "count  302.000000  302.000000  302.000000  302.000000  302.000000  302.000000  302.000000  302.000000  302.000000  302.000000  302.000000  298.000000  300.000000  302.000000  302.000000\n",
        "mean    54.410596    0.678808    3.165563  131.645695  246.738411    0.145695    0.986755  149.605960    0.327815    1.035430    1.596026    0.674497    4.730000    0.940397    0.511311\n",
        "std      9.040163    0.467709    0.953612   17.612202   51.856829    0.353386    0.994916   22.912959    0.470196    1.160723    0.611939    0.938202    1.941563    1.229384    0.291668\n",
        "min     29.000000    0.000000    1.000000   94.000000  126.000000    0.000000    0.000000   71.000000    0.000000    0.000000    1.000000    0.000000    3.000000    0.000000    0.003594\n",
        "25%     48.000000    0.000000    3.000000  120.000000  211.000000    0.000000    0.000000  133.250000    0.000000    0.000000    1.000000    0.000000    3.000000    0.000000    0.254001\n",
        "50%     55.500000    1.000000    3.000000  130.000000  241.500000    0.000000    0.500000  153.000000    0.000000    0.800000    2.000000    0.000000    3.000000    0.000000    0.519219\n",
        "75%     61.000000    1.000000    4.000000  140.000000  275.000000    0.000000    2.000000  166.000000    1.000000    1.600000    2.000000    1.000000    7.000000    2.000000    0.760672\n",
        "max     77.000000    1.000000    4.000000  200.000000  564.000000    1.000000    2.000000  202.000000    1.000000    6.200000    3.000000    3.000000    7.000000    4.000000    0.997717"
       ]
      }
     ],
     "prompt_number": 7
    },
    {
     "cell_type": "code",
     "collapsed": false,
     "input": [
      "## Looks like we have 4 missing values in the ca column, or the number of primary vessels, so let's focus on that one first.\n",
      "print heart_data[heart_data['ca'].isnull()]"
     ],
     "language": "python",
     "metadata": {},
     "outputs": [
      {
       "output_type": "stream",
       "stream": "stdout",
       "text": [
        "     age  sex  cp  trestbps  chol  fbs  restecg  thalach  exang  oldpeak  slope  ca  thal  num  random_var\n",
        "165   52    1   3       138   223    0        0      169      0      0.0      1 NaN     3    0    0.938431\n",
        "191   43    1   4       132   247    1        2      143      1      0.1      2 NaN     7    1    0.534137\n",
        "286   58    1   2       125   220    0        0      144      0      0.4      2 NaN     7    0    0.107981\n",
        "301   38    1   3       138   175    0        0      173      0      0.0      1 NaN     3    0    0.433531\n"
       ]
      }
     ],
     "prompt_number": 8
    },
    {
     "cell_type": "markdown",
     "metadata": {},
     "source": [
      "We can choose the handle the data a few different ways. This handling is called data imputation.\n",
      "\n",
      "1. Remove the data. This makes sense if we think it's bad data.\n",
      "2. Fill the data. Common techniques would be to fill with some default value (0), or backfill/forwardfill the data, based on the sort.\n",
      "3. interpolate the data. This technique is an estimation, sometimes with machine learning techniques. More on this later!"
     ]
    },
    {
     "cell_type": "code",
     "collapsed": false,
     "input": [
      "\"\"\" Trial 1: Drop missing values. \n",
      "Pandas defines this on the axis (think axis of a matrix):\n",
      "0: along the columns\n",
      "1: along the rows\n",
      "\"\"\"\n",
      "print heart_data[285:290]\n",
      "\n",
      "dropped_rows_heart_data = heart_data.dropna()\n",
      "dropped_ca_thal_heart_data = heart_data.dropna(1)\n",
      "\n",
      "print dropped_rows_heart_data[285:290]\n",
      "print dropped_ca_thal_heart_data[285:290]\n",
      "\n",
      "\"\"\" Trial 2: Fill the data\n",
      ".ffill(): fills forward\n",
      ".bfill(): fills backward\n",
      ".fillna(): fills based on some value\n",
      "\"\"\"\n",
      "print heart_data[285:290]['ca'].ffill()\n",
      "print heart_data[285:290]['ca'].bfill()\n",
      "print heart_data[285:290]['ca'].fillna(0) # fill with 0s\n",
      "print heart_data[285:290]['ca'].fillna(int(heart_data['ca'].mode())) # fill with the most common value"
     ],
     "language": "python",
     "metadata": {},
     "outputs": [
      {
       "output_type": "stream",
       "stream": "stdout",
       "text": [
        "     age  sex  cp  trestbps  chol  fbs  restecg  thalach  exang  oldpeak  slope  ca  thal  num  random_var\n",
        "285   58    0   4       170   225    1        2      146      1      2.8      2   2     6    2    0.550594\n",
        "286   58    1   2       125   220    0        0      144      0      0.4      2 NaN     7    0    0.107981\n",
        "287   56    1   2       130   221    0        2      163      0      0.0      1   0     7    0    0.452085\n",
        "288   56    1   2       120   240    0        0      169      0      0.0      3   0     3    0    0.334959\n",
        "289   67    1   3       152   212    0        2      150      0      0.8      2   0     7    1    0.671330\n",
        "     age  sex  cp  trestbps  chol  fbs  restecg  thalach  exang  oldpeak  slope  ca  thal  num  random_var\n",
        "290   55    0   2       132   342    0        0      166      0      1.2      1   0     3    0    0.325133\n",
        "291   44    1   4       120   169    0        0      144      1      2.8      3   0     6    2    0.325091\n",
        "292   63    1   4       140   187    0        2      144      1      4.0      1   2     7    2    0.121322\n",
        "293   63    0   4       124   197    0        0      136      1      0.0      2   0     3    1    0.535696\n",
        "294   41    1   2       120   157    0        0      182      0      0.0      1   0     3    0    0.928054\n",
        "     age  sex  cp  trestbps  chol  fbs  restecg  thalach  exang  oldpeak  slope  num  random_var\n",
        "285   58    0   4       170   225    1        2      146      1      2.8      2    2    0.550594\n",
        "286   58    1   2       125   220    0        0      144      0      0.4      2    0    0.107981\n",
        "287   56    1   2       130   221    0        2      163      0      0.0      1    0    0.452085\n",
        "288   56    1   2       120   240    0        0      169      0      0.0      3    0    0.334959\n",
        "289   67    1   3       152   212    0        2      150      0      0.8      2    1    0.671330\n",
        "285    2\n",
        "286    2\n",
        "287    0\n",
        "288    0\n",
        "289    0\n",
        "Name: ca, dtype: float64\n",
        "285    2\n",
        "286    0\n",
        "287    0\n",
        "288    0\n",
        "289    0\n",
        "Name: ca, dtype: float64\n",
        "285    2\n",
        "286    0\n",
        "287    0\n",
        "288    0\n",
        "289    0\n",
        "Name: ca, dtype: float64\n",
        "285    2\n",
        "286    0\n",
        "287    0\n",
        "288    0\n",
        "289    0\n",
        "Name: ca, dtype: float64\n"
       ]
      }
     ],
     "prompt_number": 9
    },
    {
     "cell_type": "markdown",
     "metadata": {},
     "source": [
      "### Practice Together: Filling Missing Data\n",
      "\n",
      "One other column was missing data in the heart disease data set.\n",
      "\n",
      "1. You can find it if you look at your counts in .describe. What was it?\n",
      "2. Look up the information about that column in the names file. What is that column about?\n",
      "3. Determine three different ways to fill that column. Which ways seems most ideal for this case?"
     ]
    },
    {
     "cell_type": "heading",
     "level": 3,
     "metadata": {},
     "source": [
      "Constructing new data"
     ]
    },
    {
     "cell_type": "markdown",
     "metadata": {},
     "source": [
      "One commont technique to data manipulation is to generate new data based on data already in the DataFrame. Pandas uses a function called `.apply()` in order to run such functions, either named functions (`def`) or nameless functions (`lambda`). `apply()` is particularly helpful for iterating through pandas data.\n",
      "\n",
      "Try it out by making a function where the patients resting heart beat (trestbps) was higher than their maximum heart rate achieved (thalach)."
     ]
    },
    {
     "cell_type": "code",
     "collapsed": false,
     "input": [
      "def high_resting(row):\n",
      "    if row['trestbps'] > row['thalach']:\n",
      "        return 1\n",
      "    else:\n",
      "        return 0\n",
      "\n",
      "# axis = 1 means what again?\n",
      "heart_data['high_resting'] = heart_data.apply(high_resting, axis=1)\n",
      "\n",
      "# This would work the same way!\n",
      "heart_data['high_resting'] = heart_data.apply(lambda row: 1 if row['trestbps'] > row['thalach'] else 0, axis=1)\n",
      "\n",
      "# axis = 0 means what again?\n",
      "heart_data['resting2x'] = heart_data['trestbps'].apply(lambda x: x*2)"
     ],
     "language": "python",
     "metadata": {},
     "outputs": [],
     "prompt_number": 10
    },
    {
     "cell_type": "heading",
     "level": 2,
     "metadata": {},
     "source": [
      "On Your Own"
     ]
    },
    {
     "cell_type": "markdown",
     "metadata": {},
     "source": [
      "You're going work on similar questions with another data set from UC Irvine on vehicle mileage per gallon. You can find it with this link:\n",
      "\n",
      "http://archive.ics.uci.edu/ml/machine-learning-databases/auto-mpg/\n",
      "\n",
      "1. Bring the data into a DataFrame with pandas. The file is `auto-mpg.data`. Since it is space seperated, you'll have to tell read_csv to use spaces (`'\\s+'`) and not commas (`','`) as the delimeter. Likewise, you have to name the columns.\n",
      "2. Compare the data for cars from the year 1970 and the year 1982. In general in this data set, have cars changed in terms of mpg, horsepower, etc? (any of the continuous values)\n",
      "3. Horsepower is missing several values. What are some basic techniques to fill in the missing data?\n",
      "\n",
      "** more advanced **\n",
      "\n",
      "4. Consider splitting the data by year and filling in horsepower that way. What would the python code look like to hande this?\n",
      "5. A handy way to work with strings is to `.split()` them by a value into a python list. Write an `apply()` function that generates a new column called \"manufacturer,\" using the last column's data."
     ]
    },
    {
     "cell_type": "heading",
     "level": 2,
     "metadata": {},
     "source": [
      "Review, Next Steps, Reading"
     ]
    },
    {
     "cell_type": "markdown",
     "metadata": {},
     "source": [
      "For next class:\n",
      "\n",
      "0. Please review this whole notebook again, and make sure you can follow along without guidance! Use slack when you have questions. You should do this with each class notebook.\n",
      "1. Read through the documentation for [split, apply, combine](http://pandas.pydata.org/pandas-docs/stable/groupby.html). It's a technique we will be using in more detail with the next few classes.\n",
      "2. To understand the choices in data storage, read about [tidy data](http://vita.had.co.nz/papers/tidy-data.pdf). \n",
      "3. Additional resource for [tidy data](http://www.prometheusresearch.com/good-data-management-practices-for-data-analysis-tidy-data-part-2/).\n",
      "4. The two visualisation packages we will be using are [matplotlib](http://matplotlib.org/) and [seaborn](http://stanford.edu/~mwaskom/software/seaborn/). Consider trying out some sample code. You'll need to install seaborn with `conda`. We'll do that as a class on Thursday.\n",
      "5. Questions to think about when doing [Exploratory Data Analysis](http://www.itl.nist.gov/div898/handbook/eda/section3/eda32.htm)\n",
      "\n",
      "###### Resource links from today\n",
      "1. [UC Irvine Data Repository](http://archive.ics.uci.edu/ml/)\n",
      "2. [Pandas IO Cookbook](http://pandas.pydata.org/pandas-docs/stable/cookbook.html#data-in-out)"
     ]
    }
   ],
   "metadata": {}
  }
 ]
}