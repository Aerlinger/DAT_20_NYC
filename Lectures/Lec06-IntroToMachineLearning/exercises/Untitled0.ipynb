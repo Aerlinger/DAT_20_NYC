{
 "worksheets": [
  {
   "cells": [
    {
     "cell_type": "code",
     "metadata": {},
     "outputs": [
      {
       "output_type": "stream",
       "stream": "stdout",
       "text": [
        "('Coefficients: \\n', array([ 938.23786125]))\n",
        "Residual sum of squares: 2548.07\n",
        "Variance score: 0.47\n"
       ]
      },
      {
       "output_type": "display_data",
       "png": "[encoded data removed]",
       "text": [
        "<matplotlib.figure.Figure at 0x106495f10>"
       ],
       "metadata": {}
      }
     ],
     "input": [
      "import matplotlib.pyplot as plt\n",
      "import numpy as np\n",
      "from sklearn import datasets, linear_model\n",
      "\n",
      "%matplotlib inline\n",
      "\n",
      "# Load the diabetes dataset\n",
      "diabetes = datasets.load_diabetes()\n",
      "\n",
      "# Use only one feature\n",
      "diabetes_X = diabetes.data[:, np.newaxis]\n",
      "diabetes_X_temp = diabetes_X[:, :, 2]\n",
      "\n",
      "# Split the data into training/testing sets\n",
      "diabetes_X_train = diabetes_X_temp[:-20]\n",
      "diabetes_X_test = diabetes_X_temp[-20:]\n",
      "\n",
      "# Split the targets into training/testing sets\n",
      "diabetes_y_train = diabetes.target[:-20]\n",
      "diabetes_y_test = diabetes.target[-20:]\n",
      "\n",
      "# Create linear regression object\n",
      "regr = linear_model.LinearRegression()\n",
      "\n",
      "# Train the model using the training sets\n",
      "regr.fit(diabetes_X_train, diabetes_y_train)\n",
      "\n",
      "# The coefficients\n",
      "print('Coefficients: \\n', regr.coef_)\n",
      "# The mean square error\n",
      "print(\"Residual sum of squares: %.2f\"\n",
      "      % np.mean((regr.predict(diabetes_X_test) - diabetes_y_test) ** 2))\n",
      "# Explained variance score: 1 is perfect prediction\n",
      "print('Variance score: %.2f' % regr.score(diabetes_X_test, diabetes_y_test))\n",
      "\n",
      "# Plot outputs\n",
      "plt.scatter(diabetes_X_test, diabetes_y_test,  color='black')\n",
      "plt.plot(diabetes_X_test, regr.predict(diabetes_X_test), color='blue',\n",
      "         linewidth=3)\n",
      "\n",
      "# plt.xticks(())\n",
      "# plt.yticks(())\n",
      "\n",
      "plt.show()"
     ],
     "language": "python",
     "prompt_number": 4
    }
   ]
  }
 ],
 "cells": [],
 "metadata": {
  "name": "",
  "signature": "sha256:6174180b0f20de99e6758a325dcb8fda4e061d4e948ed2c9ac031ee14dc135b5"
 },
 "nbformat": 3,
 "nbformat_minor": 0
}