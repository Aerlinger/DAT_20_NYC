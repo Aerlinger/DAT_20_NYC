{
 "metadata": {
  "kernelspec": {
   "display_name": "Python 2",
   "language": "python",
   "name": "python2"
  },
  "language_info": {
   "codemirror_mode": {
    "name": "ipython",
    "version": 2
   },
   "file_extension": ".py",
   "mimetype": "text/x-python",
   "name": "python",
   "nbconvert_exporter": "python",
   "pygments_lexer": "ipython2",
   "version": "2.7.9"
  },
  "name": ""
 },
 "nbformat": 3,
 "nbformat_minor": 0,
 "worksheets": [
  {
   "cells": [
    {
     "cell_type": "code",
     "collapsed": false,
     "input": [
      "%%html\n",
      "<link rel=\"stylesheet\" href=\"static/hyrule.css\" type=\"text/css\">"
     ],
     "language": "python",
     "metadata": {},
     "outputs": [
      {
       "html": [
        "<link rel=\"stylesheet\" href=\"static/hyrule.css\" type=\"text/css\">"
       ],
       "metadata": {},
       "output_type": "display_data",
       "text": [
        "<IPython.core.display.HTML object>"
       ]
      }
     ],
     "prompt_number": 1
    },
    {
     "cell_type": "heading",
     "level": 1,
     "metadata": {},
     "source": [
      "Unstructured Data and Mapreduce"
     ]
    },
    {
     "cell_type": "markdown",
     "metadata": {},
     "source": [
      "## Objectives\n",
      "\n",
      "* Gain familiarity with NoSQL and nonrelational data\n",
      "* Parsing and aggregating unstructured data through the command line and python\n",
      "* Exposure to the mapreduce framework"
     ]
    },
    {
     "cell_type": "heading",
     "level": 2,
     "metadata": {},
     "source": [
      "Class Notes"
     ]
    },
    {
     "cell_type": "markdown",
     "metadata": {},
     "source": [
      "### What is NoSQL?\n",
      "\n",
      "NoSQL are databases that do not use the traditional table and field based system we are familiar with in SQL databases. Some of the more common NoSQL databases include:\n",
      "\n",
      "* **Key/Value**: simple variable datastore primary used in databases like Redis and Memcached. They are primary used for caching and fast retrieval of small data.\n",
      "* **BSON**: a binary JSON derivitive. Primary used in Mongo and CouchDB. rows become \"documents\" and tables become \"collections\" (in the mongodb syntax)\n",
      "* **Graph**: Uses the idea of a relationship from relational databases to make networks. Most common name is neo4j, use cases are best summarised [here](http://neo4j.com/use-cases/).\n",
      "\n",
      "\n",
      "#### What about data not in a database?\n",
      "Hadoop, for example, is _not_ a database, but a filesystem (HDFS). If we want to think about how hadoop works, we need to step away from databases and think about how we interact with data in files."
     ]
    },
    {
     "cell_type": "markdown",
     "metadata": {},
     "source": [
      "### How we generate structure from unstructured data?\n",
      "\n",
      "Imagine we have data coming from logs, like so:\n",
      "\n",
      "```\n",
      "2013-07-22 16:36:13,475 - file - DEBUG - Debug FILE\n",
      "2013-07-22 16:36:13,477 - webserver - INFO -  * Running on http://0.0.0.0:5000/\n",
      "```\n",
      "\n",
      "Often there is some hidden structure to the data, it may not be crystal clear or simple. For example, consider using a str split from python:"
     ]
    },
    {
     "cell_type": "code",
     "collapsed": false,
     "input": [
      "rows = [\n",
      "    \"\"\"2015-03-22 16:36:13,475 - file - DEBUG - Debug FILE\"\"\",\n",
      "    \"\"\"2015-03-22 16:36:13,477 - webserver - INFO -  User #90324 Viewed video #47799\"\"\",\n",
      "    \"\"\"2015-03-22 16:36:13,477 - webserver - INFO -  User #90324 Viewed video #47799\"\"\",\n",
      "    \"\"\"2015-03-22 16:36:13,477 - webserver - INFO -  User #90324 Viewed video #47799\"\"\",\n",
      "    \"\"\"2015-03-22 16:36:13,477 - webserver - INFO -  User #90324 Viewed video #47799\"\"\",\n",
      "    \"\"\"2015-03-22 16:36:13,477 File written\"\"\",\n",
      "    \"\"\"2015-03-22 16:36:13,477 - webserver - INFO -  User #98821 Viewed video #89999\"\"\",\n",
      "    \"\"\"2015-03-22 16:36:13,477 - webserver - INFO -  User #90324 Viewed video #47799\"\"\",\n",
      "    \"\"\"2015-03-22 16:36:13,477 - webserver - INFO -  User #90324 Viewed video #47799\"\"\",\n",
      "    \"\"\"2015-03-22 16:36:13,477 - webserver - INFO -  User #90324 Viewed video #47799\"\"\",\n",
      "    \"\"\"2015-03-22 16:36:13,477 - webserver - INFO -  User #87321 Viewed video #47799\"\"\",\n",
      "    \"\"\"2015-03-22 16:36:13,477 - webserver - INFO -  User #12394 Viewed video #47799\"\"\"\n",
      "]\n",
      "for row in rows:\n",
      "    print row.split()"
     ],
     "language": "python",
     "metadata": {},
     "outputs": [
      {
       "output_type": "stream",
       "stream": "stdout",
       "text": [
        "['2015-03-22', '16:36:13,475', '-', 'file', '-', 'DEBUG', '-', 'Debug', 'FILE']\n",
        "['2015-03-22', '16:36:13,477', '-', 'webserver', '-', 'INFO', '-', '*', 'Running', 'on', 'http://0.0.0.0:5000/']\n"
       ]
      }
     ],
     "prompt_number": 4
    },
    {
     "cell_type": "markdown",
     "metadata": {},
     "source": [
      "1. What does using `str.split()` do well, in this case?\n",
      "2. Where does it seem to fall apart?\n",
      "\n",
      "What could be another delimeter for us to split on?"
     ]
    },
    {
     "cell_type": "code",
     "collapsed": false,
     "input": [
      "for row in rows:\n",
      "    print row.split('-')"
     ],
     "language": "python",
     "metadata": {},
     "outputs": [
      {
       "output_type": "stream",
       "stream": "stdout",
       "text": [
        "['2015', '03', '22 16:36:13,475 ', ' file ', ' DEBUG ', ' Debug FILE']\n",
        "['2015', '03', '22 16:36:13,477 ', ' werkzeug ', ' INFO ', '  * Running on http://0.0.0.0:5000/']\n"
       ]
      }
     ],
     "prompt_number": 3
    },
    {
     "cell_type": "markdown",
     "metadata": {},
     "source": [
      "1. How does using the - delimeter improve?\n",
      "2. How could we make this even better?\n",
      "\n",
      "We _could_ continue iterating through to determine what the best \"cleaned up\" version of our transformation would be.  We _should_ also consider reading through the log and determine the pattern:\n",
      "\n",
      "```\n",
      "2015-03-22 16:36:13,475 - file - DEBUG - Debug FILE\n",
      "```\n",
      "\n",
      "Really is modeled to be a base string like this:\n",
      "\n",
      "```\n",
      "datetime - source - log level - log description\n",
      "```\n",
      "\n",
      "We can easily fill in a log format this way to make the logs:"
     ]
    },
    {
     "cell_type": "code",
     "collapsed": false,
     "input": [
      "import datetime\n",
      "def log_format(dt, source, level, desc):\n",
      "    # this other form would also work, and be simpler:\n",
      "    #return ' - '.join([str(dt), source, level, desc])\n",
      "    return \"%s - %s - %s - %s\" % (dt, source, level, desc,)\n",
      "\n",
      "print log_format(datetime.datetime.now(), 'file', 'DEBUG', 'Debug FILE')"
     ],
     "language": "python",
     "metadata": {},
     "outputs": [
      {
       "output_type": "stream",
       "stream": "stdout",
       "text": [
        "2015-04-01 16:10:34.870869 - file - DEBUG - Debug FILE\n"
       ]
      }
     ],
     "prompt_number": 4
    },
    {
     "cell_type": "markdown",
     "metadata": {},
     "source": [
      "How do we reverse the pattern?"
     ]
    },
    {
     "cell_type": "code",
     "collapsed": false,
     "input": [
      "import re\n",
      "# regex compile allows us to name fields and parse logs in more flexible way.\n",
      "# format: (?P<field_name>regex)\n",
      "\n",
      "\n",
      "# 2015-04-01 16:10:34.870869 - file - DEBUG - Debug FILE\n",
      "# \\d{4}-\\d{2}-\\d{2}   \"4 digits followed by \"-\" followed by 2 digits followed by hyphen...\n",
      "\n",
      "regex = r'(?P<date>\\d{4}-\\d{2}-\\d{2}\\s\\d{2}:\\d{2}:\\d{2},\\d+) - (?P<source>\\w+) - (?P<level>\\w+) - (?P<desc>[\\w\\W]+)'\n",
      "\n",
      "log_parser = re.compile(regex)\n",
      "m = log_parser.search(rows[0])\n",
      "print m.group('date')\n",
      "print m.group('desc')\n",
      "result = m.groupdict()\n",
      "type(result)\n",
      "\n",
      "result\n"
     ],
     "language": "python",
     "metadata": {},
     "outputs": [
      {
       "output_type": "stream",
       "stream": "stdout",
       "text": [
        "2015-03-22 16:36:13,475\n",
        "Debug FILE\n"
       ]
      },
      {
       "metadata": {},
       "output_type": "pyout",
       "prompt_number": 7,
       "text": [
        "{'date': '2015-03-22 16:36:13,475',\n",
        " 'desc': 'Debug FILE',\n",
        " 'level': 'DEBUG',\n",
        " 'source': 'file'}"
       ]
      }
     ],
     "prompt_number": 7
    },
    {
     "cell_type": "markdown",
     "metadata": {},
     "source": [
      "### Try it out: Mapping Key Values\n",
      "\n",
      "With the following three examples, write a regex string (r'') that creates fields based on groups you define. If your search returns None, then the pattern is not matching. Refer to Sally's tools to practice the concept:\n",
      "\n",
      "[1] should identify the program ran `[cat, sed, sort]` and arguments `[error.log, -n '/etc/']` passed at each pipe (|)\n",
      "```\n",
      "cat error.log | sed -n '/access denied/p' | sort\n",
      "```\n",
      "\n",
      "[2] should identify AJAX call `[POST]`, filename `[congruence1.jpg]`, status call `[200]`\n",
      "```\n",
      "POST /static/img/congruence1.jpg HTTP/1.1 200\n",
      "POST /static/img/team/arnold.png HTTP/1.1 404\n",
      "```\n",
      "\n",
      "[3] should identify gametime [+20 2nd period, +40 3rd period], team `[WPG, NYR]`, who was penalized `[Jiri Tlsusty]`, the penelty `[slashing]`, penalty against `[Carl Hagelin]`.\n",
      "```\n",
      "1ST PERIOD\n",
      "05:20   WPG Jiri Tlusty  Slashing against  Carl Hagelin\n",
      "14:25   NYR Mats Zuccarello  Tripping against  Jim Slater\n",
      "2ND PERIOD\n",
      "09:31   WPG Mathieu Perreault  Interference against  Dominic Moore\n",
      "13:31   NYR Rick Nash  Hooking against  Jacob Trouba\n",
      "3RD PERIOD\n",
      "19:21   WPG Dustin Byfuglien  Slashing against  Mats Zuccarello\n",
      "```\n",
      "**Bonus**: Connect the resulting dictionary into a pandas dataframe."
     ]
    },
    {
     "cell_type": "code",
     "collapsed": false,
     "input": [
      "#!/usr/bin/env python\n",
      "# -*- coding: utf-8 -*-\n",
      "import sys\n",
      "import re\n",
      "\n",
      "for line in sys.stdin:\n",
      "    result = []\n",
      "    # remove leading and trailing whitespace\n",
      "    line = line.strip()\n",
      "    # remove odd symbols from the text\n",
      "    line = re.sub('[!\"\u00a7$%&/()=?*#()\\[\\],.<>:;~_-]', \"\", line)\n",
      "    # split the line into words\n",
      "    words = line.split(\" \")\n",
      "    # insert the cleaned words into the results list\n",
      "    for word in words:\n",
      "        print word, 1"
     ],
     "language": "python",
     "metadata": {},
     "outputs": [],
     "prompt_number": 8
    },
    {
     "cell_type": "code",
     "collapsed": false,
     "input": [
      "import sys\n",
      "\n",
      "tmp = \"\"\n",
      "val = 0\n",
      "\n",
      "for line in sys.stdin:\n",
      "    i = line.split()\n",
      "    if tmp and (len(i) > 0) and i[0] != tmp:\n",
      "        print tmp, val\n",
      "        val = 0\n",
      "    tmp = i[0]\n",
      "\n",
      "    if len(i) > 1:\n",
      "      val += int(i[1])\n",
      "\n",
      "print tmp, val"
     ],
     "language": "python",
     "metadata": {},
     "outputs": []
    },
    {
     "cell_type": "markdown",
     "metadata": {},
     "source": [
      "### Aggregating unstructured data\n",
      "Manipulating the unstructured data into a pandas dataframe for data exploration seems intuitive and incredibly useful, but how about when we already know the shape we need, and we're now looking to optimize performance? Let's practice aggregating data as we processed it.\n",
      "\n",
      "We can start with a csv file, which while technically structured, can be aggregated more traditionally:\n",
      "\n",
      "```\n",
      "36,0,3,0,1\n",
      "73,1,3,0,1\n",
      "30,0,3,0,1\n",
      "49,1,3,0,1\n",
      "47,1,11,0,1\n",
      "47,0,11,1,1\n",
      "46,0,5,0,1\n",
      "16,0,3,0,1\n",
      "52,0,4,0,1\n",
      "21,0,3,0,1\n",
      "```\n",
      "\n",
      "We're interested in aggregating two different columns: the first [let's call it `age`], and the 3rd [let's call it `hits`]. The pythonist in us says:\n",
      "\n",
      "1. Find the first column\n",
      "2. Make that our \"key\"\n",
      "3. Set or add to a count [1].\n",
      "\n",
      "And likewise for the 3rd."
     ]
    },
    {
     "cell_type": "code",
     "collapsed": false,
     "input": [
      "# Age, Hits, C, D, E\n",
      "csvfile = [\n",
      "    '36,0,3,0,1',\n",
      "    '73,1,3,0,1',\n",
      "    '30,0,3,0,1',\n",
      "    '49,1,3,0,1',\n",
      "    '47,1,11,0,1',\n",
      "    '47,0,11,1,1',\n",
      "    '46,0,5,0,1',\n",
      "    '30,0,3,0,1',\n",
      "    '52,0,4,0,1',\n",
      "    '30,0,3,0,1',\n",
      "]\n",
      "\n",
      "# Very similar to a standard `dict`, object but has a default datatype for the values \n",
      "# which improves performance.\n",
      "from collections import defaultdict\n",
      "\n",
      "age = defaultdict(int)\n",
      "hits = defaultdict(int)\n",
      "\n",
      "# Age, Hits, C, D, E\n",
      "for row in csvfile:\n",
      "    # There are five columns to map:\n",
      "    a, b, c, d, e = row.split(',')\n",
      "    \n",
      "    # Increment age\n",
      "    age[a] += 1\n",
      "    hits[d] += 1\n",
      "\n",
      "# Print keys and values in age:\n",
      "for k,v in age.items():\n",
      "    print k, v\n",
      "    \n",
      "# Print keys and values in hits:\n",
      "for k,v in hits.items():\n",
      "    print k, v"
     ],
     "language": "python",
     "metadata": {},
     "outputs": [
      {
       "output_type": "stream",
       "stream": "stdout",
       "text": [
        "49 1\n",
        "46 1\n",
        "47 2\n",
        "30 3\n",
        "36 1\n",
        "52 1\n",
        "73 1\n",
        "1 1\n",
        "0 9\n"
       ]
      }
     ],
     "prompt_number": 10
    },
    {
     "cell_type": "markdown",
     "metadata": {},
     "source": [
      "We know a faster interpretation would be pandas, but instead, consider this counter as a _task_. And if we are not working with structured data, putting the structure into pandas and then shaping the summary is an additional task.\n",
      "\n",
      "What if we were working with ipython logs?"
     ]
    },
    {
     "cell_type": "code",
     "collapsed": false,
     "input": [
      "ipythonlogs = [\n",
      "    \"[I 10:17:42.633 NotebookApp] Using MathJax from CDN: https://cdn.mathjax.org/mathjax/latest/MathJax.js\",\n",
      "    \"\"\"[W 10:17:42.670 NotebookApp] Terminals not available (error was No module named terminado)\"\"\",\n",
      "    \"\"\"[I 10:17:42.670 NotebookApp] Serving notebooks from local directory: /Users/macbook/projects/\"\"\",\n",
      "    \"\"\"[I 10:17:42.670 NotebookApp] 0 active kernels\"\"\",\n",
      "    \"\"\"[I 10:17:42.670 NotebookApp] The IPython Notebook is running at: http://localhost:8888/\"\"\",\n",
      "    \"\"\"[I 10:17:42.670 NotebookApp] Use Control-C to stop this server and shut down all kernels (twice to skip confirmation).\"\"\",\n",
      "    \"\"\"[W 10:17:51.036 NotebookApp] 404 GET /api/kernels/ff97dfc7-e80a-49a5-9064-6d68d4fdbeb5/channels?session_id=7B3E0E7D6F024DA4A43433953CAF3B73 (::1): Kernel does not exist: ff97dfc7-e80a-49a5-9064-6d68d4fdbeb5\"\"\",\n",
      "    \"\"\"[W 10:17:51.051 NotebookApp] 404 GET /api/kernels/ff97dfc7-e80a-49a5-9064-6d68d4fdbeb5/channels?session_id=7B3E0E7D6F024DA4A43433953CAF3B73 (::1) 17.13ms referer=None\"\"\",\n",
      "    \"\"\"[I 10:18:09.405 NotebookApp] Kernel started: 82092ca9-abb3-4196-a967-0694c8a3bec4\"\"\",\n",
      "    \"\"\"[W 10:18:56.046 NotebookApp] 404 GET /api/kernels/ff97dfc7-e80a-49a5-9064-6d68d4fdbeb5/channels?session_id=7B3E0E7D6F024DA4A43433953CAF3B73 (::1): Kernel does not exist: ff97dfc7-e80a-49a5-9064-6d68d4fdbeb5\"\"\",\n",
      "    \"\"\"[W 10:18:56.047 NotebookApp] 404 GET /api/kernels/ff97dfc7-e80a-49a5-9064-6d68d4fdbeb5/channels?session_id=7B3E0E7D6F024DA4A43433953CAF3B73 (::1) 2.11ms referer=None\"\"\",\n",
      "]\n",
      "\n",
      "### aggregating the info [i] vs warning [w] should be relatively straightforward:\n",
      "loggertypes = defaultdict(int)\n",
      "\n",
      "# 1. Aggregate by \"Type\"\n",
      "for row in ipythonlogs:\n",
      "    # The first character of a row is its level (\"I\" for Info, \"W\" for warning)\n",
      "    logtype = row[1]\n",
      "    \n",
      "    # Store the result of counts for info and \"Warning\" (\"W\") in a dictionary:\n",
      "    \n",
      "\n",
      "    \n",
      "    loggertypes[logtype] += 1\n",
      "\n",
      "print loggertypes\n",
      "\n",
      "'''\n",
      "{\n",
      "    \"I\": 6\n",
      "    \"W\": 5\n",
      "}\n",
      "'''\n",
      "\n",
      "### 2. How do we aggregate types by minute?\n",
      "loggertypes = defaultdict(int)\n",
      "for row in ipythonlogs:\n",
      "    logtype = row[1:8]\n",
      "    # \"sort\" by time instead, so let's reorder the key:\n",
      "    logtype = ' '.join([logtype.split()[1],logtype.split()[0]]) \n",
      "    loggertypes[logtype] += 1\n",
      "\n",
      "print loggertypes"
     ],
     "language": "python",
     "metadata": {},
     "outputs": [
      {
       "output_type": "stream",
       "stream": "stdout",
       "text": [
        "defaultdict(<type 'int'>, {'I': 6, 'W': 5})\n",
        "defaultdict(<type 'int'>, {'10:18 W': 2, '10:17 I': 5, '10:18 I': 1, '10:17 W': 3})\n"
       ]
      }
     ],
     "prompt_number": 7
    },
    {
     "cell_type": "markdown",
     "metadata": {},
     "source": [
      "#### Try it out: Aggregating Key Values\n",
      "\n",
      "[1] Work through a larger subset of penalties to aggregate\n",
      "\n",
      "1. penalties by team\n",
      "2. penalties by player (either who did it or who it targeted)\n",
      "3. penalties by period"
     ]
    },
    {
     "cell_type": "code",
     "collapsed": false,
     "input": [
      "penalties = \"\"\"\n",
      "1ST PERIOD\n",
      "02:16   ANA Tim Jackman  Fighting (maj) against  John Scott\n",
      "02:16   SJS John Scott  Fighting (maj) against  Tim Jackman\n",
      "12:53   SJS Adam Burish  Slashing against  Tim Jackman\n",
      "15:38   SJS Matt Nieto  Hooking against  Matt Beleskey\n",
      "18:38   ANA Tim Jackman  Hooking against  Tommy Wingels\n",
      "2ND PERIOD\n",
      "04:35   SJS Justin Braun  Holding against  Jakob Silfverberg\n",
      "09:40   SJS Scott Hannan  Hi-sticking against  Sami Vatanen\n",
      "09:40   ANA Sami Vatanen  Embellishment against  Scott Hannan\n",
      "09:52   SJS Mirco Mueller  Unsportsmanlike conduct against  Ryan Getzlaf\n",
      "09:52   ANA Ryan Getzlaf  Unsportsmanlike conduct against  Mirco Mueller\n",
      "15:23   SJS Adam Burish  Delay Gm - Face-off Violation\n",
      "18:57   SJS Tommy Wingels  Fighting (maj) against  Corey Perry\n",
      "18:57   ANA Corey Perry  Fighting (maj) against  Tommy Wingels\n",
      "3RD PERIOD\n",
      "07:38   ANA Sami Vatanen  Holding against  Tommy Wingels\n",
      "10:18   SJS Joe Pavelski  Fighting (maj) against  Ben Lovejoy\n",
      "10:18   ANA Ben Lovejoy  Fighting (maj) against  Joe Pavelski\n",
      "10:18   ANA Tim Jackman  Roughing against  Marc-Edouard Vlasic\n",
      "10:18   ANA Tim Jackman  Roughing against  Marc-Edouard Vlasic\n",
      "12:58   SJS Justin Braun  Misconduct (10 min) against  Corey Perry\n",
      "12:58   ANA Corey Perry  Misconduct (10 min) against  Justin Braun\n",
      "12:58   ANA Corey Perry  Roughing against  Justin Braun\n",
      "12:58   SJS Justin Braun  Roughing against  Corey Perry\n",
      "13:56   SJS Adam Burish  Roughing against  Nate Thompson\n",
      "13:56   SJS Adam Burish  Misconduct (10 min)\n",
      "13:56   SJS John Scott  Game misconduct\n",
      "13:56   SJS John Scott  Fighting (maj) against  Tim Jackman\n",
      "13:56   SJS John Scott  Instigator against  Tim Jackman\n",
      "13:56   SJS John Scott  Player leaves bench - bench against  Hampus Lindholm\n",
      "13:56   ANA Nate Thompson  Misconduct (10 min)\n",
      "13:56   ANA Nate Thompson  Roughing against  Adam Burish\n",
      "13:56   ANA Nate Thompson  Roughing against  Adam Burish\n",
      "13:56   ANA Tim Jackman  Misconduct (10 min) against  John Scott\n",
      "16:54   ANA Matt Beleskey  Misconduct (10 min)\n",
      "16:54   ANA William Karlsson  Slashing against  Marc-Edouard Vlasic\n",
      "16:54   ANA Ryan Getzlaf  Fighting (maj) against  James Sheppard\n",
      "16:54   SJS James Sheppard  Fighting (maj) against  Ryan Getzlaf\n",
      "16:54   ANA Ryan Kesler  Misconduct (10 min)\n",
      "\"\"\"\n",
      "\n",
      "penalties = penalties.split(\"\\n\")\n",
      "\n",
      "penalty_types = [\"Fighting\", \"Misconduct\", \"Slashing\", \"Roughing\", \n",
      "                 \"Game misconduct\", \"Player leaves bench\", \"Delay\", \n",
      "                 \"Embellishment\", \"Unsportsmanlike\", \"Instigator\"]\n",
      "\n",
      "import re\n",
      "\n",
      "team_penalties = defaultdict(int)\n",
      "\n",
      "for penalty in penalties:\n",
      "    details = re.split(\"\\s+\", penalty)\n",
      "    if len(details) > 1 and details[1] <> \"PERIOD\":\n",
      "        team = details[1]\n",
      "        \n",
      "        team_penalties[team] += 1\n",
      "        \n",
      "print team_penalties"
     ],
     "language": "python",
     "metadata": {},
     "outputs": [
      {
       "output_type": "stream",
       "stream": "stdout",
       "text": [
        "defaultdict(<type 'int'>, {'SJS': 18, 'ANA': 19})\n"
       ]
      }
     ],
     "prompt_number": 30
    },
    {
     "cell_type": "markdown",
     "metadata": {},
     "source": [
      "[2] In sample.access.log, filter down to the 404s and aggregate by day the full url and client. Example below:\n",
      "\n",
      "url: `/tag/dork/`  \n",
      "client: `Mozilla/5.0 (compatible; Ezooms/1.0; ezooms.bot@gmail.com)`\n",
      "```\n",
      "127.0.0.1 - - [05/Dec/2011:16:45:39 -0500] \"GET /tag/dork/ HTTP/1.0\" 404 29262 \"-\" \"Mozilla/5.0 (compatible; Ezooms/1.0; ezooms.bot@gmail.com)\"\n",
      "```\n",
      "\n",
      "For question 2, let's use python [standard input](http://stackoverflow.com/questions/1450393/how-do-you-read-from-stdin-in-python) and save it as a script so it should work like below, printing to standard out.\n",
      "\n",
      "```sh\n",
      "cat sample.access.log | log_agg.py\n",
      "```"
     ]
    },
    {
     "cell_type": "markdown",
     "metadata": {},
     "source": [
      "## What is mapreduce?\n",
      "Mapreduce is a concept of splitting work across a system of small computers, but ultimately, explains processing in the following steps:\n",
      "\n",
      "###Map:\n",
      "\n",
      "**Purpose:** *Divide* problem into subproblems\n",
      "\n",
      "**How?** Produce key|value pairs depending on the task\n",
      "\n",
      "`map(data) -> collection of <key, value> pairs`\n",
      "\n",
      "\n",
      "###Shuffle|Sort:\n",
      "\n",
      "**Purpose:** *Distribute* outputs of the mappers to the reducers\n",
      "\n",
      "**How?**\n",
      "    Sort the `<key, value>` pairs to distribute to reducer\n",
      "    \n",
      "###Reduce: \n",
      "\n",
      "\n",
      "#### Purpose:\n",
      "Combine <key, value> pairs from mapper into a single output.\n",
      "\n",
      "`reduce(key, list of values) -> output`\n",
      "\n",
      "\n",
      "### Example:\n",
      "Ideally this follows the pattern across a distributed network of computers:\n",
      "\n",
      "1. **Mappers:** computers tasked to take in data and run a map task\n",
      "2. **Sorters:** computers tasked to take the data from the mappers and sort\n",
      "3. **Reducers:** computers tasked to take in the sorted data and reduce the information\n",
      "\n",
      "<img src='assets/mapreduce.jpg' width='800'>\n",
      "\n",
      "The three tasks are technically synchronous. This means that the computers will not start reducing until all mappers have completed their jobs. It's important for the processor or system in place to do its best to split the data processing evenly: if you have one mapper doing all the work, there is no advantage!\n",
      "\n",
      "Tasks also also (typically) solved linearly. That is, we want to limit the number of passes through the data. So , consider how we could solve each of these reducer tasks:\n",
      "\n",
      "`count`: We've solved this already! Take the previous count and add to it. mapreduce will want to presort keys so it is not searching for keys on the fly. What is something that could be solved similar to count?\n",
      "\n",
      "`max or min`: How would we solve these?\n",
      "\n",
      "Where would machine learning make sense in map reduce? Where would it not?\n",
      "\n",
      "#### Sidenote: What is MapReduce?\n",
      "MapReduce is Google's internal platform, though it has since been generalized.\n",
      "\n",
      "#### How can we reproduce this behavior on our own computers?\n",
      "There's two relatively straight forward ways we could consider emulating mapreduce:\n",
      "\n",
      "1. Run python scripts in shell with the shell sort command to get a sense of how data is funnelled:\n",
      "    ```sh\n",
      "    cat data.txt | mapper.py | sort | reducer.py\n",
      "    ```\n",
      "2. Run a python script with multiprocessing pools to see how processing can be expedited with multiple core computers.\n"
     ]
    },
    {
     "cell_type": "markdown",
     "metadata": {},
     "source": [
      "#### Mapper example\n",
      "\n",
      "A mapper should take in a queue of data, and then spit out a queue of data. For passing data between functions, we'll use a list of tuples (since they are immutable); otherwise we'd use standard out."
     ]
    },
    {
     "cell_type": "code",
     "collapsed": false,
     "input": [
      "def mapper(line):\n",
      "    result = []\n",
      "    # remove leading and trailing whitespace\n",
      "    line = line.strip()\n",
      "    # remove odd symbols from the text\n",
      "    line = re.sub('[!\"\u00a7$%&/()=?*#()\\[\\],.<>:;~_-]',\"\", line)\n",
      "    # split the line into words\n",
      "    words = line.split(\" \")\n",
      "    # insert the cleaned words into the results list\n",
      "    for word in words:\n",
      "        result.append((word, 1))\n",
      "    # output is a list of (key, value) pairs\n",
      "    return result\n",
      "\n",
      "print mapper('the quick brown fox jumped over the lazy dog')"
     ],
     "language": "python",
     "metadata": {},
     "outputs": [
      {
       "output_type": "stream",
       "stream": "stdout",
       "text": [
        "[('the', 1), ('quick', 1), ('brown', 1), ('fox', 1), ('jumped', 1), ('over', 1), ('the', 1), ('lazy', 1), ('dog', 1)]\n"
       ]
      }
     ],
     "prompt_number": 8
    },
    {
     "cell_type": "markdown",
     "metadata": {},
     "source": [
      "#### reducer example\n",
      "Our reducer takes in a key and list of values to reduce:"
     ]
    },
    {
     "cell_type": "code",
     "collapsed": true,
     "input": [
      "def reducer(key, values):\n",
      "    return key, sum(values)"
     ],
     "language": "python",
     "metadata": {},
     "outputs": [],
     "prompt_number": 9
    },
    {
     "cell_type": "heading",
     "level": 4,
     "metadata": {},
     "source": [
      "shuffle example"
     ]
    },
    {
     "cell_type": "markdown",
     "metadata": {},
     "source": [
      "Shuffle runs very similarly to how we've done aggregations before:"
     ]
    },
    {
     "cell_type": "code",
     "collapsed": true,
     "input": [
      "def shuffle(words, print_shuffle=False):\n",
      "    tmp = \"\"\n",
      "    val_list = []\n",
      "    for i in words:\n",
      "        if tmp and i[0] != tmp:\n",
      "            if print_shuffle:\n",
      "                print tmp, val_list\n",
      "            print reducer(tmp,val_list)\n",
      "            val_list=[]\n",
      "        tmp = i[0]\n",
      "        val_list.append(i[1])\n",
      "    # Don't forget to print out the last key value pair!\n",
      "    if print_shuffle:\n",
      "        print tmp, val_list\n",
      "    print reducer(tmp,val_list)"
     ],
     "language": "python",
     "metadata": {},
     "outputs": [],
     "prompt_number": 10
    },
    {
     "cell_type": "code",
     "collapsed": false,
     "input": [
      "# while this looks \"backwards,\" mapper is called first,\n",
      "# then we sort,\n",
      "#then shuffle runs the reducer.\n",
      "shuffle(sorted(mapper('the quick brown fox jumped over the lazy dog')))"
     ],
     "language": "python",
     "metadata": {},
     "outputs": [
      {
       "output_type": "stream",
       "stream": "stdout",
       "text": [
        "('brown', 1)\n",
        "('dog', 1)\n",
        "('fox', 1)\n",
        "('jumped', 1)\n",
        "('lazy', 1)\n",
        "('over', 1)\n",
        "('quick', 1)\n",
        "('the', 2)\n"
       ]
      }
     ],
     "prompt_number": 11
    },
    {
     "cell_type": "markdown",
     "metadata": {},
     "source": [
      "You can view another example by echoing or cat text into the mapper.py file, sorting, and then running reducer.py:\n",
      "\n",
      "```sh\n",
      "echo 'big big data big data science!' | python mapper.py | sort | python reducer.py\n",
      "```"
     ]
    },
    {
     "cell_type": "markdown",
     "metadata": {},
     "source": [
      "Likewise, our example using multiprocessing for a map function:"
     ]
    },
    {
     "cell_type": "code",
     "collapsed": false,
     "input": [
      "import multiprocessing\n",
      "\n",
      "def word_mapper(word):\n",
      "    return (word, 1)\n",
      "\n",
      "line = 'big big data big data science!'\n",
      "words = line.split()\n",
      "pool = multiprocessing.Pool(len(words))\n",
      "\n",
      "mapped_words = pool.map(word_mapper, words)\n",
      "pool.terminate()\n",
      "\n",
      "shuffle(mapped_words)"
     ],
     "language": "python",
     "metadata": {},
     "outputs": [
      {
       "output_type": "stream",
       "stream": "stdout",
       "text": [
        "('big', 2)\n",
        "('data', 1)\n",
        "('big', 1)\n",
        "('data', 1)\n",
        "('science!', 1)\n"
       ]
      }
     ],
     "prompt_number": 12
    },
    {
     "cell_type": "markdown",
     "metadata": {},
     "source": [
      "## Practice \n",
      "\n",
      "Pick one of the larger tasks above (either the long penalty list or the access log) and practice the mapper | reducer split. For the most part, this should be taking your code apart a bit and determining what you are mapping into key value pairs, and how you are reducing (the reducing will probably be very similar, if not exactly, to the above)"
     ]
    },
    {
     "cell_type": "heading",
     "level": 2,
     "metadata": {},
     "source": [
      "Review, Reading, Next Steps"
     ]
    },
    {
     "cell_type": "markdown",
     "metadata": {},
     "source": [
      "#### More on multiprocessing in python\n",
      "* [mapreduce with python multiprocessing](https://mikecvet.wordpress.com/2010/07/02/parallel-mapreduce-in-python/)\n",
      "* [parallelization in ipython](http://ipython.org/ipython-doc/dev/parallel/)\n",
      "\n",
      "#### Hadoop\n",
      "For those who want to further engage themselves and see how a _basic_ hadoop system works, consider:\n",
      "\n",
      "* Reading through the two tutorials on [setting up a hadoop cluster](http://www.michael-noll.com/tutorials/running-hadoop-on-ubuntu-linux-single-node-cluster/) and [running python scripts in hadoop](http://www.michael-noll.com/tutorials/writing-an-hadoop-mapreduce-program-in-python/). Consider using a virtual machine to keep everything tidy so it does not mess with your computer!\n",
      "* [Hortonworks](http://hortonworks.com/tutorials/#tuts-analysts) provides a variety of tutorials for data analysts and scientists to learn hadoop and hadoop's scripting languages, and they have a sandbox virtual machine you can practice on.\n",
      "* This [Spark](http://lintool.github.io/SparkTutorial/) tutorial can start you in the more \"new\" direction, while Spark currently remains hot technology.\n",
      "\n",
      "#### Additional reading:\n",
      "\n",
      "* [Forbes: Is it Time for Hadoop Alternatives?](http://www.forbes.com/sites/johnwebster/2014/12/08/is-it-time-for-hadoop-alternatives/)\n",
      "* [IBM: What is MapReduce?](http://www-01.ibm.com/software/data/infosphere/hadoop/mapreduce/)\n",
      "* [Wakari MapReduce IPython notebook](https://www.wakari.io/sharing/bundle/nkorf/MapReduce%20Example)"
     ]
    }
   ],
   "metadata": {}
  }
 ]
}