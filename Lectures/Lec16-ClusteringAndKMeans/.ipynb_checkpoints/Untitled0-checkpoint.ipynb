{
 "metadata": {
  "name": "",
<<<<<<< HEAD
  "signature": "sha256:56256c247e06011a20cb374590ccd5234059abeebce12001de024aba47e79f23"
=======
  "signature": "sha256:e9ab2d0a9c3d38c162149309f2d917b59b2c5c9ed1df13a33d3d0927773d8604"
>>>>>>> d3dd267d29efafc6ad54795b8edffea45aac05a8
 },
 "nbformat": 3,
 "nbformat_minor": 0,
 "worksheets": []
}