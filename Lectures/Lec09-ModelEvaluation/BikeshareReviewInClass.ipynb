{
 "metadata": {
  "name": "",
  "signature": "sha256:b6eedfabe582daf6e43da58fd61cfb42550aa8eb9e0710ba5f66d290cb0ddef4"
 },
 "nbformat": 3,
 "nbformat_minor": 0,
 "worksheets": [
  {
   "cells": [
    {
     "cell_type": "code",
     "collapsed": false,
     "input": [
      "import numpy as np\n",
      "import pandas as pd\n",
      "import matplotlib.pyplot as plt\n",
      "import matplotlib\n",
      "\n",
      "%matplotlib inline\n",
      "\n",
      "\n",
      "# - instant: record index\n",
      "# - dteday : date\n",
      "# - season : season (1:springer, 2:summer, 3:fall, 4:winter)\n",
      "# - yr : year (0: 2011, 1:2012)\n",
      "# - mnth : month ( 1 to 12)\n",
      "# - hr : hour (0 to 23)\n",
      "# - holiday : weather day is holiday or not (extracted from [Web Link])\n",
      "# - weekday : day of the week\n",
      "# - workingday : if day is neither weekend nor holiday is 1, otherwise is 0.\n",
      "# + weathersit : \n",
      "# - 1: Clear, Few clouds, Partly cloudy, Partly cloudy\n",
      "# - 2: Mist + Cloudy, Mist + Broken clouds, Mist + Few clouds, Mist\n",
      "# - 3: Light Snow, Light Rain + Thunderstorm + Scattered clouds, Light Rain + Scattered clouds\n",
      "# - 4: Heavy Rain + Ice Pallets + Thunderstorm + Mist, Snow + Fog\n",
      "# - temp : Normalized temperature in Celsius. The values are derived via (t-t_min)/(t_max-t_min), t_min=-8, t_max=+39 (only in hourly scale)\n",
      "# - atemp: Normalized feeling temperature in Celsius. The values are derived via (t-t_min)/(t_max-t_min), t_min=-16, t_max=+50 (only in hourly scale)\n",
      "# - hum: Normalized humidity. The values are divided to 100 (max)\n",
      "# - windspeed: Normalized wind speed. The values are divided to 67 (max)\n",
      "# - casual: count of casual users\n",
      "# - registered: count of registered users\n",
      "# - cnt: count of total rental bikes including both casual and registered\n",
      "url = '../../Data/bikeshare.csv'\n",
      "\n",
      "# Part I: Loading/Fetching the data\n",
      "bikeshare_csv = pd.read_csv(url)\n",
      "bikeshare = bikeshare_csv.drop(['instant', 'dteday'], axis=1).dropna()"
     ],
     "language": "python",
     "metadata": {},
     "outputs": []
    },
    {
     "cell_type": "code",
     "collapsed": false,
     "input": [
      "bikeshare.head()\n",
      "bikeshare.dtypes;\n",
      "# Part II: Describe/Visualize/Summarize\n",
      "\n",
      "bikeshare.describe()\n",
      "plt.figure()\n",
      "\n",
      "# pd.scatter_matrix(bikeshare, figsize=(15, 15));\n",
      "# bikeshare.hist()\n",
      "# Part III: Perform calculations\n",
      "\n",
      "# Calculate rush_hour as 6am-9am, 4pm-6pm\n",
      "# print type(bikeshare)\n",
      "# print type(bikeshare[['hr']])\n",
      "\n",
      "bikeshare['hr'].value_counts().sort_index()\n",
      "bikeshare['rushhour'] = ((bikeshare['hr'] >= 6) & (bikeshare['hr'] <= 9) | (bikeshare['hr'] >= 16) & (bikeshare['hr'] <= 18)).astype(np.int)\n",
      "from sklearn.preprocessing import PolynomialFeatures\n",
      "\n",
      "# Part IV: Split the data:\n",
      "\n",
      "# n = len(bikeshare)\n",
      "# m = len(bikeshare.columns)\n",
      "(N, M) = bikeshare.shape\n",
      "\n",
      "features = [\n",
      "    'atemp', 'hum', 'workingday', 'hr', 'rushhour', 'weathersit'\n",
      "]\n",
      "target = ['cnt']\n",
      "\n",
      "X = bikeshare[features]\n",
      "y = bikeshare[target]\n",
      "\n",
      "poly_features = PolynomialFeatures(degree=6)\n",
      "X = poly_features.fit_transform(X)\n",
      "# bikeshare['hr'].copy()[:10]\n",
      "# print bikeshare.drop(['hr', 'mnth'], axis=1)\n",
      "\n",
      "# bikeshare.loc[rows, cols]\n",
      "X_train = X[:(N/2)]\n",
      "y_train = y.loc[:((N/2)-1), :]\n",
      "\n",
      "X_test = X[(N/2):]\n",
      "y_test = y.loc[(N/2):, :]\n",
      "\n",
      "# print \"Training Dataset:\"\n",
      "# print \"X TRAIN\", X_train.shape\n",
      "# print \"Y Train\", y_train.shape\n",
      "\n",
      "# print \"Testing Dataset:\"\n",
      "# print \"X test\", X_test.shape\n",
      "# print \"y test\", y_test.shape\n",
      "from sklearn.preprocessing import OneHotEncoder\n",
      "\n",
      "\n",
      "\n",
      "# X_encoded.shape\n",
      "from sklearn import linear_model\n",
      "\n",
      "linear_regressor = linear_model.LinearRegression()\n",
      "\n",
      "linear_regressor.fit(X_train, y_train);\n",
      "\n",
      "print\n",
      "print\n",
      "print\n",
      "\n",
      "# print \"COEF: \", linear_regressor.coef_\n",
      "# print \"INTERCEPT: \", linear_regressor.intercept_\n",
      "print \"TRAINING: \", linear_regressor.score(X_train, y_train)\n",
      "print \"TESTING\", linear_regressor.score(X_test, y_test)\n",
      "\n",
      "linear_regressor.coef_.shape"
     ],
     "language": "python",
     "metadata": {},
     "outputs": [
      {
       "output_type": "stream",
       "stream": "stdout",
       "text": [
        "\n",
        "\n",
        "\n",
        "TRAINING:  "
       ]
      },
      {
       "output_type": "stream",
       "stream": "stdout",
       "text": [
        "0.88154258368\n",
        "TESTING "
       ]
      },
      {
       "output_type": "stream",
       "stream": "stdout",
       "text": [
        "-12.7415517959\n"
       ]
      },
      {
       "metadata": {},
       "output_type": "pyout",
       "prompt_number": 3,
       "text": [
        "(1, 924)"
       ]
      },
      {
       "metadata": {},
       "output_type": "display_data",
       "text": [
        "<matplotlib.figure.Figure at 0x109151610>"
       ]
      }
     ],
     "prompt_number": 3
    },
    {
     "cell_type": "code",
     "collapsed": false,
     "input": [
      "from sklearn import linear_model \n",
      "\n",
      "ridge_regressor = linear_model.RidgeCV(alphas=[0.01, .1, 1.0, 10], cv=10, fit_intercept=True, normalize=True)\n",
      "ridge_regressor.fit(X_train, y_train)\n",
      "\n",
      "# ridge_regressor\n",
      "print \"TRAINING: \", ridge_regressor.score(X_train, y_train)\n",
      "print \"TESTING\", ridge_regressor.score(X_test, y_test)"
     ],
     "language": "python",
     "metadata": {},
     "outputs": [
      {
       "output_type": "stream",
       "stream": "stdout",
       "text": [
        "TRAINING:  "
       ]
      },
      {
       "output_type": "stream",
       "stream": "stdout",
       "text": [
        "0.873273720552\n",
        "TESTING "
       ]
      },
      {
       "output_type": "stream",
       "stream": "stdout",
       "text": [
        "0.594366159649\n"
       ]
      }
     ],
     "prompt_number": 6
    },
    {
     "cell_type": "code",
     "collapsed": false,
     "input": [
      "bikeshare.columns"
     ],
     "language": "python",
     "metadata": {},
     "outputs": [
      {
       "metadata": {},
       "output_type": "pyout",
       "prompt_number": 9,
       "text": [
        "Index([u'season', u'yr', u'mnth', u'hr', u'holiday', u'weekday', u'workingday', u'weathersit', u'temp', u'atemp', u'hum', u'windspeed', u'casual', u'registered', u'cnt', u'rushhour'], dtype='object')"
       ]
      }
     ],
     "prompt_number": 9
    },
    {
     "cell_type": "code",
     "collapsed": false,
     "input": [
      "from sklearn.feature_selection import f_regression\n",
      "\n",
      "p_values, f_scores = f_regression(bikeshare.drop(target, axis=1), bikeshare[target])\n",
      "\n",
      "print p_values\n",
      "print f_scores"
     ],
     "language": "python",
     "metadata": {},
     "outputs": [
      {
       "output_type": "stream",
       "stream": "stdout",
       "text": [
        "[  5.68955770e+02   1.16336517e+03   2.56630498e+02   3.19461422e+03\n",
        "   1.66369805e+01   1.25831453e+01   1.59518228e+01   3.59794510e+02\n",
        "   3.40492256e+03   3.32825126e+03   2.02284831e+03   1.52374764e+02\n",
        "   1.61965057e+04   2.99011649e+05   2.85485576e+03]\n",
        "[  9.18219125e-124   7.21318421e-247   2.39702153e-057   0.00000000e+000\n",
        "   4.54616895e-005   3.90266235e-004   6.52426455e-005   1.97975447e-079\n",
        "   0.00000000e+000   0.00000000e+000   0.00000000e+000   7.34574237e-035\n",
        "   0.00000000e+000   0.00000000e+000   0.00000000e+000]\n"
       ]
      }
     ],
     "prompt_number": 25
    },
    {
     "cell_type": "code",
     "collapsed": false,
     "input": [
      "feature_scores = pd.DataFrame([p_values, f_scores], columns=(bikeshare.columns - target), index=['f_scores', 'p_values']).T"
     ],
     "language": "python",
     "metadata": {},
     "outputs": [],
     "prompt_number": 31
    },
    {
     "cell_type": "code",
     "collapsed": false,
     "input": [
      "feature_scores.sort_index(by='f_scores', ascending=False)"
     ],
     "language": "python",
     "metadata": {},
     "outputs": [
      {
       "html": [
        "<div style=\"max-height:1000px;max-width:1500px;overflow:auto;\">\n",
        "<table border=\"1\" class=\"dataframe\">\n",
        "  <thead>\n",
        "    <tr style=\"text-align: right;\">\n",
        "      <th></th>\n",
        "      <th>f_scores</th>\n",
        "      <th>p_values</th>\n",
        "    </tr>\n",
        "  </thead>\n",
        "  <tbody>\n",
        "    <tr>\n",
        "      <th>workingday</th>\n",
        "      <td> 299011.649004</td>\n",
        "      <td>  0.000000e+00</td>\n",
        "    </tr>\n",
        "    <tr>\n",
        "      <th>windspeed</th>\n",
        "      <td>  16196.505743</td>\n",
        "      <td>  0.000000e+00</td>\n",
        "    </tr>\n",
        "    <tr>\n",
        "      <th>season</th>\n",
        "      <td>   3404.922563</td>\n",
        "      <td>  0.000000e+00</td>\n",
        "    </tr>\n",
        "    <tr>\n",
        "      <th>temp</th>\n",
        "      <td>   3328.251264</td>\n",
        "      <td>  0.000000e+00</td>\n",
        "    </tr>\n",
        "    <tr>\n",
        "      <th>hr</th>\n",
        "      <td>   3194.614220</td>\n",
        "      <td>  0.000000e+00</td>\n",
        "    </tr>\n",
        "    <tr>\n",
        "      <th>yr</th>\n",
        "      <td>   2854.855763</td>\n",
        "      <td>  0.000000e+00</td>\n",
        "    </tr>\n",
        "    <tr>\n",
        "      <th>weathersit</th>\n",
        "      <td>   2022.848305</td>\n",
        "      <td>  0.000000e+00</td>\n",
        "    </tr>\n",
        "    <tr>\n",
        "      <th>casual</th>\n",
        "      <td>   1163.365167</td>\n",
        "      <td> 7.213184e-247</td>\n",
        "    </tr>\n",
        "    <tr>\n",
        "      <th>atemp</th>\n",
        "      <td>    568.955770</td>\n",
        "      <td> 9.182191e-124</td>\n",
        "    </tr>\n",
        "    <tr>\n",
        "      <th>rushhour</th>\n",
        "      <td>    359.794510</td>\n",
        "      <td>  1.979754e-79</td>\n",
        "    </tr>\n",
        "    <tr>\n",
        "      <th>holiday</th>\n",
        "      <td>    256.630498</td>\n",
        "      <td>  2.397022e-57</td>\n",
        "    </tr>\n",
        "    <tr>\n",
        "      <th>weekday</th>\n",
        "      <td>    152.374764</td>\n",
        "      <td>  7.345742e-35</td>\n",
        "    </tr>\n",
        "    <tr>\n",
        "      <th>hum</th>\n",
        "      <td>     16.636980</td>\n",
        "      <td>  4.546169e-05</td>\n",
        "    </tr>\n",
        "    <tr>\n",
        "      <th>registered</th>\n",
        "      <td>     15.951823</td>\n",
        "      <td>  6.524265e-05</td>\n",
        "    </tr>\n",
        "    <tr>\n",
        "      <th>mnth</th>\n",
        "      <td>     12.583145</td>\n",
        "      <td>  3.902662e-04</td>\n",
        "    </tr>\n",
        "  </tbody>\n",
        "</table>\n",
        "</div>"
       ],
       "metadata": {},
       "output_type": "pyout",
       "prompt_number": 33,
       "text": [
        "                 f_scores       p_values\n",
        "workingday  299011.649004   0.000000e+00\n",
        "windspeed    16196.505743   0.000000e+00\n",
        "season        3404.922563   0.000000e+00\n",
        "temp          3328.251264   0.000000e+00\n",
        "hr            3194.614220   0.000000e+00\n",
        "yr            2854.855763   0.000000e+00\n",
        "weathersit    2022.848305   0.000000e+00\n",
        "casual        1163.365167  7.213184e-247\n",
        "atemp          568.955770  9.182191e-124\n",
        "rushhour       359.794510   1.979754e-79\n",
        "holiday        256.630498   2.397022e-57\n",
        "weekday        152.374764   7.345742e-35\n",
        "hum             16.636980   4.546169e-05\n",
        "registered      15.951823   6.524265e-05\n",
        "mnth            12.583145   3.902662e-04"
       ]
      }
     ],
     "prompt_number": 33
    }
   ],
   "metadata": {}
  }
 ]
}