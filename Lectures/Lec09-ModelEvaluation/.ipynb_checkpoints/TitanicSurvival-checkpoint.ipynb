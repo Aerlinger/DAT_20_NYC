{
 "metadata": {
  "name": "",
  "signature": "sha256:a5a7adbfc10e71523130bf90d7b9389290c04335387b45aaee82898f40c8cba8"
 },
 "nbformat": 3,
 "nbformat_minor": 0,
 "worksheets": [
  {
   "cells": [
    {
     "cell_type": "code",
     "collapsed": false,
     "input": [
      "## Follow the following code and add your own comments to solidify your understanding"
     ],
     "language": "python",
     "metadata": {},
     "outputs": []
    },
    {
     "cell_type": "code",
     "collapsed": false,
     "input": [
      "import numpy as np\n",
      "import pandas as pd\n",
      "\n",
      "import matplotlib.pyplot as plt\n",
      "\n",
      "import sklearn\n",
      "import sklearn.linear_model as lm\n",
      "import sklearn.cross_validation as cv\n",
      "import sklearn.grid_search as gs\n",
      "\n",
      "%matplotlib inline"
     ],
     "language": "python",
     "metadata": {},
     "outputs": [],
     "prompt_number": 75
    },
    {
     "cell_type": "code",
     "collapsed": false,
     "input": [
      "titanic_csv = pd.read_csv('../../Data/titanic.csv')\n",
      "\n",
      "titanic_csv.head()"
     ],
     "language": "python",
     "metadata": {},
     "outputs": [
      {
       "html": [
        "<div style=\"max-height:1000px;max-width:1500px;overflow:auto;\">\n",
        "<table border=\"1\" class=\"dataframe\">\n",
        "  <thead>\n",
        "    <tr style=\"text-align: right;\">\n",
        "      <th></th>\n",
        "      <th>survived</th>\n",
        "      <th>pclass</th>\n",
        "      <th>name</th>\n",
        "      <th>sex</th>\n",
        "      <th>age</th>\n",
        "      <th>sibsp</th>\n",
        "      <th>parch</th>\n",
        "      <th>ticket</th>\n",
        "      <th>fare</th>\n",
        "      <th>cabin</th>\n",
        "      <th>embarked</th>\n",
        "    </tr>\n",
        "  </thead>\n",
        "  <tbody>\n",
        "    <tr>\n",
        "      <th>0</th>\n",
        "      <td> 0</td>\n",
        "      <td> 3</td>\n",
        "      <td>                           Braund, Mr. Owen Harris</td>\n",
        "      <td>   male</td>\n",
        "      <td> 22</td>\n",
        "      <td> 1</td>\n",
        "      <td> 0</td>\n",
        "      <td>        A/5 21171</td>\n",
        "      <td>  7.2500</td>\n",
        "      <td>  NaN</td>\n",
        "      <td> S</td>\n",
        "    </tr>\n",
        "    <tr>\n",
        "      <th>1</th>\n",
        "      <td> 1</td>\n",
        "      <td> 1</td>\n",
        "      <td> Cumings, Mrs. John Bradley (Florence Briggs Th...</td>\n",
        "      <td> female</td>\n",
        "      <td> 38</td>\n",
        "      <td> 1</td>\n",
        "      <td> 0</td>\n",
        "      <td>         PC 17599</td>\n",
        "      <td> 71.2833</td>\n",
        "      <td>  C85</td>\n",
        "      <td> C</td>\n",
        "    </tr>\n",
        "    <tr>\n",
        "      <th>2</th>\n",
        "      <td> 1</td>\n",
        "      <td> 3</td>\n",
        "      <td>                            Heikkinen, Miss. Laina</td>\n",
        "      <td> female</td>\n",
        "      <td> 26</td>\n",
        "      <td> 0</td>\n",
        "      <td> 0</td>\n",
        "      <td> STON/O2. 3101282</td>\n",
        "      <td>  7.9250</td>\n",
        "      <td>  NaN</td>\n",
        "      <td> S</td>\n",
        "    </tr>\n",
        "    <tr>\n",
        "      <th>3</th>\n",
        "      <td> 1</td>\n",
        "      <td> 1</td>\n",
        "      <td>      Futrelle, Mrs. Jacques Heath (Lily May Peel)</td>\n",
        "      <td> female</td>\n",
        "      <td> 35</td>\n",
        "      <td> 1</td>\n",
        "      <td> 0</td>\n",
        "      <td>           113803</td>\n",
        "      <td> 53.1000</td>\n",
        "      <td> C123</td>\n",
        "      <td> S</td>\n",
        "    </tr>\n",
        "    <tr>\n",
        "      <th>4</th>\n",
        "      <td> 0</td>\n",
        "      <td> 3</td>\n",
        "      <td>                          Allen, Mr. William Henry</td>\n",
        "      <td>   male</td>\n",
        "      <td> 35</td>\n",
        "      <td> 0</td>\n",
        "      <td> 0</td>\n",
        "      <td>           373450</td>\n",
        "      <td>  8.0500</td>\n",
        "      <td>  NaN</td>\n",
        "      <td> S</td>\n",
        "    </tr>\n",
        "  </tbody>\n",
        "</table>\n",
        "</div>"
       ],
       "metadata": {},
       "output_type": "pyout",
       "prompt_number": 76,
       "text": [
        "   survived  pclass                                               name  \\\n",
        "0         0       3                            Braund, Mr. Owen Harris   \n",
        "1         1       1  Cumings, Mrs. John Bradley (Florence Briggs Th...   \n",
        "2         1       3                             Heikkinen, Miss. Laina   \n",
        "3         1       1       Futrelle, Mrs. Jacques Heath (Lily May Peel)   \n",
        "4         0       3                           Allen, Mr. William Henry   \n",
        "\n",
        "      sex  age  sibsp  parch            ticket     fare cabin embarked  \n",
        "0    male   22      1      0         A/5 21171   7.2500   NaN        S  \n",
        "1  female   38      1      0          PC 17599  71.2833   C85        C  \n",
        "2  female   26      0      0  STON/O2. 3101282   7.9250   NaN        S  \n",
        "3  female   35      1      0            113803  53.1000  C123        S  \n",
        "4    male   35      0      0            373450   8.0500   NaN        S  "
       ]
      }
     ],
     "prompt_number": 76
    },
    {
     "cell_type": "code",
     "collapsed": false,
     "input": [
      "titanic = titanic_csv.drop(['ticket', 'cabin', 'name', 'fare', 'embarked', 'sibsp', 'parch'], axis=1)\n",
      "\n",
      "titanic['sex'] = titanic['sex'] == 'female'\n",
      "titanic.head()"
     ],
     "language": "python",
     "metadata": {},
     "outputs": [
      {
       "html": [
        "<div style=\"max-height:1000px;max-width:1500px;overflow:auto;\">\n",
        "<table border=\"1\" class=\"dataframe\">\n",
        "  <thead>\n",
        "    <tr style=\"text-align: right;\">\n",
        "      <th></th>\n",
        "      <th>survived</th>\n",
        "      <th>pclass</th>\n",
        "      <th>sex</th>\n",
        "      <th>age</th>\n",
        "    </tr>\n",
        "  </thead>\n",
        "  <tbody>\n",
        "    <tr>\n",
        "      <th>0</th>\n",
        "      <td> 0</td>\n",
        "      <td> 3</td>\n",
        "      <td> False</td>\n",
        "      <td> 22</td>\n",
        "    </tr>\n",
        "    <tr>\n",
        "      <th>1</th>\n",
        "      <td> 1</td>\n",
        "      <td> 1</td>\n",
        "      <td>  True</td>\n",
        "      <td> 38</td>\n",
        "    </tr>\n",
        "    <tr>\n",
        "      <th>2</th>\n",
        "      <td> 1</td>\n",
        "      <td> 3</td>\n",
        "      <td>  True</td>\n",
        "      <td> 26</td>\n",
        "    </tr>\n",
        "    <tr>\n",
        "      <th>3</th>\n",
        "      <td> 1</td>\n",
        "      <td> 1</td>\n",
        "      <td>  True</td>\n",
        "      <td> 35</td>\n",
        "    </tr>\n",
        "    <tr>\n",
        "      <th>4</th>\n",
        "      <td> 0</td>\n",
        "      <td> 3</td>\n",
        "      <td> False</td>\n",
        "      <td> 35</td>\n",
        "    </tr>\n",
        "  </tbody>\n",
        "</table>\n",
        "</div>"
       ],
       "metadata": {},
       "output_type": "pyout",
       "prompt_number": 77,
       "text": [
        "   survived  pclass    sex  age\n",
        "0         0       3  False   22\n",
        "1         1       1   True   38\n",
        "2         1       3   True   26\n",
        "3         1       1   True   35\n",
        "4         0       3  False   35"
       ]
      }
     ],
     "prompt_number": 77
    },
    {
     "cell_type": "code",
     "collapsed": false,
     "input": [
      "pd.crosstab(titanic.survived, titanic.sex)"
     ],
     "language": "python",
     "metadata": {},
     "outputs": [
      {
       "html": [
        "<div style=\"max-height:1000px;max-width:1500px;overflow:auto;\">\n",
        "<table border=\"1\" class=\"dataframe\">\n",
        "  <thead>\n",
        "    <tr style=\"text-align: right;\">\n",
        "      <th>sex</th>\n",
        "      <th>False</th>\n",
        "      <th>True</th>\n",
        "    </tr>\n",
        "    <tr>\n",
        "      <th>survived</th>\n",
        "      <th></th>\n",
        "      <th></th>\n",
        "    </tr>\n",
        "  </thead>\n",
        "  <tbody>\n",
        "    <tr>\n",
        "      <th>0</th>\n",
        "      <td> 468</td>\n",
        "      <td>  81</td>\n",
        "    </tr>\n",
        "    <tr>\n",
        "      <th>1</th>\n",
        "      <td> 109</td>\n",
        "      <td> 233</td>\n",
        "    </tr>\n",
        "  </tbody>\n",
        "</table>\n",
        "</div>"
       ],
       "metadata": {},
       "output_type": "pyout",
       "prompt_number": 78,
       "text": [
        "sex       False  True \n",
        "survived              \n",
        "0           468     81\n",
        "1           109    233"
       ]
      }
     ],
     "prompt_number": 78
    },
    {
     "cell_type": "code",
     "collapsed": false,
     "input": [
      "pd.crosstab(titanic.survived, titanic.pclass)"
     ],
     "language": "python",
     "metadata": {},
     "outputs": [
      {
       "html": [
        "<div style=\"max-height:1000px;max-width:1500px;overflow:auto;\">\n",
        "<table border=\"1\" class=\"dataframe\">\n",
        "  <thead>\n",
        "    <tr style=\"text-align: right;\">\n",
        "      <th>pclass</th>\n",
        "      <th>1</th>\n",
        "      <th>2</th>\n",
        "      <th>3</th>\n",
        "    </tr>\n",
        "    <tr>\n",
        "      <th>survived</th>\n",
        "      <th></th>\n",
        "      <th></th>\n",
        "      <th></th>\n",
        "    </tr>\n",
        "  </thead>\n",
        "  <tbody>\n",
        "    <tr>\n",
        "      <th>0</th>\n",
        "      <td>  80</td>\n",
        "      <td> 97</td>\n",
        "      <td> 372</td>\n",
        "    </tr>\n",
        "    <tr>\n",
        "      <th>1</th>\n",
        "      <td> 136</td>\n",
        "      <td> 87</td>\n",
        "      <td> 119</td>\n",
        "    </tr>\n",
        "  </tbody>\n",
        "</table>\n",
        "</div>"
       ],
       "metadata": {},
       "output_type": "pyout",
       "prompt_number": 79,
       "text": [
        "pclass      1   2    3\n",
        "survived              \n",
        "0          80  97  372\n",
        "1         136  87  119"
       ]
      }
     ],
     "prompt_number": 79
    },
    {
     "cell_type": "code",
     "collapsed": false,
     "input": [
      "titanic['age'].isnull().value_counts()"
     ],
     "language": "python",
     "metadata": {},
     "outputs": [
      {
       "metadata": {},
       "output_type": "pyout",
       "prompt_number": 84,
       "text": [
        "False    714\n",
        "True     177\n",
        "dtype: int64"
       ]
      }
     ],
     "prompt_number": 84
    },
    {
     "cell_type": "code",
     "collapsed": false,
     "input": [
      "data = titanic[['sex', 'age', 'pclass', 'survived']].copy()\n",
      "data = data.dropna()"
     ],
     "language": "python",
     "metadata": {},
     "outputs": [],
     "prompt_number": 85
    },
    {
     "cell_type": "code",
     "collapsed": false,
     "input": [
      "data_np = data.astype(np.int32).values\n",
      "\n",
      "# Note slicing from [:, :-1] here means from the 0th to 2nd to last row. (data_np[-1] access the last row)\n",
      "X = data_np[:, :-1]\n",
      "y = data_np[:,-1]"
     ],
     "language": "python",
     "metadata": {},
     "outputs": [],
     "prompt_number": 86
    },
    {
     "cell_type": "code",
     "collapsed": false,
     "input": [
      "female = X[:,0] == 1\n",
      "survived = y == 1\n",
      "age = X[:, 1]\n",
      "\n",
      "bins_ = np.arange(0, 81, 5)\n",
      "\n",
      "# Split Survivors by gender and age\n",
      "\n",
      "# Survivors\n",
      "S = {\n",
      "    'male': np.histogram(age[survived & ~female], bins=bins_)[0],\n",
      "    'female': np.histogram(age[survived & female], bins=bins_)[0]\n",
      "}\n",
      "\n",
      "# Non-Survivors\n",
      "D = {\n",
      "    'male': np.histogram(age[~survived & ~female], bins=bins_)[0],\n",
      "    'female': np.histogram(age[~survived & female], bins=bins_)[0]\n",
      "}\n",
      "\n",
      "# We now plot the data.\n",
      "bins = bins_[:-1]\n",
      "plt.figure(figsize=(18, 5));\n",
      "\n",
      "plt.subplot(121);\n",
      "plt.bar(bins, S['male'], bottom=D['male'], color='#3345d0', width=5, label='survived');\n",
      "plt.bar(bins, D['male'], color='k', width=5, label='died');\n",
      "plt.xlim(0, 80);\n",
      "plt.grid(None);\n",
      "plt.title('male' + \" survival\");\n",
      "plt.xlabel(\"Age (years)\");\n",
      "plt.legend();\n",
      "\n",
      "plt.subplot(122);\n",
      "plt.bar(bins, S['female'], bottom=D['female'], color='#cc3dc0', width=5, label='survived');\n",
      "plt.bar(bins, D['female'], color='k', width=5, label='died');\n",
      "plt.xlim(0, 80);\n",
      "plt.grid(None);\n",
      "plt.title('female' + \" survival\");\n",
      "plt.xlabel(\"Age (years)\");\n",
      "plt.legend();"
     ],
     "language": "python",
     "metadata": {},
     "outputs": [
      {
       "metadata": {},
       "output_type": "display_data",
       "png": "[encoded data removed]",
       "text": [
        "<matplotlib.figure.Figure at 0x10ce2f990>"
       ]
      }
     ],
     "prompt_number": 108
    },
    {
     "cell_type": "code",
     "collapsed": false,
     "input": [
      "pd.crosstab(columns=[titanic.pclass], index=[titanic.sex], values=titanic.survived, aggfunc='mean')"
     ],
     "language": "python",
     "metadata": {},
     "outputs": [
      {
       "html": [
        "<div style=\"max-height:1000px;max-width:1500px;overflow:auto;\">\n",
        "<table border=\"1\" class=\"dataframe\">\n",
        "  <thead>\n",
        "    <tr style=\"text-align: right;\">\n",
        "      <th>pclass</th>\n",
        "      <th>1</th>\n",
        "      <th>2</th>\n",
        "      <th>3</th>\n",
        "    </tr>\n",
        "    <tr>\n",
        "      <th>sex</th>\n",
        "      <th></th>\n",
        "      <th></th>\n",
        "      <th></th>\n",
        "    </tr>\n",
        "  </thead>\n",
        "  <tbody>\n",
        "    <tr>\n",
        "      <th>False</th>\n",
        "      <td> 0.368852</td>\n",
        "      <td> 0.157407</td>\n",
        "      <td> 0.135447</td>\n",
        "    </tr>\n",
        "    <tr>\n",
        "      <th>True </th>\n",
        "      <td> 0.968085</td>\n",
        "      <td> 0.921053</td>\n",
        "      <td> 0.500000</td>\n",
        "    </tr>\n",
        "  </tbody>\n",
        "</table>\n",
        "</div>"
       ],
       "metadata": {},
       "output_type": "pyout",
       "prompt_number": 109,
       "text": [
        "pclass         1         2         3\n",
        "sex                                 \n",
        "False   0.368852  0.157407  0.135447\n",
        "True    0.968085  0.921053  0.500000"
       ]
      }
     ],
     "prompt_number": 109
    },
    {
     "cell_type": "code",
     "collapsed": false,
     "input": [
      "# We split X and y into train and test datasets. \n",
      "#  Note: I don't have much data here so use 80% of my data points for training\n",
      "X_train, X_test, y_train, y_test = cv.train_test_split(X, y, test_size=.1)"
     ],
     "language": "python",
     "metadata": {},
     "outputs": [],
     "prompt_number": 113
    },
    {
     "cell_type": "code",
     "collapsed": false,
     "input": [
      "# We instantiate the classifier in a similar manner to LinearRegression\n",
      "logreg = lm.LogisticRegression();\n",
      "\n",
      "logreg.fit(X_train, y_train)\n",
      "y_predicted = logreg.predict(X_test)"
     ],
     "language": "python",
     "metadata": {},
     "outputs": [],
     "prompt_number": 114
    },
    {
     "cell_type": "code",
     "collapsed": false,
     "input": [
      "plt.figure(figsize=(8, 3))\n",
      "\n",
      "plt.imshow(np.vstack((y_test, y_predicted)), interpolation='none', cmap='bone')"
     ],
     "language": "python",
     "metadata": {},
     "outputs": [
      {
       "metadata": {},
       "output_type": "pyout",
       "prompt_number": 115,
       "text": [
        "<matplotlib.image.AxesImage at 0x10d1f7850>"
       ]
      },
      {
       "metadata": {},
       "output_type": "display_data",
       "png": "[encoded data removed]",
       "text": [
        "<matplotlib.figure.Figure at 0x10c4fab90>"
       ]
      }
     ],
     "prompt_number": 115
    },
    {
     "cell_type": "code",
     "collapsed": false,
     "input": [
      "cv.cross_val_score(logreg, X, y)"
     ],
     "language": "python",
     "metadata": {},
     "outputs": [
      {
       "metadata": {},
       "output_type": "pyout",
       "prompt_number": 116,
       "text": [
        "array([ 0.78661088,  0.78991597,  0.78059072])"
       ]
      }
     ],
     "prompt_number": 116
    },
    {
     "cell_type": "code",
     "collapsed": false,
     "input": [
      "grid = gs.GridSearchCV(logreg, {'C': np.logspace(-5, 10, 200)}, n_jobs=4)\n",
      "grid.fit(X_train, y_train);\n",
      "grid.best_params_"
     ],
     "language": "python",
     "metadata": {},
     "outputs": [
      {
       "metadata": {},
       "output_type": "pyout",
       "prompt_number": 117,
       "text": [
        "{'C': 0.083099419493533958}"
       ]
      }
     ],
     "prompt_number": 117
    },
    {
     "cell_type": "code",
     "collapsed": false,
     "input": [
      "\n",
      "cv.cross_val_score(grid.best_estimator_, X, y)"
     ],
     "language": "python",
     "metadata": {},
     "outputs": []
    },
    {
     "cell_type": "markdown",
     "metadata": {},
     "source": [
      "# With a nonlinear decision boundary"
     ]
    },
    {
     "cell_type": "code",
     "collapsed": false,
     "input": [
      "from sklearn.preprocessing import PolynomialFeatures"
     ],
     "language": "python",
     "metadata": {},
     "outputs": [],
     "prompt_number": 130
    },
    {
     "cell_type": "code",
     "collapsed": false,
     "input": [
      "# fit a 4th order polynomial\n",
      "poly = PolynomialFeatures(degree=2)\n",
      "poly.fit(X)\n",
      "\n",
      "X_poly = poly.transform(X)\n",
      "\n",
      "X_poly_train, X_poly_test, y_poly_train, y_poly_test = cv.train_test_split(X_poly, y, test_size=.1)\n",
      "\n",
      "logreg.fit(X_poly_train, y_poly_train)\n",
      "y_poly_predicted = logreg.predict(X_poly_test)\n",
      "\n",
      "plt.figure(figsize=(8, 3))\n",
      "\n",
      "plt.imshow(np.vstack((y_poly_test, y_poly_predicted)), interpolation='none', cmap='bone')"
     ],
     "language": "python",
     "metadata": {},
     "outputs": [
      {
       "metadata": {},
       "output_type": "pyout",
       "prompt_number": 139,
       "text": [
        "<matplotlib.image.AxesImage at 0x10d3156d0>"
       ]
      },
      {
       "metadata": {},
       "output_type": "display_data",
       "png": "[encoded data removed]",
       "text": [
        "<matplotlib.figure.Figure at 0x10d2c5cd0>"
       ]
      }
     ],
     "prompt_number": 139
    },
    {
     "cell_type": "code",
     "collapsed": false,
     "input": [
      "cv.cross_val_score(logreg, X_poly, y, cv=10)"
     ],
     "language": "python",
     "metadata": {},
     "outputs": []
    },
    {
     "cell_type": "code",
     "collapsed": false,
     "input": [
      "grid = gs.GridSearchCV(logreg, {'C': np.logspace(-10, 100, 200)}, n_jobs=4)\n",
      "grid.fit(X_poly_train, y_poly_train);\n",
      "grid.best_params_"
     ],
     "language": "python",
     "metadata": {},
     "outputs": []
    },
    {
     "cell_type": "code",
     "collapsed": false,
     "input": [
      "cv.cross_val_score(grid.best_estimator_, X, y)"
     ],
     "language": "python",
     "metadata": {},
     "outputs": [
      {
       "metadata": {},
       "output_type": "pyout",
       "prompt_number": 142,
       "text": [
        "array([ 0.79497908,  0.79411765,  0.7721519 ])"
       ]
      }
     ],
     "prompt_number": 142
    },
    {
     "cell_type": "code",
     "collapsed": false,
     "input": [
      "# http://scikit-learn.org/stable/modules/generated/sklearn.metrics.confusion_matrix.html\n",
      "from sklearn import metrics\n",
      "\n",
      "# Read the above documentation and explain in your own words what this represents:\n",
      "conf_matrix = metrics.confusion_matrix(y_poly_test, y_poly_predicted)\n",
      "\n",
      "# If we had perfect prediction accuract, what would the diagonals be?"
     ],
     "language": "python",
     "metadata": {},
     "outputs": [],
     "prompt_number": 143
    },
    {
     "cell_type": "code",
     "collapsed": false,
     "input": [
      "# Let's represent it as a dataframe:\n",
      "\n",
      "pd.DataFrame(conf_matrix, columns=['Perished (Predicted)', 'Survived (Predicted)'], index=['Perished (Actual)', 'Survived (Actual)'])"
     ],
     "language": "python",
     "metadata": {},
     "outputs": [
      {
       "html": [
        "<div style=\"max-height:1000px;max-width:1500px;overflow:auto;\">\n",
        "<table border=\"1\" class=\"dataframe\">\n",
        "  <thead>\n",
        "    <tr style=\"text-align: right;\">\n",
        "      <th></th>\n",
        "      <th>Perished (Predicted)</th>\n",
        "      <th>Survived (Predicted)</th>\n",
        "    </tr>\n",
        "  </thead>\n",
        "  <tbody>\n",
        "    <tr>\n",
        "      <th>Perished (Actual)</th>\n",
        "      <td> 39</td>\n",
        "      <td>  1</td>\n",
        "    </tr>\n",
        "    <tr>\n",
        "      <th>Survived (Actual)</th>\n",
        "      <td> 10</td>\n",
        "      <td> 22</td>\n",
        "    </tr>\n",
        "  </tbody>\n",
        "</table>\n",
        "</div>"
       ],
       "metadata": {},
       "output_type": "pyout",
       "prompt_number": 144,
       "text": [
        "                   Perished (Predicted)  Survived (Predicted)\n",
        "Perished (Actual)                    39                     1\n",
        "Survived (Actual)                    10                    22"
       ]
      }
     ],
     "prompt_number": 144
    },
    {
     "cell_type": "code",
     "collapsed": false,
     "input": [
      "pd.DataFrame([['True Negative', 'False Positive'], ['False Negative', 'True Positive']], columns=['Perished (Predicted)', 'Survived (Predicted)'], index=['Perished (Actual)', 'Survived (Actual)'])"
     ],
     "language": "python",
     "metadata": {},
     "outputs": [
      {
       "html": [
        "<div style=\"max-height:1000px;max-width:1500px;overflow:auto;\">\n",
        "<table border=\"1\" class=\"dataframe\">\n",
        "  <thead>\n",
        "    <tr style=\"text-align: right;\">\n",
        "      <th></th>\n",
        "      <th>Perished (Predicted)</th>\n",
        "      <th>Survived (Predicted)</th>\n",
        "    </tr>\n",
        "  </thead>\n",
        "  <tbody>\n",
        "    <tr>\n",
        "      <th>Perished (Actual)</th>\n",
        "      <td>  True Negative</td>\n",
        "      <td> False Positive</td>\n",
        "    </tr>\n",
        "    <tr>\n",
        "      <th>Survived (Actual)</th>\n",
        "      <td> False Negative</td>\n",
        "      <td>  True Positive</td>\n",
        "    </tr>\n",
        "  </tbody>\n",
        "</table>\n",
        "</div>"
       ],
       "metadata": {},
       "output_type": "pyout",
       "prompt_number": 145,
       "text": [
        "                  Perished (Predicted) Survived (Predicted)\n",
        "Perished (Actual)        True Negative       False Positive\n",
        "Survived (Actual)       False Negative        True Positive"
       ]
      }
     ],
     "prompt_number": 145
    },
    {
     "cell_type": "code",
     "collapsed": false,
     "input": [
      "# Let's call Survived a 'positive' outcome and Perished a 'negative' outcome\n",
      "# Let's read the above matrix to get the true positives, true negatives, false positives and false negatives\n",
      "\n",
      "N_test = len(y_poly_test)\n",
      "\n",
      "print \"N_test: \", N_test\n",
      "print \"(Same as the number of elements in the confusion matrix) ->\", conf_matrix.sum().sum()\n",
      "\n",
      "true_positives = conf_matrix[1][1]\n",
      "true_negatives = conf_matrix[0][0]\n",
      "\n",
      "# 10 were predicted to survive, that didn't\n",
      "false_positives = conf_matrix[0][1]\n",
      "false_negatives = conf_matrix[1][0]\n",
      "\n",
      "print \"TP: :\", true_positives\n",
      "print \"TN: :\", true_negatives\n",
      "    \n",
      "print \"FP: :\", false_positives\n",
      "print \"FN: :\", false_negatives"
     ],
     "language": "python",
     "metadata": {},
     "outputs": [
      {
       "output_type": "stream",
       "stream": "stdout",
       "text": [
        "N_test:  72\n",
        "(Same as the number of elements in the confusion matrix) -> 72\n",
        "TP: : 22\n",
        "TN: : 39\n",
        "FP: : 1\n",
        "FN: : 10\n"
       ]
      }
     ],
     "prompt_number": 146
    },
    {
     "cell_type": "code",
     "collapsed": false,
     "input": [
      "# Accuracy is the total percentage correct\n",
      "accuracy = float(true_positives + true_negatives)/N_test\n",
      "\n",
      "# Precision is the proportion of *predicted* positives that were correct TP / (FP + TP)\n",
      "precision = float(true_positives) / (false_positives + true_positives)\n",
      "\n",
      "# Recall is the proportion of true positives ** that were actually correct TP / (FN + TP)\n",
      "recall = float(true_positives) / (false_negatives + true_positives)\n",
      "\n",
      "# The F1-score is proportional to the product of the two\n",
      "f1_score = 2*precision*recall / (precision + recall)\n",
      "\n",
      "print \"Accuracy: \", accuracy\n",
      "print \"Precision: \", precision\n",
      "print \"Recall: \", recall\n",
      "print \"F1 Score: \", f1_score"
     ],
     "language": "python",
     "metadata": {},
     "outputs": [
      {
       "output_type": "stream",
       "stream": "stdout",
       "text": [
        "Accuracy:  0.847222222222\n",
        "Precision:  0.95652173913\n",
        "Recall:  0.6875\n",
        "F1 Score:  0.8\n"
       ]
      }
     ],
     "prompt_number": 147
    },
    {
     "cell_type": "code",
     "collapsed": false,
     "input": [
      "# SKlearn provides functions for these calculations in the 'metrics module'\n",
      "\n",
      "print \"Accuracy: \", metrics.accuracy_score(y_poly_test, y_poly_predicted)\n",
      "print \"Precision: \", metrics.precision_score(y_poly_test, y_poly_predicted)\n",
      "print \"Recall: \", metrics.recall_score(y_poly_test, y_poly_predicted)\n",
      "print \"F1-Score: \", metrics.f1_score(y_poly_test, y_poly_predicted)"
     ],
     "language": "python",
     "metadata": {},
     "outputs": [
      {
       "output_type": "stream",
       "stream": "stdout",
       "text": [
        "Accuracy:  0.847222222222\n",
        "Precision:  0.95652173913\n",
        "Recall:  0.6875\n",
        "F1-Score:  0.8\n"
       ]
      }
     ],
     "prompt_number": 149
    }
   ],
   "metadata": {}
  }
 ]
}