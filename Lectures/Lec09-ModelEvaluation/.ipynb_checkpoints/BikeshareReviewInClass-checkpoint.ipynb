{
 "metadata": {
  "name": "",
  "signature": "sha256:e9ab2d0a9c3d38c162149309f2d917b59b2c5c9ed1df13a33d3d0927773d8604"
 },
 "nbformat": 3,
 "nbformat_minor": 0,
 "worksheets": []
}